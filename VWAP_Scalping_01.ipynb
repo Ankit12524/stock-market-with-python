{
 "cells": [
  {
   "cell_type": "code",
   "execution_count": 7,
   "id": "33303e37",
   "metadata": {},
   "outputs": [
    {
     "name": "stderr",
     "output_type": "stream",
     "text": [
      "[*********************100%%**********************]  1 of 1 completed\n"
     ]
    },
    {
     "data": {
      "text/html": [
       "<div>\n",
       "<style scoped>\n",
       "    .dataframe tbody tr th:only-of-type {\n",
       "        vertical-align: middle;\n",
       "    }\n",
       "\n",
       "    .dataframe tbody tr th {\n",
       "        vertical-align: top;\n",
       "    }\n",
       "\n",
       "    .dataframe thead th {\n",
       "        text-align: right;\n",
       "    }\n",
       "</style>\n",
       "<table border=\"1\" class=\"dataframe\">\n",
       "  <thead>\n",
       "    <tr style=\"text-align: right;\">\n",
       "      <th></th>\n",
       "      <th>Open</th>\n",
       "      <th>High</th>\n",
       "      <th>Low</th>\n",
       "      <th>Close</th>\n",
       "      <th>Adj Close</th>\n",
       "      <th>Volume</th>\n",
       "    </tr>\n",
       "    <tr>\n",
       "      <th>Datetime</th>\n",
       "      <th></th>\n",
       "      <th></th>\n",
       "      <th></th>\n",
       "      <th></th>\n",
       "      <th></th>\n",
       "      <th></th>\n",
       "    </tr>\n",
       "  </thead>\n",
       "  <tbody>\n",
       "    <tr>\n",
       "      <th>2024-02-12 09:15:00+05:30</th>\n",
       "      <td>416.750000</td>\n",
       "      <td>416.750000</td>\n",
       "      <td>414.250000</td>\n",
       "      <td>415.200012</td>\n",
       "      <td>415.200012</td>\n",
       "      <td>0</td>\n",
       "    </tr>\n",
       "    <tr>\n",
       "      <th>2024-02-12 09:20:00+05:30</th>\n",
       "      <td>415.200012</td>\n",
       "      <td>415.450012</td>\n",
       "      <td>413.200012</td>\n",
       "      <td>413.899994</td>\n",
       "      <td>413.899994</td>\n",
       "      <td>383626</td>\n",
       "    </tr>\n",
       "    <tr>\n",
       "      <th>2024-02-12 09:25:00+05:30</th>\n",
       "      <td>413.899994</td>\n",
       "      <td>415.000000</td>\n",
       "      <td>413.600006</td>\n",
       "      <td>414.850006</td>\n",
       "      <td>414.850006</td>\n",
       "      <td>316896</td>\n",
       "    </tr>\n",
       "    <tr>\n",
       "      <th>2024-02-12 09:30:00+05:30</th>\n",
       "      <td>414.850006</td>\n",
       "      <td>415.000000</td>\n",
       "      <td>414.200012</td>\n",
       "      <td>414.200012</td>\n",
       "      <td>414.200012</td>\n",
       "      <td>178546</td>\n",
       "    </tr>\n",
       "    <tr>\n",
       "      <th>2024-02-12 09:35:00+05:30</th>\n",
       "      <td>414.399994</td>\n",
       "      <td>414.549988</td>\n",
       "      <td>412.799988</td>\n",
       "      <td>412.799988</td>\n",
       "      <td>412.799988</td>\n",
       "      <td>381030</td>\n",
       "    </tr>\n",
       "    <tr>\n",
       "      <th>...</th>\n",
       "      <td>...</td>\n",
       "      <td>...</td>\n",
       "      <td>...</td>\n",
       "      <td>...</td>\n",
       "      <td>...</td>\n",
       "      <td>...</td>\n",
       "    </tr>\n",
       "    <tr>\n",
       "      <th>2024-04-01 15:05:00+05:30</th>\n",
       "      <td>426.149994</td>\n",
       "      <td>426.299988</td>\n",
       "      <td>426.000000</td>\n",
       "      <td>426.299988</td>\n",
       "      <td>426.299988</td>\n",
       "      <td>187872</td>\n",
       "    </tr>\n",
       "    <tr>\n",
       "      <th>2024-04-01 15:10:00+05:30</th>\n",
       "      <td>426.299988</td>\n",
       "      <td>426.399994</td>\n",
       "      <td>426.149994</td>\n",
       "      <td>426.250000</td>\n",
       "      <td>426.250000</td>\n",
       "      <td>140920</td>\n",
       "    </tr>\n",
       "    <tr>\n",
       "      <th>2024-04-01 15:15:00+05:30</th>\n",
       "      <td>426.450012</td>\n",
       "      <td>426.799988</td>\n",
       "      <td>426.250000</td>\n",
       "      <td>426.649994</td>\n",
       "      <td>426.649994</td>\n",
       "      <td>253070</td>\n",
       "    </tr>\n",
       "    <tr>\n",
       "      <th>2024-04-01 15:20:00+05:30</th>\n",
       "      <td>426.700012</td>\n",
       "      <td>426.750000</td>\n",
       "      <td>426.250000</td>\n",
       "      <td>426.250000</td>\n",
       "      <td>426.250000</td>\n",
       "      <td>234550</td>\n",
       "    </tr>\n",
       "    <tr>\n",
       "      <th>2024-04-01 15:25:00+05:30</th>\n",
       "      <td>426.549988</td>\n",
       "      <td>428.000000</td>\n",
       "      <td>426.250000</td>\n",
       "      <td>426.700012</td>\n",
       "      <td>426.700012</td>\n",
       "      <td>367657</td>\n",
       "    </tr>\n",
       "  </tbody>\n",
       "</table>\n",
       "<p>2475 rows × 6 columns</p>\n",
       "</div>"
      ],
      "text/plain": [
       "                                 Open        High         Low       Close  \\\n",
       "Datetime                                                                    \n",
       "2024-02-12 09:15:00+05:30  416.750000  416.750000  414.250000  415.200012   \n",
       "2024-02-12 09:20:00+05:30  415.200012  415.450012  413.200012  413.899994   \n",
       "2024-02-12 09:25:00+05:30  413.899994  415.000000  413.600006  414.850006   \n",
       "2024-02-12 09:30:00+05:30  414.850006  415.000000  414.200012  414.200012   \n",
       "2024-02-12 09:35:00+05:30  414.399994  414.549988  412.799988  412.799988   \n",
       "...                               ...         ...         ...         ...   \n",
       "2024-04-01 15:05:00+05:30  426.149994  426.299988  426.000000  426.299988   \n",
       "2024-04-01 15:10:00+05:30  426.299988  426.399994  426.149994  426.250000   \n",
       "2024-04-01 15:15:00+05:30  426.450012  426.799988  426.250000  426.649994   \n",
       "2024-04-01 15:20:00+05:30  426.700012  426.750000  426.250000  426.250000   \n",
       "2024-04-01 15:25:00+05:30  426.549988  428.000000  426.250000  426.700012   \n",
       "\n",
       "                            Adj Close  Volume  \n",
       "Datetime                                       \n",
       "2024-02-12 09:15:00+05:30  415.200012       0  \n",
       "2024-02-12 09:20:00+05:30  413.899994  383626  \n",
       "2024-02-12 09:25:00+05:30  414.850006  316896  \n",
       "2024-02-12 09:30:00+05:30  414.200012  178546  \n",
       "2024-02-12 09:35:00+05:30  412.799988  381030  \n",
       "...                               ...     ...  \n",
       "2024-04-01 15:05:00+05:30  426.299988  187872  \n",
       "2024-04-01 15:10:00+05:30  426.250000  140920  \n",
       "2024-04-01 15:15:00+05:30  426.649994  253070  \n",
       "2024-04-01 15:20:00+05:30  426.250000  234550  \n",
       "2024-04-01 15:25:00+05:30  426.700012  367657  \n",
       "\n",
       "[2475 rows x 6 columns]"
      ]
     },
     "execution_count": 7,
     "metadata": {},
     "output_type": "execute_result"
    }
   ],
   "source": [
    "import pandas as pd\n",
    "\n",
    "import yfinance as yf\n",
    "\n",
    "# Ticker symbol for ITC\n",
    "ticker_symbol = \"ITC.NS\"  # For the National Stock Exchange of India\n",
    "\n",
    "# Fetch historical data\n",
    "data = yf.download(ticker_symbol,start='2024-02-10',end='2024-04-02', interval=\"5m\")\n",
    "\n",
    "\n",
    "df = pd.DataFrame(data)\n",
    "df"
   ]
  },
  {
   "cell_type": "code",
   "execution_count": 8,
   "id": "c3f880ce",
   "metadata": {},
   "outputs": [
    {
     "data": {
      "text/plain": [
       "2474"
      ]
     },
     "execution_count": 8,
     "metadata": {},
     "output_type": "execute_result"
    }
   ],
   "source": [
    "\n",
    "df=df[df.High!=df.Low]\n",
    "len(df)"
   ]
  },
  {
   "cell_type": "code",
   "execution_count": 9,
   "id": "d3eb031c",
   "metadata": {},
   "outputs": [
    {
     "name": "stderr",
     "output_type": "stream",
     "text": [
      "C:\\Users\\Ankit\\AppData\\Local\\Temp\\ipykernel_9552\\2411561633.py:3: UserWarning: Converting to PeriodArray/Index representation will drop timezone information.\n",
      "  df[\"VWAP\"]=ta.vwap(df.High, df.Low, df.Close, df.Volume)\n",
      "C:\\Users\\Ankit\\AppData\\Local\\Temp\\ipykernel_9552\\2411561633.py:3: SettingWithCopyWarning: \n",
      "A value is trying to be set on a copy of a slice from a DataFrame.\n",
      "Try using .loc[row_indexer,col_indexer] = value instead\n",
      "\n",
      "See the caveats in the documentation: https://pandas.pydata.org/pandas-docs/stable/user_guide/indexing.html#returning-a-view-versus-a-copy\n",
      "  df[\"VWAP\"]=ta.vwap(df.High, df.Low, df.Close, df.Volume)\n",
      "C:\\Users\\Ankit\\AppData\\Local\\Temp\\ipykernel_9552\\2411561633.py:4: SettingWithCopyWarning: \n",
      "A value is trying to be set on a copy of a slice from a DataFrame.\n",
      "Try using .loc[row_indexer,col_indexer] = value instead\n",
      "\n",
      "See the caveats in the documentation: https://pandas.pydata.org/pandas-docs/stable/user_guide/indexing.html#returning-a-view-versus-a-copy\n",
      "  df['RSI']=ta.rsi(df.Close, length=16)\n"
     ]
    }
   ],
   "source": [
    "import pandas_ta as ta\n",
    "\n",
    "df[\"VWAP\"]=ta.vwap(df.High, df.Low, df.Close, df.Volume)\n",
    "df['RSI']=ta.rsi(df.Close, length=16)\n",
    "my_bbands = ta.bbands(df.Close, length=14, std=2.0)\n",
    "df=df.join(my_bbands)\n",
    "\n"
   ]
  },
  {
   "cell_type": "code",
   "execution_count": 10,
   "id": "f005a9cb",
   "metadata": {},
   "outputs": [
    {
     "data": {
      "text/html": [
       "<div>\n",
       "<style scoped>\n",
       "    .dataframe tbody tr th:only-of-type {\n",
       "        vertical-align: middle;\n",
       "    }\n",
       "\n",
       "    .dataframe tbody tr th {\n",
       "        vertical-align: top;\n",
       "    }\n",
       "\n",
       "    .dataframe thead th {\n",
       "        text-align: right;\n",
       "    }\n",
       "</style>\n",
       "<table border=\"1\" class=\"dataframe\">\n",
       "  <thead>\n",
       "    <tr style=\"text-align: right;\">\n",
       "      <th></th>\n",
       "      <th>Open</th>\n",
       "      <th>High</th>\n",
       "      <th>Low</th>\n",
       "      <th>Close</th>\n",
       "      <th>Adj Close</th>\n",
       "      <th>Volume</th>\n",
       "      <th>VWAP</th>\n",
       "      <th>RSI</th>\n",
       "      <th>BBL_14_2.0</th>\n",
       "      <th>BBM_14_2.0</th>\n",
       "      <th>BBU_14_2.0</th>\n",
       "      <th>BBB_14_2.0</th>\n",
       "      <th>BBP_14_2.0</th>\n",
       "    </tr>\n",
       "    <tr>\n",
       "      <th>Datetime</th>\n",
       "      <th></th>\n",
       "      <th></th>\n",
       "      <th></th>\n",
       "      <th></th>\n",
       "      <th></th>\n",
       "      <th></th>\n",
       "      <th></th>\n",
       "      <th></th>\n",
       "      <th></th>\n",
       "      <th></th>\n",
       "      <th></th>\n",
       "      <th></th>\n",
       "      <th></th>\n",
       "    </tr>\n",
       "  </thead>\n",
       "  <tbody>\n",
       "    <tr>\n",
       "      <th>2024-02-12 09:15:00+05:30</th>\n",
       "      <td>416.750000</td>\n",
       "      <td>416.750000</td>\n",
       "      <td>414.250000</td>\n",
       "      <td>415.200012</td>\n",
       "      <td>415.200012</td>\n",
       "      <td>0</td>\n",
       "      <td>NaN</td>\n",
       "      <td>NaN</td>\n",
       "      <td>NaN</td>\n",
       "      <td>NaN</td>\n",
       "      <td>NaN</td>\n",
       "      <td>NaN</td>\n",
       "      <td>NaN</td>\n",
       "    </tr>\n",
       "    <tr>\n",
       "      <th>2024-02-12 09:20:00+05:30</th>\n",
       "      <td>415.200012</td>\n",
       "      <td>415.450012</td>\n",
       "      <td>413.200012</td>\n",
       "      <td>413.899994</td>\n",
       "      <td>413.899994</td>\n",
       "      <td>383626</td>\n",
       "      <td>414.183339</td>\n",
       "      <td>NaN</td>\n",
       "      <td>NaN</td>\n",
       "      <td>NaN</td>\n",
       "      <td>NaN</td>\n",
       "      <td>NaN</td>\n",
       "      <td>NaN</td>\n",
       "    </tr>\n",
       "    <tr>\n",
       "      <th>2024-02-12 09:25:00+05:30</th>\n",
       "      <td>413.899994</td>\n",
       "      <td>415.000000</td>\n",
       "      <td>413.600006</td>\n",
       "      <td>414.850006</td>\n",
       "      <td>414.850006</td>\n",
       "      <td>316896</td>\n",
       "      <td>414.319050</td>\n",
       "      <td>NaN</td>\n",
       "      <td>NaN</td>\n",
       "      <td>NaN</td>\n",
       "      <td>NaN</td>\n",
       "      <td>NaN</td>\n",
       "      <td>NaN</td>\n",
       "    </tr>\n",
       "    <tr>\n",
       "      <th>2024-02-12 09:30:00+05:30</th>\n",
       "      <td>414.850006</td>\n",
       "      <td>415.000000</td>\n",
       "      <td>414.200012</td>\n",
       "      <td>414.200012</td>\n",
       "      <td>414.200012</td>\n",
       "      <td>178546</td>\n",
       "      <td>414.349034</td>\n",
       "      <td>NaN</td>\n",
       "      <td>NaN</td>\n",
       "      <td>NaN</td>\n",
       "      <td>NaN</td>\n",
       "      <td>NaN</td>\n",
       "      <td>NaN</td>\n",
       "    </tr>\n",
       "    <tr>\n",
       "      <th>2024-02-12 09:35:00+05:30</th>\n",
       "      <td>414.399994</td>\n",
       "      <td>414.549988</td>\n",
       "      <td>412.799988</td>\n",
       "      <td>412.799988</td>\n",
       "      <td>412.799988</td>\n",
       "      <td>381030</td>\n",
       "      <td>414.057020</td>\n",
       "      <td>NaN</td>\n",
       "      <td>NaN</td>\n",
       "      <td>NaN</td>\n",
       "      <td>NaN</td>\n",
       "      <td>NaN</td>\n",
       "      <td>NaN</td>\n",
       "    </tr>\n",
       "    <tr>\n",
       "      <th>...</th>\n",
       "      <td>...</td>\n",
       "      <td>...</td>\n",
       "      <td>...</td>\n",
       "      <td>...</td>\n",
       "      <td>...</td>\n",
       "      <td>...</td>\n",
       "      <td>...</td>\n",
       "      <td>...</td>\n",
       "      <td>...</td>\n",
       "      <td>...</td>\n",
       "      <td>...</td>\n",
       "      <td>...</td>\n",
       "      <td>...</td>\n",
       "    </tr>\n",
       "    <tr>\n",
       "      <th>2024-04-01 15:05:00+05:30</th>\n",
       "      <td>426.149994</td>\n",
       "      <td>426.299988</td>\n",
       "      <td>426.000000</td>\n",
       "      <td>426.299988</td>\n",
       "      <td>426.299988</td>\n",
       "      <td>187872</td>\n",
       "      <td>427.837637</td>\n",
       "      <td>45.481174</td>\n",
       "      <td>425.943959</td>\n",
       "      <td>426.335709</td>\n",
       "      <td>426.727458</td>\n",
       "      <td>0.183775</td>\n",
       "      <td>0.454409</td>\n",
       "    </tr>\n",
       "    <tr>\n",
       "      <th>2024-04-01 15:10:00+05:30</th>\n",
       "      <td>426.299988</td>\n",
       "      <td>426.399994</td>\n",
       "      <td>426.149994</td>\n",
       "      <td>426.250000</td>\n",
       "      <td>426.250000</td>\n",
       "      <td>140920</td>\n",
       "      <td>427.810688</td>\n",
       "      <td>44.878928</td>\n",
       "      <td>426.000103</td>\n",
       "      <td>426.296424</td>\n",
       "      <td>426.592745</td>\n",
       "      <td>0.139021</td>\n",
       "      <td>0.421666</td>\n",
       "    </tr>\n",
       "    <tr>\n",
       "      <th>2024-04-01 15:15:00+05:30</th>\n",
       "      <td>426.450012</td>\n",
       "      <td>426.799988</td>\n",
       "      <td>426.250000</td>\n",
       "      <td>426.649994</td>\n",
       "      <td>426.649994</td>\n",
       "      <td>253070</td>\n",
       "      <td>427.773508</td>\n",
       "      <td>50.476172</td>\n",
       "      <td>425.969051</td>\n",
       "      <td>426.314281</td>\n",
       "      <td>426.659511</td>\n",
       "      <td>0.161960</td>\n",
       "      <td>0.986217</td>\n",
       "    </tr>\n",
       "    <tr>\n",
       "      <th>2024-04-01 15:20:00+05:30</th>\n",
       "      <td>426.700012</td>\n",
       "      <td>426.750000</td>\n",
       "      <td>426.250000</td>\n",
       "      <td>426.250000</td>\n",
       "      <td>426.250000</td>\n",
       "      <td>234550</td>\n",
       "      <td>427.736937</td>\n",
       "      <td>45.543198</td>\n",
       "      <td>425.986091</td>\n",
       "      <td>426.321424</td>\n",
       "      <td>426.656758</td>\n",
       "      <td>0.157315</td>\n",
       "      <td>0.393503</td>\n",
       "    </tr>\n",
       "    <tr>\n",
       "      <th>2024-04-01 15:25:00+05:30</th>\n",
       "      <td>426.549988</td>\n",
       "      <td>428.000000</td>\n",
       "      <td>426.250000</td>\n",
       "      <td>426.700012</td>\n",
       "      <td>426.700012</td>\n",
       "      <td>367657</td>\n",
       "      <td>427.706390</td>\n",
       "      <td>51.259463</td>\n",
       "      <td>425.962696</td>\n",
       "      <td>426.349997</td>\n",
       "      <td>426.737299</td>\n",
       "      <td>0.181683</td>\n",
       "      <td>0.951863</td>\n",
       "    </tr>\n",
       "  </tbody>\n",
       "</table>\n",
       "<p>2474 rows × 13 columns</p>\n",
       "</div>"
      ],
      "text/plain": [
       "                                 Open        High         Low       Close  \\\n",
       "Datetime                                                                    \n",
       "2024-02-12 09:15:00+05:30  416.750000  416.750000  414.250000  415.200012   \n",
       "2024-02-12 09:20:00+05:30  415.200012  415.450012  413.200012  413.899994   \n",
       "2024-02-12 09:25:00+05:30  413.899994  415.000000  413.600006  414.850006   \n",
       "2024-02-12 09:30:00+05:30  414.850006  415.000000  414.200012  414.200012   \n",
       "2024-02-12 09:35:00+05:30  414.399994  414.549988  412.799988  412.799988   \n",
       "...                               ...         ...         ...         ...   \n",
       "2024-04-01 15:05:00+05:30  426.149994  426.299988  426.000000  426.299988   \n",
       "2024-04-01 15:10:00+05:30  426.299988  426.399994  426.149994  426.250000   \n",
       "2024-04-01 15:15:00+05:30  426.450012  426.799988  426.250000  426.649994   \n",
       "2024-04-01 15:20:00+05:30  426.700012  426.750000  426.250000  426.250000   \n",
       "2024-04-01 15:25:00+05:30  426.549988  428.000000  426.250000  426.700012   \n",
       "\n",
       "                            Adj Close  Volume        VWAP        RSI  \\\n",
       "Datetime                                                               \n",
       "2024-02-12 09:15:00+05:30  415.200012       0         NaN        NaN   \n",
       "2024-02-12 09:20:00+05:30  413.899994  383626  414.183339        NaN   \n",
       "2024-02-12 09:25:00+05:30  414.850006  316896  414.319050        NaN   \n",
       "2024-02-12 09:30:00+05:30  414.200012  178546  414.349034        NaN   \n",
       "2024-02-12 09:35:00+05:30  412.799988  381030  414.057020        NaN   \n",
       "...                               ...     ...         ...        ...   \n",
       "2024-04-01 15:05:00+05:30  426.299988  187872  427.837637  45.481174   \n",
       "2024-04-01 15:10:00+05:30  426.250000  140920  427.810688  44.878928   \n",
       "2024-04-01 15:15:00+05:30  426.649994  253070  427.773508  50.476172   \n",
       "2024-04-01 15:20:00+05:30  426.250000  234550  427.736937  45.543198   \n",
       "2024-04-01 15:25:00+05:30  426.700012  367657  427.706390  51.259463   \n",
       "\n",
       "                           BBL_14_2.0  BBM_14_2.0  BBU_14_2.0  BBB_14_2.0  \\\n",
       "Datetime                                                                    \n",
       "2024-02-12 09:15:00+05:30         NaN         NaN         NaN         NaN   \n",
       "2024-02-12 09:20:00+05:30         NaN         NaN         NaN         NaN   \n",
       "2024-02-12 09:25:00+05:30         NaN         NaN         NaN         NaN   \n",
       "2024-02-12 09:30:00+05:30         NaN         NaN         NaN         NaN   \n",
       "2024-02-12 09:35:00+05:30         NaN         NaN         NaN         NaN   \n",
       "...                               ...         ...         ...         ...   \n",
       "2024-04-01 15:05:00+05:30  425.943959  426.335709  426.727458    0.183775   \n",
       "2024-04-01 15:10:00+05:30  426.000103  426.296424  426.592745    0.139021   \n",
       "2024-04-01 15:15:00+05:30  425.969051  426.314281  426.659511    0.161960   \n",
       "2024-04-01 15:20:00+05:30  425.986091  426.321424  426.656758    0.157315   \n",
       "2024-04-01 15:25:00+05:30  425.962696  426.349997  426.737299    0.181683   \n",
       "\n",
       "                           BBP_14_2.0  \n",
       "Datetime                               \n",
       "2024-02-12 09:15:00+05:30         NaN  \n",
       "2024-02-12 09:20:00+05:30         NaN  \n",
       "2024-02-12 09:25:00+05:30         NaN  \n",
       "2024-02-12 09:30:00+05:30         NaN  \n",
       "2024-02-12 09:35:00+05:30         NaN  \n",
       "...                               ...  \n",
       "2024-04-01 15:05:00+05:30    0.454409  \n",
       "2024-04-01 15:10:00+05:30    0.421666  \n",
       "2024-04-01 15:15:00+05:30    0.986217  \n",
       "2024-04-01 15:20:00+05:30    0.393503  \n",
       "2024-04-01 15:25:00+05:30    0.951863  \n",
       "\n",
       "[2474 rows x 13 columns]"
      ]
     },
     "execution_count": 10,
     "metadata": {},
     "output_type": "execute_result"
    }
   ],
   "source": [
    "df\n",
    "\n"
   ]
  },
  {
   "cell_type": "code",
   "execution_count": 11,
   "id": "6d2cc33a",
   "metadata": {},
   "outputs": [
    {
     "name": "stderr",
     "output_type": "stream",
     "text": [
      "C:\\Users\\Ankit\\AppData\\Local\\Temp\\ipykernel_9552\\1708043003.py:8: FutureWarning: Series.__getitem__ treating keys as positions is deprecated. In a future version, integer keys will always be treated as labels (consistent with DataFrame behavior). To access a value by position, use `ser.iloc[pos]`\n",
      "  if max(df.Open[i], df.Close[i])>=df.VWAP[i]:\n",
      "C:\\Users\\Ankit\\AppData\\Local\\Temp\\ipykernel_9552\\1708043003.py:10: FutureWarning: Series.__getitem__ treating keys as positions is deprecated. In a future version, integer keys will always be treated as labels (consistent with DataFrame behavior). To access a value by position, use `ser.iloc[pos]`\n",
      "  if min(df.Open[i], df.Close[i])<=df.VWAP[i]:\n"
     ]
    }
   ],
   "source": [
    "VWAPsignal = [0]*len(df)\n",
    "backcandles = 15\n",
    "\n",
    "for row in range(backcandles, len(df)):\n",
    "    upt = 1\n",
    "    dnt = 1\n",
    "    for i in range(row-backcandles, row+1):\n",
    "        if max(df.Open[i], df.Close[i])>=df.VWAP[i]:\n",
    "            dnt=0\n",
    "        if min(df.Open[i], df.Close[i])<=df.VWAP[i]:\n",
    "            upt=0\n",
    "    if upt==1 and dnt==1:\n",
    "        VWAPsignal[row]=3\n",
    "    elif upt==1:\n",
    "        VWAPsignal[row]=2\n",
    "    elif dnt==1:\n",
    "        VWAPsignal[row]=1\n",
    "\n",
    "df['VWAPSignal'] = VWAPsignal"
   ]
  },
  {
   "cell_type": "code",
   "execution_count": 12,
   "id": "9a9981d6",
   "metadata": {},
   "outputs": [
    {
     "name": "stderr",
     "output_type": "stream",
     "text": [
      "C:\\Users\\Ankit\\AppData\\Local\\Temp\\ipykernel_9552\\2761151124.py:2: FutureWarning: Series.__getitem__ treating keys as positions is deprecated. In a future version, integer keys will always be treated as labels (consistent with DataFrame behavior). To access a value by position, use `ser.iloc[pos]`\n",
      "  if (df.VWAPSignal[l]==2\n",
      "C:\\Users\\Ankit\\AppData\\Local\\Temp\\ipykernel_9552\\2761151124.py:6: FutureWarning: Series.__getitem__ treating keys as positions is deprecated. In a future version, integer keys will always be treated as labels (consistent with DataFrame behavior). To access a value by position, use `ser.iloc[pos]`\n",
      "  if (df.VWAPSignal[l]==1\n",
      "C:\\Users\\Ankit\\AppData\\Local\\Temp\\ipykernel_9552\\2761151124.py:7: FutureWarning: Series.__getitem__ treating keys as positions is deprecated. In a future version, integer keys will always be treated as labels (consistent with DataFrame behavior). To access a value by position, use `ser.iloc[pos]`\n",
      "  and df.Close[l]>=df['BBU_14_2.0'][l]\n",
      "C:\\Users\\Ankit\\AppData\\Local\\Temp\\ipykernel_9552\\2761151124.py:8: FutureWarning: Series.__getitem__ treating keys as positions is deprecated. In a future version, integer keys will always be treated as labels (consistent with DataFrame behavior). To access a value by position, use `ser.iloc[pos]`\n",
      "  and df.RSI[l]>55):\n",
      "C:\\Users\\Ankit\\AppData\\Local\\Temp\\ipykernel_9552\\2761151124.py:3: FutureWarning: Series.__getitem__ treating keys as positions is deprecated. In a future version, integer keys will always be treated as labels (consistent with DataFrame behavior). To access a value by position, use `ser.iloc[pos]`\n",
      "  and df.Close[l]<=df['BBL_14_2.0'][l]\n",
      "C:\\Users\\Ankit\\AppData\\Local\\Temp\\ipykernel_9552\\2761151124.py:4: FutureWarning: Series.__getitem__ treating keys as positions is deprecated. In a future version, integer keys will always be treated as labels (consistent with DataFrame behavior). To access a value by position, use `ser.iloc[pos]`\n",
      "  and df.RSI[l]<45):\n"
     ]
    }
   ],
   "source": [
    "def TotalSignal(l):\n",
    "    if (df.VWAPSignal[l]==2\n",
    "        and df.Close[l]<=df['BBL_14_2.0'][l]\n",
    "        and df.RSI[l]<45):\n",
    "            return 2\n",
    "    if (df.VWAPSignal[l]==1\n",
    "        and df.Close[l]>=df['BBU_14_2.0'][l]\n",
    "        and df.RSI[l]>55):\n",
    "            return 1\n",
    "    return 0\n",
    "        \n",
    "TotSignal = [0]*len(df)\n",
    "for row in range(backcandles, len(df)): #careful backcandles used previous cell\n",
    "    TotSignal[row] = TotalSignal(row)\n",
    "df['TotalSignal'] = TotSignal"
   ]
  },
  {
   "cell_type": "code",
   "execution_count": 13,
   "id": "65435b94",
   "metadata": {},
   "outputs": [
    {
     "data": {
      "text/plain": [
       "Open           13\n",
       "High           13\n",
       "Low            13\n",
       "Close          13\n",
       "Adj Close      13\n",
       "Volume         13\n",
       "VWAP            9\n",
       "RSI            13\n",
       "BBL_14_2.0     13\n",
       "BBM_14_2.0     13\n",
       "BBU_14_2.0     13\n",
       "BBB_14_2.0     13\n",
       "BBP_14_2.0     13\n",
       "VWAPSignal     13\n",
       "TotalSignal    13\n",
       "dtype: int64"
      ]
     },
     "execution_count": 13,
     "metadata": {},
     "output_type": "execute_result"
    }
   ],
   "source": [
    "df[df.TotalSignal!=0].count()"
   ]
  },
  {
   "cell_type": "code",
   "execution_count": 14,
   "id": "e7080a9a",
   "metadata": {},
   "outputs": [],
   "source": [
    "import numpy as np\n",
    "def pointposbreak(x):\n",
    "    if x['TotalSignal']==1:\n",
    "        return x['High']+1e-4\n",
    "    elif x['TotalSignal']==2:\n",
    "        return x['Low']-1e-4\n",
    "    else:\n",
    "        return np.nan\n",
    "\n",
    "df['pointposbreak'] = df.apply(lambda row: pointposbreak(row), axis=1)"
   ]
  },
  {
   "cell_type": "code",
   "execution_count": 15,
   "id": "0d0e2a76",
   "metadata": {
    "scrolled": false
   },
   "outputs": [
    {
     "data": {
      "application/vnd.plotly.v1+json": {
       "config": {
        "plotlyServerURL": "https://plot.ly"
       },
       "data": [
        {
         "close": [],
         "high": [],
         "low": [],
         "open": [],
         "type": "candlestick",
         "x": []
        },
        {
         "line": {
          "color": "blue",
          "width": 1
         },
         "name": "VWAP",
         "type": "scatter",
         "x": [],
         "y": []
        },
        {
         "line": {
          "color": "green",
          "width": 1
         },
         "name": "BBL",
         "type": "scatter",
         "x": [],
         "y": []
        },
        {
         "line": {
          "color": "green",
          "width": 1
         },
         "name": "BBU",
         "type": "scatter",
         "x": [],
         "y": []
        },
        {
         "marker": {
          "color": "MediumPurple",
          "size": 10
         },
         "mode": "markers",
         "name": "Signal",
         "type": "scatter",
         "x": [],
         "y": []
        }
       ],
       "layout": {
        "template": {
         "data": {
          "bar": [
           {
            "error_x": {
             "color": "#2a3f5f"
            },
            "error_y": {
             "color": "#2a3f5f"
            },
            "marker": {
             "line": {
              "color": "#E5ECF6",
              "width": 0.5
             },
             "pattern": {
              "fillmode": "overlay",
              "size": 10,
              "solidity": 0.2
             }
            },
            "type": "bar"
           }
          ],
          "barpolar": [
           {
            "marker": {
             "line": {
              "color": "#E5ECF6",
              "width": 0.5
             },
             "pattern": {
              "fillmode": "overlay",
              "size": 10,
              "solidity": 0.2
             }
            },
            "type": "barpolar"
           }
          ],
          "carpet": [
           {
            "aaxis": {
             "endlinecolor": "#2a3f5f",
             "gridcolor": "white",
             "linecolor": "white",
             "minorgridcolor": "white",
             "startlinecolor": "#2a3f5f"
            },
            "baxis": {
             "endlinecolor": "#2a3f5f",
             "gridcolor": "white",
             "linecolor": "white",
             "minorgridcolor": "white",
             "startlinecolor": "#2a3f5f"
            },
            "type": "carpet"
           }
          ],
          "choropleth": [
           {
            "colorbar": {
             "outlinewidth": 0,
             "ticks": ""
            },
            "type": "choropleth"
           }
          ],
          "contour": [
           {
            "colorbar": {
             "outlinewidth": 0,
             "ticks": ""
            },
            "colorscale": [
             [
              0,
              "#0d0887"
             ],
             [
              0.1111111111111111,
              "#46039f"
             ],
             [
              0.2222222222222222,
              "#7201a8"
             ],
             [
              0.3333333333333333,
              "#9c179e"
             ],
             [
              0.4444444444444444,
              "#bd3786"
             ],
             [
              0.5555555555555556,
              "#d8576b"
             ],
             [
              0.6666666666666666,
              "#ed7953"
             ],
             [
              0.7777777777777778,
              "#fb9f3a"
             ],
             [
              0.8888888888888888,
              "#fdca26"
             ],
             [
              1,
              "#f0f921"
             ]
            ],
            "type": "contour"
           }
          ],
          "contourcarpet": [
           {
            "colorbar": {
             "outlinewidth": 0,
             "ticks": ""
            },
            "type": "contourcarpet"
           }
          ],
          "heatmap": [
           {
            "colorbar": {
             "outlinewidth": 0,
             "ticks": ""
            },
            "colorscale": [
             [
              0,
              "#0d0887"
             ],
             [
              0.1111111111111111,
              "#46039f"
             ],
             [
              0.2222222222222222,
              "#7201a8"
             ],
             [
              0.3333333333333333,
              "#9c179e"
             ],
             [
              0.4444444444444444,
              "#bd3786"
             ],
             [
              0.5555555555555556,
              "#d8576b"
             ],
             [
              0.6666666666666666,
              "#ed7953"
             ],
             [
              0.7777777777777778,
              "#fb9f3a"
             ],
             [
              0.8888888888888888,
              "#fdca26"
             ],
             [
              1,
              "#f0f921"
             ]
            ],
            "type": "heatmap"
           }
          ],
          "heatmapgl": [
           {
            "colorbar": {
             "outlinewidth": 0,
             "ticks": ""
            },
            "colorscale": [
             [
              0,
              "#0d0887"
             ],
             [
              0.1111111111111111,
              "#46039f"
             ],
             [
              0.2222222222222222,
              "#7201a8"
             ],
             [
              0.3333333333333333,
              "#9c179e"
             ],
             [
              0.4444444444444444,
              "#bd3786"
             ],
             [
              0.5555555555555556,
              "#d8576b"
             ],
             [
              0.6666666666666666,
              "#ed7953"
             ],
             [
              0.7777777777777778,
              "#fb9f3a"
             ],
             [
              0.8888888888888888,
              "#fdca26"
             ],
             [
              1,
              "#f0f921"
             ]
            ],
            "type": "heatmapgl"
           }
          ],
          "histogram": [
           {
            "marker": {
             "pattern": {
              "fillmode": "overlay",
              "size": 10,
              "solidity": 0.2
             }
            },
            "type": "histogram"
           }
          ],
          "histogram2d": [
           {
            "colorbar": {
             "outlinewidth": 0,
             "ticks": ""
            },
            "colorscale": [
             [
              0,
              "#0d0887"
             ],
             [
              0.1111111111111111,
              "#46039f"
             ],
             [
              0.2222222222222222,
              "#7201a8"
             ],
             [
              0.3333333333333333,
              "#9c179e"
             ],
             [
              0.4444444444444444,
              "#bd3786"
             ],
             [
              0.5555555555555556,
              "#d8576b"
             ],
             [
              0.6666666666666666,
              "#ed7953"
             ],
             [
              0.7777777777777778,
              "#fb9f3a"
             ],
             [
              0.8888888888888888,
              "#fdca26"
             ],
             [
              1,
              "#f0f921"
             ]
            ],
            "type": "histogram2d"
           }
          ],
          "histogram2dcontour": [
           {
            "colorbar": {
             "outlinewidth": 0,
             "ticks": ""
            },
            "colorscale": [
             [
              0,
              "#0d0887"
             ],
             [
              0.1111111111111111,
              "#46039f"
             ],
             [
              0.2222222222222222,
              "#7201a8"
             ],
             [
              0.3333333333333333,
              "#9c179e"
             ],
             [
              0.4444444444444444,
              "#bd3786"
             ],
             [
              0.5555555555555556,
              "#d8576b"
             ],
             [
              0.6666666666666666,
              "#ed7953"
             ],
             [
              0.7777777777777778,
              "#fb9f3a"
             ],
             [
              0.8888888888888888,
              "#fdca26"
             ],
             [
              1,
              "#f0f921"
             ]
            ],
            "type": "histogram2dcontour"
           }
          ],
          "mesh3d": [
           {
            "colorbar": {
             "outlinewidth": 0,
             "ticks": ""
            },
            "type": "mesh3d"
           }
          ],
          "parcoords": [
           {
            "line": {
             "colorbar": {
              "outlinewidth": 0,
              "ticks": ""
             }
            },
            "type": "parcoords"
           }
          ],
          "pie": [
           {
            "automargin": true,
            "type": "pie"
           }
          ],
          "scatter": [
           {
            "fillpattern": {
             "fillmode": "overlay",
             "size": 10,
             "solidity": 0.2
            },
            "type": "scatter"
           }
          ],
          "scatter3d": [
           {
            "line": {
             "colorbar": {
              "outlinewidth": 0,
              "ticks": ""
             }
            },
            "marker": {
             "colorbar": {
              "outlinewidth": 0,
              "ticks": ""
             }
            },
            "type": "scatter3d"
           }
          ],
          "scattercarpet": [
           {
            "marker": {
             "colorbar": {
              "outlinewidth": 0,
              "ticks": ""
             }
            },
            "type": "scattercarpet"
           }
          ],
          "scattergeo": [
           {
            "marker": {
             "colorbar": {
              "outlinewidth": 0,
              "ticks": ""
             }
            },
            "type": "scattergeo"
           }
          ],
          "scattergl": [
           {
            "marker": {
             "colorbar": {
              "outlinewidth": 0,
              "ticks": ""
             }
            },
            "type": "scattergl"
           }
          ],
          "scattermapbox": [
           {
            "marker": {
             "colorbar": {
              "outlinewidth": 0,
              "ticks": ""
             }
            },
            "type": "scattermapbox"
           }
          ],
          "scatterpolar": [
           {
            "marker": {
             "colorbar": {
              "outlinewidth": 0,
              "ticks": ""
             }
            },
            "type": "scatterpolar"
           }
          ],
          "scatterpolargl": [
           {
            "marker": {
             "colorbar": {
              "outlinewidth": 0,
              "ticks": ""
             }
            },
            "type": "scatterpolargl"
           }
          ],
          "scatterternary": [
           {
            "marker": {
             "colorbar": {
              "outlinewidth": 0,
              "ticks": ""
             }
            },
            "type": "scatterternary"
           }
          ],
          "surface": [
           {
            "colorbar": {
             "outlinewidth": 0,
             "ticks": ""
            },
            "colorscale": [
             [
              0,
              "#0d0887"
             ],
             [
              0.1111111111111111,
              "#46039f"
             ],
             [
              0.2222222222222222,
              "#7201a8"
             ],
             [
              0.3333333333333333,
              "#9c179e"
             ],
             [
              0.4444444444444444,
              "#bd3786"
             ],
             [
              0.5555555555555556,
              "#d8576b"
             ],
             [
              0.6666666666666666,
              "#ed7953"
             ],
             [
              0.7777777777777778,
              "#fb9f3a"
             ],
             [
              0.8888888888888888,
              "#fdca26"
             ],
             [
              1,
              "#f0f921"
             ]
            ],
            "type": "surface"
           }
          ],
          "table": [
           {
            "cells": {
             "fill": {
              "color": "#EBF0F8"
             },
             "line": {
              "color": "white"
             }
            },
            "header": {
             "fill": {
              "color": "#C8D4E3"
             },
             "line": {
              "color": "white"
             }
            },
            "type": "table"
           }
          ]
         },
         "layout": {
          "annotationdefaults": {
           "arrowcolor": "#2a3f5f",
           "arrowhead": 0,
           "arrowwidth": 1
          },
          "autotypenumbers": "strict",
          "coloraxis": {
           "colorbar": {
            "outlinewidth": 0,
            "ticks": ""
           }
          },
          "colorscale": {
           "diverging": [
            [
             0,
             "#8e0152"
            ],
            [
             0.1,
             "#c51b7d"
            ],
            [
             0.2,
             "#de77ae"
            ],
            [
             0.3,
             "#f1b6da"
            ],
            [
             0.4,
             "#fde0ef"
            ],
            [
             0.5,
             "#f7f7f7"
            ],
            [
             0.6,
             "#e6f5d0"
            ],
            [
             0.7,
             "#b8e186"
            ],
            [
             0.8,
             "#7fbc41"
            ],
            [
             0.9,
             "#4d9221"
            ],
            [
             1,
             "#276419"
            ]
           ],
           "sequential": [
            [
             0,
             "#0d0887"
            ],
            [
             0.1111111111111111,
             "#46039f"
            ],
            [
             0.2222222222222222,
             "#7201a8"
            ],
            [
             0.3333333333333333,
             "#9c179e"
            ],
            [
             0.4444444444444444,
             "#bd3786"
            ],
            [
             0.5555555555555556,
             "#d8576b"
            ],
            [
             0.6666666666666666,
             "#ed7953"
            ],
            [
             0.7777777777777778,
             "#fb9f3a"
            ],
            [
             0.8888888888888888,
             "#fdca26"
            ],
            [
             1,
             "#f0f921"
            ]
           ],
           "sequentialminus": [
            [
             0,
             "#0d0887"
            ],
            [
             0.1111111111111111,
             "#46039f"
            ],
            [
             0.2222222222222222,
             "#7201a8"
            ],
            [
             0.3333333333333333,
             "#9c179e"
            ],
            [
             0.4444444444444444,
             "#bd3786"
            ],
            [
             0.5555555555555556,
             "#d8576b"
            ],
            [
             0.6666666666666666,
             "#ed7953"
            ],
            [
             0.7777777777777778,
             "#fb9f3a"
            ],
            [
             0.8888888888888888,
             "#fdca26"
            ],
            [
             1,
             "#f0f921"
            ]
           ]
          },
          "colorway": [
           "#636efa",
           "#EF553B",
           "#00cc96",
           "#ab63fa",
           "#FFA15A",
           "#19d3f3",
           "#FF6692",
           "#B6E880",
           "#FF97FF",
           "#FECB52"
          ],
          "font": {
           "color": "#2a3f5f"
          },
          "geo": {
           "bgcolor": "white",
           "lakecolor": "white",
           "landcolor": "#E5ECF6",
           "showlakes": true,
           "showland": true,
           "subunitcolor": "white"
          },
          "hoverlabel": {
           "align": "left"
          },
          "hovermode": "closest",
          "mapbox": {
           "style": "light"
          },
          "paper_bgcolor": "white",
          "plot_bgcolor": "#E5ECF6",
          "polar": {
           "angularaxis": {
            "gridcolor": "white",
            "linecolor": "white",
            "ticks": ""
           },
           "bgcolor": "#E5ECF6",
           "radialaxis": {
            "gridcolor": "white",
            "linecolor": "white",
            "ticks": ""
           }
          },
          "scene": {
           "xaxis": {
            "backgroundcolor": "#E5ECF6",
            "gridcolor": "white",
            "gridwidth": 2,
            "linecolor": "white",
            "showbackground": true,
            "ticks": "",
            "zerolinecolor": "white"
           },
           "yaxis": {
            "backgroundcolor": "#E5ECF6",
            "gridcolor": "white",
            "gridwidth": 2,
            "linecolor": "white",
            "showbackground": true,
            "ticks": "",
            "zerolinecolor": "white"
           },
           "zaxis": {
            "backgroundcolor": "#E5ECF6",
            "gridcolor": "white",
            "gridwidth": 2,
            "linecolor": "white",
            "showbackground": true,
            "ticks": "",
            "zerolinecolor": "white"
           }
          },
          "shapedefaults": {
           "line": {
            "color": "#2a3f5f"
           }
          },
          "ternary": {
           "aaxis": {
            "gridcolor": "white",
            "linecolor": "white",
            "ticks": ""
           },
           "baxis": {
            "gridcolor": "white",
            "linecolor": "white",
            "ticks": ""
           },
           "bgcolor": "#E5ECF6",
           "caxis": {
            "gridcolor": "white",
            "linecolor": "white",
            "ticks": ""
           }
          },
          "title": {
           "x": 0.05
          },
          "xaxis": {
           "automargin": true,
           "gridcolor": "white",
           "linecolor": "white",
           "ticks": "",
           "title": {
            "standoff": 15
           },
           "zerolinecolor": "white",
           "zerolinewidth": 2
          },
          "yaxis": {
           "automargin": true,
           "gridcolor": "white",
           "linecolor": "white",
           "ticks": "",
           "title": {
            "standoff": 15
           },
           "zerolinecolor": "white",
           "zerolinewidth": 2
          }
         }
        }
       }
      }
     },
     "metadata": {},
     "output_type": "display_data"
    }
   ],
   "source": [
    "import plotly.graph_objects as go\n",
    "from plotly.subplots import make_subplots\n",
    "from datetime import datetime\n",
    "st=10400\n",
    "dfpl = df[st:st+350]\n",
    "dfpl.reset_index(inplace=True)\n",
    "fig = go.Figure(data=[go.Candlestick(x=dfpl.index,\n",
    "                open=dfpl['Open'],\n",
    "                high=dfpl['High'],\n",
    "                low=dfpl['Low'],\n",
    "                close=dfpl['Close']),\n",
    "                go.Scatter(x=dfpl.index, y=dfpl.VWAP, \n",
    "                           line=dict(color='blue', width=1), \n",
    "                           name=\"VWAP\"), \n",
    "                go.Scatter(x=dfpl.index, y=dfpl['BBL_14_2.0'], \n",
    "                           line=dict(color='green', width=1), \n",
    "                           name=\"BBL\"),\n",
    "                go.Scatter(x=dfpl.index, y=dfpl['BBU_14_2.0'], \n",
    "                           line=dict(color='green', width=1), \n",
    "                           name=\"BBU\")])\n",
    "\n",
    "fig.add_scatter(x=dfpl.index, y=dfpl['pointposbreak'], mode=\"markers\",\n",
    "                marker=dict(size=10, color=\"MediumPurple\"),\n",
    "                name=\"Signal\")\n",
    "fig.show()"
   ]
  },
  {
   "cell_type": "code",
   "execution_count": 16,
   "id": "6083727a",
   "metadata": {},
   "outputs": [],
   "source": [
    "dfpl = df[:75000].copy()\n",
    "import pandas_ta as ta\n",
    "dfpl['ATR']=ta.atr(dfpl.High, dfpl.Low, dfpl.Close, length=7)\n",
    "#help(ta.atr)\n",
    "def SIGNAL():\n",
    "    return dfpl.TotalSignal"
   ]
  },
  {
   "cell_type": "code",
   "execution_count": 17,
   "id": "81219ec4",
   "metadata": {},
   "outputs": [
    {
     "ename": "ModuleNotFoundError",
     "evalue": "No module named 'backtesting'",
     "output_type": "error",
     "traceback": [
      "\u001b[1;31m---------------------------------------------------------------------------\u001b[0m",
      "\u001b[1;31mModuleNotFoundError\u001b[0m                       Traceback (most recent call last)",
      "Cell \u001b[1;32mIn[17], line 1\u001b[0m\n\u001b[1;32m----> 1\u001b[0m \u001b[38;5;28;01mfrom\u001b[39;00m \u001b[38;5;21;01mbacktesting\u001b[39;00m \u001b[38;5;28;01mimport\u001b[39;00m Strategy\n\u001b[0;32m      2\u001b[0m \u001b[38;5;28;01mfrom\u001b[39;00m \u001b[38;5;21;01mbacktesting\u001b[39;00m \u001b[38;5;28;01mimport\u001b[39;00m Backtest\n\u001b[0;32m      4\u001b[0m \u001b[38;5;28;01mclass\u001b[39;00m \u001b[38;5;21;01mMyStrat\u001b[39;00m(Strategy):\n",
      "\u001b[1;31mModuleNotFoundError\u001b[0m: No module named 'backtesting'"
     ]
    }
   ],
   "source": [
    "from backtesting import Strategy\n",
    "from backtesting import Backtest\n",
    "\n",
    "class MyStrat(Strategy):\n",
    "    initsize = 0.99\n",
    "    mysize = initsize\n",
    "    def init(self):\n",
    "        super().init()\n",
    "        self.signal1 = self.I(SIGNAL)\n",
    "\n",
    "    def next(self):\n",
    "        super().next()\n",
    "        slatr = 1.2*self.data.ATR[-1]\n",
    "        TPSLRatio = 1.5\n",
    "\n",
    "        if len(self.trades)>0:\n",
    "            if self.trades[-1].is_long and self.data.RSI[-1]>=90:\n",
    "                self.trades[-1].close()\n",
    "            elif self.trades[-1].is_short and self.data.RSI[-1]<=10:\n",
    "                self.trades[-1].close()\n",
    "        \n",
    "        if self.signal1==2 and len(self.trades)==0:\n",
    "            sl1 = self.data.Close[-1] - slatr\n",
    "            tp1 = self.data.Close[-1] + slatr*TPSLRatio\n",
    "            self.buy(sl=sl1, tp=tp1, size=self.mysize)\n",
    "        \n",
    "        elif self.signal1==1 and len(self.trades)==0:         \n",
    "            sl1 = self.data.Close[-1] + slatr\n",
    "            tp1 = self.data.Close[-1] - slatr*TPSLRatio\n",
    "            self.sell(sl=sl1, tp=tp1, size=self.mysize)\n",
    "\n",
    "bt = Backtest(dfpl, MyStrat, cash=100, margin=1/10, commission=0.00)\n",
    "stat = bt.run()\n",
    "stat"
   ]
  },
  {
   "cell_type": "code",
   "execution_count": 18,
   "id": "16396f6c",
   "metadata": {
    "scrolled": true
   },
   "outputs": [
    {
     "ename": "NameError",
     "evalue": "name 'bt' is not defined",
     "output_type": "error",
     "traceback": [
      "\u001b[1;31m---------------------------------------------------------------------------\u001b[0m",
      "\u001b[1;31mNameError\u001b[0m                                 Traceback (most recent call last)",
      "Cell \u001b[1;32mIn[18], line 1\u001b[0m\n\u001b[1;32m----> 1\u001b[0m \u001b[43mbt\u001b[49m\u001b[38;5;241m.\u001b[39mplot(show_legend\u001b[38;5;241m=\u001b[39m\u001b[38;5;28;01mFalse\u001b[39;00m)\n",
      "\u001b[1;31mNameError\u001b[0m: name 'bt' is not defined"
     ]
    }
   ],
   "source": [
    "bt.plot(show_legend=False)"
   ]
  },
  {
   "cell_type": "code",
   "execution_count": null,
   "id": "1efd22a2",
   "metadata": {},
   "outputs": [],
   "source": []
  }
 ],
 "metadata": {
  "kernelspec": {
   "display_name": "Python 3 (ipykernel)",
   "language": "python",
   "name": "python3"
  },
  "language_info": {
   "codemirror_mode": {
    "name": "ipython",
    "version": 3
   },
   "file_extension": ".py",
   "mimetype": "text/x-python",
   "name": "python",
   "nbconvert_exporter": "python",
   "pygments_lexer": "ipython3",
   "version": "3.10.11"
  }
 },
 "nbformat": 4,
 "nbformat_minor": 5
}
