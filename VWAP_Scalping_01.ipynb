{
 "cells": [
  {
   "cell_type": "code",
   "execution_count": 15,
   "id": "33303e37",
   "metadata": {},
   "outputs": [],
   "source": [
    "import pandas as pd\n",
    "import yfinance as yf\n",
    "from IPython.display import clear_output\n",
    "\n"
   ]
  },
  {
   "cell_type": "code",
   "execution_count": null,
   "id": "df79bc30",
   "metadata": {},
   "outputs": [],
   "source": [
    "df=yf.download('ADANIENT.NS',period='30d',interval='5m')\n",
    "df"
   ]
  },
  {
   "cell_type": "code",
   "execution_count": 11,
   "id": "c3f880ce",
   "metadata": {},
   "outputs": [
    {
     "data": {
      "text/plain": [
       "2245"
      ]
     },
     "execution_count": 11,
     "metadata": {},
     "output_type": "execute_result"
    }
   ],
   "source": [
    "\n",
    "df=df[df.High!=df.Low]\n",
    "len(df)"
   ]
  },
  {
   "cell_type": "code",
   "execution_count": 12,
   "id": "d3eb031c",
   "metadata": {},
   "outputs": [
    {
     "name": "stderr",
     "output_type": "stream",
     "text": [
      "C:\\Users\\Ankit\\AppData\\Local\\Temp\\ipykernel_14680\\2902868524.py:2: UserWarning: Converting to PeriodArray/Index representation will drop timezone information.\n",
      "  df[\"VWAP\"]=ta.vwap(df.High, df.Low, df.Close, df.Volume)\n",
      "C:\\Users\\Ankit\\AppData\\Local\\Temp\\ipykernel_14680\\2902868524.py:2: SettingWithCopyWarning: \n",
      "A value is trying to be set on a copy of a slice from a DataFrame.\n",
      "Try using .loc[row_indexer,col_indexer] = value instead\n",
      "\n",
      "See the caveats in the documentation: https://pandas.pydata.org/pandas-docs/stable/user_guide/indexing.html#returning-a-view-versus-a-copy\n",
      "  df[\"VWAP\"]=ta.vwap(df.High, df.Low, df.Close, df.Volume)\n",
      "C:\\Users\\Ankit\\AppData\\Local\\Temp\\ipykernel_14680\\2902868524.py:3: SettingWithCopyWarning: \n",
      "A value is trying to be set on a copy of a slice from a DataFrame.\n",
      "Try using .loc[row_indexer,col_indexer] = value instead\n",
      "\n",
      "See the caveats in the documentation: https://pandas.pydata.org/pandas-docs/stable/user_guide/indexing.html#returning-a-view-versus-a-copy\n",
      "  df['RSI']=ta.rsi(df.Close, length=16)\n"
     ]
    },
    {
     "data": {
      "text/html": [
       "<div>\n",
       "<style scoped>\n",
       "    .dataframe tbody tr th:only-of-type {\n",
       "        vertical-align: middle;\n",
       "    }\n",
       "\n",
       "    .dataframe tbody tr th {\n",
       "        vertical-align: top;\n",
       "    }\n",
       "\n",
       "    .dataframe thead th {\n",
       "        text-align: right;\n",
       "    }\n",
       "</style>\n",
       "<table border=\"1\" class=\"dataframe\">\n",
       "  <thead>\n",
       "    <tr style=\"text-align: right;\">\n",
       "      <th></th>\n",
       "      <th>Open</th>\n",
       "      <th>High</th>\n",
       "      <th>Low</th>\n",
       "      <th>Close</th>\n",
       "      <th>Adj Close</th>\n",
       "      <th>Volume</th>\n",
       "      <th>VWAP</th>\n",
       "      <th>RSI</th>\n",
       "      <th>BBL_14_2.0</th>\n",
       "      <th>BBM_14_2.0</th>\n",
       "      <th>BBU_14_2.0</th>\n",
       "      <th>BBB_14_2.0</th>\n",
       "      <th>BBP_14_2.0</th>\n",
       "    </tr>\n",
       "    <tr>\n",
       "      <th>Datetime</th>\n",
       "      <th></th>\n",
       "      <th></th>\n",
       "      <th></th>\n",
       "      <th></th>\n",
       "      <th></th>\n",
       "      <th></th>\n",
       "      <th></th>\n",
       "      <th></th>\n",
       "      <th></th>\n",
       "      <th></th>\n",
       "      <th></th>\n",
       "      <th></th>\n",
       "      <th></th>\n",
       "    </tr>\n",
       "  </thead>\n",
       "  <tbody>\n",
       "    <tr>\n",
       "      <th>2024-04-24 09:15:00+05:30</th>\n",
       "      <td>3068.149902</td>\n",
       "      <td>3075.399902</td>\n",
       "      <td>3065.100098</td>\n",
       "      <td>3069.800049</td>\n",
       "      <td>3069.800049</td>\n",
       "      <td>0</td>\n",
       "      <td>NaN</td>\n",
       "      <td>NaN</td>\n",
       "      <td>NaN</td>\n",
       "      <td>NaN</td>\n",
       "      <td>NaN</td>\n",
       "      <td>NaN</td>\n",
       "      <td>NaN</td>\n",
       "    </tr>\n",
       "    <tr>\n",
       "      <th>2024-04-24 09:20:00+05:30</th>\n",
       "      <td>3069.000000</td>\n",
       "      <td>3080.050049</td>\n",
       "      <td>3068.500000</td>\n",
       "      <td>3077.100098</td>\n",
       "      <td>3077.100098</td>\n",
       "      <td>17824</td>\n",
       "      <td>3075.216715</td>\n",
       "      <td>NaN</td>\n",
       "      <td>NaN</td>\n",
       "      <td>NaN</td>\n",
       "      <td>NaN</td>\n",
       "      <td>NaN</td>\n",
       "      <td>NaN</td>\n",
       "    </tr>\n",
       "    <tr>\n",
       "      <th>2024-04-24 09:25:00+05:30</th>\n",
       "      <td>3077.149902</td>\n",
       "      <td>3079.399902</td>\n",
       "      <td>3075.149902</td>\n",
       "      <td>3077.949951</td>\n",
       "      <td>3077.949951</td>\n",
       "      <td>9450</td>\n",
       "      <td>3076.007808</td>\n",
       "      <td>NaN</td>\n",
       "      <td>NaN</td>\n",
       "      <td>NaN</td>\n",
       "      <td>NaN</td>\n",
       "      <td>NaN</td>\n",
       "      <td>NaN</td>\n",
       "    </tr>\n",
       "    <tr>\n",
       "      <th>2024-04-24 09:30:00+05:30</th>\n",
       "      <td>3077.199951</td>\n",
       "      <td>3085.000000</td>\n",
       "      <td>3075.750000</td>\n",
       "      <td>3077.399902</td>\n",
       "      <td>3077.399902</td>\n",
       "      <td>20246</td>\n",
       "      <td>3077.445944</td>\n",
       "      <td>NaN</td>\n",
       "      <td>NaN</td>\n",
       "      <td>NaN</td>\n",
       "      <td>NaN</td>\n",
       "      <td>NaN</td>\n",
       "      <td>NaN</td>\n",
       "    </tr>\n",
       "    <tr>\n",
       "      <th>2024-04-24 09:35:00+05:30</th>\n",
       "      <td>3076.750000</td>\n",
       "      <td>3079.050049</td>\n",
       "      <td>3075.050049</td>\n",
       "      <td>3075.050049</td>\n",
       "      <td>3075.050049</td>\n",
       "      <td>4992</td>\n",
       "      <td>3077.344933</td>\n",
       "      <td>NaN</td>\n",
       "      <td>NaN</td>\n",
       "      <td>NaN</td>\n",
       "      <td>NaN</td>\n",
       "      <td>NaN</td>\n",
       "      <td>NaN</td>\n",
       "    </tr>\n",
       "    <tr>\n",
       "      <th>...</th>\n",
       "      <td>...</td>\n",
       "      <td>...</td>\n",
       "      <td>...</td>\n",
       "      <td>...</td>\n",
       "      <td>...</td>\n",
       "      <td>...</td>\n",
       "      <td>...</td>\n",
       "      <td>...</td>\n",
       "      <td>...</td>\n",
       "      <td>...</td>\n",
       "      <td>...</td>\n",
       "      <td>...</td>\n",
       "      <td>...</td>\n",
       "    </tr>\n",
       "    <tr>\n",
       "      <th>2024-06-06 15:05:00+05:30</th>\n",
       "      <td>3189.399902</td>\n",
       "      <td>3190.000000</td>\n",
       "      <td>3179.050049</td>\n",
       "      <td>3184.399902</td>\n",
       "      <td>3184.399902</td>\n",
       "      <td>52913</td>\n",
       "      <td>3185.347652</td>\n",
       "      <td>49.647987</td>\n",
       "      <td>3170.555719</td>\n",
       "      <td>3189.328578</td>\n",
       "      <td>3208.101438</td>\n",
       "      <td>1.177230</td>\n",
       "      <td>0.368729</td>\n",
       "    </tr>\n",
       "    <tr>\n",
       "      <th>2024-06-06 15:10:00+05:30</th>\n",
       "      <td>3184.399902</td>\n",
       "      <td>3189.899902</td>\n",
       "      <td>3181.199951</td>\n",
       "      <td>3183.000000</td>\n",
       "      <td>3183.000000</td>\n",
       "      <td>61419</td>\n",
       "      <td>3185.340659</td>\n",
       "      <td>48.973877</td>\n",
       "      <td>3169.886250</td>\n",
       "      <td>3188.250000</td>\n",
       "      <td>3206.613750</td>\n",
       "      <td>1.151964</td>\n",
       "      <td>0.357055</td>\n",
       "    </tr>\n",
       "    <tr>\n",
       "      <th>2024-06-06 15:15:00+05:30</th>\n",
       "      <td>3182.000000</td>\n",
       "      <td>3190.000000</td>\n",
       "      <td>3171.250000</td>\n",
       "      <td>3184.600098</td>\n",
       "      <td>3184.600098</td>\n",
       "      <td>91002</td>\n",
       "      <td>3185.287268</td>\n",
       "      <td>49.804815</td>\n",
       "      <td>3169.423259</td>\n",
       "      <td>3187.567871</td>\n",
       "      <td>3205.712483</td>\n",
       "      <td>1.138461</td>\n",
       "      <td>0.418219</td>\n",
       "    </tr>\n",
       "    <tr>\n",
       "      <th>2024-06-06 15:20:00+05:30</th>\n",
       "      <td>3184.850098</td>\n",
       "      <td>3189.000000</td>\n",
       "      <td>3178.000000</td>\n",
       "      <td>3182.949951</td>\n",
       "      <td>3182.949951</td>\n",
       "      <td>59031</td>\n",
       "      <td>3185.267343</td>\n",
       "      <td>48.928336</td>\n",
       "      <td>3169.055658</td>\n",
       "      <td>3186.578578</td>\n",
       "      <td>3204.101499</td>\n",
       "      <td>1.099795</td>\n",
       "      <td>0.396461</td>\n",
       "    </tr>\n",
       "    <tr>\n",
       "      <th>2024-06-06 15:25:00+05:30</th>\n",
       "      <td>3183.000000</td>\n",
       "      <td>3187.000000</td>\n",
       "      <td>3182.050049</td>\n",
       "      <td>3186.000000</td>\n",
       "      <td>3186.000000</td>\n",
       "      <td>33773</td>\n",
       "      <td>3185.265902</td>\n",
       "      <td>50.640913</td>\n",
       "      <td>3169.383183</td>\n",
       "      <td>3185.721436</td>\n",
       "      <td>3202.059688</td>\n",
       "      <td>1.025718</td>\n",
       "      <td>0.508525</td>\n",
       "    </tr>\n",
       "  </tbody>\n",
       "</table>\n",
       "<p>2245 rows × 13 columns</p>\n",
       "</div>"
      ],
      "text/plain": [
       "                                  Open         High          Low        Close  \\\n",
       "Datetime                                                                        \n",
       "2024-04-24 09:15:00+05:30  3068.149902  3075.399902  3065.100098  3069.800049   \n",
       "2024-04-24 09:20:00+05:30  3069.000000  3080.050049  3068.500000  3077.100098   \n",
       "2024-04-24 09:25:00+05:30  3077.149902  3079.399902  3075.149902  3077.949951   \n",
       "2024-04-24 09:30:00+05:30  3077.199951  3085.000000  3075.750000  3077.399902   \n",
       "2024-04-24 09:35:00+05:30  3076.750000  3079.050049  3075.050049  3075.050049   \n",
       "...                                ...          ...          ...          ...   \n",
       "2024-06-06 15:05:00+05:30  3189.399902  3190.000000  3179.050049  3184.399902   \n",
       "2024-06-06 15:10:00+05:30  3184.399902  3189.899902  3181.199951  3183.000000   \n",
       "2024-06-06 15:15:00+05:30  3182.000000  3190.000000  3171.250000  3184.600098   \n",
       "2024-06-06 15:20:00+05:30  3184.850098  3189.000000  3178.000000  3182.949951   \n",
       "2024-06-06 15:25:00+05:30  3183.000000  3187.000000  3182.050049  3186.000000   \n",
       "\n",
       "                             Adj Close  Volume         VWAP        RSI  \\\n",
       "Datetime                                                                 \n",
       "2024-04-24 09:15:00+05:30  3069.800049       0          NaN        NaN   \n",
       "2024-04-24 09:20:00+05:30  3077.100098   17824  3075.216715        NaN   \n",
       "2024-04-24 09:25:00+05:30  3077.949951    9450  3076.007808        NaN   \n",
       "2024-04-24 09:30:00+05:30  3077.399902   20246  3077.445944        NaN   \n",
       "2024-04-24 09:35:00+05:30  3075.050049    4992  3077.344933        NaN   \n",
       "...                                ...     ...          ...        ...   \n",
       "2024-06-06 15:05:00+05:30  3184.399902   52913  3185.347652  49.647987   \n",
       "2024-06-06 15:10:00+05:30  3183.000000   61419  3185.340659  48.973877   \n",
       "2024-06-06 15:15:00+05:30  3184.600098   91002  3185.287268  49.804815   \n",
       "2024-06-06 15:20:00+05:30  3182.949951   59031  3185.267343  48.928336   \n",
       "2024-06-06 15:25:00+05:30  3186.000000   33773  3185.265902  50.640913   \n",
       "\n",
       "                            BBL_14_2.0   BBM_14_2.0   BBU_14_2.0  BBB_14_2.0  \\\n",
       "Datetime                                                                       \n",
       "2024-04-24 09:15:00+05:30          NaN          NaN          NaN         NaN   \n",
       "2024-04-24 09:20:00+05:30          NaN          NaN          NaN         NaN   \n",
       "2024-04-24 09:25:00+05:30          NaN          NaN          NaN         NaN   \n",
       "2024-04-24 09:30:00+05:30          NaN          NaN          NaN         NaN   \n",
       "2024-04-24 09:35:00+05:30          NaN          NaN          NaN         NaN   \n",
       "...                                ...          ...          ...         ...   \n",
       "2024-06-06 15:05:00+05:30  3170.555719  3189.328578  3208.101438    1.177230   \n",
       "2024-06-06 15:10:00+05:30  3169.886250  3188.250000  3206.613750    1.151964   \n",
       "2024-06-06 15:15:00+05:30  3169.423259  3187.567871  3205.712483    1.138461   \n",
       "2024-06-06 15:20:00+05:30  3169.055658  3186.578578  3204.101499    1.099795   \n",
       "2024-06-06 15:25:00+05:30  3169.383183  3185.721436  3202.059688    1.025718   \n",
       "\n",
       "                           BBP_14_2.0  \n",
       "Datetime                               \n",
       "2024-04-24 09:15:00+05:30         NaN  \n",
       "2024-04-24 09:20:00+05:30         NaN  \n",
       "2024-04-24 09:25:00+05:30         NaN  \n",
       "2024-04-24 09:30:00+05:30         NaN  \n",
       "2024-04-24 09:35:00+05:30         NaN  \n",
       "...                               ...  \n",
       "2024-06-06 15:05:00+05:30    0.368729  \n",
       "2024-06-06 15:10:00+05:30    0.357055  \n",
       "2024-06-06 15:15:00+05:30    0.418219  \n",
       "2024-06-06 15:20:00+05:30    0.396461  \n",
       "2024-06-06 15:25:00+05:30    0.508525  \n",
       "\n",
       "[2245 rows x 13 columns]"
      ]
     },
     "execution_count": 12,
     "metadata": {},
     "output_type": "execute_result"
    }
   ],
   "source": [
    "import pandas_ta as ta\n",
    "df[\"VWAP\"]=ta.vwap(df.High, df.Low, df.Close, df.Volume)\n",
    "df['RSI']=ta.rsi(df.Close, length=16)\n",
    "my_bbands = ta.bbands(df.Close, length=14, std=2.0)\n",
    "df=df.join(my_bbands)\n",
    "df"
   ]
  },
  {
   "cell_type": "code",
   "execution_count": 16,
   "id": "6d2cc33a",
   "metadata": {},
   "outputs": [
    {
     "name": "stdout",
     "output_type": "stream",
     "text": [
      "2244\n"
     ]
    }
   ],
   "source": [
    "\n",
    "backcandles = 15\n",
    "VWAPsignal = [0]*len(df)\n",
    "\n",
    "for row in range(backcandles, len(df)):  #15 - 2245\n",
    "    upt = 1\n",
    "    dnt = 1\n",
    "    for i in range(row-backcandles, row+1): #(15-15=0) - 15+1=16   (0-16),(1-17),(2-18). . .\n",
    "        if max(df.Open[i], df.Close[i])>=df.VWAP[i]:\n",
    "            dnt=0\n",
    "        if min(df.Open[i], df.Close[i])<=df.VWAP[i]:\n",
    "            upt=0\n",
    "    if upt==1 and dnt==1:\n",
    "        VWAPsignal[row]=3\n",
    "    elif upt==1:\n",
    "        VWAPsignal[row]=2\n",
    "    elif dnt==1:\n",
    "        VWAPsignal[row]=1\n",
    "    clear_output()\n",
    "    print(row)\n",
    "\n",
    "\n",
    "df['VWAPSignal'] = VWAPsignal"
   ]
  },
  {
   "cell_type": "code",
   "execution_count": 17,
   "id": "9a9981d6",
   "metadata": {},
   "outputs": [
    {
     "name": "stderr",
     "output_type": "stream",
     "text": [
      "C:\\Users\\Ankit\\AppData\\Local\\Temp\\ipykernel_14680\\2761151124.py:2: FutureWarning: Series.__getitem__ treating keys as positions is deprecated. In a future version, integer keys will always be treated as labels (consistent with DataFrame behavior). To access a value by position, use `ser.iloc[pos]`\n",
      "  if (df.VWAPSignal[l]==2\n",
      "C:\\Users\\Ankit\\AppData\\Local\\Temp\\ipykernel_14680\\2761151124.py:6: FutureWarning: Series.__getitem__ treating keys as positions is deprecated. In a future version, integer keys will always be treated as labels (consistent with DataFrame behavior). To access a value by position, use `ser.iloc[pos]`\n",
      "  if (df.VWAPSignal[l]==1\n",
      "C:\\Users\\Ankit\\AppData\\Local\\Temp\\ipykernel_14680\\2761151124.py:7: FutureWarning: Series.__getitem__ treating keys as positions is deprecated. In a future version, integer keys will always be treated as labels (consistent with DataFrame behavior). To access a value by position, use `ser.iloc[pos]`\n",
      "  and df.Close[l]>=df['BBU_14_2.0'][l]\n",
      "C:\\Users\\Ankit\\AppData\\Local\\Temp\\ipykernel_14680\\2761151124.py:3: FutureWarning: Series.__getitem__ treating keys as positions is deprecated. In a future version, integer keys will always be treated as labels (consistent with DataFrame behavior). To access a value by position, use `ser.iloc[pos]`\n",
      "  and df.Close[l]<=df['BBL_14_2.0'][l]\n",
      "C:\\Users\\Ankit\\AppData\\Local\\Temp\\ipykernel_14680\\2761151124.py:8: FutureWarning: Series.__getitem__ treating keys as positions is deprecated. In a future version, integer keys will always be treated as labels (consistent with DataFrame behavior). To access a value by position, use `ser.iloc[pos]`\n",
      "  and df.RSI[l]>55):\n",
      "C:\\Users\\Ankit\\AppData\\Local\\Temp\\ipykernel_14680\\2761151124.py:4: FutureWarning: Series.__getitem__ treating keys as positions is deprecated. In a future version, integer keys will always be treated as labels (consistent with DataFrame behavior). To access a value by position, use `ser.iloc[pos]`\n",
      "  and df.RSI[l]<45):\n"
     ]
    }
   ],
   "source": [
    "def TotalSignal(l):\n",
    "    if (df.VWAPSignal[l]==2\n",
    "        and df.Close[l]<=df['BBL_14_2.0'][l]\n",
    "        and df.RSI[l]<45):\n",
    "            return 2\n",
    "    if (df.VWAPSignal[l]==1\n",
    "        and df.Close[l]>=df['BBU_14_2.0'][l]\n",
    "        and df.RSI[l]>55):\n",
    "            return 1\n",
    "    return 0\n",
    "        \n",
    "TotSignal = [0]*len(df)\n",
    "for row in range(backcandles, len(df)): #careful backcandles used previous cell\n",
    "    TotSignal[row] = TotalSignal(row)\n",
    "df['TotalSignal'] = TotSignal"
   ]
  },
  {
   "cell_type": "code",
   "execution_count": 18,
   "id": "f8633030",
   "metadata": {},
   "outputs": [
    {
     "data": {
      "text/html": [
       "<div>\n",
       "<style scoped>\n",
       "    .dataframe tbody tr th:only-of-type {\n",
       "        vertical-align: middle;\n",
       "    }\n",
       "\n",
       "    .dataframe tbody tr th {\n",
       "        vertical-align: top;\n",
       "    }\n",
       "\n",
       "    .dataframe thead th {\n",
       "        text-align: right;\n",
       "    }\n",
       "</style>\n",
       "<table border=\"1\" class=\"dataframe\">\n",
       "  <thead>\n",
       "    <tr style=\"text-align: right;\">\n",
       "      <th></th>\n",
       "      <th>Open</th>\n",
       "      <th>High</th>\n",
       "      <th>Low</th>\n",
       "      <th>Close</th>\n",
       "      <th>Adj Close</th>\n",
       "      <th>Volume</th>\n",
       "      <th>VWAP</th>\n",
       "      <th>RSI</th>\n",
       "      <th>BBL_14_2.0</th>\n",
       "      <th>BBM_14_2.0</th>\n",
       "      <th>BBU_14_2.0</th>\n",
       "      <th>BBB_14_2.0</th>\n",
       "      <th>BBP_14_2.0</th>\n",
       "      <th>VWAPSignal</th>\n",
       "      <th>TotalSignal</th>\n",
       "    </tr>\n",
       "    <tr>\n",
       "      <th>Datetime</th>\n",
       "      <th></th>\n",
       "      <th></th>\n",
       "      <th></th>\n",
       "      <th></th>\n",
       "      <th></th>\n",
       "      <th></th>\n",
       "      <th></th>\n",
       "      <th></th>\n",
       "      <th></th>\n",
       "      <th></th>\n",
       "      <th></th>\n",
       "      <th></th>\n",
       "      <th></th>\n",
       "      <th></th>\n",
       "      <th></th>\n",
       "    </tr>\n",
       "  </thead>\n",
       "  <tbody>\n",
       "    <tr>\n",
       "      <th>2024-04-24 09:15:00+05:30</th>\n",
       "      <td>3068.149902</td>\n",
       "      <td>3075.399902</td>\n",
       "      <td>3065.100098</td>\n",
       "      <td>3069.800049</td>\n",
       "      <td>3069.800049</td>\n",
       "      <td>0</td>\n",
       "      <td>NaN</td>\n",
       "      <td>NaN</td>\n",
       "      <td>NaN</td>\n",
       "      <td>NaN</td>\n",
       "      <td>NaN</td>\n",
       "      <td>NaN</td>\n",
       "      <td>NaN</td>\n",
       "      <td>0</td>\n",
       "      <td>0</td>\n",
       "    </tr>\n",
       "    <tr>\n",
       "      <th>2024-04-24 09:20:00+05:30</th>\n",
       "      <td>3069.000000</td>\n",
       "      <td>3080.050049</td>\n",
       "      <td>3068.500000</td>\n",
       "      <td>3077.100098</td>\n",
       "      <td>3077.100098</td>\n",
       "      <td>17824</td>\n",
       "      <td>3075.216715</td>\n",
       "      <td>NaN</td>\n",
       "      <td>NaN</td>\n",
       "      <td>NaN</td>\n",
       "      <td>NaN</td>\n",
       "      <td>NaN</td>\n",
       "      <td>NaN</td>\n",
       "      <td>0</td>\n",
       "      <td>0</td>\n",
       "    </tr>\n",
       "    <tr>\n",
       "      <th>2024-04-24 09:25:00+05:30</th>\n",
       "      <td>3077.149902</td>\n",
       "      <td>3079.399902</td>\n",
       "      <td>3075.149902</td>\n",
       "      <td>3077.949951</td>\n",
       "      <td>3077.949951</td>\n",
       "      <td>9450</td>\n",
       "      <td>3076.007808</td>\n",
       "      <td>NaN</td>\n",
       "      <td>NaN</td>\n",
       "      <td>NaN</td>\n",
       "      <td>NaN</td>\n",
       "      <td>NaN</td>\n",
       "      <td>NaN</td>\n",
       "      <td>0</td>\n",
       "      <td>0</td>\n",
       "    </tr>\n",
       "    <tr>\n",
       "      <th>2024-04-24 09:30:00+05:30</th>\n",
       "      <td>3077.199951</td>\n",
       "      <td>3085.000000</td>\n",
       "      <td>3075.750000</td>\n",
       "      <td>3077.399902</td>\n",
       "      <td>3077.399902</td>\n",
       "      <td>20246</td>\n",
       "      <td>3077.445944</td>\n",
       "      <td>NaN</td>\n",
       "      <td>NaN</td>\n",
       "      <td>NaN</td>\n",
       "      <td>NaN</td>\n",
       "      <td>NaN</td>\n",
       "      <td>NaN</td>\n",
       "      <td>0</td>\n",
       "      <td>0</td>\n",
       "    </tr>\n",
       "    <tr>\n",
       "      <th>2024-04-24 09:35:00+05:30</th>\n",
       "      <td>3076.750000</td>\n",
       "      <td>3079.050049</td>\n",
       "      <td>3075.050049</td>\n",
       "      <td>3075.050049</td>\n",
       "      <td>3075.050049</td>\n",
       "      <td>4992</td>\n",
       "      <td>3077.344933</td>\n",
       "      <td>NaN</td>\n",
       "      <td>NaN</td>\n",
       "      <td>NaN</td>\n",
       "      <td>NaN</td>\n",
       "      <td>NaN</td>\n",
       "      <td>NaN</td>\n",
       "      <td>0</td>\n",
       "      <td>0</td>\n",
       "    </tr>\n",
       "    <tr>\n",
       "      <th>...</th>\n",
       "      <td>...</td>\n",
       "      <td>...</td>\n",
       "      <td>...</td>\n",
       "      <td>...</td>\n",
       "      <td>...</td>\n",
       "      <td>...</td>\n",
       "      <td>...</td>\n",
       "      <td>...</td>\n",
       "      <td>...</td>\n",
       "      <td>...</td>\n",
       "      <td>...</td>\n",
       "      <td>...</td>\n",
       "      <td>...</td>\n",
       "      <td>...</td>\n",
       "      <td>...</td>\n",
       "    </tr>\n",
       "    <tr>\n",
       "      <th>2024-06-06 15:05:00+05:30</th>\n",
       "      <td>3189.399902</td>\n",
       "      <td>3190.000000</td>\n",
       "      <td>3179.050049</td>\n",
       "      <td>3184.399902</td>\n",
       "      <td>3184.399902</td>\n",
       "      <td>52913</td>\n",
       "      <td>3185.347652</td>\n",
       "      <td>49.647987</td>\n",
       "      <td>3170.555719</td>\n",
       "      <td>3189.328578</td>\n",
       "      <td>3208.101438</td>\n",
       "      <td>1.177230</td>\n",
       "      <td>0.368729</td>\n",
       "      <td>0</td>\n",
       "      <td>0</td>\n",
       "    </tr>\n",
       "    <tr>\n",
       "      <th>2024-06-06 15:10:00+05:30</th>\n",
       "      <td>3184.399902</td>\n",
       "      <td>3189.899902</td>\n",
       "      <td>3181.199951</td>\n",
       "      <td>3183.000000</td>\n",
       "      <td>3183.000000</td>\n",
       "      <td>61419</td>\n",
       "      <td>3185.340659</td>\n",
       "      <td>48.973877</td>\n",
       "      <td>3169.886250</td>\n",
       "      <td>3188.250000</td>\n",
       "      <td>3206.613750</td>\n",
       "      <td>1.151964</td>\n",
       "      <td>0.357055</td>\n",
       "      <td>0</td>\n",
       "      <td>0</td>\n",
       "    </tr>\n",
       "    <tr>\n",
       "      <th>2024-06-06 15:15:00+05:30</th>\n",
       "      <td>3182.000000</td>\n",
       "      <td>3190.000000</td>\n",
       "      <td>3171.250000</td>\n",
       "      <td>3184.600098</td>\n",
       "      <td>3184.600098</td>\n",
       "      <td>91002</td>\n",
       "      <td>3185.287268</td>\n",
       "      <td>49.804815</td>\n",
       "      <td>3169.423259</td>\n",
       "      <td>3187.567871</td>\n",
       "      <td>3205.712483</td>\n",
       "      <td>1.138461</td>\n",
       "      <td>0.418219</td>\n",
       "      <td>0</td>\n",
       "      <td>0</td>\n",
       "    </tr>\n",
       "    <tr>\n",
       "      <th>2024-06-06 15:20:00+05:30</th>\n",
       "      <td>3184.850098</td>\n",
       "      <td>3189.000000</td>\n",
       "      <td>3178.000000</td>\n",
       "      <td>3182.949951</td>\n",
       "      <td>3182.949951</td>\n",
       "      <td>59031</td>\n",
       "      <td>3185.267343</td>\n",
       "      <td>48.928336</td>\n",
       "      <td>3169.055658</td>\n",
       "      <td>3186.578578</td>\n",
       "      <td>3204.101499</td>\n",
       "      <td>1.099795</td>\n",
       "      <td>0.396461</td>\n",
       "      <td>0</td>\n",
       "      <td>0</td>\n",
       "    </tr>\n",
       "    <tr>\n",
       "      <th>2024-06-06 15:25:00+05:30</th>\n",
       "      <td>3183.000000</td>\n",
       "      <td>3187.000000</td>\n",
       "      <td>3182.050049</td>\n",
       "      <td>3186.000000</td>\n",
       "      <td>3186.000000</td>\n",
       "      <td>33773</td>\n",
       "      <td>3185.265902</td>\n",
       "      <td>50.640913</td>\n",
       "      <td>3169.383183</td>\n",
       "      <td>3185.721436</td>\n",
       "      <td>3202.059688</td>\n",
       "      <td>1.025718</td>\n",
       "      <td>0.508525</td>\n",
       "      <td>0</td>\n",
       "      <td>0</td>\n",
       "    </tr>\n",
       "  </tbody>\n",
       "</table>\n",
       "<p>2245 rows × 15 columns</p>\n",
       "</div>"
      ],
      "text/plain": [
       "                                  Open         High          Low        Close  \\\n",
       "Datetime                                                                        \n",
       "2024-04-24 09:15:00+05:30  3068.149902  3075.399902  3065.100098  3069.800049   \n",
       "2024-04-24 09:20:00+05:30  3069.000000  3080.050049  3068.500000  3077.100098   \n",
       "2024-04-24 09:25:00+05:30  3077.149902  3079.399902  3075.149902  3077.949951   \n",
       "2024-04-24 09:30:00+05:30  3077.199951  3085.000000  3075.750000  3077.399902   \n",
       "2024-04-24 09:35:00+05:30  3076.750000  3079.050049  3075.050049  3075.050049   \n",
       "...                                ...          ...          ...          ...   \n",
       "2024-06-06 15:05:00+05:30  3189.399902  3190.000000  3179.050049  3184.399902   \n",
       "2024-06-06 15:10:00+05:30  3184.399902  3189.899902  3181.199951  3183.000000   \n",
       "2024-06-06 15:15:00+05:30  3182.000000  3190.000000  3171.250000  3184.600098   \n",
       "2024-06-06 15:20:00+05:30  3184.850098  3189.000000  3178.000000  3182.949951   \n",
       "2024-06-06 15:25:00+05:30  3183.000000  3187.000000  3182.050049  3186.000000   \n",
       "\n",
       "                             Adj Close  Volume         VWAP        RSI  \\\n",
       "Datetime                                                                 \n",
       "2024-04-24 09:15:00+05:30  3069.800049       0          NaN        NaN   \n",
       "2024-04-24 09:20:00+05:30  3077.100098   17824  3075.216715        NaN   \n",
       "2024-04-24 09:25:00+05:30  3077.949951    9450  3076.007808        NaN   \n",
       "2024-04-24 09:30:00+05:30  3077.399902   20246  3077.445944        NaN   \n",
       "2024-04-24 09:35:00+05:30  3075.050049    4992  3077.344933        NaN   \n",
       "...                                ...     ...          ...        ...   \n",
       "2024-06-06 15:05:00+05:30  3184.399902   52913  3185.347652  49.647987   \n",
       "2024-06-06 15:10:00+05:30  3183.000000   61419  3185.340659  48.973877   \n",
       "2024-06-06 15:15:00+05:30  3184.600098   91002  3185.287268  49.804815   \n",
       "2024-06-06 15:20:00+05:30  3182.949951   59031  3185.267343  48.928336   \n",
       "2024-06-06 15:25:00+05:30  3186.000000   33773  3185.265902  50.640913   \n",
       "\n",
       "                            BBL_14_2.0   BBM_14_2.0   BBU_14_2.0  BBB_14_2.0  \\\n",
       "Datetime                                                                       \n",
       "2024-04-24 09:15:00+05:30          NaN          NaN          NaN         NaN   \n",
       "2024-04-24 09:20:00+05:30          NaN          NaN          NaN         NaN   \n",
       "2024-04-24 09:25:00+05:30          NaN          NaN          NaN         NaN   \n",
       "2024-04-24 09:30:00+05:30          NaN          NaN          NaN         NaN   \n",
       "2024-04-24 09:35:00+05:30          NaN          NaN          NaN         NaN   \n",
       "...                                ...          ...          ...         ...   \n",
       "2024-06-06 15:05:00+05:30  3170.555719  3189.328578  3208.101438    1.177230   \n",
       "2024-06-06 15:10:00+05:30  3169.886250  3188.250000  3206.613750    1.151964   \n",
       "2024-06-06 15:15:00+05:30  3169.423259  3187.567871  3205.712483    1.138461   \n",
       "2024-06-06 15:20:00+05:30  3169.055658  3186.578578  3204.101499    1.099795   \n",
       "2024-06-06 15:25:00+05:30  3169.383183  3185.721436  3202.059688    1.025718   \n",
       "\n",
       "                           BBP_14_2.0  VWAPSignal  TotalSignal  \n",
       "Datetime                                                        \n",
       "2024-04-24 09:15:00+05:30         NaN           0            0  \n",
       "2024-04-24 09:20:00+05:30         NaN           0            0  \n",
       "2024-04-24 09:25:00+05:30         NaN           0            0  \n",
       "2024-04-24 09:30:00+05:30         NaN           0            0  \n",
       "2024-04-24 09:35:00+05:30         NaN           0            0  \n",
       "...                               ...         ...          ...  \n",
       "2024-06-06 15:05:00+05:30    0.368729           0            0  \n",
       "2024-06-06 15:10:00+05:30    0.357055           0            0  \n",
       "2024-06-06 15:15:00+05:30    0.418219           0            0  \n",
       "2024-06-06 15:20:00+05:30    0.396461           0            0  \n",
       "2024-06-06 15:25:00+05:30    0.508525           0            0  \n",
       "\n",
       "[2245 rows x 15 columns]"
      ]
     },
     "execution_count": 18,
     "metadata": {},
     "output_type": "execute_result"
    }
   ],
   "source": [
    "df"
   ]
  },
  {
   "cell_type": "code",
   "execution_count": 19,
   "id": "65435b94",
   "metadata": {},
   "outputs": [
    {
     "data": {
      "text/plain": [
       "Open           7\n",
       "High           7\n",
       "Low            7\n",
       "Close          7\n",
       "Adj Close      7\n",
       "Volume         7\n",
       "VWAP           6\n",
       "RSI            7\n",
       "BBL_14_2.0     7\n",
       "BBM_14_2.0     7\n",
       "BBU_14_2.0     7\n",
       "BBB_14_2.0     7\n",
       "BBP_14_2.0     7\n",
       "VWAPSignal     7\n",
       "TotalSignal    7\n",
       "dtype: int64"
      ]
     },
     "execution_count": 19,
     "metadata": {},
     "output_type": "execute_result"
    }
   ],
   "source": [
    "df[df.TotalSignal!=0].count()"
   ]
  },
  {
   "cell_type": "code",
   "execution_count": 20,
   "id": "e7080a9a",
   "metadata": {},
   "outputs": [],
   "source": [
    "import numpy as np\n",
    "def pointposbreak(x):\n",
    "    if x['TotalSignal']==1:\n",
    "        return x['High']+1e-4\n",
    "    elif x['TotalSignal']==2:\n",
    "        return x['Low']-1e-4\n",
    "    else:\n",
    "        return np.nan\n",
    "\n",
    "df['pointposbreak'] = df.apply(lambda row: pointposbreak(row), axis=1)\n",
    "\n"
   ]
  },
  {
   "cell_type": "code",
   "execution_count": 25,
   "id": "017359a6",
   "metadata": {},
   "outputs": [
    {
     "data": {
      "text/html": [
       "<div>\n",
       "<style scoped>\n",
       "    .dataframe tbody tr th:only-of-type {\n",
       "        vertical-align: middle;\n",
       "    }\n",
       "\n",
       "    .dataframe tbody tr th {\n",
       "        vertical-align: top;\n",
       "    }\n",
       "\n",
       "    .dataframe thead th {\n",
       "        text-align: right;\n",
       "    }\n",
       "</style>\n",
       "<table border=\"1\" class=\"dataframe\">\n",
       "  <thead>\n",
       "    <tr style=\"text-align: right;\">\n",
       "      <th></th>\n",
       "      <th>Open</th>\n",
       "      <th>High</th>\n",
       "      <th>Low</th>\n",
       "      <th>Close</th>\n",
       "      <th>Adj Close</th>\n",
       "      <th>Volume</th>\n",
       "      <th>VWAP</th>\n",
       "      <th>RSI</th>\n",
       "      <th>BBL_14_2.0</th>\n",
       "      <th>BBM_14_2.0</th>\n",
       "      <th>BBU_14_2.0</th>\n",
       "      <th>BBB_14_2.0</th>\n",
       "      <th>BBP_14_2.0</th>\n",
       "      <th>VWAPSignal</th>\n",
       "      <th>TotalSignal</th>\n",
       "      <th>pointposbreak</th>\n",
       "    </tr>\n",
       "    <tr>\n",
       "      <th>Datetime</th>\n",
       "      <th></th>\n",
       "      <th></th>\n",
       "      <th></th>\n",
       "      <th></th>\n",
       "      <th></th>\n",
       "      <th></th>\n",
       "      <th></th>\n",
       "      <th></th>\n",
       "      <th></th>\n",
       "      <th></th>\n",
       "      <th></th>\n",
       "      <th></th>\n",
       "      <th></th>\n",
       "      <th></th>\n",
       "      <th></th>\n",
       "      <th></th>\n",
       "    </tr>\n",
       "  </thead>\n",
       "  <tbody>\n",
       "    <tr>\n",
       "      <th>2024-04-24 09:15:00+05:30</th>\n",
       "      <td>3068.149902</td>\n",
       "      <td>3075.399902</td>\n",
       "      <td>3065.100098</td>\n",
       "      <td>3069.800049</td>\n",
       "      <td>3069.800049</td>\n",
       "      <td>0</td>\n",
       "      <td>NaN</td>\n",
       "      <td>NaN</td>\n",
       "      <td>NaN</td>\n",
       "      <td>NaN</td>\n",
       "      <td>NaN</td>\n",
       "      <td>NaN</td>\n",
       "      <td>NaN</td>\n",
       "      <td>0</td>\n",
       "      <td>0</td>\n",
       "      <td>NaN</td>\n",
       "    </tr>\n",
       "    <tr>\n",
       "      <th>2024-04-24 09:20:00+05:30</th>\n",
       "      <td>3069.000000</td>\n",
       "      <td>3080.050049</td>\n",
       "      <td>3068.500000</td>\n",
       "      <td>3077.100098</td>\n",
       "      <td>3077.100098</td>\n",
       "      <td>17824</td>\n",
       "      <td>3075.216715</td>\n",
       "      <td>NaN</td>\n",
       "      <td>NaN</td>\n",
       "      <td>NaN</td>\n",
       "      <td>NaN</td>\n",
       "      <td>NaN</td>\n",
       "      <td>NaN</td>\n",
       "      <td>0</td>\n",
       "      <td>0</td>\n",
       "      <td>NaN</td>\n",
       "    </tr>\n",
       "    <tr>\n",
       "      <th>2024-04-24 09:25:00+05:30</th>\n",
       "      <td>3077.149902</td>\n",
       "      <td>3079.399902</td>\n",
       "      <td>3075.149902</td>\n",
       "      <td>3077.949951</td>\n",
       "      <td>3077.949951</td>\n",
       "      <td>9450</td>\n",
       "      <td>3076.007808</td>\n",
       "      <td>NaN</td>\n",
       "      <td>NaN</td>\n",
       "      <td>NaN</td>\n",
       "      <td>NaN</td>\n",
       "      <td>NaN</td>\n",
       "      <td>NaN</td>\n",
       "      <td>0</td>\n",
       "      <td>0</td>\n",
       "      <td>NaN</td>\n",
       "    </tr>\n",
       "    <tr>\n",
       "      <th>2024-04-24 09:30:00+05:30</th>\n",
       "      <td>3077.199951</td>\n",
       "      <td>3085.000000</td>\n",
       "      <td>3075.750000</td>\n",
       "      <td>3077.399902</td>\n",
       "      <td>3077.399902</td>\n",
       "      <td>20246</td>\n",
       "      <td>3077.445944</td>\n",
       "      <td>NaN</td>\n",
       "      <td>NaN</td>\n",
       "      <td>NaN</td>\n",
       "      <td>NaN</td>\n",
       "      <td>NaN</td>\n",
       "      <td>NaN</td>\n",
       "      <td>0</td>\n",
       "      <td>0</td>\n",
       "      <td>NaN</td>\n",
       "    </tr>\n",
       "    <tr>\n",
       "      <th>2024-04-24 09:35:00+05:30</th>\n",
       "      <td>3076.750000</td>\n",
       "      <td>3079.050049</td>\n",
       "      <td>3075.050049</td>\n",
       "      <td>3075.050049</td>\n",
       "      <td>3075.050049</td>\n",
       "      <td>4992</td>\n",
       "      <td>3077.344933</td>\n",
       "      <td>NaN</td>\n",
       "      <td>NaN</td>\n",
       "      <td>NaN</td>\n",
       "      <td>NaN</td>\n",
       "      <td>NaN</td>\n",
       "      <td>NaN</td>\n",
       "      <td>0</td>\n",
       "      <td>0</td>\n",
       "      <td>NaN</td>\n",
       "    </tr>\n",
       "    <tr>\n",
       "      <th>...</th>\n",
       "      <td>...</td>\n",
       "      <td>...</td>\n",
       "      <td>...</td>\n",
       "      <td>...</td>\n",
       "      <td>...</td>\n",
       "      <td>...</td>\n",
       "      <td>...</td>\n",
       "      <td>...</td>\n",
       "      <td>...</td>\n",
       "      <td>...</td>\n",
       "      <td>...</td>\n",
       "      <td>...</td>\n",
       "      <td>...</td>\n",
       "      <td>...</td>\n",
       "      <td>...</td>\n",
       "      <td>...</td>\n",
       "    </tr>\n",
       "    <tr>\n",
       "      <th>2024-06-06 15:05:00+05:30</th>\n",
       "      <td>3189.399902</td>\n",
       "      <td>3190.000000</td>\n",
       "      <td>3179.050049</td>\n",
       "      <td>3184.399902</td>\n",
       "      <td>3184.399902</td>\n",
       "      <td>52913</td>\n",
       "      <td>3185.347652</td>\n",
       "      <td>49.647987</td>\n",
       "      <td>3170.555719</td>\n",
       "      <td>3189.328578</td>\n",
       "      <td>3208.101438</td>\n",
       "      <td>1.177230</td>\n",
       "      <td>0.368729</td>\n",
       "      <td>0</td>\n",
       "      <td>0</td>\n",
       "      <td>NaN</td>\n",
       "    </tr>\n",
       "    <tr>\n",
       "      <th>2024-06-06 15:10:00+05:30</th>\n",
       "      <td>3184.399902</td>\n",
       "      <td>3189.899902</td>\n",
       "      <td>3181.199951</td>\n",
       "      <td>3183.000000</td>\n",
       "      <td>3183.000000</td>\n",
       "      <td>61419</td>\n",
       "      <td>3185.340659</td>\n",
       "      <td>48.973877</td>\n",
       "      <td>3169.886250</td>\n",
       "      <td>3188.250000</td>\n",
       "      <td>3206.613750</td>\n",
       "      <td>1.151964</td>\n",
       "      <td>0.357055</td>\n",
       "      <td>0</td>\n",
       "      <td>0</td>\n",
       "      <td>NaN</td>\n",
       "    </tr>\n",
       "    <tr>\n",
       "      <th>2024-06-06 15:15:00+05:30</th>\n",
       "      <td>3182.000000</td>\n",
       "      <td>3190.000000</td>\n",
       "      <td>3171.250000</td>\n",
       "      <td>3184.600098</td>\n",
       "      <td>3184.600098</td>\n",
       "      <td>91002</td>\n",
       "      <td>3185.287268</td>\n",
       "      <td>49.804815</td>\n",
       "      <td>3169.423259</td>\n",
       "      <td>3187.567871</td>\n",
       "      <td>3205.712483</td>\n",
       "      <td>1.138461</td>\n",
       "      <td>0.418219</td>\n",
       "      <td>0</td>\n",
       "      <td>0</td>\n",
       "      <td>NaN</td>\n",
       "    </tr>\n",
       "    <tr>\n",
       "      <th>2024-06-06 15:20:00+05:30</th>\n",
       "      <td>3184.850098</td>\n",
       "      <td>3189.000000</td>\n",
       "      <td>3178.000000</td>\n",
       "      <td>3182.949951</td>\n",
       "      <td>3182.949951</td>\n",
       "      <td>59031</td>\n",
       "      <td>3185.267343</td>\n",
       "      <td>48.928336</td>\n",
       "      <td>3169.055658</td>\n",
       "      <td>3186.578578</td>\n",
       "      <td>3204.101499</td>\n",
       "      <td>1.099795</td>\n",
       "      <td>0.396461</td>\n",
       "      <td>0</td>\n",
       "      <td>0</td>\n",
       "      <td>NaN</td>\n",
       "    </tr>\n",
       "    <tr>\n",
       "      <th>2024-06-06 15:25:00+05:30</th>\n",
       "      <td>3183.000000</td>\n",
       "      <td>3187.000000</td>\n",
       "      <td>3182.050049</td>\n",
       "      <td>3186.000000</td>\n",
       "      <td>3186.000000</td>\n",
       "      <td>33773</td>\n",
       "      <td>3185.265902</td>\n",
       "      <td>50.640913</td>\n",
       "      <td>3169.383183</td>\n",
       "      <td>3185.721436</td>\n",
       "      <td>3202.059688</td>\n",
       "      <td>1.025718</td>\n",
       "      <td>0.508525</td>\n",
       "      <td>0</td>\n",
       "      <td>0</td>\n",
       "      <td>NaN</td>\n",
       "    </tr>\n",
       "  </tbody>\n",
       "</table>\n",
       "<p>2245 rows × 16 columns</p>\n",
       "</div>"
      ],
      "text/plain": [
       "                                  Open         High          Low        Close  \\\n",
       "Datetime                                                                        \n",
       "2024-04-24 09:15:00+05:30  3068.149902  3075.399902  3065.100098  3069.800049   \n",
       "2024-04-24 09:20:00+05:30  3069.000000  3080.050049  3068.500000  3077.100098   \n",
       "2024-04-24 09:25:00+05:30  3077.149902  3079.399902  3075.149902  3077.949951   \n",
       "2024-04-24 09:30:00+05:30  3077.199951  3085.000000  3075.750000  3077.399902   \n",
       "2024-04-24 09:35:00+05:30  3076.750000  3079.050049  3075.050049  3075.050049   \n",
       "...                                ...          ...          ...          ...   \n",
       "2024-06-06 15:05:00+05:30  3189.399902  3190.000000  3179.050049  3184.399902   \n",
       "2024-06-06 15:10:00+05:30  3184.399902  3189.899902  3181.199951  3183.000000   \n",
       "2024-06-06 15:15:00+05:30  3182.000000  3190.000000  3171.250000  3184.600098   \n",
       "2024-06-06 15:20:00+05:30  3184.850098  3189.000000  3178.000000  3182.949951   \n",
       "2024-06-06 15:25:00+05:30  3183.000000  3187.000000  3182.050049  3186.000000   \n",
       "\n",
       "                             Adj Close  Volume         VWAP        RSI  \\\n",
       "Datetime                                                                 \n",
       "2024-04-24 09:15:00+05:30  3069.800049       0          NaN        NaN   \n",
       "2024-04-24 09:20:00+05:30  3077.100098   17824  3075.216715        NaN   \n",
       "2024-04-24 09:25:00+05:30  3077.949951    9450  3076.007808        NaN   \n",
       "2024-04-24 09:30:00+05:30  3077.399902   20246  3077.445944        NaN   \n",
       "2024-04-24 09:35:00+05:30  3075.050049    4992  3077.344933        NaN   \n",
       "...                                ...     ...          ...        ...   \n",
       "2024-06-06 15:05:00+05:30  3184.399902   52913  3185.347652  49.647987   \n",
       "2024-06-06 15:10:00+05:30  3183.000000   61419  3185.340659  48.973877   \n",
       "2024-06-06 15:15:00+05:30  3184.600098   91002  3185.287268  49.804815   \n",
       "2024-06-06 15:20:00+05:30  3182.949951   59031  3185.267343  48.928336   \n",
       "2024-06-06 15:25:00+05:30  3186.000000   33773  3185.265902  50.640913   \n",
       "\n",
       "                            BBL_14_2.0   BBM_14_2.0   BBU_14_2.0  BBB_14_2.0  \\\n",
       "Datetime                                                                       \n",
       "2024-04-24 09:15:00+05:30          NaN          NaN          NaN         NaN   \n",
       "2024-04-24 09:20:00+05:30          NaN          NaN          NaN         NaN   \n",
       "2024-04-24 09:25:00+05:30          NaN          NaN          NaN         NaN   \n",
       "2024-04-24 09:30:00+05:30          NaN          NaN          NaN         NaN   \n",
       "2024-04-24 09:35:00+05:30          NaN          NaN          NaN         NaN   \n",
       "...                                ...          ...          ...         ...   \n",
       "2024-06-06 15:05:00+05:30  3170.555719  3189.328578  3208.101438    1.177230   \n",
       "2024-06-06 15:10:00+05:30  3169.886250  3188.250000  3206.613750    1.151964   \n",
       "2024-06-06 15:15:00+05:30  3169.423259  3187.567871  3205.712483    1.138461   \n",
       "2024-06-06 15:20:00+05:30  3169.055658  3186.578578  3204.101499    1.099795   \n",
       "2024-06-06 15:25:00+05:30  3169.383183  3185.721436  3202.059688    1.025718   \n",
       "\n",
       "                           BBP_14_2.0  VWAPSignal  TotalSignal  pointposbreak  \n",
       "Datetime                                                                       \n",
       "2024-04-24 09:15:00+05:30         NaN           0            0            NaN  \n",
       "2024-04-24 09:20:00+05:30         NaN           0            0            NaN  \n",
       "2024-04-24 09:25:00+05:30         NaN           0            0            NaN  \n",
       "2024-04-24 09:30:00+05:30         NaN           0            0            NaN  \n",
       "2024-04-24 09:35:00+05:30         NaN           0            0            NaN  \n",
       "...                               ...         ...          ...            ...  \n",
       "2024-06-06 15:05:00+05:30    0.368729           0            0            NaN  \n",
       "2024-06-06 15:10:00+05:30    0.357055           0            0            NaN  \n",
       "2024-06-06 15:15:00+05:30    0.418219           0            0            NaN  \n",
       "2024-06-06 15:20:00+05:30    0.396461           0            0            NaN  \n",
       "2024-06-06 15:25:00+05:30    0.508525           0            0            NaN  \n",
       "\n",
       "[2245 rows x 16 columns]"
      ]
     },
     "execution_count": 25,
     "metadata": {},
     "output_type": "execute_result"
    }
   ],
   "source": [
    "df"
   ]
  },
  {
   "cell_type": "code",
   "execution_count": 21,
   "id": "0d0e2a76",
   "metadata": {
    "scrolled": false
   },
   "outputs": [
    {
     "data": {
      "application/vnd.plotly.v1+json": {
       "config": {
        "plotlyServerURL": "https://plot.ly"
       },
       "data": [
        {
         "close": [],
         "high": [],
         "low": [],
         "open": [],
         "type": "candlestick",
         "x": []
        },
        {
         "line": {
          "color": "blue",
          "width": 1
         },
         "name": "VWAP",
         "type": "scatter",
         "x": [],
         "y": []
        },
        {
         "line": {
          "color": "green",
          "width": 1
         },
         "name": "BBL",
         "type": "scatter",
         "x": [],
         "y": []
        },
        {
         "line": {
          "color": "green",
          "width": 1
         },
         "name": "BBU",
         "type": "scatter",
         "x": [],
         "y": []
        },
        {
         "marker": {
          "color": "MediumPurple",
          "size": 10
         },
         "mode": "markers",
         "name": "Signal",
         "type": "scatter",
         "x": [],
         "y": []
        }
       ],
       "layout": {
        "template": {
         "data": {
          "bar": [
           {
            "error_x": {
             "color": "#2a3f5f"
            },
            "error_y": {
             "color": "#2a3f5f"
            },
            "marker": {
             "line": {
              "color": "#E5ECF6",
              "width": 0.5
             },
             "pattern": {
              "fillmode": "overlay",
              "size": 10,
              "solidity": 0.2
             }
            },
            "type": "bar"
           }
          ],
          "barpolar": [
           {
            "marker": {
             "line": {
              "color": "#E5ECF6",
              "width": 0.5
             },
             "pattern": {
              "fillmode": "overlay",
              "size": 10,
              "solidity": 0.2
             }
            },
            "type": "barpolar"
           }
          ],
          "carpet": [
           {
            "aaxis": {
             "endlinecolor": "#2a3f5f",
             "gridcolor": "white",
             "linecolor": "white",
             "minorgridcolor": "white",
             "startlinecolor": "#2a3f5f"
            },
            "baxis": {
             "endlinecolor": "#2a3f5f",
             "gridcolor": "white",
             "linecolor": "white",
             "minorgridcolor": "white",
             "startlinecolor": "#2a3f5f"
            },
            "type": "carpet"
           }
          ],
          "choropleth": [
           {
            "colorbar": {
             "outlinewidth": 0,
             "ticks": ""
            },
            "type": "choropleth"
           }
          ],
          "contour": [
           {
            "colorbar": {
             "outlinewidth": 0,
             "ticks": ""
            },
            "colorscale": [
             [
              0,
              "#0d0887"
             ],
             [
              0.1111111111111111,
              "#46039f"
             ],
             [
              0.2222222222222222,
              "#7201a8"
             ],
             [
              0.3333333333333333,
              "#9c179e"
             ],
             [
              0.4444444444444444,
              "#bd3786"
             ],
             [
              0.5555555555555556,
              "#d8576b"
             ],
             [
              0.6666666666666666,
              "#ed7953"
             ],
             [
              0.7777777777777778,
              "#fb9f3a"
             ],
             [
              0.8888888888888888,
              "#fdca26"
             ],
             [
              1,
              "#f0f921"
             ]
            ],
            "type": "contour"
           }
          ],
          "contourcarpet": [
           {
            "colorbar": {
             "outlinewidth": 0,
             "ticks": ""
            },
            "type": "contourcarpet"
           }
          ],
          "heatmap": [
           {
            "colorbar": {
             "outlinewidth": 0,
             "ticks": ""
            },
            "colorscale": [
             [
              0,
              "#0d0887"
             ],
             [
              0.1111111111111111,
              "#46039f"
             ],
             [
              0.2222222222222222,
              "#7201a8"
             ],
             [
              0.3333333333333333,
              "#9c179e"
             ],
             [
              0.4444444444444444,
              "#bd3786"
             ],
             [
              0.5555555555555556,
              "#d8576b"
             ],
             [
              0.6666666666666666,
              "#ed7953"
             ],
             [
              0.7777777777777778,
              "#fb9f3a"
             ],
             [
              0.8888888888888888,
              "#fdca26"
             ],
             [
              1,
              "#f0f921"
             ]
            ],
            "type": "heatmap"
           }
          ],
          "heatmapgl": [
           {
            "colorbar": {
             "outlinewidth": 0,
             "ticks": ""
            },
            "colorscale": [
             [
              0,
              "#0d0887"
             ],
             [
              0.1111111111111111,
              "#46039f"
             ],
             [
              0.2222222222222222,
              "#7201a8"
             ],
             [
              0.3333333333333333,
              "#9c179e"
             ],
             [
              0.4444444444444444,
              "#bd3786"
             ],
             [
              0.5555555555555556,
              "#d8576b"
             ],
             [
              0.6666666666666666,
              "#ed7953"
             ],
             [
              0.7777777777777778,
              "#fb9f3a"
             ],
             [
              0.8888888888888888,
              "#fdca26"
             ],
             [
              1,
              "#f0f921"
             ]
            ],
            "type": "heatmapgl"
           }
          ],
          "histogram": [
           {
            "marker": {
             "pattern": {
              "fillmode": "overlay",
              "size": 10,
              "solidity": 0.2
             }
            },
            "type": "histogram"
           }
          ],
          "histogram2d": [
           {
            "colorbar": {
             "outlinewidth": 0,
             "ticks": ""
            },
            "colorscale": [
             [
              0,
              "#0d0887"
             ],
             [
              0.1111111111111111,
              "#46039f"
             ],
             [
              0.2222222222222222,
              "#7201a8"
             ],
             [
              0.3333333333333333,
              "#9c179e"
             ],
             [
              0.4444444444444444,
              "#bd3786"
             ],
             [
              0.5555555555555556,
              "#d8576b"
             ],
             [
              0.6666666666666666,
              "#ed7953"
             ],
             [
              0.7777777777777778,
              "#fb9f3a"
             ],
             [
              0.8888888888888888,
              "#fdca26"
             ],
             [
              1,
              "#f0f921"
             ]
            ],
            "type": "histogram2d"
           }
          ],
          "histogram2dcontour": [
           {
            "colorbar": {
             "outlinewidth": 0,
             "ticks": ""
            },
            "colorscale": [
             [
              0,
              "#0d0887"
             ],
             [
              0.1111111111111111,
              "#46039f"
             ],
             [
              0.2222222222222222,
              "#7201a8"
             ],
             [
              0.3333333333333333,
              "#9c179e"
             ],
             [
              0.4444444444444444,
              "#bd3786"
             ],
             [
              0.5555555555555556,
              "#d8576b"
             ],
             [
              0.6666666666666666,
              "#ed7953"
             ],
             [
              0.7777777777777778,
              "#fb9f3a"
             ],
             [
              0.8888888888888888,
              "#fdca26"
             ],
             [
              1,
              "#f0f921"
             ]
            ],
            "type": "histogram2dcontour"
           }
          ],
          "mesh3d": [
           {
            "colorbar": {
             "outlinewidth": 0,
             "ticks": ""
            },
            "type": "mesh3d"
           }
          ],
          "parcoords": [
           {
            "line": {
             "colorbar": {
              "outlinewidth": 0,
              "ticks": ""
             }
            },
            "type": "parcoords"
           }
          ],
          "pie": [
           {
            "automargin": true,
            "type": "pie"
           }
          ],
          "scatter": [
           {
            "fillpattern": {
             "fillmode": "overlay",
             "size": 10,
             "solidity": 0.2
            },
            "type": "scatter"
           }
          ],
          "scatter3d": [
           {
            "line": {
             "colorbar": {
              "outlinewidth": 0,
              "ticks": ""
             }
            },
            "marker": {
             "colorbar": {
              "outlinewidth": 0,
              "ticks": ""
             }
            },
            "type": "scatter3d"
           }
          ],
          "scattercarpet": [
           {
            "marker": {
             "colorbar": {
              "outlinewidth": 0,
              "ticks": ""
             }
            },
            "type": "scattercarpet"
           }
          ],
          "scattergeo": [
           {
            "marker": {
             "colorbar": {
              "outlinewidth": 0,
              "ticks": ""
             }
            },
            "type": "scattergeo"
           }
          ],
          "scattergl": [
           {
            "marker": {
             "colorbar": {
              "outlinewidth": 0,
              "ticks": ""
             }
            },
            "type": "scattergl"
           }
          ],
          "scattermapbox": [
           {
            "marker": {
             "colorbar": {
              "outlinewidth": 0,
              "ticks": ""
             }
            },
            "type": "scattermapbox"
           }
          ],
          "scatterpolar": [
           {
            "marker": {
             "colorbar": {
              "outlinewidth": 0,
              "ticks": ""
             }
            },
            "type": "scatterpolar"
           }
          ],
          "scatterpolargl": [
           {
            "marker": {
             "colorbar": {
              "outlinewidth": 0,
              "ticks": ""
             }
            },
            "type": "scatterpolargl"
           }
          ],
          "scatterternary": [
           {
            "marker": {
             "colorbar": {
              "outlinewidth": 0,
              "ticks": ""
             }
            },
            "type": "scatterternary"
           }
          ],
          "surface": [
           {
            "colorbar": {
             "outlinewidth": 0,
             "ticks": ""
            },
            "colorscale": [
             [
              0,
              "#0d0887"
             ],
             [
              0.1111111111111111,
              "#46039f"
             ],
             [
              0.2222222222222222,
              "#7201a8"
             ],
             [
              0.3333333333333333,
              "#9c179e"
             ],
             [
              0.4444444444444444,
              "#bd3786"
             ],
             [
              0.5555555555555556,
              "#d8576b"
             ],
             [
              0.6666666666666666,
              "#ed7953"
             ],
             [
              0.7777777777777778,
              "#fb9f3a"
             ],
             [
              0.8888888888888888,
              "#fdca26"
             ],
             [
              1,
              "#f0f921"
             ]
            ],
            "type": "surface"
           }
          ],
          "table": [
           {
            "cells": {
             "fill": {
              "color": "#EBF0F8"
             },
             "line": {
              "color": "white"
             }
            },
            "header": {
             "fill": {
              "color": "#C8D4E3"
             },
             "line": {
              "color": "white"
             }
            },
            "type": "table"
           }
          ]
         },
         "layout": {
          "annotationdefaults": {
           "arrowcolor": "#2a3f5f",
           "arrowhead": 0,
           "arrowwidth": 1
          },
          "autotypenumbers": "strict",
          "coloraxis": {
           "colorbar": {
            "outlinewidth": 0,
            "ticks": ""
           }
          },
          "colorscale": {
           "diverging": [
            [
             0,
             "#8e0152"
            ],
            [
             0.1,
             "#c51b7d"
            ],
            [
             0.2,
             "#de77ae"
            ],
            [
             0.3,
             "#f1b6da"
            ],
            [
             0.4,
             "#fde0ef"
            ],
            [
             0.5,
             "#f7f7f7"
            ],
            [
             0.6,
             "#e6f5d0"
            ],
            [
             0.7,
             "#b8e186"
            ],
            [
             0.8,
             "#7fbc41"
            ],
            [
             0.9,
             "#4d9221"
            ],
            [
             1,
             "#276419"
            ]
           ],
           "sequential": [
            [
             0,
             "#0d0887"
            ],
            [
             0.1111111111111111,
             "#46039f"
            ],
            [
             0.2222222222222222,
             "#7201a8"
            ],
            [
             0.3333333333333333,
             "#9c179e"
            ],
            [
             0.4444444444444444,
             "#bd3786"
            ],
            [
             0.5555555555555556,
             "#d8576b"
            ],
            [
             0.6666666666666666,
             "#ed7953"
            ],
            [
             0.7777777777777778,
             "#fb9f3a"
            ],
            [
             0.8888888888888888,
             "#fdca26"
            ],
            [
             1,
             "#f0f921"
            ]
           ],
           "sequentialminus": [
            [
             0,
             "#0d0887"
            ],
            [
             0.1111111111111111,
             "#46039f"
            ],
            [
             0.2222222222222222,
             "#7201a8"
            ],
            [
             0.3333333333333333,
             "#9c179e"
            ],
            [
             0.4444444444444444,
             "#bd3786"
            ],
            [
             0.5555555555555556,
             "#d8576b"
            ],
            [
             0.6666666666666666,
             "#ed7953"
            ],
            [
             0.7777777777777778,
             "#fb9f3a"
            ],
            [
             0.8888888888888888,
             "#fdca26"
            ],
            [
             1,
             "#f0f921"
            ]
           ]
          },
          "colorway": [
           "#636efa",
           "#EF553B",
           "#00cc96",
           "#ab63fa",
           "#FFA15A",
           "#19d3f3",
           "#FF6692",
           "#B6E880",
           "#FF97FF",
           "#FECB52"
          ],
          "font": {
           "color": "#2a3f5f"
          },
          "geo": {
           "bgcolor": "white",
           "lakecolor": "white",
           "landcolor": "#E5ECF6",
           "showlakes": true,
           "showland": true,
           "subunitcolor": "white"
          },
          "hoverlabel": {
           "align": "left"
          },
          "hovermode": "closest",
          "mapbox": {
           "style": "light"
          },
          "paper_bgcolor": "white",
          "plot_bgcolor": "#E5ECF6",
          "polar": {
           "angularaxis": {
            "gridcolor": "white",
            "linecolor": "white",
            "ticks": ""
           },
           "bgcolor": "#E5ECF6",
           "radialaxis": {
            "gridcolor": "white",
            "linecolor": "white",
            "ticks": ""
           }
          },
          "scene": {
           "xaxis": {
            "backgroundcolor": "#E5ECF6",
            "gridcolor": "white",
            "gridwidth": 2,
            "linecolor": "white",
            "showbackground": true,
            "ticks": "",
            "zerolinecolor": "white"
           },
           "yaxis": {
            "backgroundcolor": "#E5ECF6",
            "gridcolor": "white",
            "gridwidth": 2,
            "linecolor": "white",
            "showbackground": true,
            "ticks": "",
            "zerolinecolor": "white"
           },
           "zaxis": {
            "backgroundcolor": "#E5ECF6",
            "gridcolor": "white",
            "gridwidth": 2,
            "linecolor": "white",
            "showbackground": true,
            "ticks": "",
            "zerolinecolor": "white"
           }
          },
          "shapedefaults": {
           "line": {
            "color": "#2a3f5f"
           }
          },
          "ternary": {
           "aaxis": {
            "gridcolor": "white",
            "linecolor": "white",
            "ticks": ""
           },
           "baxis": {
            "gridcolor": "white",
            "linecolor": "white",
            "ticks": ""
           },
           "bgcolor": "#E5ECF6",
           "caxis": {
            "gridcolor": "white",
            "linecolor": "white",
            "ticks": ""
           }
          },
          "title": {
           "x": 0.05
          },
          "xaxis": {
           "automargin": true,
           "gridcolor": "white",
           "linecolor": "white",
           "ticks": "",
           "title": {
            "standoff": 15
           },
           "zerolinecolor": "white",
           "zerolinewidth": 2
          },
          "yaxis": {
           "automargin": true,
           "gridcolor": "white",
           "linecolor": "white",
           "ticks": "",
           "title": {
            "standoff": 15
           },
           "zerolinecolor": "white",
           "zerolinewidth": 2
          }
         }
        }
       }
      }
     },
     "metadata": {},
     "output_type": "display_data"
    }
   ],
   "source": [
    "import plotly.graph_objects as go\n",
    "from plotly.subplots import make_subplots\n",
    "from datetime import datetime\n",
    "st=10400\n",
    "dfpl = df[st:st+350]\n",
    "dfpl.reset_index(inplace=True)\n",
    "fig = go.Figure(data=[go.Candlestick(x=dfpl.index,\n",
    "                open=dfpl['Open'],\n",
    "                high=dfpl['High'],\n",
    "                low=dfpl['Low'],\n",
    "                close=dfpl['Close']),\n",
    "                go.Scatter(x=dfpl.index, y=dfpl.VWAP, \n",
    "                           line=dict(color='blue', width=1), \n",
    "                           name=\"VWAP\"), \n",
    "                go.Scatter(x=dfpl.index, y=dfpl['BBL_14_2.0'], \n",
    "                           line=dict(color='green', width=1), \n",
    "                           name=\"BBL\"),\n",
    "                go.Scatter(x=dfpl.index, y=dfpl['BBU_14_2.0'], \n",
    "                           line=dict(color='green', width=1), \n",
    "                           name=\"BBU\")])\n",
    "\n",
    "fig.add_scatter(x=dfpl.index, y=dfpl['pointposbreak'], mode=\"markers\",\n",
    "                marker=dict(size=10, color=\"MediumPurple\"),\n",
    "                name=\"Signal\")\n",
    "fig.show()"
   ]
  },
  {
   "cell_type": "code",
   "execution_count": 22,
   "id": "6083727a",
   "metadata": {},
   "outputs": [],
   "source": [
    "dfpl = df[:75000].copy()\n",
    "import pandas_ta as ta\n",
    "dfpl['ATR']=ta.atr(dfpl.High, dfpl.Low, dfpl.Close, length=7)\n",
    "#help(ta.atr)\n",
    "def SIGNAL():\n",
    "    return dfpl.TotalSignal"
   ]
  },
  {
   "cell_type": "code",
   "execution_count": 23,
   "id": "81219ec4",
   "metadata": {},
   "outputs": [
    {
     "name": "stderr",
     "output_type": "stream",
     "text": [
      "C:\\Users\\Ankit\\AppData\\Local\\Temp\\ipykernel_14680\\2352820476.py:32: UserWarning:\n",
      "\n",
      "Some prices are larger than initial cash value. Note that fractional trading is not supported. If you want to trade Bitcoin, increase initial cash, or trade μBTC or satoshis instead (GH-134).\n",
      "\n"
     ]
    },
    {
     "data": {
      "text/plain": [
       "Start                     2024-04-24 09:15...\n",
       "End                       2024-06-06 15:25...\n",
       "Duration                     43 days 06:10:00\n",
       "Exposure Time [%]                         0.0\n",
       "Equity Final [$]                        100.0\n",
       "Equity Peak [$]                         100.0\n",
       "Return [%]                                0.0\n",
       "Buy & Hold Return [%]                3.785261\n",
       "Return (Ann.) [%]                         0.0\n",
       "Volatility (Ann.) [%]                     0.0\n",
       "Sharpe Ratio                              NaN\n",
       "Sortino Ratio                             NaN\n",
       "Calmar Ratio                              NaN\n",
       "Max. Drawdown [%]                        -0.0\n",
       "Avg. Drawdown [%]                         NaN\n",
       "Max. Drawdown Duration                    NaN\n",
       "Avg. Drawdown Duration                    NaN\n",
       "# Trades                                    0\n",
       "Win Rate [%]                              NaN\n",
       "Best Trade [%]                            NaN\n",
       "Worst Trade [%]                           NaN\n",
       "Avg. Trade [%]                            NaN\n",
       "Max. Trade Duration                       NaN\n",
       "Avg. Trade Duration                       NaN\n",
       "Profit Factor                             NaN\n",
       "Expectancy [%]                            NaN\n",
       "SQN                                       NaN\n",
       "_strategy                             MyStrat\n",
       "_equity_curve                             ...\n",
       "_trades                   Empty DataFrame\n",
       "...\n",
       "dtype: object"
      ]
     },
     "execution_count": 23,
     "metadata": {},
     "output_type": "execute_result"
    }
   ],
   "source": [
    "from backtesting import Strategy\n",
    "from backtesting import Backtest\n",
    "\n",
    "class MyStrat(Strategy):\n",
    "    initsize = 0.99\n",
    "    mysize = initsize\n",
    "    def init(self):\n",
    "        super().init()\n",
    "        self.signal1 = self.I(SIGNAL)\n",
    "\n",
    "    def next(self):\n",
    "        super().next()\n",
    "        slatr = 1.2*self.data.ATR[-1]\n",
    "        TPSLRatio = 1.5\n",
    "\n",
    "        if len(self.trades)>0:\n",
    "            if self.trades[-1].is_long and self.data.RSI[-1]>=90:\n",
    "                self.trades[-1].close()\n",
    "            elif self.trades[-1].is_short and self.data.RSI[-1]<=10:\n",
    "                self.trades[-1].close()\n",
    "        \n",
    "        if self.signal1==2 and len(self.trades)==0:\n",
    "            sl1 = self.data.Close[-1] - slatr\n",
    "            tp1 = self.data.Close[-1] + slatr*TPSLRatio\n",
    "            self.buy(sl=sl1, tp=tp1, size=self.mysize)\n",
    "        \n",
    "        elif self.signal1==1 and len(self.trades)==0:         \n",
    "            sl1 = self.data.Close[-1] + slatr\n",
    "            tp1 = self.data.Close[-1] - slatr*TPSLRatio\n",
    "            self.sell(sl=sl1, tp=tp1, size=self.mysize)\n",
    "\n",
    "bt = Backtest(dfpl, MyStrat, cash=100, margin=1/10, commission=0.00)\n",
    "stat = bt.run()\n",
    "stat"
   ]
  },
  {
   "cell_type": "code",
   "execution_count": 24,
   "id": "16396f6c",
   "metadata": {
    "scrolled": true
   },
   "outputs": [
    {
     "name": "stderr",
     "output_type": "stream",
     "text": [
      "BokehDeprecationWarning: Passing lists of formats for DatetimeTickFormatter scales was deprecated in Bokeh 3.0. Configure a single string format for each scale\n",
      "C:\\Users\\Ankit\\AppData\\Roaming\\Python\\Python310\\site-packages\\backtesting\\_plotting.py:250: UserWarning:\n",
      "\n",
      "DatetimeFormatter scales now only accept a single format. Using the first provided: '%d %b'\n",
      "\n",
      "BokehDeprecationWarning: Passing lists of formats for DatetimeTickFormatter scales was deprecated in Bokeh 3.0. Configure a single string format for each scale\n",
      "C:\\Users\\Ankit\\AppData\\Roaming\\Python\\Python310\\site-packages\\backtesting\\_plotting.py:250: UserWarning:\n",
      "\n",
      "DatetimeFormatter scales now only accept a single format. Using the first provided: '%m/%Y'\n",
      "\n",
      "C:\\Users\\Ankit\\AppData\\Roaming\\Python\\Python310\\site-packages\\backtesting\\_plotting.py:659: UserWarning:\n",
      "\n",
      "found multiple competing values for 'toolbar.active_drag' property; using the latest value\n",
      "\n",
      "C:\\Users\\Ankit\\AppData\\Roaming\\Python\\Python310\\site-packages\\backtesting\\_plotting.py:659: UserWarning:\n",
      "\n",
      "found multiple competing values for 'toolbar.active_scroll' property; using the latest value\n",
      "\n"
     ]
    },
    {
     "data": {
      "text/html": [
       "<div style=\"display: table;\"><div style=\"display: table-row;\"><div style=\"display: table-cell;\"><b title=\"bokeh.models.plots.GridPlot\">GridPlot</b>(</div><div style=\"display: table-cell;\">id&nbsp;=&nbsp;'p1199', <span id=\"p1223\" style=\"cursor: pointer;\">&hellip;)</span></div></div><div class=\"p1222\" style=\"display: none;\"><div style=\"display: table-cell;\"></div><div style=\"display: table-cell;\">align&nbsp;=&nbsp;'auto',</div></div><div class=\"p1222\" style=\"display: none;\"><div style=\"display: table-cell;\"></div><div style=\"display: table-cell;\">aspect_ratio&nbsp;=&nbsp;None,</div></div><div class=\"p1222\" style=\"display: none;\"><div style=\"display: table-cell;\"></div><div style=\"display: table-cell;\">children&nbsp;=&nbsp;[(figure(id='p1002', ...), 0, 0), (figure(id='p1046', ...), 1, 0), (figure(id='p1141', ...), 2, 0)],</div></div><div class=\"p1222\" style=\"display: none;\"><div style=\"display: table-cell;\"></div><div style=\"display: table-cell;\">cols&nbsp;=&nbsp;None,</div></div><div class=\"p1222\" style=\"display: none;\"><div style=\"display: table-cell;\"></div><div style=\"display: table-cell;\">context_menu&nbsp;=&nbsp;None,</div></div><div class=\"p1222\" style=\"display: none;\"><div style=\"display: table-cell;\"></div><div style=\"display: table-cell;\">css_classes&nbsp;=&nbsp;[],</div></div><div class=\"p1222\" style=\"display: none;\"><div style=\"display: table-cell;\"></div><div style=\"display: table-cell;\">css_variables&nbsp;=&nbsp;{},</div></div><div class=\"p1222\" style=\"display: none;\"><div style=\"display: table-cell;\"></div><div style=\"display: table-cell;\">disabled&nbsp;=&nbsp;False,</div></div><div class=\"p1222\" style=\"display: none;\"><div style=\"display: table-cell;\"></div><div style=\"display: table-cell;\">elements&nbsp;=&nbsp;[],</div></div><div class=\"p1222\" style=\"display: none;\"><div style=\"display: table-cell;\"></div><div style=\"display: table-cell;\">flow_mode&nbsp;=&nbsp;'block',</div></div><div class=\"p1222\" style=\"display: none;\"><div style=\"display: table-cell;\"></div><div style=\"display: table-cell;\">height&nbsp;=&nbsp;None,</div></div><div class=\"p1222\" style=\"display: none;\"><div style=\"display: table-cell;\"></div><div style=\"display: table-cell;\">height_policy&nbsp;=&nbsp;'auto',</div></div><div class=\"p1222\" style=\"display: none;\"><div style=\"display: table-cell;\"></div><div style=\"display: table-cell;\">js_event_callbacks&nbsp;=&nbsp;{},</div></div><div class=\"p1222\" style=\"display: none;\"><div style=\"display: table-cell;\"></div><div style=\"display: table-cell;\">js_property_callbacks&nbsp;=&nbsp;{},</div></div><div class=\"p1222\" style=\"display: none;\"><div style=\"display: table-cell;\"></div><div style=\"display: table-cell;\">margin&nbsp;=&nbsp;None,</div></div><div class=\"p1222\" style=\"display: none;\"><div style=\"display: table-cell;\"></div><div style=\"display: table-cell;\">max_height&nbsp;=&nbsp;None,</div></div><div class=\"p1222\" style=\"display: none;\"><div style=\"display: table-cell;\"></div><div style=\"display: table-cell;\">max_width&nbsp;=&nbsp;None,</div></div><div class=\"p1222\" style=\"display: none;\"><div style=\"display: table-cell;\"></div><div style=\"display: table-cell;\">min_height&nbsp;=&nbsp;None,</div></div><div class=\"p1222\" style=\"display: none;\"><div style=\"display: table-cell;\"></div><div style=\"display: table-cell;\">min_width&nbsp;=&nbsp;None,</div></div><div class=\"p1222\" style=\"display: none;\"><div style=\"display: table-cell;\"></div><div style=\"display: table-cell;\">name&nbsp;=&nbsp;None,</div></div><div class=\"p1222\" style=\"display: none;\"><div style=\"display: table-cell;\"></div><div style=\"display: table-cell;\">resizable&nbsp;=&nbsp;False,</div></div><div class=\"p1222\" style=\"display: none;\"><div style=\"display: table-cell;\"></div><div style=\"display: table-cell;\">rows&nbsp;=&nbsp;None,</div></div><div class=\"p1222\" style=\"display: none;\"><div style=\"display: table-cell;\"></div><div style=\"display: table-cell;\">sizing_mode&nbsp;=&nbsp;'stretch_width',</div></div><div class=\"p1222\" style=\"display: none;\"><div style=\"display: table-cell;\"></div><div style=\"display: table-cell;\">spacing&nbsp;=&nbsp;0,</div></div><div class=\"p1222\" style=\"display: none;\"><div style=\"display: table-cell;\"></div><div style=\"display: table-cell;\">styles&nbsp;=&nbsp;{},</div></div><div class=\"p1222\" style=\"display: none;\"><div style=\"display: table-cell;\"></div><div style=\"display: table-cell;\">stylesheets&nbsp;=&nbsp;[],</div></div><div class=\"p1222\" style=\"display: none;\"><div style=\"display: table-cell;\"></div><div style=\"display: table-cell;\">subscribed_events&nbsp;=&nbsp;PropertyValueSet(),</div></div><div class=\"p1222\" style=\"display: none;\"><div style=\"display: table-cell;\"></div><div style=\"display: table-cell;\">syncable&nbsp;=&nbsp;True,</div></div><div class=\"p1222\" style=\"display: none;\"><div style=\"display: table-cell;\"></div><div style=\"display: table-cell;\">tags&nbsp;=&nbsp;[],</div></div><div class=\"p1222\" style=\"display: none;\"><div style=\"display: table-cell;\"></div><div style=\"display: table-cell;\">toolbar&nbsp;=&nbsp;Toolbar(id='p1198', ...),</div></div><div class=\"p1222\" style=\"display: none;\"><div style=\"display: table-cell;\"></div><div style=\"display: table-cell;\">toolbar_location&nbsp;=&nbsp;'right',</div></div><div class=\"p1222\" style=\"display: none;\"><div style=\"display: table-cell;\"></div><div style=\"display: table-cell;\">visible&nbsp;=&nbsp;True,</div></div><div class=\"p1222\" style=\"display: none;\"><div style=\"display: table-cell;\"></div><div style=\"display: table-cell;\">width&nbsp;=&nbsp;None,</div></div><div class=\"p1222\" style=\"display: none;\"><div style=\"display: table-cell;\"></div><div style=\"display: table-cell;\">width_policy&nbsp;=&nbsp;'auto')</div></div></div>\n",
       "<script>\n",
       "(function() {\n",
       "  let expanded = false;\n",
       "  const ellipsis = document.getElementById(\"p1223\");\n",
       "  ellipsis.addEventListener(\"click\", function() {\n",
       "    const rows = document.getElementsByClassName(\"p1222\");\n",
       "    for (let i = 0; i < rows.length; i++) {\n",
       "      const el = rows[i];\n",
       "      el.style.display = expanded ? \"none\" : \"table-row\";\n",
       "    }\n",
       "    ellipsis.innerHTML = expanded ? \"&hellip;)\" : \"&lsaquo;&lsaquo;&lsaquo;\";\n",
       "    expanded = !expanded;\n",
       "  });\n",
       "})();\n",
       "</script>\n"
      ],
      "text/plain": [
       "GridPlot(id='p1199', ...)"
      ]
     },
     "execution_count": 24,
     "metadata": {},
     "output_type": "execute_result"
    }
   ],
   "source": [
    "bt.plot(show_legend=False)"
   ]
  },
  {
   "cell_type": "code",
   "execution_count": null,
   "id": "1efd22a2",
   "metadata": {},
   "outputs": [],
   "source": []
  }
 ],
 "metadata": {
  "kernelspec": {
   "display_name": "Python 3 (ipykernel)",
   "language": "python",
   "name": "python3"
  },
  "language_info": {
   "codemirror_mode": {
    "name": "ipython",
    "version": 3
   },
   "file_extension": ".py",
   "mimetype": "text/x-python",
   "name": "python",
   "nbconvert_exporter": "python",
   "pygments_lexer": "ipython3",
   "version": "3.10.11"
  }
 },
 "nbformat": 4,
 "nbformat_minor": 5
}
