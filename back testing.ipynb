{
 "cells": [
  {
   "cell_type": "code",
   "execution_count": null,
   "metadata": {},
   "outputs": [],
   "source": [
    "\n",
    "\n",
    "class backtesting:\n",
    "\n",
    "    def __init__(self):\n",
    "        self.holding = False\n",
    "        self.profit = 0\n",
    "        self.qty = 0\n",
    "        self.buy_price = 0\n",
    "        self.sell_price = 0\n",
    "\n",
    "    def buy_or_sell(self,signal):\n",
    "        if signal==1:\n",
    "            print(\"Got Signal to Buy\")\n",
    "            if self.holding:\n",
    "                print(\"Got singal to buy but Can not buy stock already bought\")\n",
    "            else:\n",
    "                print(f\"Buying the Stock Going long at {self.price} : Qty {self.qty}\")\n",
    "        elif signal==-1:\n",
    "            print(\"Got Signal to Sell\")\n",
    "            if self.holding:\n",
    "                profit_per_unit = self.sell_price-self.buy_price\n",
    "                total_profit = self.qty*profit_per_unit\n",
    "                self.profit += total_profit\n",
    "\n",
    "\n",
    "                print(f\"Got singal to sell. Selling stock at {self.price} : Qty {self.qty}\")\n",
    "                print(f\"Booked a profit of per unit{profit_per_unit}\")\n",
    "                print(f'Total profit : {total_profit}')\n",
    "                \n",
    "\n",
    "            else:\n",
    "                print(\"Buying the Stock\")\n",
    "        elif signal==0:\n",
    "            print(\"Got signal 0\")\n",
    "        else:\n",
    "            print(f'got irregular signal signal:{signal}')\n",
    "\n",
    "\n",
    "        \n",
    "\n",
    "\n"
   ]
  }
 ],
 "metadata": {
  "language_info": {
   "name": "python"
  }
 },
 "nbformat": 4,
 "nbformat_minor": 2
}
