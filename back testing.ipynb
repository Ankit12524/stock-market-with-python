{
 "cells": [
  {
   "cell_type": "code",
   "execution_count": null,
   "metadata": {},
   "outputs": [],
   "source": [
    "\n",
    "\n",
    "class backtesting:\n",
    "\n",
    "    def __init__(self):\n",
    "        self.holding = False\n",
    "        self.profit = 0\n",
    "        self.qty = 0\n",
    "        self.buy_price = 0\n",
    "\n",
    "    def buy_or_sell(self,signal):\n",
    "        if signal==1:\n",
    "            print(\"Got Signal to Buy\")\n",
    "            if self.holding:\n",
    "                print(\"Got singal to buy but Can not buy stock already bought\")\n",
    "            else:\n",
    "                print(\"Buying the Stock Going long at {price} : Qty {qty}\")\n",
    "        elif signal==-1:\n",
    "            print(\"Got Signal to Sell\")\n",
    "            if self.holding:\n",
    "                print(\"Got singal to sell. Selling stock at {price} : Qty {qty}\")\n",
    "                print(\"Booked a profit of {}\")\n",
    "            else:\n",
    "                print(\"Buying the Stock\")\n",
    "\n",
    "        \n",
    "\n",
    "\n"
   ]
  }
 ],
 "metadata": {
  "language_info": {
   "name": "python"
  }
 },
 "nbformat": 4,
 "nbformat_minor": 2
}
