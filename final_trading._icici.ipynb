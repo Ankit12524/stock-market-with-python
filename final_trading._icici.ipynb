{
 "cells": [
  {
   "cell_type": "code",
   "execution_count": 1,
   "metadata": {},
   "outputs": [],
   "source": [
    "import pandas as pd\n",
    "import numpy as np\n",
    "from breeze_connect import BreezeConnect\n",
    "import datetime as dt\n",
    "import base64 \n",
    "import socketio\n",
    "from IPython.display import clear_output\n",
    "\n"
   ]
  },
  {
   "cell_type": "code",
   "execution_count": 2,
   "metadata": {},
   "outputs": [],
   "source": [
    "import logging\n",
    "\n",
    "# Create a logger object\n",
    "log = logging.getLogger()\n",
    "log.setLevel(logging.DEBUG)  # Set the root logger level to DEBUG\n",
    "\n",
    "# Create a file handler for saving all logs\n",
    "file_handler = logging.FileHandler('log_file.txt')\n",
    "file_handler.setLevel(logging.DEBUG)  # Save all levels to file\n",
    "\n",
    "# Create a console handler for printing logs to console\n",
    "console_handler = logging.StreamHandler()\n",
    "console_handler.setLevel(logging.INFO)  # Set console handler level to INFO\n",
    "\n",
    "# Define format for both handlers\n",
    "formatter = logging.Formatter('[%(asctime)s][%(levelname)s] - %(message)s')\n",
    "file_handler.setFormatter(formatter)\n",
    "console_handler.setFormatter(formatter)\n",
    "\n",
    "# Add the handlers to the logger\n",
    "log.addHandler(file_handler)\n",
    "log.addHandler(console_handler)\n",
    "\n",
    "\n"
   ]
  },
  {
   "cell_type": "code",
   "execution_count": 3,
   "metadata": {},
   "outputs": [],
   "source": [
    "with open('ticks.txt', 'a+') as file:\n",
    "        # Perform a for loop\n",
    "        file.write(f\"open,high,low,close\")\n",
    "\n",
    "def records_ticks(datetime,open,high,low,close):\n",
    "    # Open the file in append mode (create if it doesn't exist)\n",
    "    with open('ticks.txt', 'a+') as file:\n",
    "        # Perform a for loop\n",
    "        file.write(f\"{open},{high},{low},{close}\")"
   ]
  },
  {
   "cell_type": "code",
   "execution_count": 3,
   "metadata": {},
   "outputs": [],
   "source": [
    "Key = '73=63fT44781tY4C42L0i3491201v23A'\n",
    "Secret = '11331XF5fm6c5&Y3K2Q99lp28347480+'\n",
    "api_session = '42106901'"
   ]
  },
  {
   "cell_type": "code",
   "execution_count": 4,
   "metadata": {},
   "outputs": [],
   "source": [
    "\n",
    "# Initialize SDK\n",
    "\n",
    "breeze = BreezeConnect(api_key=Key)\n",
    "\n",
    "# Obtain your session key from https://api.icicidirect.com/apiuser/login?api_key=YOUR_API_KEY\n",
    "# Incase your api-key has special characters(like +,=,!) then encode the api key before using in the url as shown below.\n",
    "\n",
    "#print(\"https://api.icicidirect.com/apiuser/login?api_key=\"+urllib.parse.quote_plus(\"your_api_key\"))\n",
    "\n",
    "# Generate Session\n",
    "breeze.generate_session(api_secret=Secret,\n",
    "                        session_token=api_session)\n",
    "\n",
    "\n",
    "# Generate ISO8601 Date/DateTime String\n",
    "import datetime\n",
    "iso_date_string = datetime.datetime.strptime(\"07/12/2023\",\"%d/%m/%Y\").isoformat()[:10] + 'T05:30:00.000Z'\n",
    "iso_date_time_string = datetime.datetime.strptime(\"07/12/2023 23:59:59\",\"%d/%m/%Y %H:%M:%S\").isoformat()[:19] + '.000Z'"
   ]
  },
  {
   "cell_type": "code",
   "execution_count": 6,
   "metadata": {},
   "outputs": [],
   "source": [
    "stock = 'CNXBAN'\n",
    "s_type = 'futures'\n",
    "exp = '27-Mar-2024'"
   ]
  },
  {
   "cell_type": "code",
   "execution_count": 30,
   "metadata": {},
   "outputs": [
    {
     "name": "stdout",
     "output_type": "stream",
     "text": [
      "{'symbol': '1.1!500780', 'open': 295, 'last': 298.15, 'high': 300.9, 'low': 291.35, 'change': 3.98, 'bPrice': 297.8, 'bQty': 10, 'sPrice': 299, 'sQty': 10, 'ltq': 10, 'avgPrice': 295.07, 'quotes': 'Quotes Data', 'ttq': 4419, 'totalBuyQt': 4204, 'totalSellQ': 7165, 'ttv': '13.03L', 'trend': '', 'lowerCktLm': 229.4, 'upperCktLm': 344.1, 'ltt': 'Fri Jun  7 11:14:00 2024', 'close': 286.75, 'exchange': 'BSE', 'stock_name': 'ZUARI INDUSTRIES LIMITED'}\n"
     ]
    }
   ],
   "source": [
    "breeze.ws_connect()\n",
    "tick_data = []\n",
    "\n",
    "def on_ticks(ticks):\n",
    "    tick_data.append(ticks)\n",
    "    df = pd.DataFrame(tick_data)\n",
    "    clear_output()\n",
    "    print(ticks)\n",
    "\n",
    "breeze.on_ticks = on_ticks\n",
    "\n"
   ]
  },
  {
   "cell_type": "code",
   "execution_count": 9,
   "metadata": {},
   "outputs": [
    {
     "ename": "TypeError",
     "evalue": "cannot unpack non-iterable NoneType object",
     "output_type": "error",
     "traceback": [
      "\u001b[1;31m---------------------------------------------------------------------------\u001b[0m",
      "\u001b[1;31mTypeError\u001b[0m                                 Traceback (most recent call last)",
      "Cell \u001b[1;32mIn[9], line 1\u001b[0m\n\u001b[1;32m----> 1\u001b[0m \u001b[43mbreeze\u001b[49m\u001b[38;5;241;43m.\u001b[39;49m\u001b[43msubscribe_feeds\u001b[49m\u001b[43m(\u001b[49m\u001b[43mexchange_code\u001b[49m\u001b[38;5;241;43m=\u001b[39;49m\u001b[38;5;124;43m\"\u001b[39;49m\u001b[38;5;124;43mNFO\u001b[39;49m\u001b[38;5;124;43m\"\u001b[39;49m\u001b[43m,\u001b[49m\u001b[43m \u001b[49m\u001b[43mstock_code\u001b[49m\u001b[38;5;241;43m=\u001b[39;49m\u001b[38;5;124;43m\"\u001b[39;49m\u001b[38;5;124;43mZEEENT\u001b[39;49m\u001b[38;5;124;43m\"\u001b[39;49m\u001b[43m,\u001b[49m\u001b[43m \u001b[49m\u001b[43mproduct_type\u001b[49m\u001b[38;5;241;43m=\u001b[39;49m\u001b[38;5;124;43m\"\u001b[39;49m\u001b[38;5;124;43moptions\u001b[39;49m\u001b[38;5;124;43m\"\u001b[39;49m\u001b[43m,\u001b[49m\u001b[43m \u001b[49m\u001b[43mexpiry_date\u001b[49m\u001b[38;5;241;43m=\u001b[39;49m\u001b[38;5;124;43m\"\u001b[39;49m\u001b[38;5;124;43m27-Jun-2024\u001b[39;49m\u001b[38;5;124;43m\"\u001b[39;49m\u001b[43m,\u001b[49m\u001b[43m \u001b[49m\u001b[43mstrike_price\u001b[49m\u001b[38;5;241;43m=\u001b[39;49m\u001b[38;5;124;43m\"\u001b[39;49m\u001b[38;5;124;43m180\u001b[39;49m\u001b[38;5;124;43m\"\u001b[39;49m\u001b[43m,\u001b[49m\u001b[43m \u001b[49m\u001b[43mright\u001b[49m\u001b[38;5;241;43m=\u001b[39;49m\u001b[38;5;124;43m\"\u001b[39;49m\u001b[38;5;124;43mCall\u001b[39;49m\u001b[38;5;124;43m\"\u001b[39;49m\u001b[43m,\u001b[49m\u001b[43mget_exchange_quotes\u001b[49m\u001b[38;5;241;43m=\u001b[39;49m\u001b[38;5;28;43;01mFalse\u001b[39;49;00m\u001b[43m,\u001b[49m\u001b[43mget_market_depth\u001b[49m\u001b[38;5;241;43m=\u001b[39;49m\u001b[38;5;28;43;01mFalse\u001b[39;49;00m\u001b[43m)\u001b[49m\n",
      "File \u001b[1;32m~\\AppData\\Roaming\\Python\\Python310\\site-packages\\breeze_connect\\breeze_connect.py:384\u001b[0m, in \u001b[0;36mBreezeConnect.subscribe_feeds\u001b[1;34m(self, stock_token, exchange_code, stock_code, product_type, expiry_date, strike_price, right, interval, get_exchange_quotes, get_market_depth, get_order_notification)\u001b[0m\n\u001b[0;32m    382\u001b[0m     \u001b[38;5;28;01mreturn\u001b[39;00m return_object\n\u001b[0;32m    383\u001b[0m \u001b[38;5;28;01melse\u001b[39;00m:\n\u001b[1;32m--> 384\u001b[0m     exchange_quotes_token, market_depth_token \u001b[38;5;241m=\u001b[39m \u001b[38;5;28mself\u001b[39m\u001b[38;5;241m.\u001b[39mget_stock_token_value(exchange_code\u001b[38;5;241m=\u001b[39mexchange_code, stock_code\u001b[38;5;241m=\u001b[39mstock_code, product_type\u001b[38;5;241m=\u001b[39mproduct_type, expiry_date\u001b[38;5;241m=\u001b[39mexpiry_date, strike_price\u001b[38;5;241m=\u001b[39mstrike_price, right\u001b[38;5;241m=\u001b[39mright, get_exchange_quotes\u001b[38;5;241m=\u001b[39mget_exchange_quotes, get_market_depth\u001b[38;5;241m=\u001b[39mget_market_depth)\n\u001b[0;32m    385\u001b[0m     \u001b[38;5;28;01mif\u001b[39;00m interval\u001b[38;5;241m!=\u001b[39m\u001b[38;5;124m\"\u001b[39m\u001b[38;5;124m\"\u001b[39m:\n\u001b[0;32m    386\u001b[0m         \u001b[38;5;28;01mif\u001b[39;00m \u001b[38;5;28mself\u001b[39m\u001b[38;5;241m.\u001b[39msio_ohlcv_stream_handler \u001b[38;5;129;01mis\u001b[39;00m \u001b[38;5;28;01mNone\u001b[39;00m:\n",
      "\u001b[1;31mTypeError\u001b[0m: cannot unpack non-iterable NoneType object"
     ]
    }
   ],
   "source": [
    "breeze.subscribe_feeds(exchange_code=\"NFO\", stock_code=\"ZEEENT\", product_type=\"options\", expiry_date=\"27-Jun-2024\", strike_price=\"180\", right=\"Call\",get_exchange_quotes=False,get_market_depth=False)"
   ]
  },
  {
   "cell_type": "code",
   "execution_count": 28,
   "metadata": {},
   "outputs": [
    {
     "name": "stdout",
     "output_type": "stream",
     "text": [
      "{'symbol': '1.1!500780', 'open': 295, 'last': 298.15, 'high': 300.9, 'low': 291.35, 'change': 3.98, 'bPrice': 297.8, 'bQty': 10, 'sPrice': 299, 'sQty': 10, 'ltq': 10, 'avgPrice': 295.07, 'quotes': 'Quotes Data', 'ttq': 4419, 'totalBuyQt': 4377, 'totalSellQ': 6794, 'ttv': '13.03L', 'trend': '', 'lowerCktLm': 229.4, 'upperCktLm': 344.1, 'ltt': 'Fri Jun  7 11:13:41 2024', 'close': 286.75, 'exchange': 'BSE', 'stock_name': 'ZUARI INDUSTRIES LIMITED'}\n"
     ]
    }
   ],
   "source": [
    "breeze.subscribe_feeds(stock_token=\"1.1!500780\")"
   ]
  },
  {
   "cell_type": "code",
   "execution_count": 34,
   "metadata": {},
   "outputs": [
    {
     "data": {
      "text/plain": [
       "{'message': 'Stock one_click_fno subscribed successfully'}"
      ]
     },
     "execution_count": 34,
     "metadata": {},
     "output_type": "execute_result"
    }
   ],
   "source": [
    "breeze.subscribe_feeds(stock_token = \"one_click_fno\")"
   ]
  },
  {
   "cell_type": "code",
   "execution_count": 33,
   "metadata": {},
   "outputs": [
    {
     "data": {
      "text/plain": [
       "{'message': 'Stock 1.1!500780 unsubscribed successfully'}"
      ]
     },
     "execution_count": 33,
     "metadata": {},
     "output_type": "execute_result"
    }
   ],
   "source": [
    "breeze.unsubscribe_feeds(stock_token=\"1.1!500780\")"
   ]
  },
  {
   "cell_type": "code",
   "execution_count": 31,
   "metadata": {},
   "outputs": [],
   "source": [
    "pd.DataFrame(tick_data)"
   ]
  },
  {
   "cell_type": "code",
   "execution_count": 7,
   "metadata": {},
   "outputs": [],
   "source": [
    "old_price_long = 0\n",
    "old_price_short = 0\n",
    "target_prencentage = 0.1\n",
    "stop_loss_precentage = 0.2 \n",
    "stop_loss_long = False\n",
    "stop_loss_short = False\n",
    "long_hold = False\n",
    "short_hold = False\n",
    "trade_book = []\n",
    "qty = 30\n",
    "ticks = []\n",
    "\n",
    "\n",
    "\n",
    "\n",
    "\n",
    "log.debug(f'''Initiating All Variables Initial Values are :-\n",
    "            old_price_long = {old_price_long}\n",
    "            old_price_short = {old_price_short}\n",
    "            target_prencantage = {target_prencentage}\n",
    "            stop_loss_precentage = {stop_loss_precentage}\n",
    "            stop_loss_long = {stop_loss_long}\n",
    "            stop_loss_short = {stop_loss_short}\n",
    "            long_hold = {long_hold}\n",
    "            short_hold = {short_hold}\n",
    "            trade_book = {trade_book}\n",
    "            qty = {qty}''')\n"
   ]
  },
  {
   "cell_type": "code",
   "execution_count": null,
   "metadata": {},
   "outputs": [
    {
     "data": {
      "text/plain": [
       "{'message': 'Stock CNXBAN subscribed successfully'}"
      ]
     },
     "execution_count": 30,
     "metadata": {},
     "output_type": "execute_result"
    },
    {
     "name": "stderr",
     "output_type": "stream",
     "text": [
      "[2024-03-22 15:27:00,735][INFO] - '*******,datetime : 2024-03-22 15:26:00, open : 46925.75, high : 46930.0, low : 46917.85, close : 46928.0,'*******\n",
      "\n",
      "[2024-03-22 15:27:00,736][INFO] - % Change in Price for Long position = -0.21900448640258552\n",
      "[2024-03-22 15:27:00,737][INFO] - % Change in Price for Short position = 0.025577628101287407 NOTE :: Negetive means profit in short trade same formula has been used to both long and short\n"
     ]
    },
    {
     "name": "stdout",
     "output_type": "stream",
     "text": [
      "<class 'dict'> \n",
      "\n"
     ]
    },
    {
     "name": "stderr",
     "output_type": "stream",
     "text": [
      "[2024-03-22 15:28:01,051][INFO] - '*******,datetime : 2024-03-22 15:27:00, open : 46928.0, high : 46933.8, low : 46928.0, close : 46932.6,'*******\n",
      "\n",
      "[2024-03-22 15:28:01,052][INFO] - % Change in Price for Long position = -0.20922370351470618\n",
      "[2024-03-22 15:28:01,053][INFO] - % Change in Price for Short position = 0.035382385540111146 NOTE :: Negetive means profit in short trade same formula has been used to both long and short\n"
     ]
    },
    {
     "name": "stdout",
     "output_type": "stream",
     "text": [
      "<class 'dict'> \n",
      "\n"
     ]
    },
    {
     "name": "stderr",
     "output_type": "stream",
     "text": [
      "[2024-03-22 15:29:01,060][INFO] - '*******,datetime : 2024-03-22 15:28:00, open : 46932.6, high : 46933.0, low : 46927.0, close : 46928.5,'*******\n",
      "\n",
      "[2024-03-22 15:29:01,061][INFO] - % Change in Price for Long position = -0.2179413578278157\n",
      "[2024-03-22 15:29:01,062][INFO] - % Change in Price for Short position = 0.026643362605507714 NOTE :: Negetive means profit in short trade same formula has been used to both long and short\n"
     ]
    },
    {
     "name": "stdout",
     "output_type": "stream",
     "text": [
      "<class 'dict'> \n",
      "\n"
     ]
    },
    {
     "name": "stderr",
     "output_type": "stream",
     "text": [
      "[2024-03-22 15:30:00,255][INFO] - '*******,datetime : 2024-03-22 15:29:00, open : 46933.0, high : 46935.0, low : 46924.75, close : 46925.4,'*******\n",
      "\n",
      "[2024-03-22 15:30:00,255][INFO] - % Change in Price for Long position = -0.22453275499138559\n",
      "[2024-03-22 15:30:00,256][INFO] - % Change in Price for Short position = 0.020035808679344902 NOTE :: Negetive means profit in short trade same formula has been used to both long and short\n"
     ]
    },
    {
     "name": "stdout",
     "output_type": "stream",
     "text": [
      "<class 'dict'> \n",
      "\n"
     ]
    }
   ],
   "source": [
    "breeze.ws_connect()\n",
    "\n",
    "def on_ticks(ticks):\n",
    "    print(type(ticks),'\\n')\n",
    "    \n",
    "    \n",
    "    global old_price_long,old_price_short,target_prencentage,stop_loss_precentage,long_hold,short_hold,trade_book,qty,stop_loss_long,stop_loss_short\n",
    "\n",
    "    log.debug(f\"variables values when running on_ticks getting ticks :- old_price_long : {old_price_long},old_price_short : {old_price_short},target_prencantage : {target_prencentage},stop_loss_precentage : {stop_loss_precentage},long_hold : {long_hold},short_hold : {short_hold},trade_book : {trade_book},qty : {qty}\")\n",
    "    #records_ticks(ticks['datetime'],ticks['open'],ticks['high'],ticks['low'],ticks['close'])\n",
    "\n",
    "    log.info(f\"'*******,datetime : {ticks['datetime']}, open : {ticks['open']}, high : {ticks['high']}, low : {ticks['low']}, close : {ticks['close']},'*******\\n\")\n",
    "    \n",
    "    current_price = float(ticks['close'])\n",
    "    date = ticks['datetime']\n",
    "    \n",
    "    per_change_long = ((current_price-old_price_long)/old_price_long)*100 if old_price_long != 0 else 0\n",
    "    per_change_short = ((current_price-old_price_short)/old_price_short)*100 if old_price_short != 0 else 0\n",
    "    price_change_long = current_price-old_price_long\n",
    "    price_change_short = current_price-old_price_short\n",
    "    log.info(f\"% Change in Price for Long position = {per_change_long}\")\n",
    "    log.info(f\"% Change in Price for Short position = {per_change_short} NOTE :: Negetive means profit in short trade same formula has been used to both long and short\") \n",
    "    \n",
    "    if (per_change_long >= target_prencentage) and long_hold :\n",
    "\n",
    "        log.info(f\"Exiting Long Trade since Both the Condition Satisfied per_change_long = {per_change_long} is greater than target_precentage = {target_prencentage} and Holding Position for Long is = {long_hold}\")\n",
    "        long_hold = False\n",
    "        log.debug(f\"setting long_hold to False.value after setting false = {long_hold}\")\n",
    "        profit_long = price_change_long\n",
    "        log.info(f\"Sold at {current_price} * {qty} = {current_price*qty}. Booked Profit of {profit_long} * {qty} = {profit_long*qty}\\n\")\n",
    "        order_value = qty*current_price\n",
    "        trade_book.append({'date':date,'type':'exit long','price':current_price,'order_value':int(order_value),'profit':profit_long*qty})\n",
    "        log.debug(f\"Appended to Trade book ('date':{date},'type':'exit long','price':{current_price},'order_value':{int(order_value)},'profit':{profit_long*qty})\")\n",
    "\n",
    "    if per_change_long <= -stop_loss_precentage and long_hold:\n",
    "\n",
    "        log.warning(f\"Stoploss on Long Position Triggered since Both Condition per_change_long = {per_change_long} is greater than Stoploss = {stop_loss_precentage} in absolute values and Long_hold is True = {long_hold}. NOTE per_change_long should be negetive since it is decreasing.\")\n",
    "        long_hold = False\n",
    "        log.debug(f\"Assigned False value to long_hold : {long_hold}\")\n",
    "        stop_loss_long = True\n",
    "        log.debug(f\"Changed stop_loss_long value to True since it is triggered. new value = {stop_loss_long}\")\n",
    "        loss = current_price-old_price_long\n",
    "        log.warning(f\"Exiting Long Position Booked a LOSS of {loss} * {qty} = {loss*qty}\\n\")\n",
    "        order_value = qty*current_price\n",
    "        trade_book.append({'date':date,'type':'exit long STOPLOSS','price':current_price,'order_value':int(order_value),'profit':loss*qty})\n",
    "        log.debug(f\"Appended to Trade book ('date':{date},'type':'exit long STOPLOSS','price':{current_price},'order_value':{int(order_value)},'profit':{loss*qty})\")\n",
    "\n",
    "    if (not long_hold) and (not stop_loss_long):\n",
    "\n",
    "        log.info(f\"Going Long Since not Holding and neither stoploss is triggered values :: long_hold : {long_hold}, stop_loss_long : {stop_loss_long}\")\n",
    "        long_hold = True\n",
    "\n",
    "        log.info(f'Buying at a price {current_price} * {qty}. total buy price {qty*current_price} \\n ')\n",
    "        old_price_long = current_price\n",
    "        log.debug(f\"Setting global old_price_long to {current_price} and long_hold to {long_hold}\")\n",
    "        order_value = qty*current_price\n",
    "        trade_book.append({'date':date,'type':'long','price':current_price,'order_value':int(order_value),'profit':0})\n",
    "\n",
    "\n",
    "    \n",
    "    if (per_change_short <= -target_prencentage) and short_hold:\n",
    "        log.debug(f\"Exiting Short Trade since Both Condition Satisfied. per_change_short : {per_change_short} is greater than target_prencentage : {target_prencentage} and short hold is True Value : {short_hold}\")\n",
    "        short_hold = False\n",
    "        log.debug(f'Set short_hold to False new Value = {short_hold}')\n",
    "        profit_short = old_price_short-current_price \n",
    "        log.info(f\"Exiting Trade at price {current_price} * qty {qty} = {current_price*qty}\")\n",
    "        log.info(f\"Booked a profit of {profit_long} * {qty} = {profit_long*qty}\")\n",
    "        order_value = qty*current_price\n",
    "        \n",
    "        trade_book.append({'date':date,'type':'exit short','price':current_price,'order_value':int(order_value),'profit':profit_short*qty})\n",
    "\n",
    "\n",
    "\n",
    "    if per_change_short >= stop_loss_precentage and short_hold:\n",
    "        log.warning(f\"Stoploss on Short Position Triggered since per_change_short : {per_change_short} is greater than stop_loss_precentage : {stop_loss_precentage}. in absolute term. and short_hold is True : {short_hold} NOTE :: per_change_should be positive since it is a short trade\")\n",
    "        short_hold = False\n",
    "        log.debug('Assigned new value to short_hold False : {False}')\n",
    "        stop_loss_short = True\n",
    "        log.debug(f'Since Stoploss triggered setting stop_loss_short to Truew new value : {stop_loss_short}')\n",
    "        loss_on_short = old_price_short-current_price\n",
    "        log.warning(f'Exiting short Trade at price : {current_price}. Booked a loss of {loss_on_short} *qty = {loss_on_short*qty}')\n",
    "        \n",
    "        order_value = qty*current_price\n",
    "        trade_book.append({'date':date,'type':'exit short Stoploss','price':current_price,'order_value':int(order_value),'profit':loss*qty})\n",
    "\n",
    "    \n",
    "    if (not short_hold) and (not stop_loss_short):\n",
    "        \n",
    "        log.info(f\"Going Short since Both short_hold : {short_hold} and stop_loss_short : {stop_loss_short} are False. \")\n",
    "        short_hold = True\n",
    "        log.info(f'Shorting at a price {current_price}. total buy price {qty*current_price} \\n ')\n",
    "        old_price_short = current_price\n",
    "        log.debug(f\"Setting old_short_price to {current_price}. value after setting {old_price_short}\")\n",
    "        order_value = qty*current_price\n",
    "        trade_book.append({'date':date,'type':'short','price':current_price,'order_value':int(order_value),'profit':0})\n",
    "    \n",
    "    \n",
    "\n",
    "    \n",
    "\n",
    "    '''if index.hour==15 and index.minute==29:\n",
    "        if long_hold:\n",
    "            long_hold = False\n",
    "            profit_long = current_price-old_price_long\n",
    "            print(f'Ending Trade for day {current_price}. profit = {(current_price-old_price_long)*qty} \\n')\n",
    "            order_value = qty*current_price\n",
    "            tc = order_value*transaction_charge\n",
    "            stt_rs = order_value*stt\n",
    "            charges = brokerage+stt_rs+brokerage+sebi_charges\n",
    "            trade_book.append({'date':index,'type':'exit long','price':current_price,'order_value':int(order_value),'profit':profit_long*qty,'charges':charges,'profit_after_charges':(profit_long*qty)-charges})\n",
    "\n",
    "\n",
    "        if short_hold:\n",
    "            short_hold = False\n",
    "            profit_short = -current_price+old_price_short\n",
    "            print(f'Ending Short at a price {current_price}. profit = {(-current_price+old_price_short)*qty} \\n')\n",
    "            order_value = qty*current_price\n",
    "            tc = order_value*transaction_charge\n",
    "            stamp_rs = order_value*stamp\n",
    "            charges = brokerage+stamp_rs+brokerage+sebi_charges\n",
    "            trade_book.append({'date':index,'type':'exit short','price':current_price,'order_value':int(order_value),'profit':profit_short*qty,'charges':charges,'profit_after_charges':(profit_short*qty)-charges})\n",
    "            \n",
    "    \n",
    "        break'''\n",
    "\n",
    "\n",
    "\n",
    "\n",
    "    \n",
    "    \n",
    "\n",
    "\n",
    "breeze.on_ticks = on_ticks\n",
    "breeze.subscribe_feeds(exchange_code=\"NFO\", stock_code=stock, product_type=s_type, expiry_date=exp,interval='1minute')\n"
   ]
  },
  {
   "cell_type": "code",
   "execution_count": 25,
   "metadata": {},
   "outputs": [
    {
     "data": {
      "text/plain": [
       "[{'message': 'socket server for rate refresh  has been disconnected.'},\n",
       " {'message': 'socket server for OHLCV Streaming has been disconnected.'},\n",
       " {'message': 'socket server is not connected to order refresh.'}]"
      ]
     },
     "execution_count": 25,
     "metadata": {},
     "output_type": "execute_result"
    }
   ],
   "source": [
    "breeze.ws_disconnect()"
   ]
  },
  {
   "cell_type": "code",
   "execution_count": 29,
   "metadata": {},
   "outputs": [
    {
     "data": {
      "text/html": [
       "<div>\n",
       "<style scoped>\n",
       "    .dataframe tbody tr th:only-of-type {\n",
       "        vertical-align: middle;\n",
       "    }\n",
       "\n",
       "    .dataframe tbody tr th {\n",
       "        vertical-align: top;\n",
       "    }\n",
       "\n",
       "    .dataframe thead th {\n",
       "        text-align: right;\n",
       "    }\n",
       "</style>\n",
       "<table border=\"1\" class=\"dataframe\">\n",
       "  <thead>\n",
       "    <tr style=\"text-align: right;\">\n",
       "      <th></th>\n",
       "      <th>date</th>\n",
       "      <th>type</th>\n",
       "      <th>price</th>\n",
       "      <th>order_value</th>\n",
       "      <th>profit</th>\n",
       "    </tr>\n",
       "  </thead>\n",
       "  <tbody>\n",
       "    <tr>\n",
       "      <th>0</th>\n",
       "      <td>2024-03-22 12:53:00</td>\n",
       "      <td>long</td>\n",
       "      <td>46916.0</td>\n",
       "      <td>1407480</td>\n",
       "      <td>0.0</td>\n",
       "    </tr>\n",
       "    <tr>\n",
       "      <th>1</th>\n",
       "      <td>2024-03-22 12:53:00</td>\n",
       "      <td>short</td>\n",
       "      <td>46916.0</td>\n",
       "      <td>1407480</td>\n",
       "      <td>0.0</td>\n",
       "    </tr>\n",
       "    <tr>\n",
       "      <th>2</th>\n",
       "      <td>2024-03-22 13:01:00</td>\n",
       "      <td>exit long</td>\n",
       "      <td>46965.0</td>\n",
       "      <td>1408950</td>\n",
       "      <td>1470.0</td>\n",
       "    </tr>\n",
       "    <tr>\n",
       "      <th>3</th>\n",
       "      <td>2024-03-22 13:01:00</td>\n",
       "      <td>long</td>\n",
       "      <td>46965.0</td>\n",
       "      <td>1408950</td>\n",
       "      <td>0.0</td>\n",
       "    </tr>\n",
       "    <tr>\n",
       "      <th>4</th>\n",
       "      <td>2024-03-22 14:24:00</td>\n",
       "      <td>exit long</td>\n",
       "      <td>47031.0</td>\n",
       "      <td>1410930</td>\n",
       "      <td>1980.0</td>\n",
       "    </tr>\n",
       "    <tr>\n",
       "      <th>5</th>\n",
       "      <td>2024-03-22 14:24:00</td>\n",
       "      <td>long</td>\n",
       "      <td>47031.0</td>\n",
       "      <td>1410930</td>\n",
       "      <td>0.0</td>\n",
       "    </tr>\n",
       "    <tr>\n",
       "      <th>6</th>\n",
       "      <td>2024-03-22 15:06:00</td>\n",
       "      <td>exit long STOPLOSS</td>\n",
       "      <td>46933.8</td>\n",
       "      <td>1408014</td>\n",
       "      <td>-2916.0</td>\n",
       "    </tr>\n",
       "  </tbody>\n",
       "</table>\n",
       "</div>"
      ],
      "text/plain": [
       "                  date                type    price  order_value  profit\n",
       "0  2024-03-22 12:53:00                long  46916.0      1407480     0.0\n",
       "1  2024-03-22 12:53:00               short  46916.0      1407480     0.0\n",
       "2  2024-03-22 13:01:00           exit long  46965.0      1408950  1470.0\n",
       "3  2024-03-22 13:01:00                long  46965.0      1408950     0.0\n",
       "4  2024-03-22 14:24:00           exit long  47031.0      1410930  1980.0\n",
       "5  2024-03-22 14:24:00                long  47031.0      1410930     0.0\n",
       "6  2024-03-22 15:06:00  exit long STOPLOSS  46933.8      1408014 -2916.0"
      ]
     },
     "execution_count": 29,
     "metadata": {},
     "output_type": "execute_result"
    },
    {
     "name": "stderr",
     "output_type": "stream",
     "text": [
      "[2024-03-22 15:26:01,671][INFO] - '*******,datetime : 2024-03-22 15:25:00, open : 46922.0, high : 46930.0, low : 46915.0, close : 46919.9,'*******\n",
      "\n",
      "[2024-03-22 15:26:01,673][INFO] - % Change in Price for Long position = -0.23622716931385374\n",
      "[2024-03-22 15:26:01,673][INFO] - % Change in Price for Short position = 0.008312729132921508 NOTE :: Negetive means profit in short trade same formula has been used to both long and short\n"
     ]
    },
    {
     "name": "stdout",
     "output_type": "stream",
     "text": [
      "<class 'dict'> \n",
      "\n"
     ]
    }
   ],
   "source": [
    "pd.DataFrame(trade_book)"
   ]
  },
  {
   "cell_type": "code",
   "execution_count": null,
   "metadata": {},
   "outputs": [],
   "source": [
    "def get_histroy_data_stock(stock_code,from_date,to_date,interval='1day',exchange='NSE'):\n",
    "    data = breeze.get_historical_data(interval=interval,\n",
    "                                from_date= f\"{from_date}T07:00:00.000Z\",\n",
    "                                to_date= f\"{to_date}T07:00:00.000Z\",\n",
    "                                stock_code=stock_code,\n",
    "                                exchange_code=exchange,\n",
    "                                product_type=\"cash\")\n",
    "    if data['Status']==200:\n",
    "        df = pd.DataFrame(data['Success'])[['datetime','stock_code','open','close','high','low']]\n",
    "        for x in df.columns:\n",
    "            try:\n",
    "                df[x]=df[x].astype(float)\n",
    "                print(x,'complete')\n",
    "            except Exception as e:\n",
    "                print('couldnt perform on',x)\n",
    "                print('Error',e)\n",
    "        return df\n",
    "    else:\n",
    "        print('got error')\n",
    "        return data"
   ]
  },
  {
   "cell_type": "code",
   "execution_count": 14,
   "metadata": {},
   "outputs": [],
   "source": [
    "data = breeze.get_historical_data(interval='1minute',\n",
    "                                from_date= f\"{'2023-09-23'}T07:00:00.000Z\",\n",
    "                                to_date= f\"{'2024-03-23'}T07:00:00.000Z\",\n",
    "                                stock_code=stock,\n",
    "                                exchange_code='NSE',\n",
    "                                product_type=s_type,\n",
    "                                expiry_date=exp)"
   ]
  },
  {
   "cell_type": "code",
   "execution_count": 15,
   "metadata": {},
   "outputs": [],
   "source": [
    "data = pd.DataFrame(data['Success'])"
   ]
  },
  {
   "cell_type": "code",
   "execution_count": 16,
   "metadata": {},
   "outputs": [
    {
     "data": {
      "text/html": [
       "<div>\n",
       "<style scoped>\n",
       "    .dataframe tbody tr th:only-of-type {\n",
       "        vertical-align: middle;\n",
       "    }\n",
       "\n",
       "    .dataframe tbody tr th {\n",
       "        vertical-align: top;\n",
       "    }\n",
       "\n",
       "    .dataframe thead th {\n",
       "        text-align: right;\n",
       "    }\n",
       "</style>\n",
       "<table border=\"1\" class=\"dataframe\">\n",
       "  <thead>\n",
       "    <tr style=\"text-align: right;\">\n",
       "      <th></th>\n",
       "      <th>datetime</th>\n",
       "      <th>stock_code</th>\n",
       "      <th>exchange_code</th>\n",
       "      <th>product_type</th>\n",
       "      <th>expiry_date</th>\n",
       "      <th>right</th>\n",
       "      <th>strike_price</th>\n",
       "      <th>open</th>\n",
       "      <th>high</th>\n",
       "      <th>low</th>\n",
       "      <th>close</th>\n",
       "      <th>volume</th>\n",
       "      <th>open_interest</th>\n",
       "      <th>count</th>\n",
       "    </tr>\n",
       "  </thead>\n",
       "  <tbody>\n",
       "    <tr>\n",
       "      <th>0</th>\n",
       "      <td>2023-09-25 07:31:00</td>\n",
       "      <td>CNXBAN</td>\n",
       "      <td>NSE</td>\n",
       "      <td>None</td>\n",
       "      <td>None</td>\n",
       "      <td>None</td>\n",
       "      <td>None</td>\n",
       "      <td>44612.05</td>\n",
       "      <td>44612.05</td>\n",
       "      <td>44612.05</td>\n",
       "      <td>44612.05</td>\n",
       "      <td></td>\n",
       "      <td>None</td>\n",
       "      <td>0</td>\n",
       "    </tr>\n",
       "    <tr>\n",
       "      <th>1</th>\n",
       "      <td>2023-09-25 07:32:00</td>\n",
       "      <td>CNXBAN</td>\n",
       "      <td>NSE</td>\n",
       "      <td>None</td>\n",
       "      <td>None</td>\n",
       "      <td>None</td>\n",
       "      <td>None</td>\n",
       "      <td>44612.05</td>\n",
       "      <td>44612.05</td>\n",
       "      <td>44612.05</td>\n",
       "      <td>44612.05</td>\n",
       "      <td></td>\n",
       "      <td>None</td>\n",
       "      <td>1</td>\n",
       "    </tr>\n",
       "    <tr>\n",
       "      <th>2</th>\n",
       "      <td>2023-09-25 07:33:00</td>\n",
       "      <td>CNXBAN</td>\n",
       "      <td>NSE</td>\n",
       "      <td>None</td>\n",
       "      <td>None</td>\n",
       "      <td>None</td>\n",
       "      <td>None</td>\n",
       "      <td>44612.05</td>\n",
       "      <td>44612.05</td>\n",
       "      <td>44612.05</td>\n",
       "      <td>44612.05</td>\n",
       "      <td></td>\n",
       "      <td>None</td>\n",
       "      <td>2</td>\n",
       "    </tr>\n",
       "    <tr>\n",
       "      <th>3</th>\n",
       "      <td>2023-09-25 07:34:00</td>\n",
       "      <td>CNXBAN</td>\n",
       "      <td>NSE</td>\n",
       "      <td>None</td>\n",
       "      <td>None</td>\n",
       "      <td>None</td>\n",
       "      <td>None</td>\n",
       "      <td>44612.05</td>\n",
       "      <td>44612.05</td>\n",
       "      <td>44612.05</td>\n",
       "      <td>44612.05</td>\n",
       "      <td></td>\n",
       "      <td>None</td>\n",
       "      <td>3</td>\n",
       "    </tr>\n",
       "    <tr>\n",
       "      <th>4</th>\n",
       "      <td>2023-09-25 07:35:00</td>\n",
       "      <td>CNXBAN</td>\n",
       "      <td>NSE</td>\n",
       "      <td>None</td>\n",
       "      <td>None</td>\n",
       "      <td>None</td>\n",
       "      <td>None</td>\n",
       "      <td>44612.05</td>\n",
       "      <td>44612.05</td>\n",
       "      <td>44612.05</td>\n",
       "      <td>44612.05</td>\n",
       "      <td></td>\n",
       "      <td>None</td>\n",
       "      <td>4</td>\n",
       "    </tr>\n",
       "    <tr>\n",
       "      <th>...</th>\n",
       "      <td>...</td>\n",
       "      <td>...</td>\n",
       "      <td>...</td>\n",
       "      <td>...</td>\n",
       "      <td>...</td>\n",
       "      <td>...</td>\n",
       "      <td>...</td>\n",
       "      <td>...</td>\n",
       "      <td>...</td>\n",
       "      <td>...</td>\n",
       "      <td>...</td>\n",
       "      <td>...</td>\n",
       "      <td>...</td>\n",
       "      <td>...</td>\n",
       "    </tr>\n",
       "    <tr>\n",
       "      <th>66447</th>\n",
       "      <td>2024-03-22 16:41:00</td>\n",
       "      <td>CNXBAN</td>\n",
       "      <td>NSE</td>\n",
       "      <td>None</td>\n",
       "      <td>None</td>\n",
       "      <td>None</td>\n",
       "      <td>None</td>\n",
       "      <td>46863.75</td>\n",
       "      <td>46863.75</td>\n",
       "      <td>46863.75</td>\n",
       "      <td>46863.75</td>\n",
       "      <td></td>\n",
       "      <td>None</td>\n",
       "      <td>66447</td>\n",
       "    </tr>\n",
       "    <tr>\n",
       "      <th>66448</th>\n",
       "      <td>2024-03-22 16:42:00</td>\n",
       "      <td>CNXBAN</td>\n",
       "      <td>NSE</td>\n",
       "      <td>None</td>\n",
       "      <td>None</td>\n",
       "      <td>None</td>\n",
       "      <td>None</td>\n",
       "      <td>46863.75</td>\n",
       "      <td>46863.75</td>\n",
       "      <td>46863.75</td>\n",
       "      <td>46863.75</td>\n",
       "      <td></td>\n",
       "      <td>None</td>\n",
       "      <td>66448</td>\n",
       "    </tr>\n",
       "    <tr>\n",
       "      <th>66449</th>\n",
       "      <td>2024-03-22 16:43:00</td>\n",
       "      <td>CNXBAN</td>\n",
       "      <td>NSE</td>\n",
       "      <td>None</td>\n",
       "      <td>None</td>\n",
       "      <td>None</td>\n",
       "      <td>None</td>\n",
       "      <td>46863.75</td>\n",
       "      <td>46863.75</td>\n",
       "      <td>46863.75</td>\n",
       "      <td>46863.75</td>\n",
       "      <td></td>\n",
       "      <td>None</td>\n",
       "      <td>66449</td>\n",
       "    </tr>\n",
       "    <tr>\n",
       "      <th>66450</th>\n",
       "      <td>2024-03-22 16:44:00</td>\n",
       "      <td>CNXBAN</td>\n",
       "      <td>NSE</td>\n",
       "      <td>None</td>\n",
       "      <td>None</td>\n",
       "      <td>None</td>\n",
       "      <td>None</td>\n",
       "      <td>46863.75</td>\n",
       "      <td>46863.75</td>\n",
       "      <td>46863.75</td>\n",
       "      <td>46863.75</td>\n",
       "      <td></td>\n",
       "      <td>None</td>\n",
       "      <td>66450</td>\n",
       "    </tr>\n",
       "    <tr>\n",
       "      <th>66451</th>\n",
       "      <td>2024-03-22 16:45:00</td>\n",
       "      <td>CNXBAN</td>\n",
       "      <td>NSE</td>\n",
       "      <td>None</td>\n",
       "      <td>None</td>\n",
       "      <td>None</td>\n",
       "      <td>None</td>\n",
       "      <td>46863.75</td>\n",
       "      <td>46863.75</td>\n",
       "      <td>46863.75</td>\n",
       "      <td>46863.75</td>\n",
       "      <td></td>\n",
       "      <td>None</td>\n",
       "      <td>66451</td>\n",
       "    </tr>\n",
       "  </tbody>\n",
       "</table>\n",
       "<p>66452 rows × 14 columns</p>\n",
       "</div>"
      ],
      "text/plain": [
       "                  datetime stock_code exchange_code product_type expiry_date  \\\n",
       "0      2023-09-25 07:31:00     CNXBAN           NSE         None        None   \n",
       "1      2023-09-25 07:32:00     CNXBAN           NSE         None        None   \n",
       "2      2023-09-25 07:33:00     CNXBAN           NSE         None        None   \n",
       "3      2023-09-25 07:34:00     CNXBAN           NSE         None        None   \n",
       "4      2023-09-25 07:35:00     CNXBAN           NSE         None        None   \n",
       "...                    ...        ...           ...          ...         ...   \n",
       "66447  2024-03-22 16:41:00     CNXBAN           NSE         None        None   \n",
       "66448  2024-03-22 16:42:00     CNXBAN           NSE         None        None   \n",
       "66449  2024-03-22 16:43:00     CNXBAN           NSE         None        None   \n",
       "66450  2024-03-22 16:44:00     CNXBAN           NSE         None        None   \n",
       "66451  2024-03-22 16:45:00     CNXBAN           NSE         None        None   \n",
       "\n",
       "      right strike_price      open      high       low     close volume  \\\n",
       "0      None         None  44612.05  44612.05  44612.05  44612.05          \n",
       "1      None         None  44612.05  44612.05  44612.05  44612.05          \n",
       "2      None         None  44612.05  44612.05  44612.05  44612.05          \n",
       "3      None         None  44612.05  44612.05  44612.05  44612.05          \n",
       "4      None         None  44612.05  44612.05  44612.05  44612.05          \n",
       "...     ...          ...       ...       ...       ...       ...    ...   \n",
       "66447  None         None  46863.75  46863.75  46863.75  46863.75          \n",
       "66448  None         None  46863.75  46863.75  46863.75  46863.75          \n",
       "66449  None         None  46863.75  46863.75  46863.75  46863.75          \n",
       "66450  None         None  46863.75  46863.75  46863.75  46863.75          \n",
       "66451  None         None  46863.75  46863.75  46863.75  46863.75          \n",
       "\n",
       "      open_interest  count  \n",
       "0              None      0  \n",
       "1              None      1  \n",
       "2              None      2  \n",
       "3              None      3  \n",
       "4              None      4  \n",
       "...             ...    ...  \n",
       "66447          None  66447  \n",
       "66448          None  66448  \n",
       "66449          None  66449  \n",
       "66450          None  66450  \n",
       "66451          None  66451  \n",
       "\n",
       "[66452 rows x 14 columns]"
      ]
     },
     "execution_count": 16,
     "metadata": {},
     "output_type": "execute_result"
    }
   ],
   "source": [
    "data"
   ]
  },
  {
   "cell_type": "code",
   "execution_count": 21,
   "metadata": {},
   "outputs": [
    {
     "ename": "KeyError",
     "evalue": "'datetime'",
     "output_type": "error",
     "traceback": [
      "\u001b[1;31m---------------------------------------------------------------------------\u001b[0m",
      "\u001b[1;31mKeyError\u001b[0m                                  Traceback (most recent call last)",
      "File \u001b[1;32m~\\AppData\\Roaming\\Python\\Python310\\site-packages\\pandas\\core\\indexes\\base.py:3791\u001b[0m, in \u001b[0;36mIndex.get_loc\u001b[1;34m(self, key)\u001b[0m\n\u001b[0;32m   3790\u001b[0m \u001b[38;5;28;01mtry\u001b[39;00m:\n\u001b[1;32m-> 3791\u001b[0m     \u001b[38;5;28;01mreturn\u001b[39;00m \u001b[38;5;28;43mself\u001b[39;49m\u001b[38;5;241;43m.\u001b[39;49m\u001b[43m_engine\u001b[49m\u001b[38;5;241;43m.\u001b[39;49m\u001b[43mget_loc\u001b[49m\u001b[43m(\u001b[49m\u001b[43mcasted_key\u001b[49m\u001b[43m)\u001b[49m\n\u001b[0;32m   3792\u001b[0m \u001b[38;5;28;01mexcept\u001b[39;00m \u001b[38;5;167;01mKeyError\u001b[39;00m \u001b[38;5;28;01mas\u001b[39;00m err:\n",
      "File \u001b[1;32mindex.pyx:152\u001b[0m, in \u001b[0;36mpandas._libs.index.IndexEngine.get_loc\u001b[1;34m()\u001b[0m\n",
      "File \u001b[1;32mindex.pyx:181\u001b[0m, in \u001b[0;36mpandas._libs.index.IndexEngine.get_loc\u001b[1;34m()\u001b[0m\n",
      "File \u001b[1;32mpandas\\_libs\\hashtable_class_helper.pxi:7080\u001b[0m, in \u001b[0;36mpandas._libs.hashtable.PyObjectHashTable.get_item\u001b[1;34m()\u001b[0m\n",
      "File \u001b[1;32mpandas\\_libs\\hashtable_class_helper.pxi:7088\u001b[0m, in \u001b[0;36mpandas._libs.hashtable.PyObjectHashTable.get_item\u001b[1;34m()\u001b[0m\n",
      "\u001b[1;31mKeyError\u001b[0m: 'datetime'",
      "\nThe above exception was the direct cause of the following exception:\n",
      "\u001b[1;31mKeyError\u001b[0m                                  Traceback (most recent call last)",
      "Cell \u001b[1;32mIn[21], line 1\u001b[0m\n\u001b[1;32m----> 1\u001b[0m data[\u001b[38;5;124m'\u001b[39m\u001b[38;5;124mdatetime\u001b[39m\u001b[38;5;124m'\u001b[39m] \u001b[38;5;241m=\u001b[39m pd\u001b[38;5;241m.\u001b[39mto_datetime(\u001b[43mdata\u001b[49m\u001b[43m[\u001b[49m\u001b[38;5;124;43m'\u001b[39;49m\u001b[38;5;124;43mdatetime\u001b[39;49m\u001b[38;5;124;43m'\u001b[39;49m\u001b[43m]\u001b[49m)\n\u001b[0;32m      2\u001b[0m data[\u001b[38;5;124m'\u001b[39m\u001b[38;5;124mclose\u001b[39m\u001b[38;5;124m'\u001b[39m] \u001b[38;5;241m=\u001b[39m data[\u001b[38;5;124m'\u001b[39m\u001b[38;5;124mclose\u001b[39m\u001b[38;5;124m'\u001b[39m]\u001b[38;5;241m.\u001b[39mastype(\u001b[38;5;28mfloat\u001b[39m)\n\u001b[0;32m      3\u001b[0m data\u001b[38;5;241m.\u001b[39mset_index(\u001b[38;5;124m'\u001b[39m\u001b[38;5;124mdatetime\u001b[39m\u001b[38;5;124m'\u001b[39m, inplace\u001b[38;5;241m=\u001b[39m\u001b[38;5;28;01mTrue\u001b[39;00m)\n",
      "File \u001b[1;32m~\\AppData\\Roaming\\Python\\Python310\\site-packages\\pandas\\core\\frame.py:3893\u001b[0m, in \u001b[0;36mDataFrame.__getitem__\u001b[1;34m(self, key)\u001b[0m\n\u001b[0;32m   3891\u001b[0m \u001b[38;5;28;01mif\u001b[39;00m \u001b[38;5;28mself\u001b[39m\u001b[38;5;241m.\u001b[39mcolumns\u001b[38;5;241m.\u001b[39mnlevels \u001b[38;5;241m>\u001b[39m \u001b[38;5;241m1\u001b[39m:\n\u001b[0;32m   3892\u001b[0m     \u001b[38;5;28;01mreturn\u001b[39;00m \u001b[38;5;28mself\u001b[39m\u001b[38;5;241m.\u001b[39m_getitem_multilevel(key)\n\u001b[1;32m-> 3893\u001b[0m indexer \u001b[38;5;241m=\u001b[39m \u001b[38;5;28;43mself\u001b[39;49m\u001b[38;5;241;43m.\u001b[39;49m\u001b[43mcolumns\u001b[49m\u001b[38;5;241;43m.\u001b[39;49m\u001b[43mget_loc\u001b[49m\u001b[43m(\u001b[49m\u001b[43mkey\u001b[49m\u001b[43m)\u001b[49m\n\u001b[0;32m   3894\u001b[0m \u001b[38;5;28;01mif\u001b[39;00m is_integer(indexer):\n\u001b[0;32m   3895\u001b[0m     indexer \u001b[38;5;241m=\u001b[39m [indexer]\n",
      "File \u001b[1;32m~\\AppData\\Roaming\\Python\\Python310\\site-packages\\pandas\\core\\indexes\\base.py:3798\u001b[0m, in \u001b[0;36mIndex.get_loc\u001b[1;34m(self, key)\u001b[0m\n\u001b[0;32m   3793\u001b[0m     \u001b[38;5;28;01mif\u001b[39;00m \u001b[38;5;28misinstance\u001b[39m(casted_key, \u001b[38;5;28mslice\u001b[39m) \u001b[38;5;129;01mor\u001b[39;00m (\n\u001b[0;32m   3794\u001b[0m         \u001b[38;5;28misinstance\u001b[39m(casted_key, abc\u001b[38;5;241m.\u001b[39mIterable)\n\u001b[0;32m   3795\u001b[0m         \u001b[38;5;129;01mand\u001b[39;00m \u001b[38;5;28many\u001b[39m(\u001b[38;5;28misinstance\u001b[39m(x, \u001b[38;5;28mslice\u001b[39m) \u001b[38;5;28;01mfor\u001b[39;00m x \u001b[38;5;129;01min\u001b[39;00m casted_key)\n\u001b[0;32m   3796\u001b[0m     ):\n\u001b[0;32m   3797\u001b[0m         \u001b[38;5;28;01mraise\u001b[39;00m InvalidIndexError(key)\n\u001b[1;32m-> 3798\u001b[0m     \u001b[38;5;28;01mraise\u001b[39;00m \u001b[38;5;167;01mKeyError\u001b[39;00m(key) \u001b[38;5;28;01mfrom\u001b[39;00m \u001b[38;5;21;01merr\u001b[39;00m\n\u001b[0;32m   3799\u001b[0m \u001b[38;5;28;01mexcept\u001b[39;00m \u001b[38;5;167;01mTypeError\u001b[39;00m:\n\u001b[0;32m   3800\u001b[0m     \u001b[38;5;66;03m# If we have a listlike key, _check_indexing_error will raise\u001b[39;00m\n\u001b[0;32m   3801\u001b[0m     \u001b[38;5;66;03m#  InvalidIndexError. Otherwise we fall through and re-raise\u001b[39;00m\n\u001b[0;32m   3802\u001b[0m     \u001b[38;5;66;03m#  the TypeError.\u001b[39;00m\n\u001b[0;32m   3803\u001b[0m     \u001b[38;5;28mself\u001b[39m\u001b[38;5;241m.\u001b[39m_check_indexing_error(key)\n",
      "\u001b[1;31mKeyError\u001b[0m: 'datetime'"
     ]
    }
   ],
   "source": [
    "data['datetime'] = pd.to_datetime(data['datetime'])\n",
    "data['close'] = data['close'].astype(float)\n",
    "data.set_index('datetime', inplace=True)"
   ]
  },
  {
   "cell_type": "code",
   "execution_count": 26,
   "metadata": {},
   "outputs": [
    {
     "name": "stdout",
     "output_type": "stream",
     "text": [
      "Timestamps of either increase or decrease:\n",
      "           date      time     event\n",
      "0    2023-09-25  09:15:00  increase\n",
      "1    2023-09-28  09:08:00  increase\n",
      "2    2023-09-29  09:07:00  increase\n",
      "3    2023-10-04  09:25:00  decrease\n",
      "4    2023-10-05  09:07:00  increase\n",
      "..          ...       ...       ...\n",
      "120  2024-03-18  11:15:00  decrease\n",
      "121  2024-03-20  09:15:00  increase\n",
      "122  2024-03-20  10:44:00  decrease\n",
      "123  2024-03-21  09:07:00  increase\n",
      "124  2024-03-22  09:37:00  increase\n",
      "\n",
      "[125 rows x 3 columns]\n"
     ]
    }
   ],
   "source": [
    "import pandas as pd\n",
    "\n",
    "# Assuming 'data' is your DataFrame containing stock market data with datetime as the index\n",
    "\n",
    "timestamps_list = []\n",
    "\n",
    "# Group data by date\n",
    "grouped = data.groupby(data.index.date)\n",
    "\n",
    "for date, data_group in grouped:\n",
    "    open_price = data_group.iloc[0]['close']  # Get the open price for the day\n",
    "    max_price = open_price * 1.001  # Calculate 0.1% increase from open price\n",
    "    min_price = open_price * 0.99  # Calculate 1% decrease from open price\n",
    "\n",
    "    increase_hit = False\n",
    "    decrease_hit = False\n",
    "\n",
    "    for index, row in data_group.iterrows():\n",
    "        if not increase_hit and row['close'] >= max_price:\n",
    "            timestamps_list.append({'date': str(date), 'time': str(index.time()), 'event': 'increase'})\n",
    "            increase_hit = True\n",
    "        elif not decrease_hit and row['close'] <= min_price:\n",
    "            timestamps_list.append({'date': str(date), 'time': str(index.time()), 'event': 'decrease'})\n",
    "            decrease_hit = True\n",
    "\n",
    "        if increase_hit and decrease_hit:\n",
    "            break  # Exit inner loop if both conditions are met\n",
    "\n",
    "# Convert the list of dictionaries to a DataFrame\n",
    "timestamps = pd.DataFrame(timestamps_list)\n",
    "\n",
    "print(\"Timestamps of either increase or decrease:\")\n",
    "print(timestamps)"
   ]
  },
  {
   "cell_type": "code",
   "execution_count": 28,
   "metadata": {},
   "outputs": [
    {
     "name": "stdout",
     "output_type": "stream",
     "text": [
      "Total Monthly Return:\n",
      "month\n",
      "2023-09     9000\n",
      "2023-10   -33000\n",
      "2023-11    18000\n",
      "2023-12    24000\n",
      "2024-01   -54000\n",
      "2024-02   -15000\n",
      "2024-03   -24000\n",
      "Freq: M, dtype: int64\n"
     ]
    }
   ],
   "source": [
    "import pandas as pd\n",
    "\n",
    "# Assuming 'timestamps' is your DataFrame containing timestamps of increase and decrease events\n",
    "# Assuming 'earnings' is your earning for increase and 'losses' is your loss for decrease\n",
    "\n",
    "# Convert 'date' column to datetime type\n",
    "timestamps['date'] = pd.to_datetime(timestamps['date'])\n",
    "\n",
    "# Group timestamps by month\n",
    "timestamps['month'] = timestamps['date'].dt.to_period('M')\n",
    "monthly_returns = timestamps.groupby('month')['event'].value_counts().unstack(fill_value=0)\n",
    "\n",
    "# Calculate monthly return\n",
    "monthly_return = (monthly_returns['increase'] * 3000) - (monthly_returns['decrease'] * 15000)\n",
    "\n",
    "print(\"Total Monthly Return:\")\n",
    "print(monthly_return)"
   ]
  },
  {
   "cell_type": "code",
   "execution_count": null,
   "metadata": {},
   "outputs": [],
   "source": []
  }
 ],
 "metadata": {
  "kernelspec": {
   "display_name": "Python 3",
   "language": "python",
   "name": "python3"
  },
  "language_info": {
   "codemirror_mode": {
    "name": "ipython",
    "version": 3
   },
   "file_extension": ".py",
   "mimetype": "text/x-python",
   "name": "python",
   "nbconvert_exporter": "python",
   "pygments_lexer": "ipython3",
   "version": "3.10.11"
  }
 },
 "nbformat": 4,
 "nbformat_minor": 2
}
