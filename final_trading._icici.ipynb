{
 "cells": [
  {
   "cell_type": "code",
   "execution_count": 2,
   "metadata": {},
   "outputs": [],
   "source": [
    "import pandas as pd\n",
    "import numpy as np\n",
    "from breeze_connect import BreezeConnect\n",
    "import datetime as dt\n",
    "import base64 \n",
    "import socketio\n",
    "\n"
   ]
  },
  {
   "cell_type": "code",
   "execution_count": 3,
   "metadata": {},
   "outputs": [],
   "source": [
    "import logging\n",
    "\n",
    "# Create a logger object\n",
    "log = logging.getLogger()\n",
    "log.setLevel(logging.DEBUG)  # Set the root logger level to DEBUG\n",
    "\n",
    "# Create a file handler for saving all logs\n",
    "file_handler = logging.FileHandler('log_file.txt')\n",
    "file_handler.setLevel(logging.DEBUG)  # Save all levels to file\n",
    "\n",
    "# Create a console handler for printing logs to console\n",
    "console_handler = logging.StreamHandler()\n",
    "console_handler.setLevel(logging.INFO)  # Set console handler level to INFO\n",
    "\n",
    "# Define format for both handlers\n",
    "formatter = logging.Formatter('[%(asctime)s][%(levelname)s] - %(message)s')\n",
    "file_handler.setFormatter(formatter)\n",
    "console_handler.setFormatter(formatter)\n",
    "\n",
    "# Add the handlers to the logger\n",
    "log.addHandler(file_handler)\n",
    "log.addHandler(console_handler)\n",
    "\n",
    "\n"
   ]
  },
  {
   "cell_type": "code",
   "execution_count": 9,
   "metadata": {},
   "outputs": [],
   "source": [
    "with open('ticks.txt', 'a+') as file:\n",
    "        # Perform a for loop\n",
    "        file.write(f\"open,high,low,close\")\n",
    "\n",
    "def records_ticks(datetime,open,high,low,close):\n",
    "    # Open the file in append mode (create if it doesn't exist)\n",
    "    with open('ticks.txt', 'a+') as file:\n",
    "        # Perform a for loop\n",
    "        file.write(f\"{open},{high},{low},{close}\")"
   ]
  },
  {
   "cell_type": "code",
   "execution_count": 5,
   "metadata": {},
   "outputs": [],
   "source": [
    "Key = '73=63fT44781tY4C42L0i3491201v23A'\n",
    "Secret = '11331XF5fm6c5&Y3K2Q99lp28347480+'\n",
    "api_session = '37436583'"
   ]
  },
  {
   "cell_type": "code",
   "execution_count": 6,
   "metadata": {},
   "outputs": [],
   "source": [
    "\n",
    "# Initialize SDK\n",
    "\n",
    "breeze = BreezeConnect(api_key=Key)\n",
    "\n",
    "# Obtain your session key from https://api.icicidirect.com/apiuser/login?api_key=YOUR_API_KEY\n",
    "# Incase your api-key has special characters(like +,=,!) then encode the api key before using in the url as shown below.\n",
    "\n",
    "#print(\"https://api.icicidirect.com/apiuser/login?api_key=\"+urllib.parse.quote_plus(\"your_api_key\"))\n",
    "\n",
    "# Generate Session\n",
    "breeze.generate_session(api_secret=Secret,\n",
    "                        session_token=api_session)\n",
    "\n",
    "\n",
    "# Generate ISO8601 Date/DateTime String\n",
    "import datetime\n",
    "iso_date_string = datetime.datetime.strptime(\"07/12/2023\",\"%d/%m/%Y\").isoformat()[:10] + 'T05:30:00.000Z'\n",
    "iso_date_time_string = datetime.datetime.strptime(\"07/12/2023 23:59:59\",\"%d/%m/%Y %H:%M:%S\").isoformat()[:19] + '.000Z'"
   ]
  },
  {
   "cell_type": "code",
   "execution_count": 7,
   "metadata": {},
   "outputs": [],
   "source": [
    "stock = 'CNXBAN'\n",
    "s_type = 'futures'\n",
    "exp = '27-Mar-2024'"
   ]
  },
  {
   "cell_type": "code",
   "execution_count": 5,
   "metadata": {},
   "outputs": [
    {
     "data": {
      "text/plain": [
       "{'message': 'Stock CNXBAN subscribed successfully'}"
      ]
     },
     "execution_count": 5,
     "metadata": {},
     "output_type": "execute_result"
    },
    {
     "name": "stdout",
     "output_type": "stream",
     "text": [
      "Ticks: {'symbol': '4.1!36611', 'open': 46475, 'last': 46251, 'high': 46699, 'low': 46002, 'change': -0.43, 'bPrice': 46250.3, 'bQty': 120, 'sPrice': 46258, 'sQty': 30, 'ltq': 15, 'avgPrice': 46364.32, 'quotes': 'Quotes Data', 'OI': '2100195', 'CHNGOI': '', 'ttq': 1434465, 'totalBuyQt': 106890, 'totalSellQ': 170415, 'ttv': '6650.8C', 'trend': '', 'lowerCktLm': 41804.15, 'upperCktLm': 51094, 'ltt': 'Wed Mar 20 11:27:32 2024', 'close': 46449.05, 'exchange': 'NSE Futures & Options', 'stock_name': 'NIFTY BANK', 'product_type': 'Futures', 'expiry_date': '27-Mar-2024'}\n",
      "Ticks: {'symbol': '4.2!36611', 'time': 'Wed Mar 20 11:27:32 2024', 'depth': [{'BestBuyRate-1': 46250.3, 'BestBuyQty-1': 120, 'BuyNoOfOrders-1': 1, 'BuyFlag-1': '', 'BestSellRate-1': 46258, 'BestSellQty-1': 30, 'SellNoOfOrders-1': 2, 'SellFlag-1': ''}, {'BestBuyRate-2': 46250.25, 'BestBuyQty-2': 45, 'BuyNoOfOrders-2': 1, 'BuyFlag-2': '', 'BestSellRate-2': 46258.25, 'BestSellQty-2': 15, 'SellNoOfOrders-2': 1, 'SellFlag-2': ''}, {'BestBuyRate-3': 46249.85, 'BestBuyQty-3': 30, 'BuyNoOfOrders-3': 1, 'BuyFlag-3': '', 'BestSellRate-3': 46258.4, 'BestSellQty-3': 15, 'SellNoOfOrders-3': 1, 'SellFlag-3': ''}, {'BestBuyRate-4': 46249.45, 'BestBuyQty-4': 45, 'BuyNoOfOrders-4': 2, 'BuyFlag-4': '', 'BestSellRate-4': 46258.7, 'BestSellQty-4': 15, 'SellNoOfOrders-4': 1, 'SellFlag-4': ''}, {'BestBuyRate-5': 46249.2, 'BestBuyQty-5': 30, 'BuyNoOfOrders-5': 1, 'BuyFlag-5': '', 'BestSellRate-5': 46259, 'BestSellQty-5': 15, 'SellNoOfOrders-5': 1, 'SellFlag-5': ''}], 'quotes': 'Market Depth', 'stock_name': 'NIFTY BANK', 'product_type': 'Futures', 'expiry_date': '27-Mar-2024'}\n",
      "Ticks: {'symbol': '4.1!36611', 'open': 46475, 'last': 46251.6, 'high': 46699, 'low': 46002, 'change': -0.43, 'bPrice': 46257.35, 'bQty': 30, 'sPrice': 46259, 'sQty': 15, 'ltq': 45, 'avgPrice': 46364.31, 'quotes': 'Quotes Data', 'OI': '2100195', 'CHNGOI': '', 'ttq': 1434510, 'totalBuyQt': 102720, 'totalSellQ': 167160, 'ttv': '6651.01C', 'trend': '', 'lowerCktLm': 41804.15, 'upperCktLm': 51094, 'ltt': 'Wed Mar 20 11:27:33 2024', 'close': 46449.05, 'exchange': 'NSE Futures & Options', 'stock_name': 'NIFTY BANK', 'product_type': 'Futures', 'expiry_date': '27-Mar-2024'}\n",
      "Ticks: {'symbol': '4.2!36611', 'time': 'Wed Mar 20 11:27:33 2024', 'depth': [{'BestBuyRate-1': 46257.35, 'BestBuyQty-1': 30, 'BuyNoOfOrders-1': 1, 'BuyFlag-1': '', 'BestSellRate-1': 46259, 'BestSellQty-1': 15, 'SellNoOfOrders-1': 1, 'SellFlag-1': ''}, {'BestBuyRate-2': 46256.9, 'BestBuyQty-2': 15, 'BuyNoOfOrders-2': 1, 'BuyFlag-2': '', 'BestSellRate-2': 46260, 'BestSellQty-2': 75, 'SellNoOfOrders-2': 2, 'SellFlag-2': ''}, {'BestBuyRate-3': 46256.15, 'BestBuyQty-3': 30, 'BuyNoOfOrders-3': 1, 'BuyFlag-3': '', 'BestSellRate-3': 46261.5, 'BestSellQty-3': 15, 'SellNoOfOrders-3': 1, 'SellFlag-3': ''}, {'BestBuyRate-4': 46255.6, 'BestBuyQty-4': 120, 'BuyNoOfOrders-4': 1, 'BuyFlag-4': '', 'BestSellRate-4': 46261.9, 'BestSellQty-4': 45, 'SellNoOfOrders-4': 1, 'SellFlag-4': ''}, {'BestBuyRate-5': 46255.55, 'BestBuyQty-5': 30, 'BuyNoOfOrders-5': 1, 'BuyFlag-5': '', 'BestSellRate-5': 46264, 'BestSellQty-5': 15, 'SellNoOfOrders-5': 1, 'SellFlag-5': ''}], 'quotes': 'Market Depth', 'stock_name': 'NIFTY BANK', 'product_type': 'Futures', 'expiry_date': '27-Mar-2024'}\n"
     ]
    }
   ],
   "source": [
    "breeze.ws_connect()\n",
    "\n",
    "def on_ticks(ticks):\n",
    "    print(\"Ticks: {}\".format(ticks))\n",
    "\n",
    "breeze.on_ticks = on_ticks\n",
    "\n",
    "breeze.subscribe_feeds(exchange_code=\"NFO\", stock_code=stock, product_type=s_type, expiry_date=exp)\n"
   ]
  },
  {
   "cell_type": "code",
   "execution_count": 8,
   "metadata": {},
   "outputs": [],
   "source": [
    "old_price_long = 0\n",
    "old_price_short = 0\n",
    "target_prencentage = 0.1\n",
    "stop_loss_precentage = 0.2 \n",
    "stop_loss_long = False\n",
    "stop_loss_short = False\n",
    "long_hold = False\n",
    "short_hold = False\n",
    "trade_book = []\n",
    "qty = 30\n",
    "ticks = []\n",
    "\n",
    "\n",
    "\n",
    "\n",
    "\n",
    "log.debug(f'''Initiating All Variables Initial Values are :-\n",
    "            old_price_long = {old_price_long}\n",
    "            old_price_short = {old_price_short}\n",
    "            target_prencantage = {target_prencantage}\n",
    "            stop_loss_precentage = {stop_loss_precentage}\n",
    "            stop_loss_long = {stop_loss_long}\n",
    "            stop_loss_short = {stop_loss_short}\n",
    "            long_hold = {long_hold}\n",
    "            short_hold = {short_hold}\n",
    "            trade_book = {trade_book}\n",
    "            qty = {qty}''')\n"
   ]
  },
  {
   "cell_type": "code",
   "execution_count": 6,
   "metadata": {},
   "outputs": [
    {
     "data": {
      "text/plain": [
       "{'message': 'Stock CNXBAN subscribed successfully'}"
      ]
     },
     "execution_count": 6,
     "metadata": {},
     "output_type": "execute_result"
    },
    {
     "name": "stdout",
     "output_type": "stream",
     "text": [
      "{'interval': '1minute', 'exchange_code': 'NFO', 'stock_code': 'CNXBAN', 'expiry_date': '27-Mar-2024', 'low': '46240.35', 'high': '46271.0', 'open': '46241.7', 'close': '46271.0', 'volume': '2955', 'oi': '2100195', 'datetime': '2024-03-20 11:27:00'}\n",
      "Got False going long\n",
      "Buying at a price 46271.0. total buy price 694065.0 \n",
      " \n",
      "Got False going long\n",
      "Buying at a price 46271.0. total buy price 694065.0 \n",
      " \n"
     ]
    },
    {
     "name": "stderr",
     "output_type": "stream",
     "text": [
      "Exception in thread Thread-63 (_handle_eio_message):\n",
      "Traceback (most recent call last):\n",
      "  File \"c:\\Program Files\\Python310\\lib\\threading.py\", line 1016, in _bootstrap_inner\n",
      "    self.run()\n",
      "  File \"c:\\Program Files\\Python310\\lib\\threading.py\", line 953, in run\n",
      "    self._target(*self._args, **self._kwargs)\n",
      "  File \"C:\\Users\\Ankit\\AppData\\Roaming\\Python\\Python310\\site-packages\\socketio\\client.py\", line 489, in _handle_eio_message\n",
      "    self._handle_event(pkt.namespace, pkt.id, pkt.data)\n",
      "  File \"C:\\Users\\Ankit\\AppData\\Roaming\\Python\\Python310\\site-packages\\socketio\\client.py\", line 361, in _handle_event\n",
      "    r = self._trigger_event(data[0], namespace, *data[1:])\n",
      "  File \"C:\\Users\\Ankit\\AppData\\Roaming\\Python\\Python310\\site-packages\\socketio\\client.py\", line 409, in _trigger_event\n",
      "    return self.handlers[namespace][event](*args)\n",
      "  File \"C:\\Users\\Ankit\\AppData\\Roaming\\Python\\Python310\\site-packages\\breeze_connect\\breeze_connect.py\", line 75, in on_ohlc_stream\n",
      "    self.breeze.on_ticks(data)\n",
      "  File \"C:\\Users\\Ankit\\AppData\\Local\\Temp\\ipykernel_20340\\2159377193.py\", line 21, in on_ticks\n",
      "UnboundLocalError: local variable 'old_price_long' referenced before assignment\n"
     ]
    },
    {
     "name": "stdout",
     "output_type": "stream",
     "text": [
      "{'interval': '1minute', 'exchange_code': 'NFO', 'stock_code': 'CNXBAN', 'expiry_date': '27-Mar-2024', 'low': '46248.0', 'high': '46271.6', 'open': '46271.6', 'close': '46248.0', 'volume': '2415', 'oi': '2099595', 'datetime': '2024-03-20 11:28:00'}\n"
     ]
    },
    {
     "name": "stderr",
     "output_type": "stream",
     "text": [
      "Exception in thread Thread-113 (_handle_eio_message):\n",
      "Traceback (most recent call last):\n",
      "  File \"c:\\Program Files\\Python310\\lib\\threading.py\", line 1016, in _bootstrap_inner\n",
      "    self.run()\n",
      "  File \"c:\\Program Files\\Python310\\lib\\threading.py\", line 953, in run\n",
      "    self._target(*self._args, **self._kwargs)\n",
      "  File \"C:\\Users\\Ankit\\AppData\\Roaming\\Python\\Python310\\site-packages\\socketio\\client.py\", line 489, in _handle_eio_message\n",
      "    self._handle_event(pkt.namespace, pkt.id, pkt.data)\n",
      "  File \"C:\\Users\\Ankit\\AppData\\Roaming\\Python\\Python310\\site-packages\\socketio\\client.py\", line 361, in _handle_event\n",
      "    r = self._trigger_event(data[0], namespace, *data[1:])\n",
      "  File \"C:\\Users\\Ankit\\AppData\\Roaming\\Python\\Python310\\site-packages\\socketio\\client.py\", line 409, in _trigger_event\n",
      "    return self.handlers[namespace][event](*args)\n",
      "  File \"C:\\Users\\Ankit\\AppData\\Roaming\\Python\\Python310\\site-packages\\breeze_connect\\breeze_connect.py\", line 75, in on_ohlc_stream\n",
      "    self.breeze.on_ticks(data)\n",
      "  File \"C:\\Users\\Ankit\\AppData\\Local\\Temp\\ipykernel_20340\\2159377193.py\", line 21, in on_ticks\n",
      "UnboundLocalError: local variable 'old_price_long' referenced before assignment\n"
     ]
    },
    {
     "name": "stdout",
     "output_type": "stream",
     "text": [
      "{'interval': '1minute', 'exchange_code': 'NFO', 'stock_code': 'CNXBAN', 'expiry_date': '27-Mar-2024', 'low': '46243.5', 'high': '46275.0', 'open': '46248.0', 'close': '46268.7', 'volume': '1965', 'oi': '2099595', 'datetime': '2024-03-20 11:29:00'}\n"
     ]
    },
    {
     "name": "stderr",
     "output_type": "stream",
     "text": [
      "Exception in thread Thread-156 (_handle_eio_message):\n",
      "Traceback (most recent call last):\n",
      "  File \"c:\\Program Files\\Python310\\lib\\threading.py\", line 1016, in _bootstrap_inner\n",
      "    self.run()\n",
      "  File \"c:\\Program Files\\Python310\\lib\\threading.py\", line 953, in run\n",
      "    self._target(*self._args, **self._kwargs)\n",
      "  File \"C:\\Users\\Ankit\\AppData\\Roaming\\Python\\Python310\\site-packages\\socketio\\client.py\", line 489, in _handle_eio_message\n",
      "    self._handle_event(pkt.namespace, pkt.id, pkt.data)\n",
      "  File \"C:\\Users\\Ankit\\AppData\\Roaming\\Python\\Python310\\site-packages\\socketio\\client.py\", line 361, in _handle_event\n",
      "    r = self._trigger_event(data[0], namespace, *data[1:])\n",
      "  File \"C:\\Users\\Ankit\\AppData\\Roaming\\Python\\Python310\\site-packages\\socketio\\client.py\", line 409, in _trigger_event\n",
      "    return self.handlers[namespace][event](*args)\n",
      "  File \"C:\\Users\\Ankit\\AppData\\Roaming\\Python\\Python310\\site-packages\\breeze_connect\\breeze_connect.py\", line 75, in on_ohlc_stream\n",
      "    self.breeze.on_ticks(data)\n",
      "  File \"C:\\Users\\Ankit\\AppData\\Local\\Temp\\ipykernel_20340\\2159377193.py\", line 21, in on_ticks\n",
      "UnboundLocalError: local variable 'old_price_long' referenced before assignment\n"
     ]
    },
    {
     "name": "stdout",
     "output_type": "stream",
     "text": [
      "{'interval': '1minute', 'exchange_code': 'NFO', 'stock_code': 'CNXBAN', 'expiry_date': '27-Mar-2024', 'low': '46262.25', 'high': '46275.0', 'open': '46268.7', 'close': '46262.3', 'volume': '1635', 'oi': '2099595', 'datetime': '2024-03-20 11:30:00'}\n"
     ]
    }
   ],
   "source": [
    "breeze.ws_connect()\n",
    "\n",
    "def on_ticks(ticks):\n",
    "    global old_price_long,old_price_short,target_prencentage,stop_loss_precentage,long_hold,short_hold,trade_book,qty\n",
    "\n",
    "    log.debug(f\"variables values when running on_ticks getting ticks :- old_price_long : {old_price_long},old_price_short : {old_price_short},target_prencantage : {target_prencentage},stop_loss_precentage : {stop_loss_precentage},long_hold : {long_hold},short_hold : {short_hold},trade_book : {trade_book},qty : {qty}\")\n",
    "    records_ticks(ticks['datetime'],ticks['open'],ticks['high'],ticks['low'],ticks['close'])\n",
    "\n",
    "    log.info('*******',ticks['datetime'],ticks['open'],ticks['high'],ticks['low'],ticks['close'],'*******\\n')\n",
    "\n",
    "    current_price = ticks['close']\n",
    "    date = ticks['datetime']\n",
    "\n",
    "    per_change_long = ((current_price-old_price_long)/old_price_long)*100 if old_price_long != 0 else 0\n",
    "    per_change_short = ((current_price-old_price_short)/old_price_short)*100 if old_price_short != 0 else 0\n",
    "    price_change_long = current_price-old_price_long\n",
    "    price_change_short = current_price-old_price_short\n",
    "    log.info(f\"% Change in Price for Long position = {per_change_long}\")\n",
    "    log.info(f\"% Change in Price for Short position = {per_change_short} NOTE :: Negetive means profit in short trade same formula has been used to both long and short\") \n",
    "    \n",
    "    if (per_change_long >= target_prencentage) and long_hold :\n",
    "\n",
    "        log.info(f\"Exiting Long Trade since Both the Condition Satisfied per_change_long = {per_change_long} is greater than target_precentage = {target_prencentage} and Holding Position for Long is = {long_hold}\")\n",
    "        long_hold = False\n",
    "        log.debug(f\"setting long_hold to False.value after setting false = {long_hold}\")\n",
    "        profit_long = price_change_long\n",
    "        log.info(f\"Sold at {current_price} * {qty} = {current_price*qty}. Booked Profit of {profit_long} * {qty} = {profit_long*qty}\\n\")\n",
    "        order_value = qty*current_price\n",
    "        trade_book.append({'date':date,'type':'exit long','price':current_price,'order_value':int(order_value),'profit':profit_long*qty})\n",
    "        log.debug(f\"Appended to Trade book ('date':{date},'type':'exit long','price':{current_price},'order_value':{int(order_value)},'profit':{profit_long*qty})\")\n",
    "\n",
    "    if per_change_long <= -stop_loss_precentage and long_hold:\n",
    "\n",
    "        log.warning(f\"Stoploss on Long Position Triggered since Both Condition per_change_long = {per_change_long} is greater than Stoploss = {stop_loss_precentage} in absolute values and Long_hold is True = {long_hold}. NOTE per_change_long should be negetive since it is decreasing.\")\n",
    "        long_hold = False\n",
    "        log.debug(f\"Assigned False value to long_hold : {long_hold}\")\n",
    "        stop_loss_long = True\n",
    "        log.debug(f\"Changed stop_loss_long value to True since it is triggered. new value = {stop_loss_long}\")\n",
    "        loss = current_price-old_price_long\n",
    "        log.warning(f\"Exiting Long Position Booked a LOSS of {loss} * {qty} = {loss*qty}\\n\")\n",
    "        order_value = qty*current_price\n",
    "        trade_book.append({'date':date,'type':'exit long STOPLOSS','price':current_price,'order_value':int(order_value),'profit':loss*qty})\n",
    "        log.debug(f\"Appended to Trade book ('date':{date},'type':'exit long STOPLOSS','price':{current_price},'order_value':{int(order_value)},'profit':{loss*qty})\")\n",
    "\n",
    "    if (not long_hold) and (not stop_loss_long):\n",
    "\n",
    "        log.info(f\"Going Long Since not Holding and neither stoploss is triggered values :: long_hold : {long_hold}, stop_loss_long : {stop_loss_long}\")\n",
    "        long_hold = True\n",
    "\n",
    "        log.info(f'Buying at a price {current_price} * {qty}. total buy price {qty*current_price} \\n ')\n",
    "        old_price_long = current_price\n",
    "        log.debug(f\"Setting global old_price_long to {current_price} and long_hold to {long_hold}\")\n",
    "        order_value = qty*current_price\n",
    "        trade_book.append({'date':date,'type':'long','price':current_price,'order_value':int(order_value),'profit':0})\n",
    "\n",
    "\n",
    "    \n",
    "    if (per_change_short <= -target_prencentage) and short_hold:\n",
    "        log.debug(f\"Exiting Short Trade since Both Condition Satisfied. per_change_short : {per_change_short} is greater than target_prencentage : {target_prencentage} and short hold is True Value : {short_hold}\")\n",
    "        short_hold = False\n",
    "        log.debug(f'Set short_hold to False new Value = {short_hold}')\n",
    "        profit_short = old_price_short-current_price \n",
    "        log.info(f\"Exiting Trade at price {current_price} * qty {qty} = {current_price*qty}\")\n",
    "        log.info(f\"Booked a profit of {profit_long} * {qty} = {profit_long*qty}\")\n",
    "        order_value = qty*current_price\n",
    "        \n",
    "        trade_book.append({'date':date,'type':'exit short','price':current_price,'order_value':int(order_value),'profit':profit_short*qty})\n",
    "\n",
    "\n",
    "\n",
    "    if per_change_short >= stop_loss_precentage and short_hold:\n",
    "        log.warning(f\"Stoploss on Short Position Triggered since per_change_short : {per_change_short} is greater than stop_loss_precentage : {stop_loss_precentage}. in absolute term. and short_hold is True : {short_hold} NOTE :: per_change_should be positive since it is a short trade\")\n",
    "        short_hold = False\n",
    "        log.debug('Assigned new value to short_hold False : {False}')\n",
    "        stop_loss_short = True\n",
    "        log.debug(f'Since Stoploss triggered setting stop_loss_short to Truew new value : {stop_loss_short}')\n",
    "        loss_on_short = old_price_long-current_price\n",
    "        log.warning(f'Exiting short Trade at price : {current_price}. Booked a loss of {loss_on_short} *qty = {loss_on_short*qty}')\n",
    "        \n",
    "        order_value = qty*current_price\n",
    "        trade_book.append({'date':date,'type':'exit short Stoploss','price':current_price,'order_value':int(order_value),'profit':loss*qty})\n",
    "\n",
    "    \n",
    "    if (not short_hold) and (not stop_loss_short):\n",
    "        \n",
    "        log.info(f\"Going Short since Both short_hold : {short_hold} and stop_loss_short : {stop_loss_short} are False. \")\n",
    "        short_hold = True\n",
    "        log.info(f'Shorting at a price {current_price}. total buy price {qty*current_price} \\n ')\n",
    "        old_price_short = current_price\n",
    "        log.debug(f\"Setting old_short_price to {current_price}. value after setting {old_price_short}\")\n",
    "        order_value = qty*current_price\n",
    "        trade_book.append({'date':date,'type':'short','price':current_price,'order_value':int(order_value),'profit':0})\n",
    "    \n",
    "    \n",
    "\n",
    "    \n",
    "\n",
    "    '''if index.hour==15 and index.minute==29:\n",
    "        if long_hold:\n",
    "            long_hold = False\n",
    "            profit_long = current_price-old_price_long\n",
    "            print(f'Ending Trade for day {current_price}. profit = {(current_price-old_price_long)*qty} \\n')\n",
    "            order_value = qty*current_price\n",
    "            tc = order_value*transaction_charge\n",
    "            stt_rs = order_value*stt\n",
    "            charges = brokerage+stt_rs+brokerage+sebi_charges\n",
    "            trade_book.append({'date':index,'type':'exit long','price':current_price,'order_value':int(order_value),'profit':profit_long*qty,'charges':charges,'profit_after_charges':(profit_long*qty)-charges})\n",
    "\n",
    "\n",
    "        if short_hold:\n",
    "            short_hold = False\n",
    "            profit_short = -current_price+old_price_short\n",
    "            print(f'Ending Short at a price {current_price}. profit = {(-current_price+old_price_short)*qty} \\n')\n",
    "            order_value = qty*current_price\n",
    "            tc = order_value*transaction_charge\n",
    "            stamp_rs = order_value*stamp\n",
    "            charges = brokerage+stamp_rs+brokerage+sebi_charges\n",
    "            trade_book.append({'date':index,'type':'exit short','price':current_price,'order_value':int(order_value),'profit':profit_short*qty,'charges':charges,'profit_after_charges':(profit_short*qty)-charges})\n",
    "            \n",
    "    \n",
    "        break'''\n",
    "\n",
    "\n",
    "\n",
    "\n",
    "    \n",
    "    \n",
    "\n",
    "\n",
    "breeze.on_ticks = on_ticks\n",
    "breeze.subscribe_feeds(exchange_code=\"NFO\", stock_code=stock, product_type=s_type, expiry_date=exp,interval='1minute')\n"
   ]
  },
  {
   "cell_type": "code",
   "execution_count": 1,
   "metadata": {},
   "outputs": [
    {
     "ename": "NameError",
     "evalue": "name 'breeze' is not defined",
     "output_type": "error",
     "traceback": [
      "\u001b[1;31m---------------------------------------------------------------------------\u001b[0m",
      "\u001b[1;31mNameError\u001b[0m                                 Traceback (most recent call last)",
      "Cell \u001b[1;32mIn[1], line 1\u001b[0m\n\u001b[1;32m----> 1\u001b[0m \u001b[43mbreeze\u001b[49m\u001b[38;5;241m.\u001b[39mws_disconnect()\n",
      "\u001b[1;31mNameError\u001b[0m: name 'breeze' is not defined"
     ]
    }
   ],
   "source": [
    "breeze.ws_disconnect()"
   ]
  },
  {
   "cell_type": "code",
   "execution_count": null,
   "metadata": {},
   "outputs": [],
   "source": []
  }
 ],
 "metadata": {
  "kernelspec": {
   "display_name": "Python 3",
   "language": "python",
   "name": "python3"
  },
  "language_info": {
   "codemirror_mode": {
    "name": "ipython",
    "version": 3
   },
   "file_extension": ".py",
   "mimetype": "text/x-python",
   "name": "python",
   "nbconvert_exporter": "python",
   "pygments_lexer": "ipython3",
   "version": "3.10.11"
  }
 },
 "nbformat": 4,
 "nbformat_minor": 2
}
