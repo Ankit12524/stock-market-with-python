{
 "cells": [
  {
   "cell_type": "code",
   "execution_count": 1,
   "metadata": {},
   "outputs": [],
   "source": [
    "import pandas as pd\n",
    "import numpy as np\n",
    "from breeze_connect import BreezeConnect\n",
    "import datetime as dt\n",
    "import base64 \n",
    "import socketio\n",
    "\n"
   ]
  },
  {
   "cell_type": "code",
   "execution_count": 2,
   "metadata": {},
   "outputs": [],
   "source": [
    "import logging\n",
    "\n",
    "# Create a logger object\n",
    "log = logging.getLogger()\n",
    "log.setLevel(logging.DEBUG)  # Set the root logger level to DEBUG\n",
    "\n",
    "# Create a file handler for saving all logs\n",
    "file_handler = logging.FileHandler('log_file.txt')\n",
    "file_handler.setLevel(logging.DEBUG)  # Save all levels to file\n",
    "\n",
    "# Create a console handler for printing logs to console\n",
    "console_handler = logging.StreamHandler()\n",
    "console_handler.setLevel(logging.INFO)  # Set console handler level to INFO\n",
    "\n",
    "# Define format for both handlers\n",
    "formatter = logging.Formatter('[%(asctime)s][%(levelname)s] - %(message)s')\n",
    "file_handler.setFormatter(formatter)\n",
    "console_handler.setFormatter(formatter)\n",
    "\n",
    "# Add the handlers to the logger\n",
    "log.addHandler(file_handler)\n",
    "log.addHandler(console_handler)\n",
    "\n",
    "\n"
   ]
  },
  {
   "cell_type": "code",
   "execution_count": 3,
   "metadata": {},
   "outputs": [],
   "source": [
    "with open('ticks.txt', 'a+') as file:\n",
    "        # Perform a for loop\n",
    "        file.write(f\"open,high,low,close\")\n",
    "\n",
    "def records_ticks(datetime,open,high,low,close):\n",
    "    # Open the file in append mode (create if it doesn't exist)\n",
    "    with open('ticks.txt', 'a+') as file:\n",
    "        # Perform a for loop\n",
    "        file.write(f\"{open},{high},{low},{close}\")"
   ]
  },
  {
   "cell_type": "code",
   "execution_count": 4,
   "metadata": {},
   "outputs": [],
   "source": [
    "Key = '73=63fT44781tY4C42L0i3491201v23A'\n",
    "Secret = '11331XF5fm6c5&Y3K2Q99lp28347480+'\n",
    "api_session = '37507590'"
   ]
  },
  {
   "cell_type": "code",
   "execution_count": 5,
   "metadata": {},
   "outputs": [],
   "source": [
    "\n",
    "# Initialize SDK\n",
    "\n",
    "breeze = BreezeConnect(api_key=Key)\n",
    "\n",
    "# Obtain your session key from https://api.icicidirect.com/apiuser/login?api_key=YOUR_API_KEY\n",
    "# Incase your api-key has special characters(like +,=,!) then encode the api key before using in the url as shown below.\n",
    "\n",
    "#print(\"https://api.icicidirect.com/apiuser/login?api_key=\"+urllib.parse.quote_plus(\"your_api_key\"))\n",
    "\n",
    "# Generate Session\n",
    "breeze.generate_session(api_secret=Secret,\n",
    "                        session_token=api_session)\n",
    "\n",
    "\n",
    "# Generate ISO8601 Date/DateTime String\n",
    "import datetime\n",
    "iso_date_string = datetime.datetime.strptime(\"07/12/2023\",\"%d/%m/%Y\").isoformat()[:10] + 'T05:30:00.000Z'\n",
    "iso_date_time_string = datetime.datetime.strptime(\"07/12/2023 23:59:59\",\"%d/%m/%Y %H:%M:%S\").isoformat()[:19] + '.000Z'"
   ]
  },
  {
   "cell_type": "code",
   "execution_count": 6,
   "metadata": {},
   "outputs": [],
   "source": [
    "stock = 'CNXBAN'\n",
    "s_type = 'futures'\n",
    "exp = '27-Mar-2024'"
   ]
  },
  {
   "cell_type": "code",
   "execution_count": null,
   "metadata": {},
   "outputs": [],
   "source": [
    "breeze.ws_connect()\n",
    "\n",
    "def on_ticks(ticks):\n",
    "    print(\"Ticks: {}\".format(ticks))\n",
    "\n",
    "breeze.on_ticks = on_ticks\n",
    "\n",
    "breeze.subscribe_feeds(exchange_code=\"NFO\", stock_code=stock, product_type=s_type, expiry_date=exp)\n"
   ]
  },
  {
   "cell_type": "code",
   "execution_count": 7,
   "metadata": {},
   "outputs": [],
   "source": [
    "old_price_long = 0\n",
    "old_price_short = 0\n",
    "target_prencentage = 0.1\n",
    "stop_loss_precentage = 0.2 \n",
    "stop_loss_long = False\n",
    "stop_loss_short = False\n",
    "long_hold = False\n",
    "short_hold = False\n",
    "trade_book = []\n",
    "qty = 30\n",
    "ticks = []\n",
    "\n",
    "\n",
    "\n",
    "\n",
    "\n",
    "log.debug(f'''Initiating All Variables Initial Values are :-\n",
    "            old_price_long = {old_price_long}\n",
    "            old_price_short = {old_price_short}\n",
    "            target_prencantage = {target_prencentage}\n",
    "            stop_loss_precentage = {stop_loss_precentage}\n",
    "            stop_loss_long = {stop_loss_long}\n",
    "            stop_loss_short = {stop_loss_short}\n",
    "            long_hold = {long_hold}\n",
    "            short_hold = {short_hold}\n",
    "            trade_book = {trade_book}\n",
    "            qty = {qty}''')\n"
   ]
  },
  {
   "cell_type": "code",
   "execution_count": null,
   "metadata": {},
   "outputs": [
    {
     "data": {
      "text/plain": [
       "{'message': 'Stock CNXBAN subscribed successfully'}"
      ]
     },
     "execution_count": 27,
     "metadata": {},
     "output_type": "execute_result"
    },
    {
     "name": "stderr",
     "output_type": "stream",
     "text": [
      "[2024-03-22 12:53:59,474][INFO] - '*******,datetime : 2024-03-22 12:53:00, open : 46906.8, high : 46918.45, low : 46903.4, close : 46916.0,'*******\n",
      "\n",
      "[2024-03-22 12:53:59,476][INFO] - % Change in Price for Long position = 0\n",
      "[2024-03-22 12:53:59,477][INFO] - % Change in Price for Short position = 0 NOTE :: Negetive means profit in short trade same formula has been used to both long and short\n",
      "[2024-03-22 12:53:59,480][INFO] - Going Long Since not Holding and neither stoploss is triggered values :: long_hold : False, stop_loss_long : False\n",
      "[2024-03-22 12:53:59,481][INFO] - Buying at a price 46916.0 * 30. total buy price 1407480.0 \n",
      " \n",
      "[2024-03-22 12:53:59,483][INFO] - Going Short since Both short_hold : False and stop_loss_short : False are False. \n",
      "[2024-03-22 12:53:59,485][INFO] - Shorting at a price 46916.0. total buy price 1407480.0 \n",
      " \n"
     ]
    },
    {
     "name": "stdout",
     "output_type": "stream",
     "text": [
      "<class 'dict'> \n",
      "\n"
     ]
    },
    {
     "name": "stderr",
     "output_type": "stream",
     "text": [
      "[2024-03-22 12:55:03,322][INFO] - '*******,datetime : 2024-03-22 12:54:00, open : 46916.0, high : 46944.95, low : 46915.0, close : 46936.95,'*******\n",
      "\n",
      "[2024-03-22 12:55:03,325][INFO] - % Change in Price for Long position = 0.044654275726824726\n",
      "[2024-03-22 12:55:03,327][INFO] - % Change in Price for Short position = 0.044654275726824726 NOTE :: Negetive means profit in short trade same formula has been used to both long and short\n"
     ]
    },
    {
     "name": "stdout",
     "output_type": "stream",
     "text": [
      "<class 'dict'> \n",
      "\n"
     ]
    },
    {
     "name": "stderr",
     "output_type": "stream",
     "text": [
      "[2024-03-22 12:55:59,917][INFO] - '*******,datetime : 2024-03-22 12:55:00, open : 46936.95, high : 46942.8, low : 46929.55, close : 46930.0,'*******\n",
      "\n",
      "[2024-03-22 12:55:59,920][INFO] - % Change in Price for Long position = 0.02984056611816864\n",
      "[2024-03-22 12:55:59,922][INFO] - % Change in Price for Short position = 0.02984056611816864 NOTE :: Negetive means profit in short trade same formula has been used to both long and short\n"
     ]
    },
    {
     "name": "stdout",
     "output_type": "stream",
     "text": [
      "<class 'dict'> \n",
      "\n"
     ]
    },
    {
     "name": "stderr",
     "output_type": "stream",
     "text": [
      "[2024-03-22 12:57:01,814][INFO] - '*******,datetime : 2024-03-22 12:56:00, open : 46930.0, high : 46940.7, low : 46920.0, close : 46934.95,'*******\n",
      "\n",
      "[2024-03-22 12:57:01,816][INFO] - % Change in Price for Long position = 0.04039133770994349\n",
      "[2024-03-22 12:57:01,818][INFO] - % Change in Price for Short position = 0.04039133770994349 NOTE :: Negetive means profit in short trade same formula has been used to both long and short\n"
     ]
    },
    {
     "name": "stdout",
     "output_type": "stream",
     "text": [
      "<class 'dict'> \n",
      "\n"
     ]
    },
    {
     "name": "stderr",
     "output_type": "stream",
     "text": [
      "[2024-03-22 12:57:59,572][INFO] - '*******,datetime : 2024-03-22 12:57:00, open : 46934.95, high : 46934.95, low : 46920.1, close : 46920.1,'*******\n",
      "\n",
      "[2024-03-22 12:57:59,573][INFO] - % Change in Price for Long position = 0.008739022934603428\n",
      "[2024-03-22 12:57:59,573][INFO] - % Change in Price for Short position = 0.008739022934603428 NOTE :: Negetive means profit in short trade same formula has been used to both long and short\n"
     ]
    },
    {
     "name": "stdout",
     "output_type": "stream",
     "text": [
      "<class 'dict'> \n",
      "\n"
     ]
    },
    {
     "name": "stderr",
     "output_type": "stream",
     "text": [
      "[2024-03-22 12:59:07,856][INFO] - '*******,datetime : 2024-03-22 12:58:00, open : 46920.1, high : 46933.45, low : 46920.1, close : 46925.3,'*******\n",
      "\n",
      "[2024-03-22 12:59:07,859][INFO] - % Change in Price for Long position = 0.019822661778503944\n",
      "[2024-03-22 12:59:07,862][INFO] - % Change in Price for Short position = 0.019822661778503944 NOTE :: Negetive means profit in short trade same formula has been used to both long and short\n"
     ]
    },
    {
     "name": "stdout",
     "output_type": "stream",
     "text": [
      "<class 'dict'> \n",
      "\n"
     ]
    },
    {
     "name": "stderr",
     "output_type": "stream",
     "text": [
      "[2024-03-22 13:00:03,037][INFO] - '*******,datetime : 2024-03-22 12:59:00, open : 46925.3, high : 46933.35, low : 46915.05, close : 46915.05,'*******\n",
      "\n",
      "[2024-03-22 13:00:03,039][INFO] - % Change in Price for Long position = -0.0020248955580123833\n",
      "[2024-03-22 13:00:03,040][INFO] - % Change in Price for Short position = -0.0020248955580123833 NOTE :: Negetive means profit in short trade same formula has been used to both long and short\n"
     ]
    },
    {
     "name": "stdout",
     "output_type": "stream",
     "text": [
      "<class 'dict'> \n",
      "\n"
     ]
    },
    {
     "name": "stderr",
     "output_type": "stream",
     "text": [
      "[2024-03-22 13:01:03,382][INFO] - '*******,datetime : 2024-03-22 13:00:00, open : 46915.05, high : 46922.3, low : 46910.05, close : 46919.65,'*******\n",
      "\n",
      "[2024-03-22 13:01:03,383][INFO] - % Change in Price for Long position = 0.007779861880811354\n",
      "[2024-03-22 13:01:03,384][INFO] - % Change in Price for Short position = 0.007779861880811354 NOTE :: Negetive means profit in short trade same formula has been used to both long and short\n"
     ]
    },
    {
     "name": "stdout",
     "output_type": "stream",
     "text": [
      "<class 'dict'> \n",
      "\n"
     ]
    },
    {
     "name": "stderr",
     "output_type": "stream",
     "text": [
      "[2024-03-22 13:02:00,377][INFO] - '*******,datetime : 2024-03-22 13:01:00, open : 46919.65, high : 46968.05, low : 46919.65, close : 46965.0,'*******\n",
      "\n",
      "[2024-03-22 13:02:00,379][INFO] - % Change in Price for Long position = 0.10444198141359026\n",
      "[2024-03-22 13:02:00,383][INFO] - % Change in Price for Short position = 0.10444198141359026 NOTE :: Negetive means profit in short trade same formula has been used to both long and short\n",
      "[2024-03-22 13:02:00,384][INFO] - Exiting Long Trade since Both the Condition Satisfied per_change_long = 0.10444198141359026 is greater than target_precentage = 0.1 and Holding Position for Long is = True\n",
      "[2024-03-22 13:02:00,387][INFO] - Sold at 46965.0 * 30 = 1408950.0. Booked Profit of 49.0 * 30 = 1470.0\n",
      "\n",
      "[2024-03-22 13:02:00,389][INFO] - Going Long Since not Holding and neither stoploss is triggered values :: long_hold : False, stop_loss_long : False\n",
      "[2024-03-22 13:02:00,390][INFO] - Buying at a price 46965.0 * 30. total buy price 1408950.0 \n",
      " \n"
     ]
    },
    {
     "name": "stdout",
     "output_type": "stream",
     "text": [
      "<class 'dict'> \n",
      "\n"
     ]
    },
    {
     "name": "stderr",
     "output_type": "stream",
     "text": [
      "[2024-03-22 13:03:04,496][INFO] - '*******,datetime : 2024-03-22 13:02:00, open : 46970.45, high : 46988.65, low : 46957.1, close : 46976.3,'*******\n",
      "\n",
      "[2024-03-22 13:03:04,497][INFO] - % Change in Price for Long position = 0.02406047056319155\n",
      "[2024-03-22 13:03:04,498][INFO] - % Change in Price for Short position = 0.12852758120897542 NOTE :: Negetive means profit in short trade same formula has been used to both long and short\n"
     ]
    },
    {
     "name": "stdout",
     "output_type": "stream",
     "text": [
      "<class 'dict'> \n",
      "\n"
     ]
    },
    {
     "name": "stderr",
     "output_type": "stream",
     "text": [
      "[2024-03-22 13:03:59,073][INFO] - '*******,datetime : 2024-03-22 13:03:00, open : 46976.3, high : 46986.5, low : 46971.15, close : 46975.0,'*******\n",
      "\n",
      "[2024-03-22 13:03:59,074][INFO] - % Change in Price for Long position = 0.021292451825827743\n",
      "[2024-03-22 13:03:59,075][INFO] - % Change in Price for Short position = 0.12575667149799644 NOTE :: Negetive means profit in short trade same formula has been used to both long and short\n"
     ]
    },
    {
     "name": "stdout",
     "output_type": "stream",
     "text": [
      "<class 'dict'> \n",
      "\n"
     ]
    },
    {
     "name": "stderr",
     "output_type": "stream",
     "text": [
      "[2024-03-22 13:05:02,013][INFO] - '*******,datetime : 2024-03-22 13:04:00, open : 46975.0, high : 46978.9, low : 46962.15, close : 46972.0,'*******\n",
      "\n",
      "[2024-03-22 13:05:02,014][INFO] - % Change in Price for Long position = 0.01490471627807942\n",
      "[2024-03-22 13:05:02,015][INFO] - % Change in Price for Short position = 0.11936226447267456 NOTE :: Negetive means profit in short trade same formula has been used to both long and short\n"
     ]
    },
    {
     "name": "stdout",
     "output_type": "stream",
     "text": [
      "<class 'dict'> \n",
      "\n"
     ]
    },
    {
     "name": "stderr",
     "output_type": "stream",
     "text": [
      "[2024-03-22 13:06:02,645][INFO] - '*******,datetime : 2024-03-22 13:05:00, open : 46972.0, high : 46975.0, low : 46955.0, close : 46964.05,'*******\n",
      "\n",
      "[2024-03-22 13:06:02,646][INFO] - % Change in Price for Long position = -0.002022782923447439\n",
      "[2024-03-22 13:06:02,647][INFO] - % Change in Price for Short position = 0.10241708585557786 NOTE :: Negetive means profit in short trade same formula has been used to both long and short\n"
     ]
    },
    {
     "name": "stdout",
     "output_type": "stream",
     "text": [
      "<class 'dict'> \n",
      "\n"
     ]
    },
    {
     "name": "stderr",
     "output_type": "stream",
     "text": [
      "[2024-03-22 13:07:06,133][INFO] - '*******,datetime : 2024-03-22 13:06:00, open : 46964.4, high : 46965.0, low : 46941.0, close : 46945.5,'*******\n",
      "\n",
      "[2024-03-22 13:07:06,135][INFO] - % Change in Price for Long position = -0.0415202810603641\n",
      "[2024-03-22 13:07:06,136][INFO] - % Change in Price for Short position = 0.06287833574899822 NOTE :: Negetive means profit in short trade same formula has been used to both long and short\n"
     ]
    },
    {
     "name": "stdout",
     "output_type": "stream",
     "text": [
      "<class 'dict'> \n",
      "\n"
     ]
    },
    {
     "name": "stderr",
     "output_type": "stream",
     "text": [
      "[2024-03-22 13:08:00,414][INFO] - '*******,datetime : 2024-03-22 13:07:00, open : 46945.5, high : 46951.8, low : 46926.35, close : 46935.25,'*******\n",
      "\n",
      "[2024-03-22 13:08:00,415][INFO] - % Change in Price for Long position = -0.06334504418183755\n",
      "[2024-03-22 13:08:00,416][INFO] - % Change in Price for Short position = 0.041030778412481886 NOTE :: Negetive means profit in short trade same formula has been used to both long and short\n"
     ]
    },
    {
     "name": "stdout",
     "output_type": "stream",
     "text": [
      "<class 'dict'> \n",
      "\n"
     ]
    },
    {
     "name": "stderr",
     "output_type": "stream",
     "text": [
      "[2024-03-22 13:09:00,540][INFO] - '*******,datetime : 2024-03-22 13:08:00, open : 46940.05, high : 46950.0, low : 46932.0, close : 46932.45,'*******\n",
      "\n",
      "[2024-03-22 13:09:00,541][INFO] - % Change in Price for Long position = -0.0693069306930755\n",
      "[2024-03-22 13:09:00,541][INFO] - % Change in Price for Short position = 0.035062665188841956 NOTE :: Negetive means profit in short trade same formula has been used to both long and short\n"
     ]
    },
    {
     "name": "stdout",
     "output_type": "stream",
     "text": [
      "<class 'dict'> \n",
      "\n"
     ]
    },
    {
     "name": "stderr",
     "output_type": "stream",
     "text": [
      "[2024-03-22 13:10:00,127][INFO] - '*******,datetime : 2024-03-22 13:09:00, open : 46932.45, high : 46950.0, low : 46926.45, close : 46949.0,'*******\n",
      "\n",
      "[2024-03-22 13:10:00,130][INFO] - % Change in Price for Long position = -0.03406792292132439\n",
      "[2024-03-22 13:10:00,133][INFO] - % Change in Price for Short position = 0.07033847727854037 NOTE :: Negetive means profit in short trade same formula has been used to both long and short\n"
     ]
    },
    {
     "name": "stdout",
     "output_type": "stream",
     "text": [
      "<class 'dict'> \n",
      "\n"
     ]
    },
    {
     "name": "stderr",
     "output_type": "stream",
     "text": [
      "[2024-03-22 13:11:01,252][INFO] - '*******,datetime : 2024-03-22 13:10:00, open : 46949.0, high : 46955.0, low : 46945.0, close : 46951.3,'*******\n",
      "\n",
      "[2024-03-22 13:11:01,255][INFO] - % Change in Price for Long position = -0.02917065900137781\n",
      "[2024-03-22 13:11:01,257][INFO] - % Change in Price for Short position = 0.07524085599795999 NOTE :: Negetive means profit in short trade same formula has been used to both long and short\n"
     ]
    },
    {
     "name": "stdout",
     "output_type": "stream",
     "text": [
      "<class 'dict'> \n",
      "\n"
     ]
    }
   ],
   "source": [
    "breeze.ws_connect()\n",
    "\n",
    "def on_ticks(ticks):\n",
    "    print(type(ticks),'\\n')\n",
    "    \n",
    "    \n",
    "    global old_price_long,old_price_short,target_prencentage,stop_loss_precentage,long_hold,short_hold,trade_book,qty,stop_loss_long,stop_loss_short\n",
    "\n",
    "    log.debug(f\"variables values when running on_ticks getting ticks :- old_price_long : {old_price_long},old_price_short : {old_price_short},target_prencantage : {target_prencentage},stop_loss_precentage : {stop_loss_precentage},long_hold : {long_hold},short_hold : {short_hold},trade_book : {trade_book},qty : {qty}\")\n",
    "    #records_ticks(ticks['datetime'],ticks['open'],ticks['high'],ticks['low'],ticks['close'])\n",
    "\n",
    "    log.info(f\"'*******,datetime : {ticks['datetime']}, open : {ticks['open']}, high : {ticks['high']}, low : {ticks['low']}, close : {ticks['close']},'*******\\n\")\n",
    "    \n",
    "    current_price = float(ticks['close'])\n",
    "    date = ticks['datetime']\n",
    "    \n",
    "    per_change_long = ((current_price-old_price_long)/old_price_long)*100 if old_price_long != 0 else 0\n",
    "    per_change_short = ((current_price-old_price_short)/old_price_short)*100 if old_price_short != 0 else 0\n",
    "    price_change_long = current_price-old_price_long\n",
    "    price_change_short = current_price-old_price_short\n",
    "    log.info(f\"% Change in Price for Long position = {per_change_long}\")\n",
    "    log.info(f\"% Change in Price for Short position = {per_change_short} NOTE :: Negetive means profit in short trade same formula has been used to both long and short\") \n",
    "    \n",
    "    if (per_change_long >= target_prencentage) and long_hold :\n",
    "\n",
    "        log.info(f\"Exiting Long Trade since Both the Condition Satisfied per_change_long = {per_change_long} is greater than target_precentage = {target_prencentage} and Holding Position for Long is = {long_hold}\")\n",
    "        long_hold = False\n",
    "        log.debug(f\"setting long_hold to False.value after setting false = {long_hold}\")\n",
    "        profit_long = price_change_long\n",
    "        log.info(f\"Sold at {current_price} * {qty} = {current_price*qty}. Booked Profit of {profit_long} * {qty} = {profit_long*qty}\\n\")\n",
    "        order_value = qty*current_price\n",
    "        trade_book.append({'date':date,'type':'exit long','price':current_price,'order_value':int(order_value),'profit':profit_long*qty})\n",
    "        log.debug(f\"Appended to Trade book ('date':{date},'type':'exit long','price':{current_price},'order_value':{int(order_value)},'profit':{profit_long*qty})\")\n",
    "\n",
    "    if per_change_long <= -stop_loss_precentage and long_hold:\n",
    "\n",
    "        log.warning(f\"Stoploss on Long Position Triggered since Both Condition per_change_long = {per_change_long} is greater than Stoploss = {stop_loss_precentage} in absolute values and Long_hold is True = {long_hold}. NOTE per_change_long should be negetive since it is decreasing.\")\n",
    "        long_hold = False\n",
    "        log.debug(f\"Assigned False value to long_hold : {long_hold}\")\n",
    "        stop_loss_long = True\n",
    "        log.debug(f\"Changed stop_loss_long value to True since it is triggered. new value = {stop_loss_long}\")\n",
    "        loss = current_price-old_price_long\n",
    "        log.warning(f\"Exiting Long Position Booked a LOSS of {loss} * {qty} = {loss*qty}\\n\")\n",
    "        order_value = qty*current_price\n",
    "        trade_book.append({'date':date,'type':'exit long STOPLOSS','price':current_price,'order_value':int(order_value),'profit':loss*qty})\n",
    "        log.debug(f\"Appended to Trade book ('date':{date},'type':'exit long STOPLOSS','price':{current_price},'order_value':{int(order_value)},'profit':{loss*qty})\")\n",
    "\n",
    "    if (not long_hold) and (not stop_loss_long):\n",
    "\n",
    "        log.info(f\"Going Long Since not Holding and neither stoploss is triggered values :: long_hold : {long_hold}, stop_loss_long : {stop_loss_long}\")\n",
    "        long_hold = True\n",
    "\n",
    "        log.info(f'Buying at a price {current_price} * {qty}. total buy price {qty*current_price} \\n ')\n",
    "        old_price_long = current_price\n",
    "        log.debug(f\"Setting global old_price_long to {current_price} and long_hold to {long_hold}\")\n",
    "        order_value = qty*current_price\n",
    "        trade_book.append({'date':date,'type':'long','price':current_price,'order_value':int(order_value),'profit':0})\n",
    "\n",
    "\n",
    "    \n",
    "    if (per_change_short <= -target_prencentage) and short_hold:\n",
    "        log.debug(f\"Exiting Short Trade since Both Condition Satisfied. per_change_short : {per_change_short} is greater than target_prencentage : {target_prencentage} and short hold is True Value : {short_hold}\")\n",
    "        short_hold = False\n",
    "        log.debug(f'Set short_hold to False new Value = {short_hold}')\n",
    "        profit_short = old_price_short-current_price \n",
    "        log.info(f\"Exiting Trade at price {current_price} * qty {qty} = {current_price*qty}\")\n",
    "        log.info(f\"Booked a profit of {profit_long} * {qty} = {profit_long*qty}\")\n",
    "        order_value = qty*current_price\n",
    "        \n",
    "        trade_book.append({'date':date,'type':'exit short','price':current_price,'order_value':int(order_value),'profit':profit_short*qty})\n",
    "\n",
    "\n",
    "\n",
    "    if per_change_short >= stop_loss_precentage and short_hold:\n",
    "        log.warning(f\"Stoploss on Short Position Triggered since per_change_short : {per_change_short} is greater than stop_loss_precentage : {stop_loss_precentage}. in absolute term. and short_hold is True : {short_hold} NOTE :: per_change_should be positive since it is a short trade\")\n",
    "        short_hold = False\n",
    "        log.debug('Assigned new value to short_hold False : {False}')\n",
    "        stop_loss_short = True\n",
    "        log.debug(f'Since Stoploss triggered setting stop_loss_short to Truew new value : {stop_loss_short}')\n",
    "        loss_on_short = old_price_short-current_price\n",
    "        log.warning(f'Exiting short Trade at price : {current_price}. Booked a loss of {loss_on_short} *qty = {loss_on_short*qty}')\n",
    "        \n",
    "        order_value = qty*current_price\n",
    "        trade_book.append({'date':date,'type':'exit short Stoploss','price':current_price,'order_value':int(order_value),'profit':loss*qty})\n",
    "\n",
    "    \n",
    "    if (not short_hold) and (not stop_loss_short):\n",
    "        \n",
    "        log.info(f\"Going Short since Both short_hold : {short_hold} and stop_loss_short : {stop_loss_short} are False. \")\n",
    "        short_hold = True\n",
    "        log.info(f'Shorting at a price {current_price}. total buy price {qty*current_price} \\n ')\n",
    "        old_price_short = current_price\n",
    "        log.debug(f\"Setting old_short_price to {current_price}. value after setting {old_price_short}\")\n",
    "        order_value = qty*current_price\n",
    "        trade_book.append({'date':date,'type':'short','price':current_price,'order_value':int(order_value),'profit':0})\n",
    "    \n",
    "    \n",
    "\n",
    "    \n",
    "\n",
    "    '''if index.hour==15 and index.minute==29:\n",
    "        if long_hold:\n",
    "            long_hold = False\n",
    "            profit_long = current_price-old_price_long\n",
    "            print(f'Ending Trade for day {current_price}. profit = {(current_price-old_price_long)*qty} \\n')\n",
    "            order_value = qty*current_price\n",
    "            tc = order_value*transaction_charge\n",
    "            stt_rs = order_value*stt\n",
    "            charges = brokerage+stt_rs+brokerage+sebi_charges\n",
    "            trade_book.append({'date':index,'type':'exit long','price':current_price,'order_value':int(order_value),'profit':profit_long*qty,'charges':charges,'profit_after_charges':(profit_long*qty)-charges})\n",
    "\n",
    "\n",
    "        if short_hold:\n",
    "            short_hold = False\n",
    "            profit_short = -current_price+old_price_short\n",
    "            print(f'Ending Short at a price {current_price}. profit = {(-current_price+old_price_short)*qty} \\n')\n",
    "            order_value = qty*current_price\n",
    "            tc = order_value*transaction_charge\n",
    "            stamp_rs = order_value*stamp\n",
    "            charges = brokerage+stamp_rs+brokerage+sebi_charges\n",
    "            trade_book.append({'date':index,'type':'exit short','price':current_price,'order_value':int(order_value),'profit':profit_short*qty,'charges':charges,'profit_after_charges':(profit_short*qty)-charges})\n",
    "            \n",
    "    \n",
    "        break'''\n",
    "\n",
    "\n",
    "\n",
    "\n",
    "    \n",
    "    \n",
    "\n",
    "\n",
    "breeze.on_ticks = on_ticks\n",
    "breeze.subscribe_feeds(exchange_code=\"NFO\", stock_code=stock, product_type=s_type, expiry_date=exp,interval='1minute')\n"
   ]
  },
  {
   "cell_type": "code",
   "execution_count": 25,
   "metadata": {},
   "outputs": [
    {
     "data": {
      "text/plain": [
       "[{'message': 'socket server for rate refresh  has been disconnected.'},\n",
       " {'message': 'socket server for OHLCV Streaming has been disconnected.'},\n",
       " {'message': 'socket server is not connected to order refresh.'}]"
      ]
     },
     "execution_count": 25,
     "metadata": {},
     "output_type": "execute_result"
    }
   ],
   "source": [
    "breeze.ws_disconnect()"
   ]
  },
  {
   "cell_type": "code",
   "execution_count": null,
   "metadata": {},
   "outputs": [],
   "source": []
  }
 ],
 "metadata": {
  "kernelspec": {
   "display_name": "Python 3",
   "language": "python",
   "name": "python3"
  },
  "language_info": {
   "codemirror_mode": {
    "name": "ipython",
    "version": 3
   },
   "file_extension": ".py",
   "mimetype": "text/x-python",
   "name": "python",
   "nbconvert_exporter": "python",
   "pygments_lexer": "ipython3",
   "version": "3.10.11"
  }
 },
 "nbformat": 4,
 "nbformat_minor": 2
}
