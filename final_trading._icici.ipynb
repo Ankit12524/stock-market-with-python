{
 "cells": [
  {
   "cell_type": "code",
   "execution_count": 1,
   "metadata": {},
   "outputs": [],
   "source": [
    "import pandas as pd\n",
    "import numpy as np\n",
    "from breeze_connect import BreezeConnect\n",
    "import datetime as dt\n",
    "import base64 \n",
    "import socketio\n",
    "\n"
   ]
  },
  {
   "cell_type": "code",
   "execution_count": 2,
   "metadata": {},
   "outputs": [],
   "source": [
    "import logging\n",
    "\n",
    "# Create a logger object\n",
    "log = logging.getLogger()\n",
    "log.setLevel(logging.DEBUG)  # Set the root logger level to DEBUG\n",
    "\n",
    "# Create a file handler for saving all logs\n",
    "file_handler = logging.FileHandler('log_file.txt')\n",
    "file_handler.setLevel(logging.DEBUG)  # Save all levels to file\n",
    "\n",
    "# Create a console handler for printing logs to console\n",
    "console_handler = logging.StreamHandler()\n",
    "console_handler.setLevel(logging.INFO)  # Set console handler level to INFO\n",
    "\n",
    "# Define format for both handlers\n",
    "formatter = logging.Formatter('[%(asctime)s][%(levelname)s] - %(message)s')\n",
    "file_handler.setFormatter(formatter)\n",
    "console_handler.setFormatter(formatter)\n",
    "\n",
    "# Add the handlers to the logger\n",
    "log.addHandler(file_handler)\n",
    "log.addHandler(console_handler)\n",
    "\n",
    "\n"
   ]
  },
  {
   "cell_type": "code",
   "execution_count": 3,
   "metadata": {},
   "outputs": [],
   "source": [
    "with open('ticks.txt', 'a+') as file:\n",
    "        # Perform a for loop\n",
    "        file.write(f\"open,high,low,close\")\n",
    "\n",
    "def records_ticks(datetime,open,high,low,close):\n",
    "    # Open the file in append mode (create if it doesn't exist)\n",
    "    with open('ticks.txt', 'a+') as file:\n",
    "        # Perform a for loop\n",
    "        file.write(f\"{open},{high},{low},{close}\")"
   ]
  },
  {
   "cell_type": "code",
   "execution_count": 4,
   "metadata": {},
   "outputs": [],
   "source": [
    "Key = '73=63fT44781tY4C42L0i3491201v23A'\n",
    "Secret = '11331XF5fm6c5&Y3K2Q99lp28347480+'\n",
    "api_session = '37507590'"
   ]
  },
  {
   "cell_type": "code",
   "execution_count": 5,
   "metadata": {},
   "outputs": [],
   "source": [
    "\n",
    "# Initialize SDK\n",
    "\n",
    "breeze = BreezeConnect(api_key=Key)\n",
    "\n",
    "# Obtain your session key from https://api.icicidirect.com/apiuser/login?api_key=YOUR_API_KEY\n",
    "# Incase your api-key has special characters(like +,=,!) then encode the api key before using in the url as shown below.\n",
    "\n",
    "#print(\"https://api.icicidirect.com/apiuser/login?api_key=\"+urllib.parse.quote_plus(\"your_api_key\"))\n",
    "\n",
    "# Generate Session\n",
    "breeze.generate_session(api_secret=Secret,\n",
    "                        session_token=api_session)\n",
    "\n",
    "\n",
    "# Generate ISO8601 Date/DateTime String\n",
    "import datetime\n",
    "iso_date_string = datetime.datetime.strptime(\"07/12/2023\",\"%d/%m/%Y\").isoformat()[:10] + 'T05:30:00.000Z'\n",
    "iso_date_time_string = datetime.datetime.strptime(\"07/12/2023 23:59:59\",\"%d/%m/%Y %H:%M:%S\").isoformat()[:19] + '.000Z'"
   ]
  },
  {
   "cell_type": "code",
   "execution_count": 6,
   "metadata": {},
   "outputs": [],
   "source": [
    "stock = 'CNXBAN'\n",
    "s_type = 'futures'\n",
    "exp = '27-Mar-2024'"
   ]
  },
  {
   "cell_type": "code",
   "execution_count": null,
   "metadata": {},
   "outputs": [],
   "source": [
    "breeze.ws_connect()\n",
    "\n",
    "def on_ticks(ticks):\n",
    "    print(\"Ticks: {}\".format(ticks))\n",
    "\n",
    "breeze.on_ticks = on_ticks\n",
    "\n",
    "breeze.subscribe_feeds(exchange_code=\"NFO\", stock_code=stock, product_type=s_type, expiry_date=exp)\n"
   ]
  },
  {
   "cell_type": "code",
   "execution_count": 7,
   "metadata": {},
   "outputs": [],
   "source": [
    "old_price_long = 0\n",
    "old_price_short = 0\n",
    "target_prencentage = 0.1\n",
    "stop_loss_precentage = 0.2 \n",
    "stop_loss_long = False\n",
    "stop_loss_short = False\n",
    "long_hold = False\n",
    "short_hold = False\n",
    "trade_book = []\n",
    "qty = 30\n",
    "ticks = []\n",
    "\n",
    "\n",
    "\n",
    "\n",
    "\n",
    "log.debug(f'''Initiating All Variables Initial Values are :-\n",
    "            old_price_long = {old_price_long}\n",
    "            old_price_short = {old_price_short}\n",
    "            target_prencantage = {target_prencentage}\n",
    "            stop_loss_precentage = {stop_loss_precentage}\n",
    "            stop_loss_long = {stop_loss_long}\n",
    "            stop_loss_short = {stop_loss_short}\n",
    "            long_hold = {long_hold}\n",
    "            short_hold = {short_hold}\n",
    "            trade_book = {trade_book}\n",
    "            qty = {qty}''')\n"
   ]
  },
  {
   "cell_type": "code",
   "execution_count": null,
   "metadata": {},
   "outputs": [
    {
     "data": {
      "text/plain": [
       "{'message': 'Stock CNXBAN subscribed successfully'}"
      ]
     },
     "execution_count": 30,
     "metadata": {},
     "output_type": "execute_result"
    },
    {
     "name": "stderr",
     "output_type": "stream",
     "text": [
      "[2024-03-22 15:27:00,735][INFO] - '*******,datetime : 2024-03-22 15:26:00, open : 46925.75, high : 46930.0, low : 46917.85, close : 46928.0,'*******\n",
      "\n",
      "[2024-03-22 15:27:00,736][INFO] - % Change in Price for Long position = -0.21900448640258552\n",
      "[2024-03-22 15:27:00,737][INFO] - % Change in Price for Short position = 0.025577628101287407 NOTE :: Negetive means profit in short trade same formula has been used to both long and short\n"
     ]
    },
    {
     "name": "stdout",
     "output_type": "stream",
     "text": [
      "<class 'dict'> \n",
      "\n"
     ]
    },
    {
     "name": "stderr",
     "output_type": "stream",
     "text": [
      "[2024-03-22 15:28:01,051][INFO] - '*******,datetime : 2024-03-22 15:27:00, open : 46928.0, high : 46933.8, low : 46928.0, close : 46932.6,'*******\n",
      "\n",
      "[2024-03-22 15:28:01,052][INFO] - % Change in Price for Long position = -0.20922370351470618\n",
      "[2024-03-22 15:28:01,053][INFO] - % Change in Price for Short position = 0.035382385540111146 NOTE :: Negetive means profit in short trade same formula has been used to both long and short\n"
     ]
    },
    {
     "name": "stdout",
     "output_type": "stream",
     "text": [
      "<class 'dict'> \n",
      "\n"
     ]
    },
    {
     "name": "stderr",
     "output_type": "stream",
     "text": [
      "[2024-03-22 15:29:01,060][INFO] - '*******,datetime : 2024-03-22 15:28:00, open : 46932.6, high : 46933.0, low : 46927.0, close : 46928.5,'*******\n",
      "\n",
      "[2024-03-22 15:29:01,061][INFO] - % Change in Price for Long position = -0.2179413578278157\n",
      "[2024-03-22 15:29:01,062][INFO] - % Change in Price for Short position = 0.026643362605507714 NOTE :: Negetive means profit in short trade same formula has been used to both long and short\n"
     ]
    },
    {
     "name": "stdout",
     "output_type": "stream",
     "text": [
      "<class 'dict'> \n",
      "\n"
     ]
    },
    {
     "name": "stderr",
     "output_type": "stream",
     "text": [
      "[2024-03-22 15:30:00,255][INFO] - '*******,datetime : 2024-03-22 15:29:00, open : 46933.0, high : 46935.0, low : 46924.75, close : 46925.4,'*******\n",
      "\n",
      "[2024-03-22 15:30:00,255][INFO] - % Change in Price for Long position = -0.22453275499138559\n",
      "[2024-03-22 15:30:00,256][INFO] - % Change in Price for Short position = 0.020035808679344902 NOTE :: Negetive means profit in short trade same formula has been used to both long and short\n"
     ]
    },
    {
     "name": "stdout",
     "output_type": "stream",
     "text": [
      "<class 'dict'> \n",
      "\n"
     ]
    }
   ],
   "source": [
    "breeze.ws_connect()\n",
    "\n",
    "def on_ticks(ticks):\n",
    "    print(type(ticks),'\\n')\n",
    "    \n",
    "    \n",
    "    global old_price_long,old_price_short,target_prencentage,stop_loss_precentage,long_hold,short_hold,trade_book,qty,stop_loss_long,stop_loss_short\n",
    "\n",
    "    log.debug(f\"variables values when running on_ticks getting ticks :- old_price_long : {old_price_long},old_price_short : {old_price_short},target_prencantage : {target_prencentage},stop_loss_precentage : {stop_loss_precentage},long_hold : {long_hold},short_hold : {short_hold},trade_book : {trade_book},qty : {qty}\")\n",
    "    #records_ticks(ticks['datetime'],ticks['open'],ticks['high'],ticks['low'],ticks['close'])\n",
    "\n",
    "    log.info(f\"'*******,datetime : {ticks['datetime']}, open : {ticks['open']}, high : {ticks['high']}, low : {ticks['low']}, close : {ticks['close']},'*******\\n\")\n",
    "    \n",
    "    current_price = float(ticks['close'])\n",
    "    date = ticks['datetime']\n",
    "    \n",
    "    per_change_long = ((current_price-old_price_long)/old_price_long)*100 if old_price_long != 0 else 0\n",
    "    per_change_short = ((current_price-old_price_short)/old_price_short)*100 if old_price_short != 0 else 0\n",
    "    price_change_long = current_price-old_price_long\n",
    "    price_change_short = current_price-old_price_short\n",
    "    log.info(f\"% Change in Price for Long position = {per_change_long}\")\n",
    "    log.info(f\"% Change in Price for Short position = {per_change_short} NOTE :: Negetive means profit in short trade same formula has been used to both long and short\") \n",
    "    \n",
    "    if (per_change_long >= target_prencentage) and long_hold :\n",
    "\n",
    "        log.info(f\"Exiting Long Trade since Both the Condition Satisfied per_change_long = {per_change_long} is greater than target_precentage = {target_prencentage} and Holding Position for Long is = {long_hold}\")\n",
    "        long_hold = False\n",
    "        log.debug(f\"setting long_hold to False.value after setting false = {long_hold}\")\n",
    "        profit_long = price_change_long\n",
    "        log.info(f\"Sold at {current_price} * {qty} = {current_price*qty}. Booked Profit of {profit_long} * {qty} = {profit_long*qty}\\n\")\n",
    "        order_value = qty*current_price\n",
    "        trade_book.append({'date':date,'type':'exit long','price':current_price,'order_value':int(order_value),'profit':profit_long*qty})\n",
    "        log.debug(f\"Appended to Trade book ('date':{date},'type':'exit long','price':{current_price},'order_value':{int(order_value)},'profit':{profit_long*qty})\")\n",
    "\n",
    "    if per_change_long <= -stop_loss_precentage and long_hold:\n",
    "\n",
    "        log.warning(f\"Stoploss on Long Position Triggered since Both Condition per_change_long = {per_change_long} is greater than Stoploss = {stop_loss_precentage} in absolute values and Long_hold is True = {long_hold}. NOTE per_change_long should be negetive since it is decreasing.\")\n",
    "        long_hold = False\n",
    "        log.debug(f\"Assigned False value to long_hold : {long_hold}\")\n",
    "        stop_loss_long = True\n",
    "        log.debug(f\"Changed stop_loss_long value to True since it is triggered. new value = {stop_loss_long}\")\n",
    "        loss = current_price-old_price_long\n",
    "        log.warning(f\"Exiting Long Position Booked a LOSS of {loss} * {qty} = {loss*qty}\\n\")\n",
    "        order_value = qty*current_price\n",
    "        trade_book.append({'date':date,'type':'exit long STOPLOSS','price':current_price,'order_value':int(order_value),'profit':loss*qty})\n",
    "        log.debug(f\"Appended to Trade book ('date':{date},'type':'exit long STOPLOSS','price':{current_price},'order_value':{int(order_value)},'profit':{loss*qty})\")\n",
    "\n",
    "    if (not long_hold) and (not stop_loss_long):\n",
    "\n",
    "        log.info(f\"Going Long Since not Holding and neither stoploss is triggered values :: long_hold : {long_hold}, stop_loss_long : {stop_loss_long}\")\n",
    "        long_hold = True\n",
    "\n",
    "        log.info(f'Buying at a price {current_price} * {qty}. total buy price {qty*current_price} \\n ')\n",
    "        old_price_long = current_price\n",
    "        log.debug(f\"Setting global old_price_long to {current_price} and long_hold to {long_hold}\")\n",
    "        order_value = qty*current_price\n",
    "        trade_book.append({'date':date,'type':'long','price':current_price,'order_value':int(order_value),'profit':0})\n",
    "\n",
    "\n",
    "    \n",
    "    if (per_change_short <= -target_prencentage) and short_hold:\n",
    "        log.debug(f\"Exiting Short Trade since Both Condition Satisfied. per_change_short : {per_change_short} is greater than target_prencentage : {target_prencentage} and short hold is True Value : {short_hold}\")\n",
    "        short_hold = False\n",
    "        log.debug(f'Set short_hold to False new Value = {short_hold}')\n",
    "        profit_short = old_price_short-current_price \n",
    "        log.info(f\"Exiting Trade at price {current_price} * qty {qty} = {current_price*qty}\")\n",
    "        log.info(f\"Booked a profit of {profit_long} * {qty} = {profit_long*qty}\")\n",
    "        order_value = qty*current_price\n",
    "        \n",
    "        trade_book.append({'date':date,'type':'exit short','price':current_price,'order_value':int(order_value),'profit':profit_short*qty})\n",
    "\n",
    "\n",
    "\n",
    "    if per_change_short >= stop_loss_precentage and short_hold:\n",
    "        log.warning(f\"Stoploss on Short Position Triggered since per_change_short : {per_change_short} is greater than stop_loss_precentage : {stop_loss_precentage}. in absolute term. and short_hold is True : {short_hold} NOTE :: per_change_should be positive since it is a short trade\")\n",
    "        short_hold = False\n",
    "        log.debug('Assigned new value to short_hold False : {False}')\n",
    "        stop_loss_short = True\n",
    "        log.debug(f'Since Stoploss triggered setting stop_loss_short to Truew new value : {stop_loss_short}')\n",
    "        loss_on_short = old_price_short-current_price\n",
    "        log.warning(f'Exiting short Trade at price : {current_price}. Booked a loss of {loss_on_short} *qty = {loss_on_short*qty}')\n",
    "        \n",
    "        order_value = qty*current_price\n",
    "        trade_book.append({'date':date,'type':'exit short Stoploss','price':current_price,'order_value':int(order_value),'profit':loss*qty})\n",
    "\n",
    "    \n",
    "    if (not short_hold) and (not stop_loss_short):\n",
    "        \n",
    "        log.info(f\"Going Short since Both short_hold : {short_hold} and stop_loss_short : {stop_loss_short} are False. \")\n",
    "        short_hold = True\n",
    "        log.info(f'Shorting at a price {current_price}. total buy price {qty*current_price} \\n ')\n",
    "        old_price_short = current_price\n",
    "        log.debug(f\"Setting old_short_price to {current_price}. value after setting {old_price_short}\")\n",
    "        order_value = qty*current_price\n",
    "        trade_book.append({'date':date,'type':'short','price':current_price,'order_value':int(order_value),'profit':0})\n",
    "    \n",
    "    \n",
    "\n",
    "    \n",
    "\n",
    "    '''if index.hour==15 and index.minute==29:\n",
    "        if long_hold:\n",
    "            long_hold = False\n",
    "            profit_long = current_price-old_price_long\n",
    "            print(f'Ending Trade for day {current_price}. profit = {(current_price-old_price_long)*qty} \\n')\n",
    "            order_value = qty*current_price\n",
    "            tc = order_value*transaction_charge\n",
    "            stt_rs = order_value*stt\n",
    "            charges = brokerage+stt_rs+brokerage+sebi_charges\n",
    "            trade_book.append({'date':index,'type':'exit long','price':current_price,'order_value':int(order_value),'profit':profit_long*qty,'charges':charges,'profit_after_charges':(profit_long*qty)-charges})\n",
    "\n",
    "\n",
    "        if short_hold:\n",
    "            short_hold = False\n",
    "            profit_short = -current_price+old_price_short\n",
    "            print(f'Ending Short at a price {current_price}. profit = {(-current_price+old_price_short)*qty} \\n')\n",
    "            order_value = qty*current_price\n",
    "            tc = order_value*transaction_charge\n",
    "            stamp_rs = order_value*stamp\n",
    "            charges = brokerage+stamp_rs+brokerage+sebi_charges\n",
    "            trade_book.append({'date':index,'type':'exit short','price':current_price,'order_value':int(order_value),'profit':profit_short*qty,'charges':charges,'profit_after_charges':(profit_short*qty)-charges})\n",
    "            \n",
    "    \n",
    "        break'''\n",
    "\n",
    "\n",
    "\n",
    "\n",
    "    \n",
    "    \n",
    "\n",
    "\n",
    "breeze.on_ticks = on_ticks\n",
    "breeze.subscribe_feeds(exchange_code=\"NFO\", stock_code=stock, product_type=s_type, expiry_date=exp,interval='1minute')\n"
   ]
  },
  {
   "cell_type": "code",
   "execution_count": 25,
   "metadata": {},
   "outputs": [
    {
     "data": {
      "text/plain": [
       "[{'message': 'socket server for rate refresh  has been disconnected.'},\n",
       " {'message': 'socket server for OHLCV Streaming has been disconnected.'},\n",
       " {'message': 'socket server is not connected to order refresh.'}]"
      ]
     },
     "execution_count": 25,
     "metadata": {},
     "output_type": "execute_result"
    }
   ],
   "source": [
    "breeze.ws_disconnect()"
   ]
  },
  {
   "cell_type": "code",
   "execution_count": 29,
   "metadata": {},
   "outputs": [
    {
     "data": {
      "text/html": [
       "<div>\n",
       "<style scoped>\n",
       "    .dataframe tbody tr th:only-of-type {\n",
       "        vertical-align: middle;\n",
       "    }\n",
       "\n",
       "    .dataframe tbody tr th {\n",
       "        vertical-align: top;\n",
       "    }\n",
       "\n",
       "    .dataframe thead th {\n",
       "        text-align: right;\n",
       "    }\n",
       "</style>\n",
       "<table border=\"1\" class=\"dataframe\">\n",
       "  <thead>\n",
       "    <tr style=\"text-align: right;\">\n",
       "      <th></th>\n",
       "      <th>date</th>\n",
       "      <th>type</th>\n",
       "      <th>price</th>\n",
       "      <th>order_value</th>\n",
       "      <th>profit</th>\n",
       "    </tr>\n",
       "  </thead>\n",
       "  <tbody>\n",
       "    <tr>\n",
       "      <th>0</th>\n",
       "      <td>2024-03-22 12:53:00</td>\n",
       "      <td>long</td>\n",
       "      <td>46916.0</td>\n",
       "      <td>1407480</td>\n",
       "      <td>0.0</td>\n",
       "    </tr>\n",
       "    <tr>\n",
       "      <th>1</th>\n",
       "      <td>2024-03-22 12:53:00</td>\n",
       "      <td>short</td>\n",
       "      <td>46916.0</td>\n",
       "      <td>1407480</td>\n",
       "      <td>0.0</td>\n",
       "    </tr>\n",
       "    <tr>\n",
       "      <th>2</th>\n",
       "      <td>2024-03-22 13:01:00</td>\n",
       "      <td>exit long</td>\n",
       "      <td>46965.0</td>\n",
       "      <td>1408950</td>\n",
       "      <td>1470.0</td>\n",
       "    </tr>\n",
       "    <tr>\n",
       "      <th>3</th>\n",
       "      <td>2024-03-22 13:01:00</td>\n",
       "      <td>long</td>\n",
       "      <td>46965.0</td>\n",
       "      <td>1408950</td>\n",
       "      <td>0.0</td>\n",
       "    </tr>\n",
       "    <tr>\n",
       "      <th>4</th>\n",
       "      <td>2024-03-22 14:24:00</td>\n",
       "      <td>exit long</td>\n",
       "      <td>47031.0</td>\n",
       "      <td>1410930</td>\n",
       "      <td>1980.0</td>\n",
       "    </tr>\n",
       "    <tr>\n",
       "      <th>5</th>\n",
       "      <td>2024-03-22 14:24:00</td>\n",
       "      <td>long</td>\n",
       "      <td>47031.0</td>\n",
       "      <td>1410930</td>\n",
       "      <td>0.0</td>\n",
       "    </tr>\n",
       "    <tr>\n",
       "      <th>6</th>\n",
       "      <td>2024-03-22 15:06:00</td>\n",
       "      <td>exit long STOPLOSS</td>\n",
       "      <td>46933.8</td>\n",
       "      <td>1408014</td>\n",
       "      <td>-2916.0</td>\n",
       "    </tr>\n",
       "  </tbody>\n",
       "</table>\n",
       "</div>"
      ],
      "text/plain": [
       "                  date                type    price  order_value  profit\n",
       "0  2024-03-22 12:53:00                long  46916.0      1407480     0.0\n",
       "1  2024-03-22 12:53:00               short  46916.0      1407480     0.0\n",
       "2  2024-03-22 13:01:00           exit long  46965.0      1408950  1470.0\n",
       "3  2024-03-22 13:01:00                long  46965.0      1408950     0.0\n",
       "4  2024-03-22 14:24:00           exit long  47031.0      1410930  1980.0\n",
       "5  2024-03-22 14:24:00                long  47031.0      1410930     0.0\n",
       "6  2024-03-22 15:06:00  exit long STOPLOSS  46933.8      1408014 -2916.0"
      ]
     },
     "execution_count": 29,
     "metadata": {},
     "output_type": "execute_result"
    },
    {
     "name": "stderr",
     "output_type": "stream",
     "text": [
      "[2024-03-22 15:26:01,671][INFO] - '*******,datetime : 2024-03-22 15:25:00, open : 46922.0, high : 46930.0, low : 46915.0, close : 46919.9,'*******\n",
      "\n",
      "[2024-03-22 15:26:01,673][INFO] - % Change in Price for Long position = -0.23622716931385374\n",
      "[2024-03-22 15:26:01,673][INFO] - % Change in Price for Short position = 0.008312729132921508 NOTE :: Negetive means profit in short trade same formula has been used to both long and short\n"
     ]
    },
    {
     "name": "stdout",
     "output_type": "stream",
     "text": [
      "<class 'dict'> \n",
      "\n"
     ]
    }
   ],
   "source": [
    "pd.DataFrame(trade_book)"
   ]
  },
  {
   "cell_type": "code",
   "execution_count": null,
   "metadata": {},
   "outputs": [],
   "source": []
  }
 ],
 "metadata": {
  "kernelspec": {
   "display_name": "Python 3",
   "language": "python",
   "name": "python3"
  },
  "language_info": {
   "codemirror_mode": {
    "name": "ipython",
    "version": 3
   },
   "file_extension": ".py",
   "mimetype": "text/x-python",
   "name": "python",
   "nbconvert_exporter": "python",
   "pygments_lexer": "ipython3",
   "version": "3.10.11"
  }
 },
 "nbformat": 4,
 "nbformat_minor": 2
}
