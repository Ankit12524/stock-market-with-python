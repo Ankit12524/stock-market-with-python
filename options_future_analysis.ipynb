{
 "cells": [
  {
   "cell_type": "markdown",
   "metadata": {},
   "source": [
    "## This is for Analysing Options or Futures data or both "
   ]
  },
  {
   "cell_type": "code",
   "execution_count": 33,
   "metadata": {},
   "outputs": [],
   "source": [
    "import pandas as pd\n",
    "import numpy as np\n",
    "import backtesting as bt\n",
    "import breeze_client as bc"
   ]
  },
  {
   "cell_type": "code",
   "execution_count": 34,
   "metadata": {},
   "outputs": [],
   "source": [
    "stock = bc.read_csv('data\\\\NESIND\\\\NESIND_1minute_30d.csv')\n",
    "stock_future = bc.read_csv('data\\\\NESIND\\\\NESIND_futures_30-5-2024_1minute_30d.csv')\n",
    "stock_option = bc.read_csv('data\\\\NESIND\\\\NESIND_options_2600_30-5-2024_1minute_30d.csv')"
   ]
  },
  {
   "cell_type": "code",
   "execution_count": 38,
   "metadata": {},
   "outputs": [],
   "source": [
    "data = stock.join(stock_future,how='inner',rsuffix='_future').join(stock_option,how='inner',rsuffix='_option')"
   ]
  },
  {
   "cell_type": "code",
   "execution_count": 40,
   "metadata": {},
   "outputs": [],
   "source": [
    "data.drop(columns=['exchange_code','stock_code','exchange_code_future','product_type','stock_code_future','exchange_code_option','product_type_option', 'right','stock_code_option', 'strike_price'],inplace=True)"
   ]
  },
  {
   "cell_type": "code",
   "execution_count": 41,
   "metadata": {},
   "outputs": [],
   "source": [
    "df = data[['Close','Close_future','Close_option']]"
   ]
  },
  {
   "cell_type": "code",
   "execution_count": 42,
   "metadata": {},
   "outputs": [
    {
     "name": "stderr",
     "output_type": "stream",
     "text": [
      "C:\\Users\\Ankit\\AppData\\Local\\Temp\\ipykernel_11804\\3756061466.py:6: SettingWithCopyWarning: \n",
      "A value is trying to be set on a copy of a slice from a DataFrame.\n",
      "Try using .loc[row_indexer,col_indexer] = value instead\n",
      "\n",
      "See the caveats in the documentation: https://pandas.pydata.org/pandas-docs/stable/user_guide/indexing.html#returning-a-view-versus-a-copy\n",
      "  df['log'] = df[x].pct_change()*100\n",
      "C:\\Users\\Ankit\\AppData\\Local\\Temp\\ipykernel_11804\\3756061466.py:4: SettingWithCopyWarning: \n",
      "A value is trying to be set on a copy of a slice from a DataFrame.\n",
      "Try using .loc[row_indexer,col_indexer] = value instead\n",
      "\n",
      "See the caveats in the documentation: https://pandas.pydata.org/pandas-docs/stable/user_guide/indexing.html#returning-a-view-versus-a-copy\n",
      "  df['log'+txt[1][0]] = df[x].pct_change()*100\n",
      "C:\\Users\\Ankit\\AppData\\Local\\Temp\\ipykernel_11804\\3756061466.py:4: SettingWithCopyWarning: \n",
      "A value is trying to be set on a copy of a slice from a DataFrame.\n",
      "Try using .loc[row_indexer,col_indexer] = value instead\n",
      "\n",
      "See the caveats in the documentation: https://pandas.pydata.org/pandas-docs/stable/user_guide/indexing.html#returning-a-view-versus-a-copy\n",
      "  df['log'+txt[1][0]] = df[x].pct_change()*100\n"
     ]
    }
   ],
   "source": [
    "for x in df.columns:\n",
    "    txt = x.split('_')\n",
    "    try:\n",
    "        df['log'+txt[1][0]] = df[x].pct_change()*100\n",
    "    except:\n",
    "        df['log'] = df[x].pct_change()*100"
   ]
  },
  {
   "cell_type": "code",
   "execution_count": 43,
   "metadata": {},
   "outputs": [
    {
     "data": {
      "text/html": [
       "<div>\n",
       "<style scoped>\n",
       "    .dataframe tbody tr th:only-of-type {\n",
       "        vertical-align: middle;\n",
       "    }\n",
       "\n",
       "    .dataframe tbody tr th {\n",
       "        vertical-align: top;\n",
       "    }\n",
       "\n",
       "    .dataframe thead th {\n",
       "        text-align: right;\n",
       "    }\n",
       "</style>\n",
       "<table border=\"1\" class=\"dataframe\">\n",
       "  <thead>\n",
       "    <tr style=\"text-align: right;\">\n",
       "      <th></th>\n",
       "      <th>Close</th>\n",
       "      <th>Close_future</th>\n",
       "      <th>Close_option</th>\n",
       "      <th>log</th>\n",
       "      <th>logf</th>\n",
       "      <th>logo</th>\n",
       "    </tr>\n",
       "    <tr>\n",
       "      <th>datetime</th>\n",
       "      <th></th>\n",
       "      <th></th>\n",
       "      <th></th>\n",
       "      <th></th>\n",
       "      <th></th>\n",
       "      <th></th>\n",
       "    </tr>\n",
       "  </thead>\n",
       "  <tbody>\n",
       "    <tr>\n",
       "      <th>2024-04-10 14:19:00</th>\n",
       "      <td>2524.60</td>\n",
       "      <td>2553.00</td>\n",
       "      <td>55.55</td>\n",
       "      <td>NaN</td>\n",
       "      <td>NaN</td>\n",
       "      <td>NaN</td>\n",
       "    </tr>\n",
       "    <tr>\n",
       "      <th>2024-04-10 14:21:00</th>\n",
       "      <td>2523.40</td>\n",
       "      <td>2548.25</td>\n",
       "      <td>55.55</td>\n",
       "      <td>-0.047532</td>\n",
       "      <td>-0.186056</td>\n",
       "      <td>0.000000</td>\n",
       "    </tr>\n",
       "    <tr>\n",
       "      <th>2024-04-10 14:26:00</th>\n",
       "      <td>2525.95</td>\n",
       "      <td>2555.00</td>\n",
       "      <td>55.55</td>\n",
       "      <td>0.101054</td>\n",
       "      <td>0.264888</td>\n",
       "      <td>0.000000</td>\n",
       "    </tr>\n",
       "    <tr>\n",
       "      <th>2024-04-10 14:27:00</th>\n",
       "      <td>2529.95</td>\n",
       "      <td>2555.00</td>\n",
       "      <td>55.55</td>\n",
       "      <td>0.158356</td>\n",
       "      <td>0.000000</td>\n",
       "      <td>0.000000</td>\n",
       "    </tr>\n",
       "    <tr>\n",
       "      <th>2024-04-10 14:28:00</th>\n",
       "      <td>2527.60</td>\n",
       "      <td>2555.00</td>\n",
       "      <td>55.55</td>\n",
       "      <td>-0.092887</td>\n",
       "      <td>0.000000</td>\n",
       "      <td>0.000000</td>\n",
       "    </tr>\n",
       "    <tr>\n",
       "      <th>...</th>\n",
       "      <td>...</td>\n",
       "      <td>...</td>\n",
       "      <td>...</td>\n",
       "      <td>...</td>\n",
       "      <td>...</td>\n",
       "      <td>...</td>\n",
       "    </tr>\n",
       "    <tr>\n",
       "      <th>2024-05-02 15:25:00</th>\n",
       "      <td>2509.25</td>\n",
       "      <td>2533.75</td>\n",
       "      <td>27.90</td>\n",
       "      <td>-0.017930</td>\n",
       "      <td>-0.003947</td>\n",
       "      <td>-1.760563</td>\n",
       "    </tr>\n",
       "    <tr>\n",
       "      <th>2024-05-02 15:26:00</th>\n",
       "      <td>2510.20</td>\n",
       "      <td>2534.25</td>\n",
       "      <td>28.45</td>\n",
       "      <td>0.037860</td>\n",
       "      <td>0.019734</td>\n",
       "      <td>1.971326</td>\n",
       "    </tr>\n",
       "    <tr>\n",
       "      <th>2024-05-02 15:27:00</th>\n",
       "      <td>2508.80</td>\n",
       "      <td>2532.85</td>\n",
       "      <td>27.85</td>\n",
       "      <td>-0.055772</td>\n",
       "      <td>-0.055243</td>\n",
       "      <td>-2.108963</td>\n",
       "    </tr>\n",
       "    <tr>\n",
       "      <th>2024-05-02 15:28:00</th>\n",
       "      <td>2508.90</td>\n",
       "      <td>2533.00</td>\n",
       "      <td>28.45</td>\n",
       "      <td>0.003986</td>\n",
       "      <td>0.005922</td>\n",
       "      <td>2.154399</td>\n",
       "    </tr>\n",
       "    <tr>\n",
       "      <th>2024-05-02 15:29:00</th>\n",
       "      <td>2511.00</td>\n",
       "      <td>2531.65</td>\n",
       "      <td>28.10</td>\n",
       "      <td>0.083702</td>\n",
       "      <td>-0.053296</td>\n",
       "      <td>-1.230228</td>\n",
       "    </tr>\n",
       "  </tbody>\n",
       "</table>\n",
       "<p>4423 rows × 6 columns</p>\n",
       "</div>"
      ],
      "text/plain": [
       "                       Close  Close_future  Close_option       log      logf  \\\n",
       "datetime                                                                       \n",
       "2024-04-10 14:19:00  2524.60       2553.00         55.55       NaN       NaN   \n",
       "2024-04-10 14:21:00  2523.40       2548.25         55.55 -0.047532 -0.186056   \n",
       "2024-04-10 14:26:00  2525.95       2555.00         55.55  0.101054  0.264888   \n",
       "2024-04-10 14:27:00  2529.95       2555.00         55.55  0.158356  0.000000   \n",
       "2024-04-10 14:28:00  2527.60       2555.00         55.55 -0.092887  0.000000   \n",
       "...                      ...           ...           ...       ...       ...   \n",
       "2024-05-02 15:25:00  2509.25       2533.75         27.90 -0.017930 -0.003947   \n",
       "2024-05-02 15:26:00  2510.20       2534.25         28.45  0.037860  0.019734   \n",
       "2024-05-02 15:27:00  2508.80       2532.85         27.85 -0.055772 -0.055243   \n",
       "2024-05-02 15:28:00  2508.90       2533.00         28.45  0.003986  0.005922   \n",
       "2024-05-02 15:29:00  2511.00       2531.65         28.10  0.083702 -0.053296   \n",
       "\n",
       "                         logo  \n",
       "datetime                       \n",
       "2024-04-10 14:19:00       NaN  \n",
       "2024-04-10 14:21:00  0.000000  \n",
       "2024-04-10 14:26:00  0.000000  \n",
       "2024-04-10 14:27:00  0.000000  \n",
       "2024-04-10 14:28:00  0.000000  \n",
       "...                       ...  \n",
       "2024-05-02 15:25:00 -1.760563  \n",
       "2024-05-02 15:26:00  1.971326  \n",
       "2024-05-02 15:27:00 -2.108963  \n",
       "2024-05-02 15:28:00  2.154399  \n",
       "2024-05-02 15:29:00 -1.230228  \n",
       "\n",
       "[4423 rows x 6 columns]"
      ]
     },
     "execution_count": 43,
     "metadata": {},
     "output_type": "execute_result"
    }
   ],
   "source": [
    "df"
   ]
  },
  {
   "cell_type": "code",
   "execution_count": null,
   "metadata": {},
   "outputs": [],
   "source": []
  }
 ],
 "metadata": {
  "kernelspec": {
   "display_name": "Python 3",
   "language": "python",
   "name": "python3"
  },
  "language_info": {
   "codemirror_mode": {
    "name": "ipython",
    "version": 3
   },
   "file_extension": ".py",
   "mimetype": "text/x-python",
   "name": "python",
   "nbconvert_exporter": "python",
   "pygments_lexer": "ipython3",
   "version": "3.10.11"
  }
 },
 "nbformat": 4,
 "nbformat_minor": 2
}
