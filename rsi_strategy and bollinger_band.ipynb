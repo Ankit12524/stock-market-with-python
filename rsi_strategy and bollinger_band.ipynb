{
  "cells": [
    {
      "cell_type": "code",
      "execution_count": 1,
      "metadata": {
        "colab": {
          "base_uri": "https://localhost:8080/",
          "height": 457
        },
        "id": "wD_XiF17vauF",
        "outputId": "f8062ff9-5d81-41df-cbe0-3bbcc563a1ce"
      },
      "outputs": [],
      "source": [
        "import pandas as pd\n",
        "import backtesting as bt\n",
        "import pandas_ta as ta\n",
        "import numpy as np\n",
        "import datetime as dt\n",
        "from IPython.display import clear_output\n",
        "import breeze_client as bc"
      ]
    },
    {
      "cell_type": "code",
      "execution_count": 2,
      "metadata": {},
      "outputs": [
        {
          "data": {
            "text/html": [
              "<div>\n",
              "<style scoped>\n",
              "    .dataframe tbody tr th:only-of-type {\n",
              "        vertical-align: middle;\n",
              "    }\n",
              "\n",
              "    .dataframe tbody tr th {\n",
              "        vertical-align: top;\n",
              "    }\n",
              "\n",
              "    .dataframe thead th {\n",
              "        text-align: right;\n",
              "    }\n",
              "</style>\n",
              "<table border=\"1\" class=\"dataframe\">\n",
              "  <thead>\n",
              "    <tr style=\"text-align: right;\">\n",
              "      <th></th>\n",
              "      <th>Close</th>\n",
              "      <th>exchange_code</th>\n",
              "      <th>High</th>\n",
              "      <th>Low</th>\n",
              "      <th>Open</th>\n",
              "      <th>stock_code</th>\n",
              "      <th>Volume</th>\n",
              "    </tr>\n",
              "    <tr>\n",
              "      <th>datetime</th>\n",
              "      <th></th>\n",
              "      <th></th>\n",
              "      <th></th>\n",
              "      <th></th>\n",
              "      <th></th>\n",
              "      <th></th>\n",
              "      <th></th>\n",
              "    </tr>\n",
              "  </thead>\n",
              "  <tbody>\n",
              "    <tr>\n",
              "      <th>2024-05-08 09:07:15</th>\n",
              "      <td>2502.45</td>\n",
              "      <td>NSE</td>\n",
              "      <td>2502.45</td>\n",
              "      <td>2502.45</td>\n",
              "      <td>2502.45</td>\n",
              "      <td>NESIND</td>\n",
              "      <td>0</td>\n",
              "    </tr>\n",
              "    <tr>\n",
              "      <th>2024-05-08 09:15:02</th>\n",
              "      <td>2502.60</td>\n",
              "      <td>NSE</td>\n",
              "      <td>2502.60</td>\n",
              "      <td>2502.60</td>\n",
              "      <td>2502.60</td>\n",
              "      <td>NESIND</td>\n",
              "      <td>1314</td>\n",
              "    </tr>\n",
              "    <tr>\n",
              "      <th>2024-05-08 09:15:13</th>\n",
              "      <td>2517.95</td>\n",
              "      <td>NSE</td>\n",
              "      <td>2517.95</td>\n",
              "      <td>2517.95</td>\n",
              "      <td>2517.95</td>\n",
              "      <td>NESIND</td>\n",
              "      <td>3382</td>\n",
              "    </tr>\n",
              "    <tr>\n",
              "      <th>2024-05-08 09:15:23</th>\n",
              "      <td>2514.95</td>\n",
              "      <td>NSE</td>\n",
              "      <td>2514.95</td>\n",
              "      <td>2514.95</td>\n",
              "      <td>2514.95</td>\n",
              "      <td>NESIND</td>\n",
              "      <td>5661</td>\n",
              "    </tr>\n",
              "    <tr>\n",
              "      <th>2024-05-08 09:15:33</th>\n",
              "      <td>2516.40</td>\n",
              "      <td>NSE</td>\n",
              "      <td>2516.40</td>\n",
              "      <td>2516.40</td>\n",
              "      <td>2516.40</td>\n",
              "      <td>NESIND</td>\n",
              "      <td>4991</td>\n",
              "    </tr>\n",
              "    <tr>\n",
              "      <th>...</th>\n",
              "      <td>...</td>\n",
              "      <td>...</td>\n",
              "      <td>...</td>\n",
              "      <td>...</td>\n",
              "      <td>...</td>\n",
              "      <td>...</td>\n",
              "      <td>...</td>\n",
              "    </tr>\n",
              "    <tr>\n",
              "      <th>2024-05-08 15:29:55</th>\n",
              "      <td>2539.50</td>\n",
              "      <td>NSE</td>\n",
              "      <td>2539.50</td>\n",
              "      <td>2539.50</td>\n",
              "      <td>2539.50</td>\n",
              "      <td>NESIND</td>\n",
              "      <td>0</td>\n",
              "    </tr>\n",
              "    <tr>\n",
              "      <th>2024-05-08 15:29:56</th>\n",
              "      <td>2539.50</td>\n",
              "      <td>NSE</td>\n",
              "      <td>2539.50</td>\n",
              "      <td>2539.50</td>\n",
              "      <td>2539.50</td>\n",
              "      <td>NESIND</td>\n",
              "      <td>0</td>\n",
              "    </tr>\n",
              "    <tr>\n",
              "      <th>2024-05-08 15:29:57</th>\n",
              "      <td>2539.00</td>\n",
              "      <td>NSE</td>\n",
              "      <td>2539.00</td>\n",
              "      <td>2539.00</td>\n",
              "      <td>2539.00</td>\n",
              "      <td>NESIND</td>\n",
              "      <td>4</td>\n",
              "    </tr>\n",
              "    <tr>\n",
              "      <th>2024-05-08 15:29:58</th>\n",
              "      <td>2537.15</td>\n",
              "      <td>NSE</td>\n",
              "      <td>2537.15</td>\n",
              "      <td>2537.15</td>\n",
              "      <td>2537.15</td>\n",
              "      <td>NESIND</td>\n",
              "      <td>3</td>\n",
              "    </tr>\n",
              "    <tr>\n",
              "      <th>2024-05-08 15:29:59</th>\n",
              "      <td>2537.05</td>\n",
              "      <td>NSE</td>\n",
              "      <td>2537.05</td>\n",
              "      <td>2537.05</td>\n",
              "      <td>2537.05</td>\n",
              "      <td>NESIND</td>\n",
              "      <td>100</td>\n",
              "    </tr>\n",
              "  </tbody>\n",
              "</table>\n",
              "<p>10416 rows × 7 columns</p>\n",
              "</div>"
            ],
            "text/plain": [
              "                       Close exchange_code     High      Low     Open  \\\n",
              "datetime                                                                \n",
              "2024-05-08 09:07:15  2502.45           NSE  2502.45  2502.45  2502.45   \n",
              "2024-05-08 09:15:02  2502.60           NSE  2502.60  2502.60  2502.60   \n",
              "2024-05-08 09:15:13  2517.95           NSE  2517.95  2517.95  2517.95   \n",
              "2024-05-08 09:15:23  2514.95           NSE  2514.95  2514.95  2514.95   \n",
              "2024-05-08 09:15:33  2516.40           NSE  2516.40  2516.40  2516.40   \n",
              "...                      ...           ...      ...      ...      ...   \n",
              "2024-05-08 15:29:55  2539.50           NSE  2539.50  2539.50  2539.50   \n",
              "2024-05-08 15:29:56  2539.50           NSE  2539.50  2539.50  2539.50   \n",
              "2024-05-08 15:29:57  2539.00           NSE  2539.00  2539.00  2539.00   \n",
              "2024-05-08 15:29:58  2537.15           NSE  2537.15  2537.15  2537.15   \n",
              "2024-05-08 15:29:59  2537.05           NSE  2537.05  2537.05  2537.05   \n",
              "\n",
              "                    stock_code  Volume  \n",
              "datetime                                \n",
              "2024-05-08 09:07:15     NESIND       0  \n",
              "2024-05-08 09:15:02     NESIND    1314  \n",
              "2024-05-08 09:15:13     NESIND    3382  \n",
              "2024-05-08 09:15:23     NESIND    5661  \n",
              "2024-05-08 09:15:33     NESIND    4991  \n",
              "...                        ...     ...  \n",
              "2024-05-08 15:29:55     NESIND       0  \n",
              "2024-05-08 15:29:56     NESIND       0  \n",
              "2024-05-08 15:29:57     NESIND       4  \n",
              "2024-05-08 15:29:58     NESIND       3  \n",
              "2024-05-08 15:29:59     NESIND     100  \n",
              "\n",
              "[10416 rows x 7 columns]"
            ]
          },
          "execution_count": 2,
          "metadata": {},
          "output_type": "execute_result"
        }
      ],
      "source": [
        "filename = 'data/NESIND/NESIND_1second_08-05-2024.csv'\n",
        "data = bc.read_csv(filename)\n",
        "data"
      ]
    },
    {
      "cell_type": "code",
      "execution_count": 10,
      "metadata": {},
      "outputs": [],
      "source": [
        "data.reset_index(inplace=True)"
      ]
    },
    {
      "cell_type": "code",
      "execution_count": 4,
      "metadata": {},
      "outputs": [],
      "source": [
        "def BBands_indicator(data,length,sd):\n",
        "  bbands= ta.bbands(data.Close.s,length,sd)\n",
        "  return bbands.to_numpy().T[:3]\n",
        "\n",
        "def BBands_width(data,length,sd):\n",
        "  bbands = ta.bbands(data.Close.s,length,sd)\n",
        "  return bbands.to_numpy().T[3]\n",
        "\n",
        "def BBands_per(data,length,sd):\n",
        "  bbands = ta.bbands(data.Close.s,length,sd)\n",
        "  return bbands.to_numpy().T[4]"
      ]
    },
    {
      "cell_type": "code",
      "execution_count": 5,
      "metadata": {},
      "outputs": [],
      "source": [
        "class rsi(bt.Strategy):\n",
        "\n",
        "    target = 9\n",
        "    rsi_length = 14\n",
        "    rsi_upperband = 70\n",
        "    rsi_lowerband = 30\n",
        "    bb_length = 20\n",
        "    bb_sd = 1\n",
        "    \n",
        "\n",
        "\n",
        "\n",
        "    def init(self):\n",
        "        self.rsi = self.I(ta.rsi,self.data.Close.s,self.rsi_length)\n",
        "        self.vema = self.I(ta.ema,self.data.Volume.s,7)\n",
        "        self.bbands = self.I(BBands_indicator,self.data,self.bb_length,self.bb_sd)\n",
        "\n",
        "    \n",
        "    def next(self):\n",
        "        \n",
        "        price = self.data.Close[-1]\n",
        "        current_rsi = self.rsi[-1]\n",
        "\n",
        "        vema = self.vema[-1]\n",
        "        volume = self.data.Volume[-1]\n",
        "        \n",
        "\n",
        "\n",
        "        target= self.target/10\n",
        "        target_precent = target/100\n",
        "        target_price = (1-target_precent)*price\n",
        "\n",
        "\n",
        "        \n",
        "\n",
        "        if self.rsi_upperband <= current_rsi :#and vema < volume:\n",
        "\n",
        "            if self.position.is_long:\n",
        "                self.position.close()\n",
        "\n",
        "            if not self.position.is_short:\n",
        "                self.sell(size = 200)\n",
        "\n",
        "        if self.rsi_lowerband >= current_rsi:\n",
        "\n",
        "            if not self.position.is_long:\n",
        "                self.buy(size=200)\n",
        "\n",
        "            if self.position.is_short:\n",
        "                self.position.close()\n",
        "            \n",
        "\n",
        "\n",
        "        \n",
        "    "
      ]
    },
    {
      "cell_type": "code",
      "execution_count": 11,
      "metadata": {},
      "outputs": [
        {
          "name": "stderr",
          "output_type": "stream",
          "text": [
            "C:\\Users\\Ankit\\AppData\\Local\\Temp\\ipykernel_4808\\188491853.py:1: UserWarning: Data index is not datetime. Assuming simple periods, but `pd.DateTimeIndex` is advised.\n",
            "  eng = bt.Backtest(data,rsi,cash=4000000,commission=0.002)\n"
          ]
        }
      ],
      "source": [
        "eng = bt.Backtest(data,rsi,cash=4000000,commission=0.002)"
      ]
    },
    {
      "cell_type": "code",
      "execution_count": 12,
      "metadata": {},
      "outputs": [
        {
          "data": {
            "text/plain": [
              "Start                                     0.0\n",
              "End                                   10415.0\n",
              "Duration                              10415.0\n",
              "Exposure Time [%]                   99.798387\n",
              "Equity Final [$]                   3944267.28\n",
              "Equity Peak [$]                    4000613.18\n",
              "Return [%]                          -1.393318\n",
              "Buy & Hold Return [%]                1.382645\n",
              "Return (Ann.) [%]                         0.0\n",
              "Volatility (Ann.) [%]                     NaN\n",
              "Sharpe Ratio                              NaN\n",
              "Sortino Ratio                             NaN\n",
              "Calmar Ratio                              0.0\n",
              "Max. Drawdown [%]                   -1.408432\n",
              "Avg. Drawdown [%]                   -0.188137\n",
              "Max. Drawdown Duration                10359.0\n",
              "Avg. Drawdown Duration               1298.875\n",
              "# Trades                                 51.0\n",
              "Win Rate [%]                              0.0\n",
              "Best Trade [%]                      -0.032048\n",
              "Worst Trade [%]                     -0.549506\n",
              "Avg. Trade [%]                      -0.217101\n",
              "Max. Trade Duration                    1410.0\n",
              "Avg. Trade Duration                203.803922\n",
              "Profit Factor                             0.0\n",
              "Expectancy [%]                      -0.217015\n",
              "SQN                                -11.739118\n",
              "_strategy                                 rsi\n",
              "_equity_curve                        Equit...\n",
              "_trades                       Size  EntryB...\n",
              "dtype: object"
            ]
          },
          "execution_count": 12,
          "metadata": {},
          "output_type": "execute_result"
        }
      ],
      "source": [
        "stats = eng.run()\n",
        "stats"
      ]
    },
    {
      "cell_type": "code",
      "execution_count": 13,
      "metadata": {},
      "outputs": [
        {
          "name": "stderr",
          "output_type": "stream",
          "text": [
            "C:\\Users\\Ankit\\AppData\\Roaming\\Python\\Python310\\site-packages\\backtesting\\_plotting.py:659: UserWarning: found multiple competing values for 'toolbar.active_drag' property; using the latest value\n",
            "  fig = gridplot(\n",
            "C:\\Users\\Ankit\\AppData\\Roaming\\Python\\Python310\\site-packages\\backtesting\\_plotting.py:659: UserWarning: found multiple competing values for 'toolbar.active_scroll' property; using the latest value\n",
            "  fig = gridplot(\n"
          ]
        },
        {
          "data": {
            "text/html": [
              "<div style=\"display: table;\"><div style=\"display: table-row;\"><div style=\"display: table-cell;\"><b title=\"bokeh.models.plots.GridPlot\">GridPlot</b>(</div><div style=\"display: table-cell;\">id&nbsp;=&nbsp;'p1400', <span id=\"p1427\" style=\"cursor: pointer;\">&hellip;)</span></div></div><div class=\"p1426\" style=\"display: none;\"><div style=\"display: table-cell;\"></div><div style=\"display: table-cell;\">align&nbsp;=&nbsp;'auto',</div></div><div class=\"p1426\" style=\"display: none;\"><div style=\"display: table-cell;\"></div><div style=\"display: table-cell;\">aspect_ratio&nbsp;=&nbsp;None,</div></div><div class=\"p1426\" style=\"display: none;\"><div style=\"display: table-cell;\"></div><div style=\"display: table-cell;\">children&nbsp;=&nbsp;[(figure(id='p1044', ...), 0, 0), (figure(id='p1141', ...), 1, 0), (figure(id='p1002', ...), 2, 0), (figure(id='p1196', ...), 3, 0), (figure(id='p1269', ...), 4, 0), (figure(id='p1315', ...), 5, 0)],</div></div><div class=\"p1426\" style=\"display: none;\"><div style=\"display: table-cell;\"></div><div style=\"display: table-cell;\">cols&nbsp;=&nbsp;None,</div></div><div class=\"p1426\" style=\"display: none;\"><div style=\"display: table-cell;\"></div><div style=\"display: table-cell;\">context_menu&nbsp;=&nbsp;None,</div></div><div class=\"p1426\" style=\"display: none;\"><div style=\"display: table-cell;\"></div><div style=\"display: table-cell;\">css_classes&nbsp;=&nbsp;[],</div></div><div class=\"p1426\" style=\"display: none;\"><div style=\"display: table-cell;\"></div><div style=\"display: table-cell;\">css_variables&nbsp;=&nbsp;{},</div></div><div class=\"p1426\" style=\"display: none;\"><div style=\"display: table-cell;\"></div><div style=\"display: table-cell;\">disabled&nbsp;=&nbsp;False,</div></div><div class=\"p1426\" style=\"display: none;\"><div style=\"display: table-cell;\"></div><div style=\"display: table-cell;\">elements&nbsp;=&nbsp;[],</div></div><div class=\"p1426\" style=\"display: none;\"><div style=\"display: table-cell;\"></div><div style=\"display: table-cell;\">flow_mode&nbsp;=&nbsp;'block',</div></div><div class=\"p1426\" style=\"display: none;\"><div style=\"display: table-cell;\"></div><div style=\"display: table-cell;\">height&nbsp;=&nbsp;None,</div></div><div class=\"p1426\" style=\"display: none;\"><div style=\"display: table-cell;\"></div><div style=\"display: table-cell;\">height_policy&nbsp;=&nbsp;'auto',</div></div><div class=\"p1426\" style=\"display: none;\"><div style=\"display: table-cell;\"></div><div style=\"display: table-cell;\">js_event_callbacks&nbsp;=&nbsp;{},</div></div><div class=\"p1426\" style=\"display: none;\"><div style=\"display: table-cell;\"></div><div style=\"display: table-cell;\">js_property_callbacks&nbsp;=&nbsp;{},</div></div><div class=\"p1426\" style=\"display: none;\"><div style=\"display: table-cell;\"></div><div style=\"display: table-cell;\">margin&nbsp;=&nbsp;None,</div></div><div class=\"p1426\" style=\"display: none;\"><div style=\"display: table-cell;\"></div><div style=\"display: table-cell;\">max_height&nbsp;=&nbsp;None,</div></div><div class=\"p1426\" style=\"display: none;\"><div style=\"display: table-cell;\"></div><div style=\"display: table-cell;\">max_width&nbsp;=&nbsp;None,</div></div><div class=\"p1426\" style=\"display: none;\"><div style=\"display: table-cell;\"></div><div style=\"display: table-cell;\">min_height&nbsp;=&nbsp;None,</div></div><div class=\"p1426\" style=\"display: none;\"><div style=\"display: table-cell;\"></div><div style=\"display: table-cell;\">min_width&nbsp;=&nbsp;None,</div></div><div class=\"p1426\" style=\"display: none;\"><div style=\"display: table-cell;\"></div><div style=\"display: table-cell;\">name&nbsp;=&nbsp;None,</div></div><div class=\"p1426\" style=\"display: none;\"><div style=\"display: table-cell;\"></div><div style=\"display: table-cell;\">resizable&nbsp;=&nbsp;False,</div></div><div class=\"p1426\" style=\"display: none;\"><div style=\"display: table-cell;\"></div><div style=\"display: table-cell;\">rows&nbsp;=&nbsp;None,</div></div><div class=\"p1426\" style=\"display: none;\"><div style=\"display: table-cell;\"></div><div style=\"display: table-cell;\">sizing_mode&nbsp;=&nbsp;'stretch_width',</div></div><div class=\"p1426\" style=\"display: none;\"><div style=\"display: table-cell;\"></div><div style=\"display: table-cell;\">spacing&nbsp;=&nbsp;0,</div></div><div class=\"p1426\" style=\"display: none;\"><div style=\"display: table-cell;\"></div><div style=\"display: table-cell;\">styles&nbsp;=&nbsp;{},</div></div><div class=\"p1426\" style=\"display: none;\"><div style=\"display: table-cell;\"></div><div style=\"display: table-cell;\">stylesheets&nbsp;=&nbsp;[],</div></div><div class=\"p1426\" style=\"display: none;\"><div style=\"display: table-cell;\"></div><div style=\"display: table-cell;\">subscribed_events&nbsp;=&nbsp;PropertyValueSet(),</div></div><div class=\"p1426\" style=\"display: none;\"><div style=\"display: table-cell;\"></div><div style=\"display: table-cell;\">syncable&nbsp;=&nbsp;True,</div></div><div class=\"p1426\" style=\"display: none;\"><div style=\"display: table-cell;\"></div><div style=\"display: table-cell;\">tags&nbsp;=&nbsp;[],</div></div><div class=\"p1426\" style=\"display: none;\"><div style=\"display: table-cell;\"></div><div style=\"display: table-cell;\">toolbar&nbsp;=&nbsp;Toolbar(id='p1399', ...),</div></div><div class=\"p1426\" style=\"display: none;\"><div style=\"display: table-cell;\"></div><div style=\"display: table-cell;\">toolbar_location&nbsp;=&nbsp;'right',</div></div><div class=\"p1426\" style=\"display: none;\"><div style=\"display: table-cell;\"></div><div style=\"display: table-cell;\">visible&nbsp;=&nbsp;True,</div></div><div class=\"p1426\" style=\"display: none;\"><div style=\"display: table-cell;\"></div><div style=\"display: table-cell;\">width&nbsp;=&nbsp;None,</div></div><div class=\"p1426\" style=\"display: none;\"><div style=\"display: table-cell;\"></div><div style=\"display: table-cell;\">width_policy&nbsp;=&nbsp;'auto')</div></div></div>\n",
              "<script>\n",
              "(function() {\n",
              "  let expanded = false;\n",
              "  const ellipsis = document.getElementById(\"p1427\");\n",
              "  ellipsis.addEventListener(\"click\", function() {\n",
              "    const rows = document.getElementsByClassName(\"p1426\");\n",
              "    for (let i = 0; i < rows.length; i++) {\n",
              "      const el = rows[i];\n",
              "      el.style.display = expanded ? \"none\" : \"table-row\";\n",
              "    }\n",
              "    ellipsis.innerHTML = expanded ? \"&hellip;)\" : \"&lsaquo;&lsaquo;&lsaquo;\";\n",
              "    expanded = !expanded;\n",
              "  });\n",
              "})();\n",
              "</script>\n"
            ],
            "text/plain": [
              "GridPlot(id='p1400', ...)"
            ]
          },
          "execution_count": 13,
          "metadata": {},
          "output_type": "execute_result"
        }
      ],
      "source": [
        "eng.plot()"
      ]
    },
    {
      "cell_type": "code",
      "execution_count": 9,
      "metadata": {},
      "outputs": [
        {
          "name": "stderr",
          "output_type": "stream",
          "text": [
            "c:\\Users\\himan\\AppData\\Local\\Programs\\Python\\Python310\\lib\\site-packages\\backtesting\\backtesting.py:1488: UserWarning: Searching for best of 680 configurations.\n",
            "  output = _optimize_grid()\n",
            "c:\\Users\\himan\\AppData\\Local\\Programs\\Python\\Python310\\lib\\site-packages\\backtesting\\_stats.py:122: RuntimeWarning: divide by zero encountered in scalar divide\n",
            "  s.loc['Sortino Ratio'] = np.clip((annualized_return - risk_free_rate) / (np.sqrt(np.mean(day_returns.clip(-np.inf, 0)**2)) * np.sqrt(annual_trading_days)), 0, np.inf)  # noqa: E501\n",
            "c:\\Users\\himan\\AppData\\Local\\Programs\\Python\\Python310\\lib\\site-packages\\backtesting\\_stats.py:122: RuntimeWarning: divide by zero encountered in scalar divide\n",
            "  s.loc['Sortino Ratio'] = np.clip((annualized_return - risk_free_rate) / (np.sqrt(np.mean(day_returns.clip(-np.inf, 0)**2)) * np.sqrt(annual_trading_days)), 0, np.inf)  # noqa: E501\n",
            "c:\\Users\\himan\\AppData\\Local\\Programs\\Python\\Python310\\lib\\site-packages\\backtesting\\_stats.py:122: RuntimeWarning: divide by zero encountered in scalar divide\n",
            "  s.loc['Sortino Ratio'] = np.clip((annualized_return - risk_free_rate) / (np.sqrt(np.mean(day_returns.clip(-np.inf, 0)**2)) * np.sqrt(annual_trading_days)), 0, np.inf)  # noqa: E501\n",
            "c:\\Users\\himan\\AppData\\Local\\Programs\\Python\\Python310\\lib\\site-packages\\backtesting\\_stats.py:122: RuntimeWarning: divide by zero encountered in scalar divide\n",
            "  s.loc['Sortino Ratio'] = np.clip((annualized_return - risk_free_rate) / (np.sqrt(np.mean(day_returns.clip(-np.inf, 0)**2)) * np.sqrt(annual_trading_days)), 0, np.inf)  # noqa: E501\n",
            "c:\\Users\\himan\\AppData\\Local\\Programs\\Python\\Python310\\lib\\site-packages\\backtesting\\_stats.py:122: RuntimeWarning: divide by zero encountered in scalar divide\n",
            "  s.loc['Sortino Ratio'] = np.clip((annualized_return - risk_free_rate) / (np.sqrt(np.mean(day_returns.clip(-np.inf, 0)**2)) * np.sqrt(annual_trading_days)), 0, np.inf)  # noqa: E501\n",
            "c:\\Users\\himan\\AppData\\Local\\Programs\\Python\\Python310\\lib\\site-packages\\backtesting\\_stats.py:122: RuntimeWarning: divide by zero encountered in scalar divide\n",
            "  s.loc['Sortino Ratio'] = np.clip((annualized_return - risk_free_rate) / (np.sqrt(np.mean(day_returns.clip(-np.inf, 0)**2)) * np.sqrt(annual_trading_days)), 0, np.inf)  # noqa: E501\n",
            "c:\\Users\\himan\\AppData\\Local\\Programs\\Python\\Python310\\lib\\site-packages\\backtesting\\_stats.py:122: RuntimeWarning: divide by zero encountered in scalar divide\n",
            "  s.loc['Sortino Ratio'] = np.clip((annualized_return - risk_free_rate) / (np.sqrt(np.mean(day_returns.clip(-np.inf, 0)**2)) * np.sqrt(annual_trading_days)), 0, np.inf)  # noqa: E501\n"
          ]
        },
        {
          "data": {
            "text/plain": [
              "Start                     2024-01-29 09:05:00\n",
              "End                       2024-04-26 15:25:00\n",
              "Duration                     88 days 06:20:00\n",
              "Exposure Time [%]                   83.380527\n",
              "Equity Final [$]                   3165561.04\n",
              "Equity Peak [$]                     4000000.0\n",
              "Return [%]                         -20.860974\n",
              "Buy & Hold Return [%]                0.517696\n",
              "Return (Ann.) [%]                  -61.658674\n",
              "Volatility (Ann.) [%]                1.702935\n",
              "Sharpe Ratio                              0.0\n",
              "Sortino Ratio                             0.0\n",
              "Calmar Ratio                              0.0\n",
              "Max. Drawdown [%]                  -20.860974\n",
              "Avg. Drawdown [%]                  -20.860974\n",
              "Max. Drawdown Duration       88 days 05:30:00\n",
              "Avg. Drawdown Duration       88 days 05:30:00\n",
              "# Trades                                  838\n",
              "Win Rate [%]                         15.75179\n",
              "Best Trade [%]                       1.439869\n",
              "Worst Trade [%]                     -1.020333\n",
              "Avg. Trade [%]                      -0.197134\n",
              "Max. Trade Duration           3 days 18:25:00\n",
              "Avg. Trade Duration           0 days 01:32:00\n",
              "Profit Factor                        0.234592\n",
              "Expectancy [%]                      -0.196794\n",
              "SQN                                -21.736727\n",
              "_strategy                 rsi(rsi_length=5...\n",
              "_equity_curve                             ...\n",
              "_trades                        Size  Entry...\n",
              "dtype: object"
            ]
          },
          "execution_count": 9,
          "metadata": {},
          "output_type": "execute_result"
        }
      ],
      "source": [
        "def optim_func(series):\n",
        "\n",
        "    if series['Win Rate [%]'] > 65 and series['# Trades'] > 30:\n",
        "        return series['Return [%]']\n",
        "    \n",
        "    \n",
        "\n",
        "\n",
        "    else:\n",
        "        return -1000000\n",
        "\n",
        "opt_stats,heatmap = eng.optimize(\n",
        "    rsi_length = range(5,22),\n",
        "    rsi_upperband = range(45,85),\n",
        "    \n",
        "    maximize = optim_func,\n",
        "    \n",
        "    return_heatmap = True,\n",
        "    max_tries = 1000\n",
        "\n",
        ")\n",
        "opt_stats"
      ]
    },
    {
      "cell_type": "code",
      "execution_count": 61,
      "metadata": {},
      "outputs": [
        {
          "data": {
            "text/plain": [
              "Start                     2024-01-29 09:05:00\n",
              "End                       2024-04-26 15:25:00\n",
              "Duration                     88 days 06:20:00\n",
              "Exposure Time [%]                   27.641037\n",
              "Equity Final [$]                   4016567.24\n",
              "Equity Peak [$]                    4028913.36\n",
              "Return [%]                           0.414181\n",
              "Buy & Hold Return [%]                0.517696\n",
              "Return (Ann.) [%]                     1.72217\n",
              "Volatility (Ann.) [%]                   1.465\n",
              "Sharpe Ratio                         1.175543\n",
              "Sortino Ratio                        1.844217\n",
              "Calmar Ratio                          3.83626\n",
              "Max. Drawdown [%]                   -0.448919\n",
              "Avg. Drawdown [%]                   -0.080914\n",
              "Max. Drawdown Duration       38 days 01:25:00\n",
              "Avg. Drawdown Duration        2 days 00:38:00\n",
              "# Trades                                   19\n",
              "Win Rate [%]                        57.894737\n",
              "Best Trade [%]                        1.47955\n",
              "Worst Trade [%]                     -1.389335\n",
              "Avg. Trade [%]                       0.161186\n",
              "Max. Trade Duration           4 days 03:30:00\n",
              "Avg. Trade Duration           1 days 08:39:00\n",
              "Profit Factor                        1.328514\n",
              "Expectancy [%]                       0.168221\n",
              "SQN                                  0.613063\n",
              "_strategy                 rsi(target=14,rs...\n",
              "_equity_curve                             ...\n",
              "_trades                       Size  EntryB...\n",
              "dtype: object"
            ]
          },
          "execution_count": 61,
          "metadata": {},
          "output_type": "execute_result"
        }
      ],
      "source": [
        "opt_stats"
      ]
    },
    {
      "cell_type": "code",
      "execution_count": 62,
      "metadata": {},
      "outputs": [
        {
          "name": "stderr",
          "output_type": "stream",
          "text": [
            "BokehDeprecationWarning: Passing lists of formats for DatetimeTickFormatter scales was deprecated in Bokeh 3.0. Configure a single string format for each scale\n",
            "C:\\Users\\Ankit\\AppData\\Roaming\\Python\\Python310\\site-packages\\backtesting\\_plotting.py:250: UserWarning: DatetimeFormatter scales now only accept a single format. Using the first provided: '%d %b'\n",
            "  formatter=DatetimeTickFormatter(days=['%d %b', '%a %d'],\n",
            "BokehDeprecationWarning: Passing lists of formats for DatetimeTickFormatter scales was deprecated in Bokeh 3.0. Configure a single string format for each scale\n",
            "C:\\Users\\Ankit\\AppData\\Roaming\\Python\\Python310\\site-packages\\backtesting\\_plotting.py:250: UserWarning: DatetimeFormatter scales now only accept a single format. Using the first provided: '%m/%Y'\n",
            "  formatter=DatetimeTickFormatter(days=['%d %b', '%a %d'],\n",
            "C:\\Users\\Ankit\\AppData\\Roaming\\Python\\Python310\\site-packages\\backtesting\\_plotting.py:659: UserWarning: found multiple competing values for 'toolbar.active_drag' property; using the latest value\n",
            "  fig = gridplot(\n",
            "C:\\Users\\Ankit\\AppData\\Roaming\\Python\\Python310\\site-packages\\backtesting\\_plotting.py:659: UserWarning: found multiple competing values for 'toolbar.active_scroll' property; using the latest value\n",
            "  fig = gridplot(\n"
          ]
        },
        {
          "data": {
            "text/html": [
              "<div style=\"display: table;\"><div style=\"display: table-row;\"><div style=\"display: table-cell;\"><b title=\"bokeh.models.plots.GridPlot\">GridPlot</b>(</div><div style=\"display: table-cell;\">id&nbsp;=&nbsp;'p2463', <span id=\"p2493\" style=\"cursor: pointer;\">&hellip;)</span></div></div><div class=\"p2492\" style=\"display: none;\"><div style=\"display: table-cell;\"></div><div style=\"display: table-cell;\">align&nbsp;=&nbsp;'auto',</div></div><div class=\"p2492\" style=\"display: none;\"><div style=\"display: table-cell;\"></div><div style=\"display: table-cell;\">aspect_ratio&nbsp;=&nbsp;None,</div></div><div class=\"p2492\" style=\"display: none;\"><div style=\"display: table-cell;\"></div><div style=\"display: table-cell;\">children&nbsp;=&nbsp;[(figure(id='p2158', ...), 0, 0), (figure(id='p2255', ...), 1, 0), (figure(id='p2114', ...), 2, 0), (figure(id='p2310', ...), 3, 0), (figure(id='p2405', ...), 4, 0)],</div></div><div class=\"p2492\" style=\"display: none;\"><div style=\"display: table-cell;\"></div><div style=\"display: table-cell;\">cols&nbsp;=&nbsp;None,</div></div><div class=\"p2492\" style=\"display: none;\"><div style=\"display: table-cell;\"></div><div style=\"display: table-cell;\">context_menu&nbsp;=&nbsp;None,</div></div><div class=\"p2492\" style=\"display: none;\"><div style=\"display: table-cell;\"></div><div style=\"display: table-cell;\">css_classes&nbsp;=&nbsp;[],</div></div><div class=\"p2492\" style=\"display: none;\"><div style=\"display: table-cell;\"></div><div style=\"display: table-cell;\">css_variables&nbsp;=&nbsp;{},</div></div><div class=\"p2492\" style=\"display: none;\"><div style=\"display: table-cell;\"></div><div style=\"display: table-cell;\">disabled&nbsp;=&nbsp;False,</div></div><div class=\"p2492\" style=\"display: none;\"><div style=\"display: table-cell;\"></div><div style=\"display: table-cell;\">elements&nbsp;=&nbsp;[],</div></div><div class=\"p2492\" style=\"display: none;\"><div style=\"display: table-cell;\"></div><div style=\"display: table-cell;\">flow_mode&nbsp;=&nbsp;'block',</div></div><div class=\"p2492\" style=\"display: none;\"><div style=\"display: table-cell;\"></div><div style=\"display: table-cell;\">height&nbsp;=&nbsp;None,</div></div><div class=\"p2492\" style=\"display: none;\"><div style=\"display: table-cell;\"></div><div style=\"display: table-cell;\">height_policy&nbsp;=&nbsp;'auto',</div></div><div class=\"p2492\" style=\"display: none;\"><div style=\"display: table-cell;\"></div><div style=\"display: table-cell;\">js_event_callbacks&nbsp;=&nbsp;{},</div></div><div class=\"p2492\" style=\"display: none;\"><div style=\"display: table-cell;\"></div><div style=\"display: table-cell;\">js_property_callbacks&nbsp;=&nbsp;{},</div></div><div class=\"p2492\" style=\"display: none;\"><div style=\"display: table-cell;\"></div><div style=\"display: table-cell;\">margin&nbsp;=&nbsp;None,</div></div><div class=\"p2492\" style=\"display: none;\"><div style=\"display: table-cell;\"></div><div style=\"display: table-cell;\">max_height&nbsp;=&nbsp;None,</div></div><div class=\"p2492\" style=\"display: none;\"><div style=\"display: table-cell;\"></div><div style=\"display: table-cell;\">max_width&nbsp;=&nbsp;None,</div></div><div class=\"p2492\" style=\"display: none;\"><div style=\"display: table-cell;\"></div><div style=\"display: table-cell;\">min_height&nbsp;=&nbsp;None,</div></div><div class=\"p2492\" style=\"display: none;\"><div style=\"display: table-cell;\"></div><div style=\"display: table-cell;\">min_width&nbsp;=&nbsp;None,</div></div><div class=\"p2492\" style=\"display: none;\"><div style=\"display: table-cell;\"></div><div style=\"display: table-cell;\">name&nbsp;=&nbsp;None,</div></div><div class=\"p2492\" style=\"display: none;\"><div style=\"display: table-cell;\"></div><div style=\"display: table-cell;\">resizable&nbsp;=&nbsp;False,</div></div><div class=\"p2492\" style=\"display: none;\"><div style=\"display: table-cell;\"></div><div style=\"display: table-cell;\">rows&nbsp;=&nbsp;None,</div></div><div class=\"p2492\" style=\"display: none;\"><div style=\"display: table-cell;\"></div><div style=\"display: table-cell;\">sizing_mode&nbsp;=&nbsp;'stretch_width',</div></div><div class=\"p2492\" style=\"display: none;\"><div style=\"display: table-cell;\"></div><div style=\"display: table-cell;\">spacing&nbsp;=&nbsp;0,</div></div><div class=\"p2492\" style=\"display: none;\"><div style=\"display: table-cell;\"></div><div style=\"display: table-cell;\">styles&nbsp;=&nbsp;{},</div></div><div class=\"p2492\" style=\"display: none;\"><div style=\"display: table-cell;\"></div><div style=\"display: table-cell;\">stylesheets&nbsp;=&nbsp;[],</div></div><div class=\"p2492\" style=\"display: none;\"><div style=\"display: table-cell;\"></div><div style=\"display: table-cell;\">subscribed_events&nbsp;=&nbsp;PropertyValueSet(),</div></div><div class=\"p2492\" style=\"display: none;\"><div style=\"display: table-cell;\"></div><div style=\"display: table-cell;\">syncable&nbsp;=&nbsp;True,</div></div><div class=\"p2492\" style=\"display: none;\"><div style=\"display: table-cell;\"></div><div style=\"display: table-cell;\">tags&nbsp;=&nbsp;[],</div></div><div class=\"p2492\" style=\"display: none;\"><div style=\"display: table-cell;\"></div><div style=\"display: table-cell;\">toolbar&nbsp;=&nbsp;Toolbar(id='p2462', ...),</div></div><div class=\"p2492\" style=\"display: none;\"><div style=\"display: table-cell;\"></div><div style=\"display: table-cell;\">toolbar_location&nbsp;=&nbsp;'right',</div></div><div class=\"p2492\" style=\"display: none;\"><div style=\"display: table-cell;\"></div><div style=\"display: table-cell;\">visible&nbsp;=&nbsp;True,</div></div><div class=\"p2492\" style=\"display: none;\"><div style=\"display: table-cell;\"></div><div style=\"display: table-cell;\">width&nbsp;=&nbsp;None,</div></div><div class=\"p2492\" style=\"display: none;\"><div style=\"display: table-cell;\"></div><div style=\"display: table-cell;\">width_policy&nbsp;=&nbsp;'auto')</div></div></div>\n",
              "<script>\n",
              "(function() {\n",
              "  let expanded = false;\n",
              "  const ellipsis = document.getElementById(\"p2493\");\n",
              "  ellipsis.addEventListener(\"click\", function() {\n",
              "    const rows = document.getElementsByClassName(\"p2492\");\n",
              "    for (let i = 0; i < rows.length; i++) {\n",
              "      const el = rows[i];\n",
              "      el.style.display = expanded ? \"none\" : \"table-row\";\n",
              "    }\n",
              "    ellipsis.innerHTML = expanded ? \"&hellip;)\" : \"&lsaquo;&lsaquo;&lsaquo;\";\n",
              "    expanded = !expanded;\n",
              "  });\n",
              "})();\n",
              "</script>\n"
            ],
            "text/plain": [
              "GridPlot(id='p2463', ...)"
            ]
          },
          "execution_count": 62,
          "metadata": {},
          "output_type": "execute_result"
        }
      ],
      "source": [
        "eng.plot()"
      ]
    },
    {
      "cell_type": "code",
      "execution_count": null,
      "metadata": {},
      "outputs": [],
      "source": []
    },
    {
      "cell_type": "code",
      "execution_count": null,
      "metadata": {},
      "outputs": [],
      "source": []
    }
  ],
  "metadata": {
    "colab": {
      "provenance": []
    },
    "kernelspec": {
      "display_name": "Python 3",
      "name": "python3"
    },
    "language_info": {
      "codemirror_mode": {
        "name": "ipython",
        "version": 3
      },
      "file_extension": ".py",
      "mimetype": "text/x-python",
      "name": "python",
      "nbconvert_exporter": "python",
      "pygments_lexer": "ipython3",
      "version": "3.10.11"
    }
  },
  "nbformat": 4,
  "nbformat_minor": 0
}
