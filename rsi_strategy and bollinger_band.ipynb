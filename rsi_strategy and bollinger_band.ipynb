{
  "cells": [
    {
      "cell_type": "code",
      "execution_count": 12,
      "metadata": {
        "colab": {
          "base_uri": "https://localhost:8080/",
          "height": 457
        },
        "id": "wD_XiF17vauF",
        "outputId": "f8062ff9-5d81-41df-cbe0-3bbcc563a1ce"
      },
      "outputs": [],
      "source": [
        "import pandas as pd\n",
        "import backtesting as bt\n",
        "import pandas_ta as ta\n",
        "import numpy as np\n",
        "import datetime as dt\n",
        "from IPython.display import clear_output\n",
        "import breeze_client as bc"
      ]
    },
    {
      "cell_type": "code",
      "execution_count": 13,
      "metadata": {},
      "outputs": [
        {
          "data": {
            "text/html": [
              "<div>\n",
              "<style scoped>\n",
              "    .dataframe tbody tr th:only-of-type {\n",
              "        vertical-align: middle;\n",
              "    }\n",
              "\n",
              "    .dataframe tbody tr th {\n",
              "        vertical-align: top;\n",
              "    }\n",
              "\n",
              "    .dataframe thead th {\n",
              "        text-align: right;\n",
              "    }\n",
              "</style>\n",
              "<table border=\"1\" class=\"dataframe\">\n",
              "  <thead>\n",
              "    <tr style=\"text-align: right;\">\n",
              "      <th></th>\n",
              "      <th>Close</th>\n",
              "      <th>exchange_code</th>\n",
              "      <th>High</th>\n",
              "      <th>Low</th>\n",
              "      <th>Open</th>\n",
              "      <th>stock_code</th>\n",
              "      <th>Volume</th>\n",
              "    </tr>\n",
              "    <tr>\n",
              "      <th>datetime</th>\n",
              "      <th></th>\n",
              "      <th></th>\n",
              "      <th></th>\n",
              "      <th></th>\n",
              "      <th></th>\n",
              "      <th></th>\n",
              "      <th></th>\n",
              "    </tr>\n",
              "  </thead>\n",
              "  <tbody>\n",
              "    <tr>\n",
              "      <th>2024-05-08 09:07:15</th>\n",
              "      <td>2502.45</td>\n",
              "      <td>NSE</td>\n",
              "      <td>2502.45</td>\n",
              "      <td>2502.45</td>\n",
              "      <td>2502.45</td>\n",
              "      <td>NESIND</td>\n",
              "      <td>0</td>\n",
              "    </tr>\n",
              "    <tr>\n",
              "      <th>2024-05-08 09:15:02</th>\n",
              "      <td>2502.60</td>\n",
              "      <td>NSE</td>\n",
              "      <td>2502.60</td>\n",
              "      <td>2502.60</td>\n",
              "      <td>2502.60</td>\n",
              "      <td>NESIND</td>\n",
              "      <td>1314</td>\n",
              "    </tr>\n",
              "    <tr>\n",
              "      <th>2024-05-08 09:15:13</th>\n",
              "      <td>2517.95</td>\n",
              "      <td>NSE</td>\n",
              "      <td>2517.95</td>\n",
              "      <td>2517.95</td>\n",
              "      <td>2517.95</td>\n",
              "      <td>NESIND</td>\n",
              "      <td>3382</td>\n",
              "    </tr>\n",
              "    <tr>\n",
              "      <th>2024-05-08 09:15:23</th>\n",
              "      <td>2514.95</td>\n",
              "      <td>NSE</td>\n",
              "      <td>2514.95</td>\n",
              "      <td>2514.95</td>\n",
              "      <td>2514.95</td>\n",
              "      <td>NESIND</td>\n",
              "      <td>5661</td>\n",
              "    </tr>\n",
              "    <tr>\n",
              "      <th>2024-05-08 09:15:33</th>\n",
              "      <td>2516.40</td>\n",
              "      <td>NSE</td>\n",
              "      <td>2516.40</td>\n",
              "      <td>2516.40</td>\n",
              "      <td>2516.40</td>\n",
              "      <td>NESIND</td>\n",
              "      <td>4991</td>\n",
              "    </tr>\n",
              "    <tr>\n",
              "      <th>...</th>\n",
              "      <td>...</td>\n",
              "      <td>...</td>\n",
              "      <td>...</td>\n",
              "      <td>...</td>\n",
              "      <td>...</td>\n",
              "      <td>...</td>\n",
              "      <td>...</td>\n",
              "    </tr>\n",
              "    <tr>\n",
              "      <th>2024-05-08 15:29:55</th>\n",
              "      <td>2539.50</td>\n",
              "      <td>NSE</td>\n",
              "      <td>2539.50</td>\n",
              "      <td>2539.50</td>\n",
              "      <td>2539.50</td>\n",
              "      <td>NESIND</td>\n",
              "      <td>0</td>\n",
              "    </tr>\n",
              "    <tr>\n",
              "      <th>2024-05-08 15:29:56</th>\n",
              "      <td>2539.50</td>\n",
              "      <td>NSE</td>\n",
              "      <td>2539.50</td>\n",
              "      <td>2539.50</td>\n",
              "      <td>2539.50</td>\n",
              "      <td>NESIND</td>\n",
              "      <td>0</td>\n",
              "    </tr>\n",
              "    <tr>\n",
              "      <th>2024-05-08 15:29:57</th>\n",
              "      <td>2539.00</td>\n",
              "      <td>NSE</td>\n",
              "      <td>2539.00</td>\n",
              "      <td>2539.00</td>\n",
              "      <td>2539.00</td>\n",
              "      <td>NESIND</td>\n",
              "      <td>4</td>\n",
              "    </tr>\n",
              "    <tr>\n",
              "      <th>2024-05-08 15:29:58</th>\n",
              "      <td>2537.15</td>\n",
              "      <td>NSE</td>\n",
              "      <td>2537.15</td>\n",
              "      <td>2537.15</td>\n",
              "      <td>2537.15</td>\n",
              "      <td>NESIND</td>\n",
              "      <td>3</td>\n",
              "    </tr>\n",
              "    <tr>\n",
              "      <th>2024-05-08 15:29:59</th>\n",
              "      <td>2537.05</td>\n",
              "      <td>NSE</td>\n",
              "      <td>2537.05</td>\n",
              "      <td>2537.05</td>\n",
              "      <td>2537.05</td>\n",
              "      <td>NESIND</td>\n",
              "      <td>100</td>\n",
              "    </tr>\n",
              "  </tbody>\n",
              "</table>\n",
              "<p>10416 rows × 7 columns</p>\n",
              "</div>"
            ],
            "text/plain": [
              "                       Close exchange_code     High      Low     Open  \\\n",
              "datetime                                                                \n",
              "2024-05-08 09:07:15  2502.45           NSE  2502.45  2502.45  2502.45   \n",
              "2024-05-08 09:15:02  2502.60           NSE  2502.60  2502.60  2502.60   \n",
              "2024-05-08 09:15:13  2517.95           NSE  2517.95  2517.95  2517.95   \n",
              "2024-05-08 09:15:23  2514.95           NSE  2514.95  2514.95  2514.95   \n",
              "2024-05-08 09:15:33  2516.40           NSE  2516.40  2516.40  2516.40   \n",
              "...                      ...           ...      ...      ...      ...   \n",
              "2024-05-08 15:29:55  2539.50           NSE  2539.50  2539.50  2539.50   \n",
              "2024-05-08 15:29:56  2539.50           NSE  2539.50  2539.50  2539.50   \n",
              "2024-05-08 15:29:57  2539.00           NSE  2539.00  2539.00  2539.00   \n",
              "2024-05-08 15:29:58  2537.15           NSE  2537.15  2537.15  2537.15   \n",
              "2024-05-08 15:29:59  2537.05           NSE  2537.05  2537.05  2537.05   \n",
              "\n",
              "                    stock_code  Volume  \n",
              "datetime                                \n",
              "2024-05-08 09:07:15     NESIND       0  \n",
              "2024-05-08 09:15:02     NESIND    1314  \n",
              "2024-05-08 09:15:13     NESIND    3382  \n",
              "2024-05-08 09:15:23     NESIND    5661  \n",
              "2024-05-08 09:15:33     NESIND    4991  \n",
              "...                        ...     ...  \n",
              "2024-05-08 15:29:55     NESIND       0  \n",
              "2024-05-08 15:29:56     NESIND       0  \n",
              "2024-05-08 15:29:57     NESIND       4  \n",
              "2024-05-08 15:29:58     NESIND       3  \n",
              "2024-05-08 15:29:59     NESIND     100  \n",
              "\n",
              "[10416 rows x 7 columns]"
            ]
          },
          "execution_count": 13,
          "metadata": {},
          "output_type": "execute_result"
        }
      ],
      "source": [
        "filename = 'data/NESIND/NESIND_1second_08-05-2024.csv'\n",
        "data = bc.read_csv(filename)\n",
        "data"
      ]
    },
    {
      "cell_type": "code",
      "execution_count": 15,
      "metadata": {},
      "outputs": [
        {
          "data": {
            "text/plain": [
              "10416"
            ]
          },
          "execution_count": 15,
          "metadata": {},
          "output_type": "execute_result"
        }
      ],
      "source": [
        "len(data.index)\n",
        "len(data.Close)"
      ]
    },
    {
      "cell_type": "code",
      "execution_count": 4,
      "metadata": {},
      "outputs": [],
      "source": [
        "def BBands_indicator(data,length,sd):\n",
        "  bbands= ta.bbands(data.Close.s,length,sd)\n",
        "  return bbands.to_numpy().T[:3]\n",
        "\n",
        "def BBands_width(data,length,sd):\n",
        "  bbands = ta.bbands(data.Close.s,length,sd)\n",
        "  return bbands.to_numpy().T[3]\n",
        "\n",
        "def BBands_per(data,length,sd):\n",
        "  bbands = ta.bbands(data.Close.s,length,sd)\n",
        "  return bbands.to_numpy().T[4]"
      ]
    },
    {
      "cell_type": "code",
      "execution_count": 5,
      "metadata": {},
      "outputs": [],
      "source": [
        "class rsi(bt.Strategy):\n",
        "\n",
        "    target = 9\n",
        "    rsi_length = 14\n",
        "    rsi_upperband = 70\n",
        "    rsi_lowerband = 30\n",
        "    bb_length = 20\n",
        "    bb_sd = 1\n",
        "    \n",
        "\n",
        "\n",
        "\n",
        "    def init(self):\n",
        "        self.rsi = self.I(ta.rsi,self.data.Close.s,self.rsi_length)\n",
        "        self.vema = self.I(ta.ema,self.data.Volume.s,7)\n",
        "        self.bbands = self.I(BBands_indicator,self.data,self.bb_length,self.bb_sd)\n",
        "\n",
        "    \n",
        "    def next(self):\n",
        "        \n",
        "        price = self.data.Close[-1]\n",
        "        current_rsi = self.rsi[-1]\n",
        "\n",
        "        vema = self.vema[-1]\n",
        "        volume = self.data.Volume[-1]\n",
        "        \n",
        "\n",
        "\n",
        "        target= self.target/10\n",
        "        target_precent = target/100\n",
        "        target_price = (1-target_precent)*price\n",
        "\n",
        "\n",
        "        \n",
        "\n",
        "        if self.rsi_upperband <= current_rsi :#and vema < volume:\n",
        "\n",
        "            if self.position.is_long:\n",
        "                self.position.close()\n",
        "\n",
        "            if not self.position.is_short:\n",
        "                self.sell(size = 200)\n",
        "\n",
        "        if self.rsi_lowerband >= current_rsi:\n",
        "\n",
        "            if not self.position.is_long:\n",
        "                self.buy(size=200)\n",
        "\n",
        "            if self.position.is_short:\n",
        "                self.position.close()\n",
        "            \n",
        "\n",
        "\n",
        "        \n",
        "    "
      ]
    },
    {
      "cell_type": "code",
      "execution_count": 6,
      "metadata": {},
      "outputs": [],
      "source": [
        "eng = bt.Backtest(data,rsi,cash=4000000,commission=0.002)"
      ]
    },
    {
      "cell_type": "code",
      "execution_count": 9,
      "metadata": {},
      "outputs": [
        {
          "data": {
            "text/plain": [
              "Start                     2024-05-08 09:07:15\n",
              "End                       2024-05-08 15:29:59\n",
              "Duration                      0 days 06:22:44\n",
              "Exposure Time [%]                   99.798387\n",
              "Equity Final [$]                   3944267.28\n",
              "Equity Peak [$]                    4000613.18\n",
              "Return [%]                          -1.393318\n",
              "Buy & Hold Return [%]                1.382645\n",
              "Return (Ann.) [%]                         0.0\n",
              "Volatility (Ann.) [%]                     NaN\n",
              "Sharpe Ratio                              NaN\n",
              "Sortino Ratio                             NaN\n",
              "Calmar Ratio                              0.0\n",
              "Max. Drawdown [%]                   -1.408432\n",
              "Avg. Drawdown [%]                   -0.188137\n",
              "Max. Drawdown Duration        0 days 06:12:58\n",
              "Avg. Drawdown Duration        0 days 00:46:42\n",
              "# Trades                                   51\n",
              "Win Rate [%]                              0.0\n",
              "Best Trade [%]                      -0.032048\n",
              "Worst Trade [%]                     -0.549506\n",
              "Avg. Trade [%]                      -0.217101\n",
              "Max. Trade Duration           0 days 00:32:37\n",
              "Avg. Trade Duration           0 days 00:07:20\n",
              "Profit Factor                             0.0\n",
              "Expectancy [%]                      -0.217015\n",
              "SQN                                -11.739118\n",
              "_strategy                                 rsi\n",
              "_equity_curve                             ...\n",
              "_trades                       Size  EntryB...\n",
              "dtype: object"
            ]
          },
          "execution_count": 9,
          "metadata": {},
          "output_type": "execute_result"
        }
      ],
      "source": [
        "stats = eng.run()\n",
        "stats"
      ]
    },
    {
      "cell_type": "code",
      "execution_count": 10,
      "metadata": {},
      "outputs": [
        {
          "name": "stderr",
          "output_type": "stream",
          "text": [
            "c:\\Users\\himan\\AppData\\Local\\Programs\\Python\\Python310\\lib\\site-packages\\backtesting\\_plotting.py:122: UserWarning: Data contains too many candlesticks to plot; downsampling to '1T'. See `Backtest.plot(resample=...)`\n",
            "  warnings.warn(f\"Data contains too many candlesticks to plot; downsampling to {freq!r}. \"\n",
            "c:\\Users\\himan\\AppData\\Local\\Programs\\Python\\Python310\\lib\\site-packages\\backtesting\\_plotting.py:126: FutureWarning: 'T' is deprecated and will be removed in a future version, please use 'min' instead.\n",
            "  df = df.resample(freq, label='right').agg(OHLCV_AGG).dropna()\n",
            "c:\\Users\\himan\\AppData\\Local\\Programs\\Python\\Python310\\lib\\site-packages\\backtesting\\_plotting.py:128: FutureWarning: 'T' is deprecated and will be removed in a future version, please use 'min' instead.\n",
            "  indicators = [_Indicator(i.df.resample(freq, label='right').mean()\n",
            "c:\\Users\\himan\\AppData\\Local\\Programs\\Python\\Python310\\lib\\site-packages\\backtesting\\_plotting.py:128: FutureWarning: 'T' is deprecated and will be removed in a future version, please use 'min' instead.\n",
            "  indicators = [_Indicator(i.df.resample(freq, label='right').mean()\n",
            "c:\\Users\\himan\\AppData\\Local\\Programs\\Python\\Python310\\lib\\site-packages\\backtesting\\_plotting.py:128: FutureWarning: 'T' is deprecated and will be removed in a future version, please use 'min' instead.\n",
            "  indicators = [_Indicator(i.df.resample(freq, label='right').mean()\n",
            "c:\\Users\\himan\\AppData\\Local\\Programs\\Python\\Python310\\lib\\site-packages\\backtesting\\_plotting.py:136: FutureWarning: 'T' is deprecated and will be removed in a future version, please use 'min' instead.\n",
            "  equity_data = equity_data.resample(freq, label='right').agg(_EQUITY_AGG).dropna(how='all')\n",
            "c:\\Users\\himan\\AppData\\Local\\Programs\\Python\\Python310\\lib\\site-packages\\backtesting\\_plotting.py:153: FutureWarning: 'T' is deprecated and will be removed in a future version, please use 'min' instead.\n",
            "  trades = trades.assign(count=1).resample(freq, on='ExitTime', label='right').agg(dict(\n",
            "c:\\Users\\himan\\AppData\\Local\\Programs\\Python\\Python310\\lib\\site-packages\\backtesting\\_plotting.py:147: FutureWarning: Series.view is deprecated and will be removed in a future version. Use ``astype`` as an alternative to change the dtype.\n",
            "  mean_time = int(bars.loc[s.index].view(int).mean())\n"
          ]
        },
        {
          "ename": "ValueError",
          "evalue": "Length of values (2) does not match length of index (1)",
          "output_type": "error",
          "traceback": [
            "\u001b[1;31m---------------------------------------------------------------------------\u001b[0m",
            "\u001b[1;31mValueError\u001b[0m                                Traceback (most recent call last)",
            "Cell \u001b[1;32mIn[10], line 1\u001b[0m\n\u001b[1;32m----> 1\u001b[0m \u001b[43meng\u001b[49m\u001b[38;5;241;43m.\u001b[39;49m\u001b[43mplot\u001b[49m\u001b[43m(\u001b[49m\u001b[43m)\u001b[49m\n",
            "File \u001b[1;32mc:\\Users\\himan\\AppData\\Local\\Programs\\Python\\Python310\\lib\\site-packages\\backtesting\\backtesting.py:1592\u001b[0m, in \u001b[0;36mBacktest.plot\u001b[1;34m(self, results, filename, plot_width, plot_equity, plot_return, plot_pl, plot_volume, plot_drawdown, smooth_equity, relative_equity, superimpose, resample, reverse_indicators, show_legend, open_browser)\u001b[0m\n\u001b[0;32m   1589\u001b[0m         \u001b[38;5;28;01mraise\u001b[39;00m \u001b[38;5;167;01mRuntimeError\u001b[39;00m(\u001b[38;5;124m'\u001b[39m\u001b[38;5;124mFirst issue `backtest.run()` to obtain results.\u001b[39m\u001b[38;5;124m'\u001b[39m)\n\u001b[0;32m   1590\u001b[0m     results \u001b[38;5;241m=\u001b[39m \u001b[38;5;28mself\u001b[39m\u001b[38;5;241m.\u001b[39m_results\n\u001b[1;32m-> 1592\u001b[0m \u001b[38;5;28;01mreturn\u001b[39;00m \u001b[43mplot\u001b[49m\u001b[43m(\u001b[49m\n\u001b[0;32m   1593\u001b[0m \u001b[43m    \u001b[49m\u001b[43mresults\u001b[49m\u001b[38;5;241;43m=\u001b[39;49m\u001b[43mresults\u001b[49m\u001b[43m,\u001b[49m\n\u001b[0;32m   1594\u001b[0m \u001b[43m    \u001b[49m\u001b[43mdf\u001b[49m\u001b[38;5;241;43m=\u001b[39;49m\u001b[38;5;28;43mself\u001b[39;49m\u001b[38;5;241;43m.\u001b[39;49m\u001b[43m_data\u001b[49m\u001b[43m,\u001b[49m\n\u001b[0;32m   1595\u001b[0m \u001b[43m    \u001b[49m\u001b[43mindicators\u001b[49m\u001b[38;5;241;43m=\u001b[39;49m\u001b[43mresults\u001b[49m\u001b[38;5;241;43m.\u001b[39;49m\u001b[43m_strategy\u001b[49m\u001b[38;5;241;43m.\u001b[39;49m\u001b[43m_indicators\u001b[49m\u001b[43m,\u001b[49m\n\u001b[0;32m   1596\u001b[0m \u001b[43m    \u001b[49m\u001b[43mfilename\u001b[49m\u001b[38;5;241;43m=\u001b[39;49m\u001b[43mfilename\u001b[49m\u001b[43m,\u001b[49m\n\u001b[0;32m   1597\u001b[0m \u001b[43m    \u001b[49m\u001b[43mplot_width\u001b[49m\u001b[38;5;241;43m=\u001b[39;49m\u001b[43mplot_width\u001b[49m\u001b[43m,\u001b[49m\n\u001b[0;32m   1598\u001b[0m \u001b[43m    \u001b[49m\u001b[43mplot_equity\u001b[49m\u001b[38;5;241;43m=\u001b[39;49m\u001b[43mplot_equity\u001b[49m\u001b[43m,\u001b[49m\n\u001b[0;32m   1599\u001b[0m \u001b[43m    \u001b[49m\u001b[43mplot_return\u001b[49m\u001b[38;5;241;43m=\u001b[39;49m\u001b[43mplot_return\u001b[49m\u001b[43m,\u001b[49m\n\u001b[0;32m   1600\u001b[0m \u001b[43m    \u001b[49m\u001b[43mplot_pl\u001b[49m\u001b[38;5;241;43m=\u001b[39;49m\u001b[43mplot_pl\u001b[49m\u001b[43m,\u001b[49m\n\u001b[0;32m   1601\u001b[0m \u001b[43m    \u001b[49m\u001b[43mplot_volume\u001b[49m\u001b[38;5;241;43m=\u001b[39;49m\u001b[43mplot_volume\u001b[49m\u001b[43m,\u001b[49m\n\u001b[0;32m   1602\u001b[0m \u001b[43m    \u001b[49m\u001b[43mplot_drawdown\u001b[49m\u001b[38;5;241;43m=\u001b[39;49m\u001b[43mplot_drawdown\u001b[49m\u001b[43m,\u001b[49m\n\u001b[0;32m   1603\u001b[0m \u001b[43m    \u001b[49m\u001b[43msmooth_equity\u001b[49m\u001b[38;5;241;43m=\u001b[39;49m\u001b[43msmooth_equity\u001b[49m\u001b[43m,\u001b[49m\n\u001b[0;32m   1604\u001b[0m \u001b[43m    \u001b[49m\u001b[43mrelative_equity\u001b[49m\u001b[38;5;241;43m=\u001b[39;49m\u001b[43mrelative_equity\u001b[49m\u001b[43m,\u001b[49m\n\u001b[0;32m   1605\u001b[0m \u001b[43m    \u001b[49m\u001b[43msuperimpose\u001b[49m\u001b[38;5;241;43m=\u001b[39;49m\u001b[43msuperimpose\u001b[49m\u001b[43m,\u001b[49m\n\u001b[0;32m   1606\u001b[0m \u001b[43m    \u001b[49m\u001b[43mresample\u001b[49m\u001b[38;5;241;43m=\u001b[39;49m\u001b[43mresample\u001b[49m\u001b[43m,\u001b[49m\n\u001b[0;32m   1607\u001b[0m \u001b[43m    \u001b[49m\u001b[43mreverse_indicators\u001b[49m\u001b[38;5;241;43m=\u001b[39;49m\u001b[43mreverse_indicators\u001b[49m\u001b[43m,\u001b[49m\n\u001b[0;32m   1608\u001b[0m \u001b[43m    \u001b[49m\u001b[43mshow_legend\u001b[49m\u001b[38;5;241;43m=\u001b[39;49m\u001b[43mshow_legend\u001b[49m\u001b[43m,\u001b[49m\n\u001b[0;32m   1609\u001b[0m \u001b[43m    \u001b[49m\u001b[43mopen_browser\u001b[49m\u001b[38;5;241;43m=\u001b[39;49m\u001b[43mopen_browser\u001b[49m\u001b[43m)\u001b[49m\n",
            "File \u001b[1;32mc:\\Users\\himan\\AppData\\Local\\Programs\\Python\\Python310\\lib\\site-packages\\backtesting\\_plotting.py:203\u001b[0m, in \u001b[0;36mplot\u001b[1;34m(results, df, indicators, filename, plot_width, plot_equity, plot_return, plot_pl, plot_volume, plot_drawdown, smooth_equity, relative_equity, superimpose, resample, reverse_indicators, show_legend, open_browser)\u001b[0m\n\u001b[0;32m    201\u001b[0m \u001b[38;5;66;03m# Limit data to max_candles\u001b[39;00m\n\u001b[0;32m    202\u001b[0m \u001b[38;5;28;01mif\u001b[39;00m is_datetime_index:\n\u001b[1;32m--> 203\u001b[0m     df, indicators, equity_data, trades \u001b[38;5;241m=\u001b[39m \u001b[43m_maybe_resample_data\u001b[49m\u001b[43m(\u001b[49m\n\u001b[0;32m    204\u001b[0m \u001b[43m        \u001b[49m\u001b[43mresample\u001b[49m\u001b[43m,\u001b[49m\u001b[43m \u001b[49m\u001b[43mdf\u001b[49m\u001b[43m,\u001b[49m\u001b[43m \u001b[49m\u001b[43mindicators\u001b[49m\u001b[43m,\u001b[49m\u001b[43m \u001b[49m\u001b[43mequity_data\u001b[49m\u001b[43m,\u001b[49m\u001b[43m \u001b[49m\u001b[43mtrades\u001b[49m\u001b[43m)\u001b[49m\n\u001b[0;32m    206\u001b[0m df\u001b[38;5;241m.\u001b[39mindex\u001b[38;5;241m.\u001b[39mname \u001b[38;5;241m=\u001b[39m \u001b[38;5;28;01mNone\u001b[39;00m  \u001b[38;5;66;03m# Provides source name @index\u001b[39;00m\n\u001b[0;32m    207\u001b[0m df[\u001b[38;5;124m'\u001b[39m\u001b[38;5;124mdatetime\u001b[39m\u001b[38;5;124m'\u001b[39m] \u001b[38;5;241m=\u001b[39m df\u001b[38;5;241m.\u001b[39mindex  \u001b[38;5;66;03m# Save original, maybe datetime index\u001b[39;00m\n",
            "File \u001b[1;32mc:\\Users\\himan\\AppData\\Local\\Programs\\Python\\Python310\\lib\\site-packages\\backtesting\\_plotting.py:153\u001b[0m, in \u001b[0;36m_maybe_resample_data\u001b[1;34m(resample_rule, df, indicators, equity_data, trades)\u001b[0m\n\u001b[0;32m    150\u001b[0m     \u001b[38;5;28;01mreturn\u001b[39;00m f\n\u001b[0;32m    152\u001b[0m \u001b[38;5;28;01mif\u001b[39;00m \u001b[38;5;28mlen\u001b[39m(trades):  \u001b[38;5;66;03m# Avoid pandas \"resampling on Int64 index\" error\u001b[39;00m\n\u001b[1;32m--> 153\u001b[0m     trades \u001b[38;5;241m=\u001b[39m \u001b[43mtrades\u001b[49m\u001b[38;5;241;43m.\u001b[39;49m\u001b[43massign\u001b[49m\u001b[43m(\u001b[49m\u001b[43mcount\u001b[49m\u001b[38;5;241;43m=\u001b[39;49m\u001b[38;5;241;43m1\u001b[39;49m\u001b[43m)\u001b[49m\u001b[38;5;241;43m.\u001b[39;49m\u001b[43mresample\u001b[49m\u001b[43m(\u001b[49m\u001b[43mfreq\u001b[49m\u001b[43m,\u001b[49m\u001b[43m \u001b[49m\u001b[43mon\u001b[49m\u001b[38;5;241;43m=\u001b[39;49m\u001b[38;5;124;43m'\u001b[39;49m\u001b[38;5;124;43mExitTime\u001b[39;49m\u001b[38;5;124;43m'\u001b[39;49m\u001b[43m,\u001b[49m\u001b[43m \u001b[49m\u001b[43mlabel\u001b[49m\u001b[38;5;241;43m=\u001b[39;49m\u001b[38;5;124;43m'\u001b[39;49m\u001b[38;5;124;43mright\u001b[39;49m\u001b[38;5;124;43m'\u001b[39;49m\u001b[43m)\u001b[49m\u001b[38;5;241;43m.\u001b[39;49m\u001b[43magg\u001b[49m\u001b[43m(\u001b[49m\u001b[38;5;28;43mdict\u001b[39;49m\u001b[43m(\u001b[49m\n\u001b[0;32m    154\u001b[0m \u001b[43m        \u001b[49m\u001b[43mTRADES_AGG\u001b[49m\u001b[43m,\u001b[49m\n\u001b[0;32m    155\u001b[0m \u001b[43m        \u001b[49m\u001b[43mReturnPct\u001b[49m\u001b[38;5;241;43m=\u001b[39;49m\u001b[43m_weighted_returns\u001b[49m\u001b[43m,\u001b[49m\n\u001b[0;32m    156\u001b[0m \u001b[43m        \u001b[49m\u001b[43mcount\u001b[49m\u001b[38;5;241;43m=\u001b[39;49m\u001b[38;5;124;43m'\u001b[39;49m\u001b[38;5;124;43msum\u001b[39;49m\u001b[38;5;124;43m'\u001b[39;49m\u001b[43m,\u001b[49m\n\u001b[0;32m    157\u001b[0m \u001b[43m        \u001b[49m\u001b[43mEntryBar\u001b[49m\u001b[38;5;241;43m=\u001b[39;49m\u001b[43m_group_trades\u001b[49m\u001b[43m(\u001b[49m\u001b[38;5;124;43m'\u001b[39;49m\u001b[38;5;124;43mEntryTime\u001b[39;49m\u001b[38;5;124;43m'\u001b[39;49m\u001b[43m)\u001b[49m\u001b[43m,\u001b[49m\n\u001b[0;32m    158\u001b[0m \u001b[43m        \u001b[49m\u001b[43mExitBar\u001b[49m\u001b[38;5;241;43m=\u001b[39;49m\u001b[43m_group_trades\u001b[49m\u001b[43m(\u001b[49m\u001b[38;5;124;43m'\u001b[39;49m\u001b[38;5;124;43mExitTime\u001b[39;49m\u001b[38;5;124;43m'\u001b[39;49m\u001b[43m)\u001b[49m\u001b[43m,\u001b[49m\n\u001b[0;32m    159\u001b[0m \u001b[43m    \u001b[49m\u001b[43m)\u001b[49m\u001b[43m)\u001b[49m\u001b[38;5;241m.\u001b[39mdropna()\n\u001b[0;32m    161\u001b[0m \u001b[38;5;28;01mreturn\u001b[39;00m df, indicators, equity_data, trades\n",
            "File \u001b[1;32mc:\\Users\\himan\\AppData\\Local\\Programs\\Python\\Python310\\lib\\site-packages\\pandas\\core\\resample.py:352\u001b[0m, in \u001b[0;36mResampler.aggregate\u001b[1;34m(self, func, *args, **kwargs)\u001b[0m\n\u001b[0;32m    343\u001b[0m \u001b[38;5;129m@final\u001b[39m\n\u001b[0;32m    344\u001b[0m \u001b[38;5;129m@doc\u001b[39m(\n\u001b[0;32m    345\u001b[0m     _shared_docs[\u001b[38;5;124m\"\u001b[39m\u001b[38;5;124maggregate\u001b[39m\u001b[38;5;124m\"\u001b[39m],\n\u001b[1;32m   (...)\u001b[0m\n\u001b[0;32m    350\u001b[0m )\n\u001b[0;32m    351\u001b[0m \u001b[38;5;28;01mdef\u001b[39;00m \u001b[38;5;21maggregate\u001b[39m(\u001b[38;5;28mself\u001b[39m, func\u001b[38;5;241m=\u001b[39m\u001b[38;5;28;01mNone\u001b[39;00m, \u001b[38;5;241m*\u001b[39margs, \u001b[38;5;241m*\u001b[39m\u001b[38;5;241m*\u001b[39mkwargs):\n\u001b[1;32m--> 352\u001b[0m     result \u001b[38;5;241m=\u001b[39m \u001b[43mResamplerWindowApply\u001b[49m\u001b[43m(\u001b[49m\u001b[38;5;28;43mself\u001b[39;49m\u001b[43m,\u001b[49m\u001b[43m \u001b[49m\u001b[43mfunc\u001b[49m\u001b[43m,\u001b[49m\u001b[43m \u001b[49m\u001b[43margs\u001b[49m\u001b[38;5;241;43m=\u001b[39;49m\u001b[43margs\u001b[49m\u001b[43m,\u001b[49m\u001b[43m \u001b[49m\u001b[43mkwargs\u001b[49m\u001b[38;5;241;43m=\u001b[39;49m\u001b[43mkwargs\u001b[49m\u001b[43m)\u001b[49m\u001b[38;5;241;43m.\u001b[39;49m\u001b[43magg\u001b[49m\u001b[43m(\u001b[49m\u001b[43m)\u001b[49m\n\u001b[0;32m    353\u001b[0m     \u001b[38;5;28;01mif\u001b[39;00m result \u001b[38;5;129;01mis\u001b[39;00m \u001b[38;5;28;01mNone\u001b[39;00m:\n\u001b[0;32m    354\u001b[0m         how \u001b[38;5;241m=\u001b[39m func\n",
            "File \u001b[1;32mc:\\Users\\himan\\AppData\\Local\\Programs\\Python\\Python310\\lib\\site-packages\\pandas\\core\\apply.py:190\u001b[0m, in \u001b[0;36mApply.agg\u001b[1;34m(self)\u001b[0m\n\u001b[0;32m    187\u001b[0m     \u001b[38;5;28;01mreturn\u001b[39;00m \u001b[38;5;28mself\u001b[39m\u001b[38;5;241m.\u001b[39mapply_str()\n\u001b[0;32m    189\u001b[0m \u001b[38;5;28;01mif\u001b[39;00m is_dict_like(func):\n\u001b[1;32m--> 190\u001b[0m     \u001b[38;5;28;01mreturn\u001b[39;00m \u001b[38;5;28;43mself\u001b[39;49m\u001b[38;5;241;43m.\u001b[39;49m\u001b[43magg_dict_like\u001b[49m\u001b[43m(\u001b[49m\u001b[43m)\u001b[49m\n\u001b[0;32m    191\u001b[0m \u001b[38;5;28;01melif\u001b[39;00m is_list_like(func):\n\u001b[0;32m    192\u001b[0m     \u001b[38;5;66;03m# we require a list, but not a 'str'\u001b[39;00m\n\u001b[0;32m    193\u001b[0m     \u001b[38;5;28;01mreturn\u001b[39;00m \u001b[38;5;28mself\u001b[39m\u001b[38;5;241m.\u001b[39magg_list_like()\n",
            "File \u001b[1;32mc:\\Users\\himan\\AppData\\Local\\Programs\\Python\\Python310\\lib\\site-packages\\pandas\\core\\apply.py:423\u001b[0m, in \u001b[0;36mApply.agg_dict_like\u001b[1;34m(self)\u001b[0m\n\u001b[0;32m    415\u001b[0m \u001b[38;5;28;01mdef\u001b[39;00m \u001b[38;5;21magg_dict_like\u001b[39m(\u001b[38;5;28mself\u001b[39m) \u001b[38;5;241m-\u001b[39m\u001b[38;5;241m>\u001b[39m DataFrame \u001b[38;5;241m|\u001b[39m Series:\n\u001b[0;32m    416\u001b[0m \u001b[38;5;250m    \u001b[39m\u001b[38;5;124;03m\"\"\"\u001b[39;00m\n\u001b[0;32m    417\u001b[0m \u001b[38;5;124;03m    Compute aggregation in the case of a dict-like argument.\u001b[39;00m\n\u001b[0;32m    418\u001b[0m \n\u001b[1;32m   (...)\u001b[0m\n\u001b[0;32m    421\u001b[0m \u001b[38;5;124;03m    Result of aggregation.\u001b[39;00m\n\u001b[0;32m    422\u001b[0m \u001b[38;5;124;03m    \"\"\"\u001b[39;00m\n\u001b[1;32m--> 423\u001b[0m     \u001b[38;5;28;01mreturn\u001b[39;00m \u001b[38;5;28;43mself\u001b[39;49m\u001b[38;5;241;43m.\u001b[39;49m\u001b[43magg_or_apply_dict_like\u001b[49m\u001b[43m(\u001b[49m\u001b[43mop_name\u001b[49m\u001b[38;5;241;43m=\u001b[39;49m\u001b[38;5;124;43m\"\u001b[39;49m\u001b[38;5;124;43magg\u001b[39;49m\u001b[38;5;124;43m\"\u001b[39;49m\u001b[43m)\u001b[49m\n",
            "File \u001b[1;32mc:\\Users\\himan\\AppData\\Local\\Programs\\Python\\Python310\\lib\\site-packages\\pandas\\core\\apply.py:1608\u001b[0m, in \u001b[0;36mGroupByApply.agg_or_apply_dict_like\u001b[1;34m(self, op_name)\u001b[0m\n\u001b[0;32m   1603\u001b[0m     kwargs\u001b[38;5;241m.\u001b[39mupdate({\u001b[38;5;124m\"\u001b[39m\u001b[38;5;124mengine\u001b[39m\u001b[38;5;124m\"\u001b[39m: engine, \u001b[38;5;124m\"\u001b[39m\u001b[38;5;124mengine_kwargs\u001b[39m\u001b[38;5;124m\"\u001b[39m: engine_kwargs})\n\u001b[0;32m   1605\u001b[0m \u001b[38;5;28;01mwith\u001b[39;00m com\u001b[38;5;241m.\u001b[39mtemp_setattr(\n\u001b[0;32m   1606\u001b[0m     obj, \u001b[38;5;124m\"\u001b[39m\u001b[38;5;124mas_index\u001b[39m\u001b[38;5;124m\"\u001b[39m, \u001b[38;5;28;01mTrue\u001b[39;00m, condition\u001b[38;5;241m=\u001b[39m\u001b[38;5;28mhasattr\u001b[39m(obj, \u001b[38;5;124m\"\u001b[39m\u001b[38;5;124mas_index\u001b[39m\u001b[38;5;124m\"\u001b[39m)\n\u001b[0;32m   1607\u001b[0m ):\n\u001b[1;32m-> 1608\u001b[0m     result_index, result_data \u001b[38;5;241m=\u001b[39m \u001b[38;5;28;43mself\u001b[39;49m\u001b[38;5;241;43m.\u001b[39;49m\u001b[43mcompute_dict_like\u001b[49m\u001b[43m(\u001b[49m\n\u001b[0;32m   1609\u001b[0m \u001b[43m        \u001b[49m\u001b[43mop_name\u001b[49m\u001b[43m,\u001b[49m\u001b[43m \u001b[49m\u001b[43mselected_obj\u001b[49m\u001b[43m,\u001b[49m\u001b[43m \u001b[49m\u001b[43mselection\u001b[49m\u001b[43m,\u001b[49m\u001b[43m \u001b[49m\u001b[43mkwargs\u001b[49m\n\u001b[0;32m   1610\u001b[0m \u001b[43m    \u001b[49m\u001b[43m)\u001b[49m\n\u001b[0;32m   1611\u001b[0m result \u001b[38;5;241m=\u001b[39m \u001b[38;5;28mself\u001b[39m\u001b[38;5;241m.\u001b[39mwrap_results_dict_like(selected_obj, result_index, result_data)\n\u001b[0;32m   1612\u001b[0m \u001b[38;5;28;01mreturn\u001b[39;00m result\n",
            "File \u001b[1;32mc:\\Users\\himan\\AppData\\Local\\Programs\\Python\\Python310\\lib\\site-packages\\pandas\\core\\apply.py:496\u001b[0m, in \u001b[0;36mApply.compute_dict_like\u001b[1;34m(self, op_name, selected_obj, selection, kwargs)\u001b[0m\n\u001b[0;32m    493\u001b[0m         results \u001b[38;5;241m+\u001b[39m\u001b[38;5;241m=\u001b[39m key_data\n\u001b[0;32m    494\u001b[0m \u001b[38;5;28;01melse\u001b[39;00m:\n\u001b[0;32m    495\u001b[0m     \u001b[38;5;66;03m# key used for column selection and output\u001b[39;00m\n\u001b[1;32m--> 496\u001b[0m     results \u001b[38;5;241m=\u001b[39m [\n\u001b[0;32m    497\u001b[0m         \u001b[38;5;28mgetattr\u001b[39m(obj\u001b[38;5;241m.\u001b[39m_gotitem(key, ndim\u001b[38;5;241m=\u001b[39m\u001b[38;5;241m1\u001b[39m), op_name)(how, \u001b[38;5;241m*\u001b[39m\u001b[38;5;241m*\u001b[39mkwargs)\n\u001b[0;32m    498\u001b[0m         \u001b[38;5;28;01mfor\u001b[39;00m key, how \u001b[38;5;129;01min\u001b[39;00m func\u001b[38;5;241m.\u001b[39mitems()\n\u001b[0;32m    499\u001b[0m     ]\n\u001b[0;32m    500\u001b[0m     keys \u001b[38;5;241m=\u001b[39m \u001b[38;5;28mlist\u001b[39m(func\u001b[38;5;241m.\u001b[39mkeys())\n\u001b[0;32m    502\u001b[0m \u001b[38;5;28;01mreturn\u001b[39;00m keys, results\n",
            "File \u001b[1;32mc:\\Users\\himan\\AppData\\Local\\Programs\\Python\\Python310\\lib\\site-packages\\pandas\\core\\apply.py:497\u001b[0m, in \u001b[0;36m<listcomp>\u001b[1;34m(.0)\u001b[0m\n\u001b[0;32m    493\u001b[0m         results \u001b[38;5;241m+\u001b[39m\u001b[38;5;241m=\u001b[39m key_data\n\u001b[0;32m    494\u001b[0m \u001b[38;5;28;01melse\u001b[39;00m:\n\u001b[0;32m    495\u001b[0m     \u001b[38;5;66;03m# key used for column selection and output\u001b[39;00m\n\u001b[0;32m    496\u001b[0m     results \u001b[38;5;241m=\u001b[39m [\n\u001b[1;32m--> 497\u001b[0m         \u001b[38;5;28mgetattr\u001b[39m(obj\u001b[38;5;241m.\u001b[39m_gotitem(key, ndim\u001b[38;5;241m=\u001b[39m\u001b[38;5;241m1\u001b[39m), op_name)(how, \u001b[38;5;241m*\u001b[39m\u001b[38;5;241m*\u001b[39mkwargs)\n\u001b[0;32m    498\u001b[0m         \u001b[38;5;28;01mfor\u001b[39;00m key, how \u001b[38;5;129;01min\u001b[39;00m func\u001b[38;5;241m.\u001b[39mitems()\n\u001b[0;32m    499\u001b[0m     ]\n\u001b[0;32m    500\u001b[0m     keys \u001b[38;5;241m=\u001b[39m \u001b[38;5;28mlist\u001b[39m(func\u001b[38;5;241m.\u001b[39mkeys())\n\u001b[0;32m    502\u001b[0m \u001b[38;5;28;01mreturn\u001b[39;00m keys, results\n",
            "File \u001b[1;32mc:\\Users\\himan\\AppData\\Local\\Programs\\Python\\Python310\\lib\\site-packages\\pandas\\core\\groupby\\generic.py:294\u001b[0m, in \u001b[0;36mSeriesGroupBy.aggregate\u001b[1;34m(self, func, engine, engine_kwargs, *args, **kwargs)\u001b[0m\n\u001b[0;32m    291\u001b[0m     \u001b[38;5;28;01mreturn\u001b[39;00m \u001b[38;5;28mself\u001b[39m\u001b[38;5;241m.\u001b[39m_python_agg_general(func, \u001b[38;5;241m*\u001b[39margs, \u001b[38;5;241m*\u001b[39m\u001b[38;5;241m*\u001b[39mkwargs)\n\u001b[0;32m    293\u001b[0m \u001b[38;5;28;01mtry\u001b[39;00m:\n\u001b[1;32m--> 294\u001b[0m     \u001b[38;5;28;01mreturn\u001b[39;00m \u001b[38;5;28mself\u001b[39m\u001b[38;5;241m.\u001b[39m_python_agg_general(func, \u001b[38;5;241m*\u001b[39margs, \u001b[38;5;241m*\u001b[39m\u001b[38;5;241m*\u001b[39mkwargs)\n\u001b[0;32m    295\u001b[0m \u001b[38;5;28;01mexcept\u001b[39;00m \u001b[38;5;167;01mKeyError\u001b[39;00m:\n\u001b[0;32m    296\u001b[0m     \u001b[38;5;66;03m# KeyError raised in test_groupby.test_basic is bc the func does\u001b[39;00m\n\u001b[0;32m    297\u001b[0m     \u001b[38;5;66;03m#  a dictionary lookup on group.name, but group name is not\u001b[39;00m\n\u001b[0;32m    298\u001b[0m     \u001b[38;5;66;03m#  pinned in _python_agg_general, only in _aggregate_named\u001b[39;00m\n\u001b[0;32m    299\u001b[0m     result \u001b[38;5;241m=\u001b[39m \u001b[38;5;28mself\u001b[39m\u001b[38;5;241m.\u001b[39m_aggregate_named(func, \u001b[38;5;241m*\u001b[39margs, \u001b[38;5;241m*\u001b[39m\u001b[38;5;241m*\u001b[39mkwargs)\n",
            "File \u001b[1;32mc:\\Users\\himan\\AppData\\Local\\Programs\\Python\\Python310\\lib\\site-packages\\pandas\\core\\groupby\\generic.py:327\u001b[0m, in \u001b[0;36mSeriesGroupBy._python_agg_general\u001b[1;34m(self, func, *args, **kwargs)\u001b[0m\n\u001b[0;32m    324\u001b[0m f \u001b[38;5;241m=\u001b[39m \u001b[38;5;28;01mlambda\u001b[39;00m x: func(x, \u001b[38;5;241m*\u001b[39margs, \u001b[38;5;241m*\u001b[39m\u001b[38;5;241m*\u001b[39mkwargs)\n\u001b[0;32m    326\u001b[0m obj \u001b[38;5;241m=\u001b[39m \u001b[38;5;28mself\u001b[39m\u001b[38;5;241m.\u001b[39m_obj_with_exclusions\n\u001b[1;32m--> 327\u001b[0m result \u001b[38;5;241m=\u001b[39m \u001b[38;5;28;43mself\u001b[39;49m\u001b[38;5;241;43m.\u001b[39;49m\u001b[43m_grouper\u001b[49m\u001b[38;5;241;43m.\u001b[39;49m\u001b[43magg_series\u001b[49m\u001b[43m(\u001b[49m\u001b[43mobj\u001b[49m\u001b[43m,\u001b[49m\u001b[43m \u001b[49m\u001b[43mf\u001b[49m\u001b[43m)\u001b[49m\n\u001b[0;32m    328\u001b[0m res \u001b[38;5;241m=\u001b[39m obj\u001b[38;5;241m.\u001b[39m_constructor(result, name\u001b[38;5;241m=\u001b[39mobj\u001b[38;5;241m.\u001b[39mname)\n\u001b[0;32m    329\u001b[0m \u001b[38;5;28;01mreturn\u001b[39;00m \u001b[38;5;28mself\u001b[39m\u001b[38;5;241m.\u001b[39m_wrap_aggregated_output(res)\n",
            "File \u001b[1;32mc:\\Users\\himan\\AppData\\Local\\Programs\\Python\\Python310\\lib\\site-packages\\pandas\\core\\groupby\\ops.py:864\u001b[0m, in \u001b[0;36mBaseGrouper.agg_series\u001b[1;34m(self, obj, func, preserve_dtype)\u001b[0m\n\u001b[0;32m    857\u001b[0m \u001b[38;5;28;01mif\u001b[39;00m \u001b[38;5;129;01mnot\u001b[39;00m \u001b[38;5;28misinstance\u001b[39m(obj\u001b[38;5;241m.\u001b[39m_values, np\u001b[38;5;241m.\u001b[39mndarray):\n\u001b[0;32m    858\u001b[0m     \u001b[38;5;66;03m# we can preserve a little bit more aggressively with EA dtype\u001b[39;00m\n\u001b[0;32m    859\u001b[0m     \u001b[38;5;66;03m#  because maybe_cast_pointwise_result will do a try/except\u001b[39;00m\n\u001b[0;32m    860\u001b[0m     \u001b[38;5;66;03m#  with _from_sequence.  NB we are assuming here that _from_sequence\u001b[39;00m\n\u001b[0;32m    861\u001b[0m     \u001b[38;5;66;03m#  is sufficiently strict that it casts appropriately.\u001b[39;00m\n\u001b[0;32m    862\u001b[0m     preserve_dtype \u001b[38;5;241m=\u001b[39m \u001b[38;5;28;01mTrue\u001b[39;00m\n\u001b[1;32m--> 864\u001b[0m result \u001b[38;5;241m=\u001b[39m \u001b[38;5;28;43mself\u001b[39;49m\u001b[38;5;241;43m.\u001b[39;49m\u001b[43m_aggregate_series_pure_python\u001b[49m\u001b[43m(\u001b[49m\u001b[43mobj\u001b[49m\u001b[43m,\u001b[49m\u001b[43m \u001b[49m\u001b[43mfunc\u001b[49m\u001b[43m)\u001b[49m\n\u001b[0;32m    866\u001b[0m npvalues \u001b[38;5;241m=\u001b[39m lib\u001b[38;5;241m.\u001b[39mmaybe_convert_objects(result, try_float\u001b[38;5;241m=\u001b[39m\u001b[38;5;28;01mFalse\u001b[39;00m)\n\u001b[0;32m    867\u001b[0m \u001b[38;5;28;01mif\u001b[39;00m preserve_dtype:\n",
            "File \u001b[1;32mc:\\Users\\himan\\AppData\\Local\\Programs\\Python\\Python310\\lib\\site-packages\\pandas\\core\\groupby\\ops.py:885\u001b[0m, in \u001b[0;36mBaseGrouper._aggregate_series_pure_python\u001b[1;34m(self, obj, func)\u001b[0m\n\u001b[0;32m    882\u001b[0m splitter \u001b[38;5;241m=\u001b[39m \u001b[38;5;28mself\u001b[39m\u001b[38;5;241m.\u001b[39m_get_splitter(obj, axis\u001b[38;5;241m=\u001b[39m\u001b[38;5;241m0\u001b[39m)\n\u001b[0;32m    884\u001b[0m \u001b[38;5;28;01mfor\u001b[39;00m i, group \u001b[38;5;129;01min\u001b[39;00m \u001b[38;5;28menumerate\u001b[39m(splitter):\n\u001b[1;32m--> 885\u001b[0m     res \u001b[38;5;241m=\u001b[39m \u001b[43mfunc\u001b[49m\u001b[43m(\u001b[49m\u001b[43mgroup\u001b[49m\u001b[43m)\u001b[49m\n\u001b[0;32m    886\u001b[0m     res \u001b[38;5;241m=\u001b[39m extract_result(res)\n\u001b[0;32m    888\u001b[0m     \u001b[38;5;28;01mif\u001b[39;00m \u001b[38;5;129;01mnot\u001b[39;00m initialized:\n\u001b[0;32m    889\u001b[0m         \u001b[38;5;66;03m# We only do this validation on the first iteration\u001b[39;00m\n",
            "File \u001b[1;32mc:\\Users\\himan\\AppData\\Local\\Programs\\Python\\Python310\\lib\\site-packages\\pandas\\core\\groupby\\generic.py:324\u001b[0m, in \u001b[0;36mSeriesGroupBy._python_agg_general.<locals>.<lambda>\u001b[1;34m(x)\u001b[0m\n\u001b[0;32m    322\u001b[0m     alias \u001b[38;5;241m=\u001b[39m com\u001b[38;5;241m.\u001b[39m_builtin_table_alias[func]\n\u001b[0;32m    323\u001b[0m     warn_alias_replacement(\u001b[38;5;28mself\u001b[39m, orig_func, alias)\n\u001b[1;32m--> 324\u001b[0m f \u001b[38;5;241m=\u001b[39m \u001b[38;5;28;01mlambda\u001b[39;00m x: func(x, \u001b[38;5;241m*\u001b[39margs, \u001b[38;5;241m*\u001b[39m\u001b[38;5;241m*\u001b[39mkwargs)\n\u001b[0;32m    326\u001b[0m obj \u001b[38;5;241m=\u001b[39m \u001b[38;5;28mself\u001b[39m\u001b[38;5;241m.\u001b[39m_obj_with_exclusions\n\u001b[0;32m    327\u001b[0m result \u001b[38;5;241m=\u001b[39m \u001b[38;5;28mself\u001b[39m\u001b[38;5;241m.\u001b[39m_grouper\u001b[38;5;241m.\u001b[39magg_series(obj, f)\n",
            "File \u001b[1;32mc:\\Users\\himan\\AppData\\Local\\Programs\\Python\\Python310\\lib\\site-packages\\backtesting\\_plotting.py:147\u001b[0m, in \u001b[0;36m_maybe_resample_data.<locals>._group_trades.<locals>.f\u001b[1;34m(s, new_index, bars)\u001b[0m\n\u001b[0;32m    144\u001b[0m \u001b[38;5;28;01mdef\u001b[39;00m \u001b[38;5;21mf\u001b[39m(s, new_index\u001b[38;5;241m=\u001b[39mpd\u001b[38;5;241m.\u001b[39mIndex(df\u001b[38;5;241m.\u001b[39mindex\u001b[38;5;241m.\u001b[39mview(\u001b[38;5;28mint\u001b[39m)), bars\u001b[38;5;241m=\u001b[39mtrades[column]):\n\u001b[0;32m    145\u001b[0m     \u001b[38;5;28;01mif\u001b[39;00m s\u001b[38;5;241m.\u001b[39msize:\n\u001b[0;32m    146\u001b[0m         \u001b[38;5;66;03m# Via int64 because on pandas recently broken datetime\u001b[39;00m\n\u001b[1;32m--> 147\u001b[0m         mean_time \u001b[38;5;241m=\u001b[39m \u001b[38;5;28mint\u001b[39m(\u001b[43mbars\u001b[49m\u001b[38;5;241;43m.\u001b[39;49m\u001b[43mloc\u001b[49m\u001b[43m[\u001b[49m\u001b[43ms\u001b[49m\u001b[38;5;241;43m.\u001b[39;49m\u001b[43mindex\u001b[49m\u001b[43m]\u001b[49m\u001b[38;5;241;43m.\u001b[39;49m\u001b[43mview\u001b[49m\u001b[43m(\u001b[49m\u001b[38;5;28;43mint\u001b[39;49m\u001b[43m)\u001b[49m\u001b[38;5;241m.\u001b[39mmean())\n\u001b[0;32m    148\u001b[0m         new_bar_idx \u001b[38;5;241m=\u001b[39m new_index\u001b[38;5;241m.\u001b[39mget_loc(mean_time, method\u001b[38;5;241m=\u001b[39m\u001b[38;5;124m'\u001b[39m\u001b[38;5;124mnearest\u001b[39m\u001b[38;5;124m'\u001b[39m)\n\u001b[0;32m    149\u001b[0m         \u001b[38;5;28;01mreturn\u001b[39;00m new_bar_idx\n",
            "File \u001b[1;32mc:\\Users\\himan\\AppData\\Local\\Programs\\Python\\Python310\\lib\\site-packages\\pandas\\core\\series.py:969\u001b[0m, in \u001b[0;36mSeries.view\u001b[1;34m(self, dtype)\u001b[0m\n\u001b[0;32m    966\u001b[0m \u001b[38;5;66;03m# self.array instead of self._values so we piggyback on NumpyExtensionArray\u001b[39;00m\n\u001b[0;32m    967\u001b[0m \u001b[38;5;66;03m#  implementation\u001b[39;00m\n\u001b[0;32m    968\u001b[0m res_values \u001b[38;5;241m=\u001b[39m \u001b[38;5;28mself\u001b[39m\u001b[38;5;241m.\u001b[39marray\u001b[38;5;241m.\u001b[39mview(dtype)\n\u001b[1;32m--> 969\u001b[0m res_ser \u001b[38;5;241m=\u001b[39m \u001b[38;5;28;43mself\u001b[39;49m\u001b[38;5;241;43m.\u001b[39;49m\u001b[43m_constructor\u001b[49m\u001b[43m(\u001b[49m\u001b[43mres_values\u001b[49m\u001b[43m,\u001b[49m\u001b[43m \u001b[49m\u001b[43mindex\u001b[49m\u001b[38;5;241;43m=\u001b[39;49m\u001b[38;5;28;43mself\u001b[39;49m\u001b[38;5;241;43m.\u001b[39;49m\u001b[43mindex\u001b[49m\u001b[43m,\u001b[49m\u001b[43m \u001b[49m\u001b[43mcopy\u001b[49m\u001b[38;5;241;43m=\u001b[39;49m\u001b[38;5;28;43;01mFalse\u001b[39;49;00m\u001b[43m)\u001b[49m\n\u001b[0;32m    970\u001b[0m \u001b[38;5;28;01mif\u001b[39;00m \u001b[38;5;28misinstance\u001b[39m(res_ser\u001b[38;5;241m.\u001b[39m_mgr, SingleBlockManager):\n\u001b[0;32m    971\u001b[0m     blk \u001b[38;5;241m=\u001b[39m res_ser\u001b[38;5;241m.\u001b[39m_mgr\u001b[38;5;241m.\u001b[39m_block\n",
            "File \u001b[1;32mc:\\Users\\himan\\AppData\\Local\\Programs\\Python\\Python310\\lib\\site-packages\\pandas\\core\\series.py:575\u001b[0m, in \u001b[0;36mSeries.__init__\u001b[1;34m(self, data, index, dtype, name, copy, fastpath)\u001b[0m\n\u001b[0;32m    573\u001b[0m     index \u001b[38;5;241m=\u001b[39m default_index(\u001b[38;5;28mlen\u001b[39m(data))\n\u001b[0;32m    574\u001b[0m \u001b[38;5;28;01melif\u001b[39;00m is_list_like(data):\n\u001b[1;32m--> 575\u001b[0m     \u001b[43mcom\u001b[49m\u001b[38;5;241;43m.\u001b[39;49m\u001b[43mrequire_length_match\u001b[49m\u001b[43m(\u001b[49m\u001b[43mdata\u001b[49m\u001b[43m,\u001b[49m\u001b[43m \u001b[49m\u001b[43mindex\u001b[49m\u001b[43m)\u001b[49m\n\u001b[0;32m    577\u001b[0m \u001b[38;5;66;03m# create/copy the manager\u001b[39;00m\n\u001b[0;32m    578\u001b[0m \u001b[38;5;28;01mif\u001b[39;00m \u001b[38;5;28misinstance\u001b[39m(data, (SingleBlockManager, SingleArrayManager)):\n",
            "File \u001b[1;32mc:\\Users\\himan\\AppData\\Local\\Programs\\Python\\Python310\\lib\\site-packages\\pandas\\core\\common.py:573\u001b[0m, in \u001b[0;36mrequire_length_match\u001b[1;34m(data, index)\u001b[0m\n\u001b[0;32m    569\u001b[0m \u001b[38;5;250m\u001b[39m\u001b[38;5;124;03m\"\"\"\u001b[39;00m\n\u001b[0;32m    570\u001b[0m \u001b[38;5;124;03mCheck the length of data matches the length of the index.\u001b[39;00m\n\u001b[0;32m    571\u001b[0m \u001b[38;5;124;03m\"\"\"\u001b[39;00m\n\u001b[0;32m    572\u001b[0m \u001b[38;5;28;01mif\u001b[39;00m \u001b[38;5;28mlen\u001b[39m(data) \u001b[38;5;241m!=\u001b[39m \u001b[38;5;28mlen\u001b[39m(index):\n\u001b[1;32m--> 573\u001b[0m     \u001b[38;5;28;01mraise\u001b[39;00m \u001b[38;5;167;01mValueError\u001b[39;00m(\n\u001b[0;32m    574\u001b[0m         \u001b[38;5;124m\"\u001b[39m\u001b[38;5;124mLength of values \u001b[39m\u001b[38;5;124m\"\u001b[39m\n\u001b[0;32m    575\u001b[0m         \u001b[38;5;124mf\u001b[39m\u001b[38;5;124m\"\u001b[39m\u001b[38;5;124m(\u001b[39m\u001b[38;5;132;01m{\u001b[39;00m\u001b[38;5;28mlen\u001b[39m(data)\u001b[38;5;132;01m}\u001b[39;00m\u001b[38;5;124m) \u001b[39m\u001b[38;5;124m\"\u001b[39m\n\u001b[0;32m    576\u001b[0m         \u001b[38;5;124m\"\u001b[39m\u001b[38;5;124mdoes not match length of index \u001b[39m\u001b[38;5;124m\"\u001b[39m\n\u001b[0;32m    577\u001b[0m         \u001b[38;5;124mf\u001b[39m\u001b[38;5;124m\"\u001b[39m\u001b[38;5;124m(\u001b[39m\u001b[38;5;132;01m{\u001b[39;00m\u001b[38;5;28mlen\u001b[39m(index)\u001b[38;5;132;01m}\u001b[39;00m\u001b[38;5;124m)\u001b[39m\u001b[38;5;124m\"\u001b[39m\n\u001b[0;32m    578\u001b[0m     )\n",
            "\u001b[1;31mValueError\u001b[0m: Length of values (2) does not match length of index (1)"
          ]
        }
      ],
      "source": [
        "eng.plot()"
      ]
    },
    {
      "cell_type": "code",
      "execution_count": 9,
      "metadata": {},
      "outputs": [
        {
          "name": "stderr",
          "output_type": "stream",
          "text": [
            "c:\\Users\\himan\\AppData\\Local\\Programs\\Python\\Python310\\lib\\site-packages\\backtesting\\backtesting.py:1488: UserWarning: Searching for best of 680 configurations.\n",
            "  output = _optimize_grid()\n",
            "c:\\Users\\himan\\AppData\\Local\\Programs\\Python\\Python310\\lib\\site-packages\\backtesting\\_stats.py:122: RuntimeWarning: divide by zero encountered in scalar divide\n",
            "  s.loc['Sortino Ratio'] = np.clip((annualized_return - risk_free_rate) / (np.sqrt(np.mean(day_returns.clip(-np.inf, 0)**2)) * np.sqrt(annual_trading_days)), 0, np.inf)  # noqa: E501\n",
            "c:\\Users\\himan\\AppData\\Local\\Programs\\Python\\Python310\\lib\\site-packages\\backtesting\\_stats.py:122: RuntimeWarning: divide by zero encountered in scalar divide\n",
            "  s.loc['Sortino Ratio'] = np.clip((annualized_return - risk_free_rate) / (np.sqrt(np.mean(day_returns.clip(-np.inf, 0)**2)) * np.sqrt(annual_trading_days)), 0, np.inf)  # noqa: E501\n",
            "c:\\Users\\himan\\AppData\\Local\\Programs\\Python\\Python310\\lib\\site-packages\\backtesting\\_stats.py:122: RuntimeWarning: divide by zero encountered in scalar divide\n",
            "  s.loc['Sortino Ratio'] = np.clip((annualized_return - risk_free_rate) / (np.sqrt(np.mean(day_returns.clip(-np.inf, 0)**2)) * np.sqrt(annual_trading_days)), 0, np.inf)  # noqa: E501\n",
            "c:\\Users\\himan\\AppData\\Local\\Programs\\Python\\Python310\\lib\\site-packages\\backtesting\\_stats.py:122: RuntimeWarning: divide by zero encountered in scalar divide\n",
            "  s.loc['Sortino Ratio'] = np.clip((annualized_return - risk_free_rate) / (np.sqrt(np.mean(day_returns.clip(-np.inf, 0)**2)) * np.sqrt(annual_trading_days)), 0, np.inf)  # noqa: E501\n",
            "c:\\Users\\himan\\AppData\\Local\\Programs\\Python\\Python310\\lib\\site-packages\\backtesting\\_stats.py:122: RuntimeWarning: divide by zero encountered in scalar divide\n",
            "  s.loc['Sortino Ratio'] = np.clip((annualized_return - risk_free_rate) / (np.sqrt(np.mean(day_returns.clip(-np.inf, 0)**2)) * np.sqrt(annual_trading_days)), 0, np.inf)  # noqa: E501\n",
            "c:\\Users\\himan\\AppData\\Local\\Programs\\Python\\Python310\\lib\\site-packages\\backtesting\\_stats.py:122: RuntimeWarning: divide by zero encountered in scalar divide\n",
            "  s.loc['Sortino Ratio'] = np.clip((annualized_return - risk_free_rate) / (np.sqrt(np.mean(day_returns.clip(-np.inf, 0)**2)) * np.sqrt(annual_trading_days)), 0, np.inf)  # noqa: E501\n",
            "c:\\Users\\himan\\AppData\\Local\\Programs\\Python\\Python310\\lib\\site-packages\\backtesting\\_stats.py:122: RuntimeWarning: divide by zero encountered in scalar divide\n",
            "  s.loc['Sortino Ratio'] = np.clip((annualized_return - risk_free_rate) / (np.sqrt(np.mean(day_returns.clip(-np.inf, 0)**2)) * np.sqrt(annual_trading_days)), 0, np.inf)  # noqa: E501\n"
          ]
        },
        {
          "data": {
            "text/plain": [
              "Start                     2024-01-29 09:05:00\n",
              "End                       2024-04-26 15:25:00\n",
              "Duration                     88 days 06:20:00\n",
              "Exposure Time [%]                   83.380527\n",
              "Equity Final [$]                   3165561.04\n",
              "Equity Peak [$]                     4000000.0\n",
              "Return [%]                         -20.860974\n",
              "Buy & Hold Return [%]                0.517696\n",
              "Return (Ann.) [%]                  -61.658674\n",
              "Volatility (Ann.) [%]                1.702935\n",
              "Sharpe Ratio                              0.0\n",
              "Sortino Ratio                             0.0\n",
              "Calmar Ratio                              0.0\n",
              "Max. Drawdown [%]                  -20.860974\n",
              "Avg. Drawdown [%]                  -20.860974\n",
              "Max. Drawdown Duration       88 days 05:30:00\n",
              "Avg. Drawdown Duration       88 days 05:30:00\n",
              "# Trades                                  838\n",
              "Win Rate [%]                         15.75179\n",
              "Best Trade [%]                       1.439869\n",
              "Worst Trade [%]                     -1.020333\n",
              "Avg. Trade [%]                      -0.197134\n",
              "Max. Trade Duration           3 days 18:25:00\n",
              "Avg. Trade Duration           0 days 01:32:00\n",
              "Profit Factor                        0.234592\n",
              "Expectancy [%]                      -0.196794\n",
              "SQN                                -21.736727\n",
              "_strategy                 rsi(rsi_length=5...\n",
              "_equity_curve                             ...\n",
              "_trades                        Size  Entry...\n",
              "dtype: object"
            ]
          },
          "execution_count": 9,
          "metadata": {},
          "output_type": "execute_result"
        }
      ],
      "source": [
        "def optim_func(series):\n",
        "\n",
        "    if series['Win Rate [%]'] > 65 and series['# Trades'] > 30:\n",
        "        return series['Return [%]']\n",
        "    \n",
        "    \n",
        "\n",
        "\n",
        "    else:\n",
        "        return -1000000\n",
        "\n",
        "opt_stats,heatmap = eng.optimize(\n",
        "    rsi_length = range(5,22),\n",
        "    rsi_upperband = range(45,85),\n",
        "    \n",
        "    maximize = optim_func,\n",
        "    \n",
        "    return_heatmap = True,\n",
        "    max_tries = 1000\n",
        "\n",
        ")\n",
        "opt_stats"
      ]
    },
    {
      "cell_type": "code",
      "execution_count": 61,
      "metadata": {},
      "outputs": [
        {
          "data": {
            "text/plain": [
              "Start                     2024-01-29 09:05:00\n",
              "End                       2024-04-26 15:25:00\n",
              "Duration                     88 days 06:20:00\n",
              "Exposure Time [%]                   27.641037\n",
              "Equity Final [$]                   4016567.24\n",
              "Equity Peak [$]                    4028913.36\n",
              "Return [%]                           0.414181\n",
              "Buy & Hold Return [%]                0.517696\n",
              "Return (Ann.) [%]                     1.72217\n",
              "Volatility (Ann.) [%]                   1.465\n",
              "Sharpe Ratio                         1.175543\n",
              "Sortino Ratio                        1.844217\n",
              "Calmar Ratio                          3.83626\n",
              "Max. Drawdown [%]                   -0.448919\n",
              "Avg. Drawdown [%]                   -0.080914\n",
              "Max. Drawdown Duration       38 days 01:25:00\n",
              "Avg. Drawdown Duration        2 days 00:38:00\n",
              "# Trades                                   19\n",
              "Win Rate [%]                        57.894737\n",
              "Best Trade [%]                        1.47955\n",
              "Worst Trade [%]                     -1.389335\n",
              "Avg. Trade [%]                       0.161186\n",
              "Max. Trade Duration           4 days 03:30:00\n",
              "Avg. Trade Duration           1 days 08:39:00\n",
              "Profit Factor                        1.328514\n",
              "Expectancy [%]                       0.168221\n",
              "SQN                                  0.613063\n",
              "_strategy                 rsi(target=14,rs...\n",
              "_equity_curve                             ...\n",
              "_trades                       Size  EntryB...\n",
              "dtype: object"
            ]
          },
          "execution_count": 61,
          "metadata": {},
          "output_type": "execute_result"
        }
      ],
      "source": [
        "opt_stats"
      ]
    },
    {
      "cell_type": "code",
      "execution_count": 62,
      "metadata": {},
      "outputs": [
        {
          "name": "stderr",
          "output_type": "stream",
          "text": [
            "BokehDeprecationWarning: Passing lists of formats for DatetimeTickFormatter scales was deprecated in Bokeh 3.0. Configure a single string format for each scale\n",
            "C:\\Users\\Ankit\\AppData\\Roaming\\Python\\Python310\\site-packages\\backtesting\\_plotting.py:250: UserWarning: DatetimeFormatter scales now only accept a single format. Using the first provided: '%d %b'\n",
            "  formatter=DatetimeTickFormatter(days=['%d %b', '%a %d'],\n",
            "BokehDeprecationWarning: Passing lists of formats for DatetimeTickFormatter scales was deprecated in Bokeh 3.0. Configure a single string format for each scale\n",
            "C:\\Users\\Ankit\\AppData\\Roaming\\Python\\Python310\\site-packages\\backtesting\\_plotting.py:250: UserWarning: DatetimeFormatter scales now only accept a single format. Using the first provided: '%m/%Y'\n",
            "  formatter=DatetimeTickFormatter(days=['%d %b', '%a %d'],\n",
            "C:\\Users\\Ankit\\AppData\\Roaming\\Python\\Python310\\site-packages\\backtesting\\_plotting.py:659: UserWarning: found multiple competing values for 'toolbar.active_drag' property; using the latest value\n",
            "  fig = gridplot(\n",
            "C:\\Users\\Ankit\\AppData\\Roaming\\Python\\Python310\\site-packages\\backtesting\\_plotting.py:659: UserWarning: found multiple competing values for 'toolbar.active_scroll' property; using the latest value\n",
            "  fig = gridplot(\n"
          ]
        },
        {
          "data": {
            "text/html": [
              "<div style=\"display: table;\"><div style=\"display: table-row;\"><div style=\"display: table-cell;\"><b title=\"bokeh.models.plots.GridPlot\">GridPlot</b>(</div><div style=\"display: table-cell;\">id&nbsp;=&nbsp;'p2463', <span id=\"p2493\" style=\"cursor: pointer;\">&hellip;)</span></div></div><div class=\"p2492\" style=\"display: none;\"><div style=\"display: table-cell;\"></div><div style=\"display: table-cell;\">align&nbsp;=&nbsp;'auto',</div></div><div class=\"p2492\" style=\"display: none;\"><div style=\"display: table-cell;\"></div><div style=\"display: table-cell;\">aspect_ratio&nbsp;=&nbsp;None,</div></div><div class=\"p2492\" style=\"display: none;\"><div style=\"display: table-cell;\"></div><div style=\"display: table-cell;\">children&nbsp;=&nbsp;[(figure(id='p2158', ...), 0, 0), (figure(id='p2255', ...), 1, 0), (figure(id='p2114', ...), 2, 0), (figure(id='p2310', ...), 3, 0), (figure(id='p2405', ...), 4, 0)],</div></div><div class=\"p2492\" style=\"display: none;\"><div style=\"display: table-cell;\"></div><div style=\"display: table-cell;\">cols&nbsp;=&nbsp;None,</div></div><div class=\"p2492\" style=\"display: none;\"><div style=\"display: table-cell;\"></div><div style=\"display: table-cell;\">context_menu&nbsp;=&nbsp;None,</div></div><div class=\"p2492\" style=\"display: none;\"><div style=\"display: table-cell;\"></div><div style=\"display: table-cell;\">css_classes&nbsp;=&nbsp;[],</div></div><div class=\"p2492\" style=\"display: none;\"><div style=\"display: table-cell;\"></div><div style=\"display: table-cell;\">css_variables&nbsp;=&nbsp;{},</div></div><div class=\"p2492\" style=\"display: none;\"><div style=\"display: table-cell;\"></div><div style=\"display: table-cell;\">disabled&nbsp;=&nbsp;False,</div></div><div class=\"p2492\" style=\"display: none;\"><div style=\"display: table-cell;\"></div><div style=\"display: table-cell;\">elements&nbsp;=&nbsp;[],</div></div><div class=\"p2492\" style=\"display: none;\"><div style=\"display: table-cell;\"></div><div style=\"display: table-cell;\">flow_mode&nbsp;=&nbsp;'block',</div></div><div class=\"p2492\" style=\"display: none;\"><div style=\"display: table-cell;\"></div><div style=\"display: table-cell;\">height&nbsp;=&nbsp;None,</div></div><div class=\"p2492\" style=\"display: none;\"><div style=\"display: table-cell;\"></div><div style=\"display: table-cell;\">height_policy&nbsp;=&nbsp;'auto',</div></div><div class=\"p2492\" style=\"display: none;\"><div style=\"display: table-cell;\"></div><div style=\"display: table-cell;\">js_event_callbacks&nbsp;=&nbsp;{},</div></div><div class=\"p2492\" style=\"display: none;\"><div style=\"display: table-cell;\"></div><div style=\"display: table-cell;\">js_property_callbacks&nbsp;=&nbsp;{},</div></div><div class=\"p2492\" style=\"display: none;\"><div style=\"display: table-cell;\"></div><div style=\"display: table-cell;\">margin&nbsp;=&nbsp;None,</div></div><div class=\"p2492\" style=\"display: none;\"><div style=\"display: table-cell;\"></div><div style=\"display: table-cell;\">max_height&nbsp;=&nbsp;None,</div></div><div class=\"p2492\" style=\"display: none;\"><div style=\"display: table-cell;\"></div><div style=\"display: table-cell;\">max_width&nbsp;=&nbsp;None,</div></div><div class=\"p2492\" style=\"display: none;\"><div style=\"display: table-cell;\"></div><div style=\"display: table-cell;\">min_height&nbsp;=&nbsp;None,</div></div><div class=\"p2492\" style=\"display: none;\"><div style=\"display: table-cell;\"></div><div style=\"display: table-cell;\">min_width&nbsp;=&nbsp;None,</div></div><div class=\"p2492\" style=\"display: none;\"><div style=\"display: table-cell;\"></div><div style=\"display: table-cell;\">name&nbsp;=&nbsp;None,</div></div><div class=\"p2492\" style=\"display: none;\"><div style=\"display: table-cell;\"></div><div style=\"display: table-cell;\">resizable&nbsp;=&nbsp;False,</div></div><div class=\"p2492\" style=\"display: none;\"><div style=\"display: table-cell;\"></div><div style=\"display: table-cell;\">rows&nbsp;=&nbsp;None,</div></div><div class=\"p2492\" style=\"display: none;\"><div style=\"display: table-cell;\"></div><div style=\"display: table-cell;\">sizing_mode&nbsp;=&nbsp;'stretch_width',</div></div><div class=\"p2492\" style=\"display: none;\"><div style=\"display: table-cell;\"></div><div style=\"display: table-cell;\">spacing&nbsp;=&nbsp;0,</div></div><div class=\"p2492\" style=\"display: none;\"><div style=\"display: table-cell;\"></div><div style=\"display: table-cell;\">styles&nbsp;=&nbsp;{},</div></div><div class=\"p2492\" style=\"display: none;\"><div style=\"display: table-cell;\"></div><div style=\"display: table-cell;\">stylesheets&nbsp;=&nbsp;[],</div></div><div class=\"p2492\" style=\"display: none;\"><div style=\"display: table-cell;\"></div><div style=\"display: table-cell;\">subscribed_events&nbsp;=&nbsp;PropertyValueSet(),</div></div><div class=\"p2492\" style=\"display: none;\"><div style=\"display: table-cell;\"></div><div style=\"display: table-cell;\">syncable&nbsp;=&nbsp;True,</div></div><div class=\"p2492\" style=\"display: none;\"><div style=\"display: table-cell;\"></div><div style=\"display: table-cell;\">tags&nbsp;=&nbsp;[],</div></div><div class=\"p2492\" style=\"display: none;\"><div style=\"display: table-cell;\"></div><div style=\"display: table-cell;\">toolbar&nbsp;=&nbsp;Toolbar(id='p2462', ...),</div></div><div class=\"p2492\" style=\"display: none;\"><div style=\"display: table-cell;\"></div><div style=\"display: table-cell;\">toolbar_location&nbsp;=&nbsp;'right',</div></div><div class=\"p2492\" style=\"display: none;\"><div style=\"display: table-cell;\"></div><div style=\"display: table-cell;\">visible&nbsp;=&nbsp;True,</div></div><div class=\"p2492\" style=\"display: none;\"><div style=\"display: table-cell;\"></div><div style=\"display: table-cell;\">width&nbsp;=&nbsp;None,</div></div><div class=\"p2492\" style=\"display: none;\"><div style=\"display: table-cell;\"></div><div style=\"display: table-cell;\">width_policy&nbsp;=&nbsp;'auto')</div></div></div>\n",
              "<script>\n",
              "(function() {\n",
              "  let expanded = false;\n",
              "  const ellipsis = document.getElementById(\"p2493\");\n",
              "  ellipsis.addEventListener(\"click\", function() {\n",
              "    const rows = document.getElementsByClassName(\"p2492\");\n",
              "    for (let i = 0; i < rows.length; i++) {\n",
              "      const el = rows[i];\n",
              "      el.style.display = expanded ? \"none\" : \"table-row\";\n",
              "    }\n",
              "    ellipsis.innerHTML = expanded ? \"&hellip;)\" : \"&lsaquo;&lsaquo;&lsaquo;\";\n",
              "    expanded = !expanded;\n",
              "  });\n",
              "})();\n",
              "</script>\n"
            ],
            "text/plain": [
              "GridPlot(id='p2463', ...)"
            ]
          },
          "execution_count": 62,
          "metadata": {},
          "output_type": "execute_result"
        }
      ],
      "source": [
        "eng.plot()"
      ]
    },
    {
      "cell_type": "code",
      "execution_count": null,
      "metadata": {},
      "outputs": [],
      "source": []
    },
    {
      "cell_type": "code",
      "execution_count": null,
      "metadata": {},
      "outputs": [],
      "source": []
    }
  ],
  "metadata": {
    "colab": {
      "provenance": []
    },
    "kernelspec": {
      "display_name": "Python 3",
      "name": "python3"
    },
    "language_info": {
      "codemirror_mode": {
        "name": "ipython",
        "version": 3
      },
      "file_extension": ".py",
      "mimetype": "text/x-python",
      "name": "python",
      "nbconvert_exporter": "python",
      "pygments_lexer": "ipython3",
      "version": "3.10.11"
    }
  },
  "nbformat": 4,
  "nbformat_minor": 0
}
