{
  "cells": [
    {
      "cell_type": "code",
      "execution_count": 1,
      "metadata": {
        "colab": {
          "base_uri": "https://localhost:8080/",
          "height": 457
        },
        "id": "wD_XiF17vauF",
        "outputId": "f8062ff9-5d81-41df-cbe0-3bbcc563a1ce"
      },
      "outputs": [],
      "source": [
        "import pandas as pd\n",
        "import backtesting as bt\n",
        "import pandas_ta as ta\n",
        "import numpy as np\n",
        "import datetime as dt\n",
        "from IPython.display import clear_output"
      ]
    },
    {
      "cell_type": "code",
      "execution_count": 17,
      "metadata": {},
      "outputs": [
        {
          "data": {
            "text/html": [
              "<div>\n",
              "<style scoped>\n",
              "    .dataframe tbody tr th:only-of-type {\n",
              "        vertical-align: middle;\n",
              "    }\n",
              "\n",
              "    .dataframe tbody tr th {\n",
              "        vertical-align: top;\n",
              "    }\n",
              "\n",
              "    .dataframe thead th {\n",
              "        text-align: right;\n",
              "    }\n",
              "</style>\n",
              "<table border=\"1\" class=\"dataframe\">\n",
              "  <thead>\n",
              "    <tr style=\"text-align: right;\">\n",
              "      <th></th>\n",
              "      <th>Close</th>\n",
              "      <th>exchange_code</th>\n",
              "      <th>High</th>\n",
              "      <th>Low</th>\n",
              "      <th>Open</th>\n",
              "      <th>stock_code</th>\n",
              "      <th>Volume</th>\n",
              "    </tr>\n",
              "    <tr>\n",
              "      <th>datetime</th>\n",
              "      <th></th>\n",
              "      <th></th>\n",
              "      <th></th>\n",
              "      <th></th>\n",
              "      <th></th>\n",
              "      <th></th>\n",
              "      <th></th>\n",
              "    </tr>\n",
              "  </thead>\n",
              "  <tbody>\n",
              "    <tr>\n",
              "      <th>2024-01-29 09:05:00</th>\n",
              "      <td>2482.15</td>\n",
              "      <td>NSE</td>\n",
              "      <td>2482.15</td>\n",
              "      <td>2482.15</td>\n",
              "      <td>2482.15</td>\n",
              "      <td>NESIND</td>\n",
              "      <td>0</td>\n",
              "    </tr>\n",
              "    <tr>\n",
              "      <th>2024-01-29 09:15:00</th>\n",
              "      <td>2482.00</td>\n",
              "      <td>NSE</td>\n",
              "      <td>2488.90</td>\n",
              "      <td>2476.60</td>\n",
              "      <td>2482.15</td>\n",
              "      <td>NESIND</td>\n",
              "      <td>39718</td>\n",
              "    </tr>\n",
              "    <tr>\n",
              "      <th>2024-01-29 09:20:00</th>\n",
              "      <td>2497.00</td>\n",
              "      <td>NSE</td>\n",
              "      <td>2497.55</td>\n",
              "      <td>2481.90</td>\n",
              "      <td>2482.00</td>\n",
              "      <td>NESIND</td>\n",
              "      <td>22338</td>\n",
              "    </tr>\n",
              "    <tr>\n",
              "      <th>2024-01-29 09:25:00</th>\n",
              "      <td>2500.75</td>\n",
              "      <td>NSE</td>\n",
              "      <td>2505.00</td>\n",
              "      <td>2496.50</td>\n",
              "      <td>2496.95</td>\n",
              "      <td>NESIND</td>\n",
              "      <td>16544</td>\n",
              "    </tr>\n",
              "    <tr>\n",
              "      <th>2024-01-29 09:30:00</th>\n",
              "      <td>2499.25</td>\n",
              "      <td>NSE</td>\n",
              "      <td>2502.20</td>\n",
              "      <td>2499.25</td>\n",
              "      <td>2500.25</td>\n",
              "      <td>NESIND</td>\n",
              "      <td>8660</td>\n",
              "    </tr>\n",
              "    <tr>\n",
              "      <th>...</th>\n",
              "      <td>...</td>\n",
              "      <td>...</td>\n",
              "      <td>...</td>\n",
              "      <td>...</td>\n",
              "      <td>...</td>\n",
              "      <td>...</td>\n",
              "      <td>...</td>\n",
              "    </tr>\n",
              "    <tr>\n",
              "      <th>2024-04-26 15:05:00</th>\n",
              "      <td>2479.50</td>\n",
              "      <td>NSE</td>\n",
              "      <td>2479.95</td>\n",
              "      <td>2473.00</td>\n",
              "      <td>2477.40</td>\n",
              "      <td>NESIND</td>\n",
              "      <td>37317</td>\n",
              "    </tr>\n",
              "    <tr>\n",
              "      <th>2024-04-26 15:10:00</th>\n",
              "      <td>2481.60</td>\n",
              "      <td>NSE</td>\n",
              "      <td>2482.80</td>\n",
              "      <td>2479.55</td>\n",
              "      <td>2479.55</td>\n",
              "      <td>NESIND</td>\n",
              "      <td>30752</td>\n",
              "    </tr>\n",
              "    <tr>\n",
              "      <th>2024-04-26 15:15:00</th>\n",
              "      <td>2482.90</td>\n",
              "      <td>NSE</td>\n",
              "      <td>2485.70</td>\n",
              "      <td>2479.65</td>\n",
              "      <td>2481.65</td>\n",
              "      <td>NESIND</td>\n",
              "      <td>39890</td>\n",
              "    </tr>\n",
              "    <tr>\n",
              "      <th>2024-04-26 15:20:00</th>\n",
              "      <td>2490.50</td>\n",
              "      <td>NSE</td>\n",
              "      <td>2491.95</td>\n",
              "      <td>2482.55</td>\n",
              "      <td>2482.90</td>\n",
              "      <td>NESIND</td>\n",
              "      <td>37095</td>\n",
              "    </tr>\n",
              "    <tr>\n",
              "      <th>2024-04-26 15:25:00</th>\n",
              "      <td>2495.00</td>\n",
              "      <td>NSE</td>\n",
              "      <td>2495.00</td>\n",
              "      <td>2490.00</td>\n",
              "      <td>2490.50</td>\n",
              "      <td>NESIND</td>\n",
              "      <td>25784</td>\n",
              "    </tr>\n",
              "  </tbody>\n",
              "</table>\n",
              "<p>4591 rows × 7 columns</p>\n",
              "</div>"
            ],
            "text/plain": [
              "                       Close exchange_code     High      Low     Open  \\\n",
              "datetime                                                                \n",
              "2024-01-29 09:05:00  2482.15           NSE  2482.15  2482.15  2482.15   \n",
              "2024-01-29 09:15:00  2482.00           NSE  2488.90  2476.60  2482.15   \n",
              "2024-01-29 09:20:00  2497.00           NSE  2497.55  2481.90  2482.00   \n",
              "2024-01-29 09:25:00  2500.75           NSE  2505.00  2496.50  2496.95   \n",
              "2024-01-29 09:30:00  2499.25           NSE  2502.20  2499.25  2500.25   \n",
              "...                      ...           ...      ...      ...      ...   \n",
              "2024-04-26 15:05:00  2479.50           NSE  2479.95  2473.00  2477.40   \n",
              "2024-04-26 15:10:00  2481.60           NSE  2482.80  2479.55  2479.55   \n",
              "2024-04-26 15:15:00  2482.90           NSE  2485.70  2479.65  2481.65   \n",
              "2024-04-26 15:20:00  2490.50           NSE  2491.95  2482.55  2482.90   \n",
              "2024-04-26 15:25:00  2495.00           NSE  2495.00  2490.00  2490.50   \n",
              "\n",
              "                    stock_code  Volume  \n",
              "datetime                                \n",
              "2024-01-29 09:05:00     NESIND       0  \n",
              "2024-01-29 09:15:00     NESIND   39718  \n",
              "2024-01-29 09:20:00     NESIND   22338  \n",
              "2024-01-29 09:25:00     NESIND   16544  \n",
              "2024-01-29 09:30:00     NESIND    8660  \n",
              "...                        ...     ...  \n",
              "2024-04-26 15:05:00     NESIND   37317  \n",
              "2024-04-26 15:10:00     NESIND   30752  \n",
              "2024-04-26 15:15:00     NESIND   39890  \n",
              "2024-04-26 15:20:00     NESIND   37095  \n",
              "2024-04-26 15:25:00     NESIND   25784  \n",
              "\n",
              "[4591 rows x 7 columns]"
            ]
          },
          "execution_count": 17,
          "metadata": {},
          "output_type": "execute_result"
        }
      ],
      "source": [
        "filename = 'data/NESIND/NESIND_5minute_90days.csv'\n",
        "data = pd.read_csv(filename)\n",
        "data.set_index('datetime',inplace=True)\n",
        "data"
      ]
    },
    {
      "cell_type": "code",
      "execution_count": 23,
      "metadata": {},
      "outputs": [],
      "source": [
        "data.reset_index(inplace=True)"
      ]
    },
    {
      "cell_type": "code",
      "execution_count": 31,
      "metadata": {},
      "outputs": [],
      "source": [
        "class rsi(bt.Strategy):\n",
        "\n",
        "    target = 10\n",
        "    rsi_length = 14\n",
        "    rsi_upperband = 70\n",
        "    rsi_lowerband = 30\n",
        "\n",
        "\n",
        "\n",
        "    def init(self):\n",
        "        self.rsi = self.I(ta.rsi,self.data.Close.s,self.rsi_length)\n",
        "\n",
        "    \n",
        "    def next(self):\n",
        "        \n",
        "        price = self.data.Close[-1]\n",
        "        current_rsi = self.rsi[-1]\n",
        "        \n",
        "\n",
        "\n",
        "        target= self.target/10\n",
        "        target_precent = target/100\n",
        "        target_price = (1-target_precent)*price\n",
        "\n",
        "\n",
        "        \n",
        "\n",
        "        if self.rsi_upperband <= current_rsi:\n",
        "            if not self.position.is_short:\n",
        "                self.sell(size = 200,tp=target_price,sl=1.01*price)\n",
        "        \n",
        "    "
      ]
    },
    {
      "cell_type": "code",
      "execution_count": 32,
      "metadata": {},
      "outputs": [
        {
          "name": "stderr",
          "output_type": "stream",
          "text": [
            "C:\\Users\\himan\\AppData\\Local\\Temp\\ipykernel_6708\\188491853.py:1: UserWarning: Data index is not datetime. Assuming simple periods, but `pd.DateTimeIndex` is advised.\n",
            "  eng = bt.Backtest(data,rsi,cash=4000000,commission=0.002)\n"
          ]
        }
      ],
      "source": [
        "eng = bt.Backtest(data,rsi,cash=4000000,commission=0.002)"
      ]
    },
    {
      "cell_type": "code",
      "execution_count": 33,
      "metadata": {},
      "outputs": [
        {
          "data": {
            "text/plain": [
              "Start                                     0.0\n",
              "End                                    4590.0\n",
              "Duration                               4590.0\n",
              "Exposure Time [%]                    43.75953\n",
              "Equity Final [$]                   3983402.24\n",
              "Equity Peak [$]                    4013877.44\n",
              "Return [%]                          -0.414944\n",
              "Buy & Hold Return [%]                0.517696\n",
              "Return (Ann.) [%]                         0.0\n",
              "Volatility (Ann.) [%]                     NaN\n",
              "Sharpe Ratio                              NaN\n",
              "Sortino Ratio                             NaN\n",
              "Calmar Ratio                              0.0\n",
              "Max. Drawdown [%]                   -1.222931\n",
              "Avg. Drawdown [%]                   -0.131644\n",
              "Max. Drawdown Duration                 4041.0\n",
              "Avg. Drawdown Duration                  284.8\n",
              "# Trades                                 37.0\n",
              "Win Rate [%]                        56.756757\n",
              "Best Trade [%]                       0.940543\n",
              "Worst Trade [%]                     -1.389335\n",
              "Avg. Trade [%]                      -0.100621\n",
              "Max. Trade Duration                     221.0\n",
              "Avg. Trade Duration                 53.297297\n",
              "Profit Factor                        0.817632\n",
              "Expectancy [%]                      -0.095789\n",
              "SQN                                 -0.542334\n",
              "_strategy                                 rsi\n",
              "_equity_curve                       Equity...\n",
              "_trades                       Size  EntryB...\n",
              "dtype: object"
            ]
          },
          "execution_count": 33,
          "metadata": {},
          "output_type": "execute_result"
        }
      ],
      "source": [
        "stats = eng.run()\n",
        "stats"
      ]
    },
    {
      "cell_type": "code",
      "execution_count": 34,
      "metadata": {},
      "outputs": [
        {
          "name": "stderr",
          "output_type": "stream",
          "text": [
            "c:\\Users\\himan\\AppData\\Local\\Programs\\Python\\Python310\\lib\\site-packages\\backtesting\\_plotting.py:659: UserWarning: found multiple competing values for 'toolbar.active_drag' property; using the latest value\n",
            "  fig = gridplot(\n",
            "c:\\Users\\himan\\AppData\\Local\\Programs\\Python\\Python310\\lib\\site-packages\\backtesting\\_plotting.py:659: UserWarning: found multiple competing values for 'toolbar.active_scroll' property; using the latest value\n",
            "  fig = gridplot(\n"
          ]
        },
        {
          "data": {
            "text/html": [
              "<div style=\"display: table;\"><div style=\"display: table-row;\"><div style=\"display: table-cell;\"><b title=\"bokeh.models.plots.GridPlot\">GridPlot</b>(</div><div style=\"display: table-cell;\">id&nbsp;=&nbsp;'p2027', <span id=\"p2050\" style=\"cursor: pointer;\">&hellip;)</span></div></div><div class=\"p2049\" style=\"display: none;\"><div style=\"display: table-cell;\"></div><div style=\"display: table-cell;\">align&nbsp;=&nbsp;'auto',</div></div><div class=\"p2049\" style=\"display: none;\"><div style=\"display: table-cell;\"></div><div style=\"display: table-cell;\">aspect_ratio&nbsp;=&nbsp;None,</div></div><div class=\"p2049\" style=\"display: none;\"><div style=\"display: table-cell;\"></div><div style=\"display: table-cell;\">children&nbsp;=&nbsp;[(figure(id='p1744', ...), 0, 0), (figure(id='p1841', ...), 1, 0), (figure(id='p1702', ...), 2, 0), (figure(id='p1896', ...), 3, 0), (figure(id='p1969', ...), 4, 0)],</div></div><div class=\"p2049\" style=\"display: none;\"><div style=\"display: table-cell;\"></div><div style=\"display: table-cell;\">cols&nbsp;=&nbsp;None,</div></div><div class=\"p2049\" style=\"display: none;\"><div style=\"display: table-cell;\"></div><div style=\"display: table-cell;\">context_menu&nbsp;=&nbsp;None,</div></div><div class=\"p2049\" style=\"display: none;\"><div style=\"display: table-cell;\"></div><div style=\"display: table-cell;\">css_classes&nbsp;=&nbsp;[],</div></div><div class=\"p2049\" style=\"display: none;\"><div style=\"display: table-cell;\"></div><div style=\"display: table-cell;\">css_variables&nbsp;=&nbsp;{},</div></div><div class=\"p2049\" style=\"display: none;\"><div style=\"display: table-cell;\"></div><div style=\"display: table-cell;\">disabled&nbsp;=&nbsp;False,</div></div><div class=\"p2049\" style=\"display: none;\"><div style=\"display: table-cell;\"></div><div style=\"display: table-cell;\">elements&nbsp;=&nbsp;[],</div></div><div class=\"p2049\" style=\"display: none;\"><div style=\"display: table-cell;\"></div><div style=\"display: table-cell;\">flow_mode&nbsp;=&nbsp;'block',</div></div><div class=\"p2049\" style=\"display: none;\"><div style=\"display: table-cell;\"></div><div style=\"display: table-cell;\">height&nbsp;=&nbsp;None,</div></div><div class=\"p2049\" style=\"display: none;\"><div style=\"display: table-cell;\"></div><div style=\"display: table-cell;\">height_policy&nbsp;=&nbsp;'auto',</div></div><div class=\"p2049\" style=\"display: none;\"><div style=\"display: table-cell;\"></div><div style=\"display: table-cell;\">js_event_callbacks&nbsp;=&nbsp;{},</div></div><div class=\"p2049\" style=\"display: none;\"><div style=\"display: table-cell;\"></div><div style=\"display: table-cell;\">js_property_callbacks&nbsp;=&nbsp;{},</div></div><div class=\"p2049\" style=\"display: none;\"><div style=\"display: table-cell;\"></div><div style=\"display: table-cell;\">margin&nbsp;=&nbsp;None,</div></div><div class=\"p2049\" style=\"display: none;\"><div style=\"display: table-cell;\"></div><div style=\"display: table-cell;\">max_height&nbsp;=&nbsp;None,</div></div><div class=\"p2049\" style=\"display: none;\"><div style=\"display: table-cell;\"></div><div style=\"display: table-cell;\">max_width&nbsp;=&nbsp;None,</div></div><div class=\"p2049\" style=\"display: none;\"><div style=\"display: table-cell;\"></div><div style=\"display: table-cell;\">min_height&nbsp;=&nbsp;None,</div></div><div class=\"p2049\" style=\"display: none;\"><div style=\"display: table-cell;\"></div><div style=\"display: table-cell;\">min_width&nbsp;=&nbsp;None,</div></div><div class=\"p2049\" style=\"display: none;\"><div style=\"display: table-cell;\"></div><div style=\"display: table-cell;\">name&nbsp;=&nbsp;None,</div></div><div class=\"p2049\" style=\"display: none;\"><div style=\"display: table-cell;\"></div><div style=\"display: table-cell;\">resizable&nbsp;=&nbsp;False,</div></div><div class=\"p2049\" style=\"display: none;\"><div style=\"display: table-cell;\"></div><div style=\"display: table-cell;\">rows&nbsp;=&nbsp;None,</div></div><div class=\"p2049\" style=\"display: none;\"><div style=\"display: table-cell;\"></div><div style=\"display: table-cell;\">sizing_mode&nbsp;=&nbsp;'stretch_width',</div></div><div class=\"p2049\" style=\"display: none;\"><div style=\"display: table-cell;\"></div><div style=\"display: table-cell;\">spacing&nbsp;=&nbsp;0,</div></div><div class=\"p2049\" style=\"display: none;\"><div style=\"display: table-cell;\"></div><div style=\"display: table-cell;\">styles&nbsp;=&nbsp;{},</div></div><div class=\"p2049\" style=\"display: none;\"><div style=\"display: table-cell;\"></div><div style=\"display: table-cell;\">stylesheets&nbsp;=&nbsp;[],</div></div><div class=\"p2049\" style=\"display: none;\"><div style=\"display: table-cell;\"></div><div style=\"display: table-cell;\">subscribed_events&nbsp;=&nbsp;PropertyValueSet(),</div></div><div class=\"p2049\" style=\"display: none;\"><div style=\"display: table-cell;\"></div><div style=\"display: table-cell;\">syncable&nbsp;=&nbsp;True,</div></div><div class=\"p2049\" style=\"display: none;\"><div style=\"display: table-cell;\"></div><div style=\"display: table-cell;\">tags&nbsp;=&nbsp;[],</div></div><div class=\"p2049\" style=\"display: none;\"><div style=\"display: table-cell;\"></div><div style=\"display: table-cell;\">toolbar&nbsp;=&nbsp;Toolbar(id='p2026', ...),</div></div><div class=\"p2049\" style=\"display: none;\"><div style=\"display: table-cell;\"></div><div style=\"display: table-cell;\">toolbar_location&nbsp;=&nbsp;'right',</div></div><div class=\"p2049\" style=\"display: none;\"><div style=\"display: table-cell;\"></div><div style=\"display: table-cell;\">visible&nbsp;=&nbsp;True,</div></div><div class=\"p2049\" style=\"display: none;\"><div style=\"display: table-cell;\"></div><div style=\"display: table-cell;\">width&nbsp;=&nbsp;None,</div></div><div class=\"p2049\" style=\"display: none;\"><div style=\"display: table-cell;\"></div><div style=\"display: table-cell;\">width_policy&nbsp;=&nbsp;'auto')</div></div></div>\n",
              "<script>\n",
              "(function() {\n",
              "  let expanded = false;\n",
              "  const ellipsis = document.getElementById(\"p2050\");\n",
              "  ellipsis.addEventListener(\"click\", function() {\n",
              "    const rows = document.getElementsByClassName(\"p2049\");\n",
              "    for (let i = 0; i < rows.length; i++) {\n",
              "      const el = rows[i];\n",
              "      el.style.display = expanded ? \"none\" : \"table-row\";\n",
              "    }\n",
              "    ellipsis.innerHTML = expanded ? \"&hellip;)\" : \"&lsaquo;&lsaquo;&lsaquo;\";\n",
              "    expanded = !expanded;\n",
              "  });\n",
              "})();\n",
              "</script>\n"
            ],
            "text/plain": [
              "GridPlot(id='p2027', ...)"
            ]
          },
          "execution_count": 34,
          "metadata": {},
          "output_type": "execute_result"
        }
      ],
      "source": [
        "eng.plot()"
      ]
    },
    {
      "cell_type": "code",
      "execution_count": 37,
      "metadata": {},
      "outputs": [
        {
          "name": "stderr",
          "output_type": "stream",
          "text": [
            "c:\\Users\\himan\\AppData\\Local\\Programs\\Python\\Python310\\lib\\site-packages\\backtesting\\backtesting.py:1488: UserWarning: Searching for best of 360 configurations.\n",
            "  output = _optimize_grid()\n"
          ]
        },
        {
          "ename": "ValueError",
          "evalue": "Short orders require: TP (2487.8144) < LIMIT (2487.8144) < SL (2517.728)",
          "output_type": "error",
          "traceback": [
            "\u001b[1;31m---------------------------------------------------------------------------\u001b[0m",
            "\u001b[1;31mValueError\u001b[0m                                Traceback (most recent call last)",
            "Cell \u001b[1;32mIn[37], line 1\u001b[0m\n\u001b[1;32m----> 1\u001b[0m opt_stats,heatmap \u001b[38;5;241m=\u001b[39m \u001b[43meng\u001b[49m\u001b[38;5;241;43m.\u001b[39;49m\u001b[43moptimize\u001b[49m\u001b[43m(\u001b[49m\n\u001b[0;32m      2\u001b[0m \u001b[43m    \u001b[49m\u001b[43mtarget\u001b[49m\u001b[43m \u001b[49m\u001b[38;5;241;43m=\u001b[39;49m\u001b[43m \u001b[49m\u001b[38;5;28;43mrange\u001b[39;49m\u001b[43m(\u001b[49m\u001b[38;5;241;43m2\u001b[39;49m\u001b[43m,\u001b[49m\u001b[38;5;241;43m20\u001b[39;49m\u001b[43m)\u001b[49m\u001b[43m,\u001b[49m\n\u001b[0;32m      3\u001b[0m \u001b[43m    \u001b[49m\u001b[43mrsi_length\u001b[49m\u001b[43m \u001b[49m\u001b[38;5;241;43m=\u001b[39;49m\u001b[43m \u001b[49m\u001b[38;5;28;43mrange\u001b[39;49m\u001b[43m(\u001b[49m\u001b[38;5;241;43m5\u001b[39;49m\u001b[43m,\u001b[49m\u001b[38;5;241;43m25\u001b[39;49m\u001b[43m)\u001b[49m\u001b[43m,\u001b[49m\n\u001b[0;32m      4\u001b[0m \u001b[43m    \u001b[49m\u001b[43mmaximize\u001b[49m\u001b[43m \u001b[49m\u001b[38;5;241;43m=\u001b[39;49m\u001b[43m \u001b[49m\u001b[38;5;124;43m'\u001b[39;49m\u001b[38;5;124;43mWin Rate [\u001b[39;49m\u001b[38;5;124;43m%\u001b[39;49m\u001b[38;5;124;43m]\u001b[39;49m\u001b[38;5;124;43m'\u001b[39;49m\u001b[43m,\u001b[49m\n\u001b[0;32m      5\u001b[0m \u001b[43m    \u001b[49m\u001b[43mreturn_heatmap\u001b[49m\u001b[43m \u001b[49m\u001b[38;5;241;43m=\u001b[39;49m\u001b[43m \u001b[49m\u001b[38;5;28;43;01mTrue\u001b[39;49;00m\n\u001b[0;32m      6\u001b[0m \n\u001b[0;32m      7\u001b[0m \u001b[43m)\u001b[49m\n\u001b[0;32m      8\u001b[0m stats\n",
            "File \u001b[1;32mc:\\Users\\himan\\AppData\\Local\\Programs\\Python\\Python310\\lib\\site-packages\\backtesting\\backtesting.py:1488\u001b[0m, in \u001b[0;36mBacktest.optimize\u001b[1;34m(self, maximize, method, max_tries, constraint, return_heatmap, return_optimization, random_state, **kwargs)\u001b[0m\n\u001b[0;32m   1485\u001b[0m     \u001b[38;5;28;01mreturn\u001b[39;00m stats \u001b[38;5;28;01mif\u001b[39;00m \u001b[38;5;28mlen\u001b[39m(output) \u001b[38;5;241m==\u001b[39m \u001b[38;5;241m1\u001b[39m \u001b[38;5;28;01melse\u001b[39;00m \u001b[38;5;28mtuple\u001b[39m(output)\n\u001b[0;32m   1487\u001b[0m \u001b[38;5;28;01mif\u001b[39;00m method \u001b[38;5;241m==\u001b[39m \u001b[38;5;124m'\u001b[39m\u001b[38;5;124mgrid\u001b[39m\u001b[38;5;124m'\u001b[39m:\n\u001b[1;32m-> 1488\u001b[0m     output \u001b[38;5;241m=\u001b[39m \u001b[43m_optimize_grid\u001b[49m\u001b[43m(\u001b[49m\u001b[43m)\u001b[49m\n\u001b[0;32m   1489\u001b[0m \u001b[38;5;28;01melif\u001b[39;00m method \u001b[38;5;241m==\u001b[39m \u001b[38;5;124m'\u001b[39m\u001b[38;5;124mskopt\u001b[39m\u001b[38;5;124m'\u001b[39m:\n\u001b[0;32m   1490\u001b[0m     output \u001b[38;5;241m=\u001b[39m _optimize_skopt()\n",
            "File \u001b[1;32mc:\\Users\\himan\\AppData\\Local\\Programs\\Python\\Python310\\lib\\site-packages\\backtesting\\backtesting.py:1378\u001b[0m, in \u001b[0;36mBacktest.optimize.<locals>._optimize_grid\u001b[1;34m()\u001b[0m\n\u001b[0;32m   1375\u001b[0m     warnings\u001b[38;5;241m.\u001b[39mwarn(\u001b[38;5;124m\"\u001b[39m\u001b[38;5;124mFor multiprocessing support in `Backtest.optimize()` \u001b[39m\u001b[38;5;124m\"\u001b[39m\n\u001b[0;32m   1376\u001b[0m                   \u001b[38;5;124m\"\u001b[39m\u001b[38;5;124mset multiprocessing start method to \u001b[39m\u001b[38;5;124m'\u001b[39m\u001b[38;5;124mfork\u001b[39m\u001b[38;5;124m'\u001b[39m\u001b[38;5;124m.\u001b[39m\u001b[38;5;124m\"\u001b[39m)\n\u001b[0;32m   1377\u001b[0m \u001b[38;5;28;01mfor\u001b[39;00m batch_index \u001b[38;5;129;01min\u001b[39;00m _tqdm(\u001b[38;5;28mrange\u001b[39m(\u001b[38;5;28mlen\u001b[39m(param_batches))):\n\u001b[1;32m-> 1378\u001b[0m     _, values \u001b[38;5;241m=\u001b[39m \u001b[43mBacktest\u001b[49m\u001b[38;5;241;43m.\u001b[39;49m\u001b[43m_mp_task\u001b[49m\u001b[43m(\u001b[49m\u001b[43mbacktest_uuid\u001b[49m\u001b[43m,\u001b[49m\u001b[43m \u001b[49m\u001b[43mbatch_index\u001b[49m\u001b[43m)\u001b[49m\n\u001b[0;32m   1379\u001b[0m     \u001b[38;5;28;01mfor\u001b[39;00m value, params \u001b[38;5;129;01min\u001b[39;00m \u001b[38;5;28mzip\u001b[39m(values, param_batches[batch_index]):\n\u001b[0;32m   1380\u001b[0m         heatmap[\u001b[38;5;28mtuple\u001b[39m(params\u001b[38;5;241m.\u001b[39mvalues())] \u001b[38;5;241m=\u001b[39m value\n",
            "File \u001b[1;32mc:\\Users\\himan\\AppData\\Local\\Programs\\Python\\Python310\\lib\\site-packages\\backtesting\\backtesting.py:1498\u001b[0m, in \u001b[0;36mBacktest._mp_task\u001b[1;34m(backtest_uuid, batch_index)\u001b[0m\n\u001b[0;32m   1495\u001b[0m \u001b[38;5;129m@staticmethod\u001b[39m\n\u001b[0;32m   1496\u001b[0m \u001b[38;5;28;01mdef\u001b[39;00m \u001b[38;5;21m_mp_task\u001b[39m(backtest_uuid, batch_index):\n\u001b[0;32m   1497\u001b[0m     bt, param_batches, maximize_func \u001b[38;5;241m=\u001b[39m Backtest\u001b[38;5;241m.\u001b[39m_mp_backtests[backtest_uuid]\n\u001b[1;32m-> 1498\u001b[0m     \u001b[38;5;28;01mreturn\u001b[39;00m batch_index, [maximize_func(stats) \u001b[38;5;28;01mif\u001b[39;00m stats[\u001b[38;5;124m'\u001b[39m\u001b[38;5;124m# Trades\u001b[39m\u001b[38;5;124m'\u001b[39m] \u001b[38;5;28;01melse\u001b[39;00m np\u001b[38;5;241m.\u001b[39mnan\n\u001b[0;32m   1499\u001b[0m                          \u001b[38;5;28;01mfor\u001b[39;00m stats \u001b[38;5;129;01min\u001b[39;00m (bt\u001b[38;5;241m.\u001b[39mrun(\u001b[38;5;241m*\u001b[39m\u001b[38;5;241m*\u001b[39mparams)\n\u001b[0;32m   1500\u001b[0m                                        \u001b[38;5;28;01mfor\u001b[39;00m params \u001b[38;5;129;01min\u001b[39;00m param_batches[batch_index])]\n",
            "File \u001b[1;32mc:\\Users\\himan\\AppData\\Local\\Programs\\Python\\Python310\\lib\\site-packages\\backtesting\\backtesting.py:1498\u001b[0m, in \u001b[0;36m<listcomp>\u001b[1;34m(.0)\u001b[0m\n\u001b[0;32m   1495\u001b[0m \u001b[38;5;129m@staticmethod\u001b[39m\n\u001b[0;32m   1496\u001b[0m \u001b[38;5;28;01mdef\u001b[39;00m \u001b[38;5;21m_mp_task\u001b[39m(backtest_uuid, batch_index):\n\u001b[0;32m   1497\u001b[0m     bt, param_batches, maximize_func \u001b[38;5;241m=\u001b[39m Backtest\u001b[38;5;241m.\u001b[39m_mp_backtests[backtest_uuid]\n\u001b[1;32m-> 1498\u001b[0m     \u001b[38;5;28;01mreturn\u001b[39;00m batch_index, [maximize_func(stats) \u001b[38;5;28;01mif\u001b[39;00m stats[\u001b[38;5;124m'\u001b[39m\u001b[38;5;124m# Trades\u001b[39m\u001b[38;5;124m'\u001b[39m] \u001b[38;5;28;01melse\u001b[39;00m np\u001b[38;5;241m.\u001b[39mnan\n\u001b[0;32m   1499\u001b[0m                          \u001b[38;5;28;01mfor\u001b[39;00m stats \u001b[38;5;129;01min\u001b[39;00m (bt\u001b[38;5;241m.\u001b[39mrun(\u001b[38;5;241m*\u001b[39m\u001b[38;5;241m*\u001b[39mparams)\n\u001b[0;32m   1500\u001b[0m                                        \u001b[38;5;28;01mfor\u001b[39;00m params \u001b[38;5;129;01min\u001b[39;00m param_batches[batch_index])]\n",
            "File \u001b[1;32mc:\\Users\\himan\\AppData\\Local\\Programs\\Python\\Python310\\lib\\site-packages\\backtesting\\backtesting.py:1499\u001b[0m, in \u001b[0;36m<genexpr>\u001b[1;34m(.0)\u001b[0m\n\u001b[0;32m   1495\u001b[0m \u001b[38;5;129m@staticmethod\u001b[39m\n\u001b[0;32m   1496\u001b[0m \u001b[38;5;28;01mdef\u001b[39;00m \u001b[38;5;21m_mp_task\u001b[39m(backtest_uuid, batch_index):\n\u001b[0;32m   1497\u001b[0m     bt, param_batches, maximize_func \u001b[38;5;241m=\u001b[39m Backtest\u001b[38;5;241m.\u001b[39m_mp_backtests[backtest_uuid]\n\u001b[0;32m   1498\u001b[0m     \u001b[38;5;28;01mreturn\u001b[39;00m batch_index, [maximize_func(stats) \u001b[38;5;28;01mif\u001b[39;00m stats[\u001b[38;5;124m'\u001b[39m\u001b[38;5;124m# Trades\u001b[39m\u001b[38;5;124m'\u001b[39m] \u001b[38;5;28;01melse\u001b[39;00m np\u001b[38;5;241m.\u001b[39mnan\n\u001b[1;32m-> 1499\u001b[0m                          \u001b[38;5;28;01mfor\u001b[39;00m stats \u001b[38;5;129;01min\u001b[39;00m (bt\u001b[38;5;241m.\u001b[39mrun(\u001b[38;5;241m*\u001b[39m\u001b[38;5;241m*\u001b[39mparams)\n\u001b[0;32m   1500\u001b[0m                                        \u001b[38;5;28;01mfor\u001b[39;00m params \u001b[38;5;129;01min\u001b[39;00m param_batches[batch_index])]\n",
            "File \u001b[1;32mc:\\Users\\himan\\AppData\\Local\\Programs\\Python\\Python310\\lib\\site-packages\\backtesting\\backtesting.py:1170\u001b[0m, in \u001b[0;36mBacktest.run\u001b[1;34m(self, **kwargs)\u001b[0m\n\u001b[0;32m   1167\u001b[0m         \u001b[38;5;28;01mbreak\u001b[39;00m\n\u001b[0;32m   1169\u001b[0m     \u001b[38;5;66;03m# Next tick, a moment before bar close\u001b[39;00m\n\u001b[1;32m-> 1170\u001b[0m     \u001b[43mstrategy\u001b[49m\u001b[38;5;241;43m.\u001b[39;49m\u001b[43mnext\u001b[49m\u001b[43m(\u001b[49m\u001b[43m)\u001b[49m\n\u001b[0;32m   1171\u001b[0m \u001b[38;5;28;01melse\u001b[39;00m:\n\u001b[0;32m   1172\u001b[0m     \u001b[38;5;66;03m# Close any remaining open trades so they produce some stats\u001b[39;00m\n\u001b[0;32m   1173\u001b[0m     \u001b[38;5;28;01mfor\u001b[39;00m trade \u001b[38;5;129;01min\u001b[39;00m broker\u001b[38;5;241m.\u001b[39mtrades:\n",
            "Cell \u001b[1;32mIn[31], line 30\u001b[0m, in \u001b[0;36mrsi.next\u001b[1;34m(self)\u001b[0m\n\u001b[0;32m     28\u001b[0m \u001b[38;5;28;01mif\u001b[39;00m \u001b[38;5;28mself\u001b[39m\u001b[38;5;241m.\u001b[39mrsi_upperband \u001b[38;5;241m<\u001b[39m\u001b[38;5;241m=\u001b[39m current_rsi:\n\u001b[0;32m     29\u001b[0m     \u001b[38;5;28;01mif\u001b[39;00m \u001b[38;5;129;01mnot\u001b[39;00m \u001b[38;5;28mself\u001b[39m\u001b[38;5;241m.\u001b[39mposition\u001b[38;5;241m.\u001b[39mis_short:\n\u001b[1;32m---> 30\u001b[0m         \u001b[38;5;28;43mself\u001b[39;49m\u001b[38;5;241;43m.\u001b[39;49m\u001b[43msell\u001b[49m\u001b[43m(\u001b[49m\u001b[43msize\u001b[49m\u001b[43m \u001b[49m\u001b[38;5;241;43m=\u001b[39;49m\u001b[43m \u001b[49m\u001b[38;5;241;43m200\u001b[39;49m\u001b[43m,\u001b[49m\u001b[43mtp\u001b[49m\u001b[38;5;241;43m=\u001b[39;49m\u001b[43mtarget_price\u001b[49m\u001b[43m,\u001b[49m\u001b[43msl\u001b[49m\u001b[38;5;241;43m=\u001b[39;49m\u001b[38;5;241;43m1.01\u001b[39;49m\u001b[38;5;241;43m*\u001b[39;49m\u001b[43mprice\u001b[49m\u001b[43m)\u001b[49m\n",
            "File \u001b[1;32mc:\\Users\\himan\\AppData\\Local\\Programs\\Python\\Python310\\lib\\site-packages\\backtesting\\backtesting.py:225\u001b[0m, in \u001b[0;36mStrategy.sell\u001b[1;34m(self, size, limit, stop, sl, tp)\u001b[0m\n\u001b[0;32m    218\u001b[0m \u001b[38;5;250m\u001b[39m\u001b[38;5;124;03m\"\"\"\u001b[39;00m\n\u001b[0;32m    219\u001b[0m \u001b[38;5;124;03mPlace a new short order. For explanation of parameters, see `Order` and its properties.\u001b[39;00m\n\u001b[0;32m    220\u001b[0m \n\u001b[0;32m    221\u001b[0m \u001b[38;5;124;03mSee also `Strategy.buy()`.\u001b[39;00m\n\u001b[0;32m    222\u001b[0m \u001b[38;5;124;03m\"\"\"\u001b[39;00m\n\u001b[0;32m    223\u001b[0m \u001b[38;5;28;01massert\u001b[39;00m \u001b[38;5;241m0\u001b[39m \u001b[38;5;241m<\u001b[39m size \u001b[38;5;241m<\u001b[39m \u001b[38;5;241m1\u001b[39m \u001b[38;5;129;01mor\u001b[39;00m \u001b[38;5;28mround\u001b[39m(size) \u001b[38;5;241m==\u001b[39m size, \\\n\u001b[0;32m    224\u001b[0m     \u001b[38;5;124m\"\u001b[39m\u001b[38;5;124msize must be a positive fraction of equity, or a positive whole number of units\u001b[39m\u001b[38;5;124m\"\u001b[39m\n\u001b[1;32m--> 225\u001b[0m \u001b[38;5;28;01mreturn\u001b[39;00m \u001b[38;5;28;43mself\u001b[39;49m\u001b[38;5;241;43m.\u001b[39;49m\u001b[43m_broker\u001b[49m\u001b[38;5;241;43m.\u001b[39;49m\u001b[43mnew_order\u001b[49m\u001b[43m(\u001b[49m\u001b[38;5;241;43m-\u001b[39;49m\u001b[43msize\u001b[49m\u001b[43m,\u001b[49m\u001b[43m \u001b[49m\u001b[43mlimit\u001b[49m\u001b[43m,\u001b[49m\u001b[43m \u001b[49m\u001b[43mstop\u001b[49m\u001b[43m,\u001b[49m\u001b[43m \u001b[49m\u001b[43msl\u001b[49m\u001b[43m,\u001b[49m\u001b[43m \u001b[49m\u001b[43mtp\u001b[49m\u001b[43m)\u001b[49m\n",
            "File \u001b[1;32mc:\\Users\\himan\\AppData\\Local\\Programs\\Python\\Python310\\lib\\site-packages\\backtesting\\backtesting.py:718\u001b[0m, in \u001b[0;36m_Broker.new_order\u001b[1;34m(self, size, limit, stop, sl, tp, trade)\u001b[0m\n\u001b[0;32m    716\u001b[0m \u001b[38;5;28;01melse\u001b[39;00m:\n\u001b[0;32m    717\u001b[0m     \u001b[38;5;28;01mif\u001b[39;00m \u001b[38;5;129;01mnot\u001b[39;00m (tp \u001b[38;5;129;01mor\u001b[39;00m \u001b[38;5;241m-\u001b[39mnp\u001b[38;5;241m.\u001b[39minf) \u001b[38;5;241m<\u001b[39m (limit \u001b[38;5;129;01mor\u001b[39;00m stop \u001b[38;5;129;01mor\u001b[39;00m adjusted_price) \u001b[38;5;241m<\u001b[39m (sl \u001b[38;5;129;01mor\u001b[39;00m np\u001b[38;5;241m.\u001b[39minf):\n\u001b[1;32m--> 718\u001b[0m         \u001b[38;5;28;01mraise\u001b[39;00m \u001b[38;5;167;01mValueError\u001b[39;00m(\n\u001b[0;32m    719\u001b[0m             \u001b[38;5;124m\"\u001b[39m\u001b[38;5;124mShort orders require: \u001b[39m\u001b[38;5;124m\"\u001b[39m\n\u001b[0;32m    720\u001b[0m             \u001b[38;5;124mf\u001b[39m\u001b[38;5;124m\"\u001b[39m\u001b[38;5;124mTP (\u001b[39m\u001b[38;5;132;01m{\u001b[39;00mtp\u001b[38;5;132;01m}\u001b[39;00m\u001b[38;5;124m) < LIMIT (\u001b[39m\u001b[38;5;132;01m{\u001b[39;00mlimit\u001b[38;5;250m \u001b[39m\u001b[38;5;129;01mor\u001b[39;00m\u001b[38;5;250m \u001b[39mstop\u001b[38;5;250m \u001b[39m\u001b[38;5;129;01mor\u001b[39;00m\u001b[38;5;250m \u001b[39madjusted_price\u001b[38;5;132;01m}\u001b[39;00m\u001b[38;5;124m) < SL (\u001b[39m\u001b[38;5;132;01m{\u001b[39;00msl\u001b[38;5;132;01m}\u001b[39;00m\u001b[38;5;124m)\u001b[39m\u001b[38;5;124m\"\u001b[39m)\n\u001b[0;32m    722\u001b[0m order \u001b[38;5;241m=\u001b[39m Order(\u001b[38;5;28mself\u001b[39m, size, limit, stop, sl, tp, trade)\n\u001b[0;32m    723\u001b[0m \u001b[38;5;66;03m# Put the new order in the order queue,\u001b[39;00m\n\u001b[0;32m    724\u001b[0m \u001b[38;5;66;03m# inserting SL/TP/trade-closing orders in-front\u001b[39;00m\n",
            "\u001b[1;31mValueError\u001b[0m: Short orders require: TP (2487.8144) < LIMIT (2487.8144) < SL (2517.728)"
          ]
        }
      ],
      "source": [
        "opt_stats,heatmap = eng.optimize(\n",
        "    target = range(2,20),\n",
        "    rsi_length = range(5,25),\n",
        "    maximize = 'Win Rate [%]',\n",
        "    return_heatmap = True\n",
        "\n",
        ")\n",
        "stats"
      ]
    },
    {
      "cell_type": "code",
      "execution_count": null,
      "metadata": {},
      "outputs": [],
      "source": []
    },
    {
      "cell_type": "code",
      "execution_count": null,
      "metadata": {},
      "outputs": [],
      "source": []
    },
    {
      "cell_type": "code",
      "execution_count": null,
      "metadata": {},
      "outputs": [],
      "source": []
    },
    {
      "cell_type": "code",
      "execution_count": null,
      "metadata": {},
      "outputs": [],
      "source": []
    }
  ],
  "metadata": {
    "colab": {
      "provenance": []
    },
    "kernelspec": {
      "display_name": "Python 3",
      "name": "python3"
    },
    "language_info": {
      "codemirror_mode": {
        "name": "ipython",
        "version": 3
      },
      "file_extension": ".py",
      "mimetype": "text/x-python",
      "name": "python",
      "nbconvert_exporter": "python",
      "pygments_lexer": "ipython3",
      "version": "3.10.11"
    }
  },
  "nbformat": 4,
  "nbformat_minor": 0
}
