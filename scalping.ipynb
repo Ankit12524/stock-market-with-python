{
 "cells": [
  {
   "cell_type": "code",
   "execution_count": 3,
   "metadata": {},
   "outputs": [],
   "source": [
    "import ccxt\n",
    "import time\n",
    "\n",
    "# Initialize the exchange (replace 'binance' with your desired exchange)\n",
    "exchange = ccxt.binance({\n",
    "    'apiKey': 'YOUR_API_KEY',\n",
    "    'secret': 'YOUR_SECRET_KEY',\n",
    "})\n"
   ]
  },
  {
   "cell_type": "code",
   "execution_count": 4,
   "metadata": {},
   "outputs": [],
   "source": [
    "\n",
    "# Define scalping parameters\n",
    "symbol = 'BTC/USDT'  # Trading pair\n",
    "trade_amount = 0.001  # Amount of cryptocurrency to trade\n",
    "buy_threshold = 0.1  # Threshold for buying (example: 0.1% below current price)\n",
    "sell_threshold = 0.1  # Threshold for selling (example: 0.1% above buy price)\n",
    "\n"
   ]
  },
  {
   "cell_type": "code",
   "execution_count": null,
   "metadata": {},
   "outputs": [],
   "source": [
    "\n",
    "# Main scalping loop\n",
    "while True:\n",
    "    try:\n",
    "        # Fetch latest market data\n",
    "        ticker = exchange.fetch_ticker(symbol)\n",
    "        current_price = ticker['last']\n",
    "\n",
    "        # Check if it's a good time to buy\n",
    "        if current_price < (1 - buy_threshold / 100) * ticker['ask']:\n",
    "            print(f\"Buying {trade_amount} at {current_price}\")\n",
    "            order = exchange.create_market_buy_order(symbol, trade_amount)\n",
    "            buy_price = current_price\n",
    "            time.sleep(2)  # Wait for order to execute\n",
    "\n",
    "            # Check if it's a good time to sell\n",
    "            if current_price > (1 + sell_threshold / 100) * buy_price:\n",
    "                print(f\"Selling {trade_amount} at {current_price}\")\n",
    "                order = exchange.create_market_sell_order(symbol, trade_amount)\n",
    "                buy_price = None  # Reset buy price for next trade\n",
    "                time.sleep(2)  # Wait for order to execute\n",
    "\n",
    "    except Exception as e:\n",
    "        print(f\"An error occurred: {e}\")\n",
    "\n",
    "    time.sleep(5)  # Check every 5 seconds"
   ]
  },
  {
   "cell_type": "code",
   "execution_count": null,
   "metadata": {},
   "outputs": [],
   "source": [
    "ticker = exchange."
   ]
  }
 ],
 "metadata": {
  "kernelspec": {
   "display_name": ".venv",
   "language": "python",
   "name": "python3"
  },
  "language_info": {
   "codemirror_mode": {
    "name": "ipython",
    "version": 3
   },
   "file_extension": ".py",
   "mimetype": "text/x-python",
   "name": "python",
   "nbconvert_exporter": "python",
   "pygments_lexer": "ipython3",
   "version": "3.10.11"
  }
 },
 "nbformat": 4,
 "nbformat_minor": 2
}
