{
 "cells": [
  {
   "cell_type": "code",
   "execution_count": 1,
   "metadata": {},
   "outputs": [],
   "source": [
    "import pandas as pd\n",
    "import backtesting as bt\n",
    "import pandas_ta as ta\n",
    "import numpy as np\n",
    "import datetime as dt\n",
    "from IPython.display import clear_output\n",
    "import breeze_client as bc\n",
    "import yfinance as yf\n",
    "import math\n",
    "import matplotlib.pyplot as plt\n",
    "import scipy.stats as stats\n"
   ]
  },
  {
   "cell_type": "code",
   "execution_count": 33,
   "metadata": {},
   "outputs": [],
   "source": [
    "class probab_calculator:\n",
    "\n",
    "    def __init__(self,symbol,interval,period):\n",
    "        \n",
    "        #getting data\n",
    "        self.data = yf.download(symbol,interval=interval,period=period)\n",
    "\n",
    "        #updating data : Adding Daily Return[%]\n",
    "        self.data['Return'] = np.log(self.data.Close/self.data.Open)\n",
    "\n",
    "        #updating data : Adding previos stick change\n",
    "        self.data['Day_Change'] = np.log(self.data[\"Close\"]/self.data['Close'].shift(1))\n",
    "\n",
    "        #getting_mean\n",
    "        self.mean = round((self.data['Day_Change'].mean())*100,4)\n",
    "\n",
    "        #getting sd\n",
    "        self.sd = round((self.data['Day_Change'].std())*100,4)\n",
    "\n",
    "        \n",
    "\n",
    "        #Current Price \n",
    "        self.price = self.data.Close[-1]\n",
    "    \n",
    "\n",
    "    def expiry_mean(self,days_to_expiry=None,expiry_date=None,including_today=False,additional_holidays=0):\n",
    "        \n",
    "        if days_to_expiry == None and expiry_date == None:\n",
    "            raise ValueError(\"Either Expiry date or days_to_expiry is required. Only one Vairable is required \")\n",
    "        elif days_to_expiry != None and expiry_date != None:\n",
    "            raise ValueError(\"Use only days_to_expiry or expiry_date both can not be given at same time\")\n",
    "        \n",
    "        else:\n",
    "            if days_to_expiry != None and expiry_date == None:\n",
    "                return self.mean*days_to_expiry\n",
    "            elif days_to_expiry == None and expiry_date != None:\n",
    "\n",
    "                print(\"****Attention Today is not included in days calculation if you want to include today please set 'including_today = True'. ****\")\n",
    "                \n",
    "                today  = 0 if including_today == False else 1\n",
    "\n",
    "                try:\n",
    "                    expiry_date = dt.datetime.strptime(expiry_date, '%d-%m-%Y')\n",
    "                    today_date = dt.datetime.now()\n",
    "                    days = (expiry_date - today_date).days\n",
    "\n",
    "                    # Count Saturdays and Sundays\n",
    "\n",
    "                    date_range = pd.date_range(start=today_date, end=expiry_date)\n",
    "                    num_saturdays = sum(1 for day in date_range if day.dayofweek == 5)  # Saturday is 5th day of the week\n",
    "                    num_sundays = sum(1 for day in date_range if day.dayofweek == 6)\n",
    "                    holidays = num_saturdays+num_sundays+additional_holidays\n",
    "\n",
    "                    return self.mean*(days+1+today-holidays)                    \n",
    "\n",
    "                except Exception as e:\n",
    "                    raise ValueError (f\"Date should be in DD-MM-YYYY format. Got the error  when trying 'expiry_date = dt.datetime.strptime(expiry_date, '%d-%m-%Y')' \\n Error : {e}\")\n",
    "                \n",
    "            else:\n",
    "                raise ValueError(f\"Condiotions does not met problem with either :: Value of days_to_expiry : {days_to_expiry} or expiry_date : {expiry_date} \")\n",
    "        \n",
    "\n",
    "\n",
    "    def expiry_sd(self,days_to_expiry=None,expiry_date=None,including_today=False,additional_holidays=0\n",
    "                    ):\n",
    "\n",
    "        if days_to_expiry == None and expiry_date == None:\n",
    "            raise ValueError(\"Either Expiry date or days_to_expiry is required. Only one Vairable is required \")\n",
    "        elif days_to_expiry != None and expiry_date != None:\n",
    "            raise ValueError(\"Use only days_to_expiry or expiry_date both can not be given at same time\")\n",
    "        \n",
    "        else:\n",
    "            if days_to_expiry != None and expiry_date == None:\n",
    "                return self.sd*math.sqrt(days_to_expiry)\n",
    "            elif days_to_expiry == None and expiry_date != None:\n",
    "\n",
    "                print(\"****Attention Today is not included in days calculation if you want to include today please set 'including_today = True'. ****\")\n",
    "                \n",
    "                today  = 0 if including_today == False else 1\n",
    "\n",
    "                try:\n",
    "                    expiry_date = dt.datetime.strptime(expiry_date, '%d-%m-%Y')\n",
    "                    today_date = dt.datetime.now()\n",
    "                    days = (expiry_date - today_date).days\n",
    "                    date_range = pd.date_range(start=today_date, end=expiry_date)\n",
    "                    num_saturdays = sum(1 for day in date_range if day.dayofweek == 5)  # Saturday is 5th day of the week\n",
    "                    num_sundays = sum(1 for day in date_range if day.dayofweek == 6)\n",
    "                    holidays = num_saturdays+num_sundays+additional_holidays\n",
    "\n",
    "                    return self.sd*math.sqrt(days+1+today-holidays)                  \n",
    "\n",
    "                except Exception as e:\n",
    "                    raise ValueError (f\"Date should be in DD-MM-YYYY format. Got the error  when trying 'expiry_date = dt.datetime.strptime(expiry_date, '%d-%m-%Y')' \\n Error : {e}\")\n",
    "                \n",
    "            else:\n",
    "                raise ValueError(f\"Condiotions does not met problem with either :: Value of days_to_expiry : {days_to_expiry} or expiry_date : {expiry_date} \")\n",
    "\n",
    "        return  \n",
    "\n",
    "    def confidence_interval(self, confidence_level,expiry_date):\n",
    "        # Calculate the Z-value for the given confidence level\n",
    "        z_value = stats.norm.ppf(1 - (1 - confidence_level) / 2)\n",
    "        \n",
    "        # Calculate the margin of error\n",
    "        margin_of_error = z_value * (self.sd / np.sqrt(len(self.data.Day_Change)))\n",
    "        \n",
    "        # Calculate the confidence interval\n",
    "        ci_lower = self.mean - margin_of_error\n",
    "        ci_upper = self.mean + margin_of_error\n",
    "\n",
    "        ci_lower_price = self.price * np.exp(ci_lower)\n",
    "        ci_upper_price = self.price * np.exp(ci_upper)\n",
    "        \n",
    "        return ci_lower_price, ci_upper_price\n",
    "\n",
    "    \n"
   ]
  },
  {
   "cell_type": "code",
   "execution_count": 34,
   "metadata": {},
   "outputs": [
    {
     "name": "stderr",
     "output_type": "stream",
     "text": [
      "[*********************100%%**********************]  1 of 1 completed\n",
      "C:\\Users\\Ankit\\AppData\\Local\\Temp\\ipykernel_8792\\3676135449.py:21: FutureWarning: Series.__getitem__ treating keys as positions is deprecated. In a future version, integer keys will always be treated as labels (consistent with DataFrame behavior). To access a value by position, use `ser.iloc[pos]`\n",
      "  self.price = self.data.Close[-1]\n"
     ]
    },
    {
     "data": {
      "text/html": [
       "<div>\n",
       "<style scoped>\n",
       "    .dataframe tbody tr th:only-of-type {\n",
       "        vertical-align: middle;\n",
       "    }\n",
       "\n",
       "    .dataframe tbody tr th {\n",
       "        vertical-align: top;\n",
       "    }\n",
       "\n",
       "    .dataframe thead th {\n",
       "        text-align: right;\n",
       "    }\n",
       "</style>\n",
       "<table border=\"1\" class=\"dataframe\">\n",
       "  <thead>\n",
       "    <tr style=\"text-align: right;\">\n",
       "      <th></th>\n",
       "      <th>Open</th>\n",
       "      <th>High</th>\n",
       "      <th>Low</th>\n",
       "      <th>Close</th>\n",
       "      <th>Adj Close</th>\n",
       "      <th>Volume</th>\n",
       "      <th>Return</th>\n",
       "      <th>Day_Change</th>\n",
       "    </tr>\n",
       "    <tr>\n",
       "      <th>Date</th>\n",
       "      <th></th>\n",
       "      <th></th>\n",
       "      <th></th>\n",
       "      <th></th>\n",
       "      <th></th>\n",
       "      <th></th>\n",
       "      <th></th>\n",
       "      <th></th>\n",
       "    </tr>\n",
       "  </thead>\n",
       "  <tbody>\n",
       "    <tr>\n",
       "      <th>2023-05-22</th>\n",
       "      <td>18201.099609</td>\n",
       "      <td>18335.250000</td>\n",
       "      <td>18178.849609</td>\n",
       "      <td>18314.400391</td>\n",
       "      <td>18314.400391</td>\n",
       "      <td>262600</td>\n",
       "      <td>0.006206</td>\n",
       "      <td>NaN</td>\n",
       "    </tr>\n",
       "    <tr>\n",
       "      <th>2023-05-23</th>\n",
       "      <td>18362.900391</td>\n",
       "      <td>18419.750000</td>\n",
       "      <td>18324.199219</td>\n",
       "      <td>18348.000000</td>\n",
       "      <td>18348.000000</td>\n",
       "      <td>270400</td>\n",
       "      <td>-0.000812</td>\n",
       "      <td>0.001833</td>\n",
       "    </tr>\n",
       "    <tr>\n",
       "      <th>2023-05-24</th>\n",
       "      <td>18294.800781</td>\n",
       "      <td>18392.599609</td>\n",
       "      <td>18262.949219</td>\n",
       "      <td>18285.400391</td>\n",
       "      <td>18285.400391</td>\n",
       "      <td>232600</td>\n",
       "      <td>-0.000514</td>\n",
       "      <td>-0.003418</td>\n",
       "    </tr>\n",
       "    <tr>\n",
       "      <th>2023-05-25</th>\n",
       "      <td>18268.900391</td>\n",
       "      <td>18338.099609</td>\n",
       "      <td>18202.400391</td>\n",
       "      <td>18321.150391</td>\n",
       "      <td>18321.150391</td>\n",
       "      <td>235900</td>\n",
       "      <td>0.002856</td>\n",
       "      <td>0.001953</td>\n",
       "    </tr>\n",
       "    <tr>\n",
       "      <th>2023-05-26</th>\n",
       "      <td>18368.349609</td>\n",
       "      <td>18508.550781</td>\n",
       "      <td>18333.150391</td>\n",
       "      <td>18499.349609</td>\n",
       "      <td>18499.349609</td>\n",
       "      <td>198700</td>\n",
       "      <td>0.007107</td>\n",
       "      <td>0.009679</td>\n",
       "    </tr>\n",
       "    <tr>\n",
       "      <th>...</th>\n",
       "      <td>...</td>\n",
       "      <td>...</td>\n",
       "      <td>...</td>\n",
       "      <td>...</td>\n",
       "      <td>...</td>\n",
       "      <td>...</td>\n",
       "      <td>...</td>\n",
       "      <td>...</td>\n",
       "    </tr>\n",
       "    <tr>\n",
       "      <th>2024-05-14</th>\n",
       "      <td>22112.900391</td>\n",
       "      <td>22270.050781</td>\n",
       "      <td>22081.250000</td>\n",
       "      <td>22217.849609</td>\n",
       "      <td>22217.849609</td>\n",
       "      <td>230200</td>\n",
       "      <td>0.004735</td>\n",
       "      <td>0.005135</td>\n",
       "    </tr>\n",
       "    <tr>\n",
       "      <th>2024-05-15</th>\n",
       "      <td>22255.599609</td>\n",
       "      <td>22297.550781</td>\n",
       "      <td>22151.750000</td>\n",
       "      <td>22200.550781</td>\n",
       "      <td>22200.550781</td>\n",
       "      <td>231900</td>\n",
       "      <td>-0.002477</td>\n",
       "      <td>-0.000779</td>\n",
       "    </tr>\n",
       "    <tr>\n",
       "      <th>2024-05-16</th>\n",
       "      <td>22319.199219</td>\n",
       "      <td>22432.250000</td>\n",
       "      <td>22054.550781</td>\n",
       "      <td>22403.849609</td>\n",
       "      <td>22403.849609</td>\n",
       "      <td>368900</td>\n",
       "      <td>0.003786</td>\n",
       "      <td>0.009116</td>\n",
       "    </tr>\n",
       "    <tr>\n",
       "      <th>2024-05-17</th>\n",
       "      <td>22415.250000</td>\n",
       "      <td>22502.150391</td>\n",
       "      <td>22345.650391</td>\n",
       "      <td>22466.099609</td>\n",
       "      <td>22466.099609</td>\n",
       "      <td>242700</td>\n",
       "      <td>0.002266</td>\n",
       "      <td>0.002775</td>\n",
       "    </tr>\n",
       "    <tr>\n",
       "      <th>2024-05-21</th>\n",
       "      <td>22404.550781</td>\n",
       "      <td>22591.099609</td>\n",
       "      <td>22404.550781</td>\n",
       "      <td>22529.050781</td>\n",
       "      <td>22529.050781</td>\n",
       "      <td>0</td>\n",
       "      <td>0.005542</td>\n",
       "      <td>0.002798</td>\n",
       "    </tr>\n",
       "  </tbody>\n",
       "</table>\n",
       "<p>245 rows × 8 columns</p>\n",
       "</div>"
      ],
      "text/plain": [
       "                    Open          High           Low         Close  \\\n",
       "Date                                                                 \n",
       "2023-05-22  18201.099609  18335.250000  18178.849609  18314.400391   \n",
       "2023-05-23  18362.900391  18419.750000  18324.199219  18348.000000   \n",
       "2023-05-24  18294.800781  18392.599609  18262.949219  18285.400391   \n",
       "2023-05-25  18268.900391  18338.099609  18202.400391  18321.150391   \n",
       "2023-05-26  18368.349609  18508.550781  18333.150391  18499.349609   \n",
       "...                  ...           ...           ...           ...   \n",
       "2024-05-14  22112.900391  22270.050781  22081.250000  22217.849609   \n",
       "2024-05-15  22255.599609  22297.550781  22151.750000  22200.550781   \n",
       "2024-05-16  22319.199219  22432.250000  22054.550781  22403.849609   \n",
       "2024-05-17  22415.250000  22502.150391  22345.650391  22466.099609   \n",
       "2024-05-21  22404.550781  22591.099609  22404.550781  22529.050781   \n",
       "\n",
       "               Adj Close  Volume    Return  Day_Change  \n",
       "Date                                                    \n",
       "2023-05-22  18314.400391  262600  0.006206         NaN  \n",
       "2023-05-23  18348.000000  270400 -0.000812    0.001833  \n",
       "2023-05-24  18285.400391  232600 -0.000514   -0.003418  \n",
       "2023-05-25  18321.150391  235900  0.002856    0.001953  \n",
       "2023-05-26  18499.349609  198700  0.007107    0.009679  \n",
       "...                  ...     ...       ...         ...  \n",
       "2024-05-14  22217.849609  230200  0.004735    0.005135  \n",
       "2024-05-15  22200.550781  231900 -0.002477   -0.000779  \n",
       "2024-05-16  22403.849609  368900  0.003786    0.009116  \n",
       "2024-05-17  22466.099609  242700  0.002266    0.002775  \n",
       "2024-05-21  22529.050781       0  0.005542    0.002798  \n",
       "\n",
       "[245 rows x 8 columns]"
      ]
     },
     "execution_count": 34,
     "metadata": {},
     "output_type": "execute_result"
    }
   ],
   "source": [
    "nifty = probab_calculator('^NSEI','1d','1y')\n",
    "nifty.data\n",
    "\n"
   ]
  },
  {
   "cell_type": "code",
   "execution_count": 61,
   "metadata": {},
   "outputs": [
    {
     "data": {
      "text/plain": [
       "0.0849"
      ]
     },
     "execution_count": 61,
     "metadata": {},
     "output_type": "execute_result"
    }
   ],
   "source": [
    "nifty.mean"
   ]
  },
  {
   "cell_type": "code",
   "execution_count": 40,
   "metadata": {},
   "outputs": [
    {
     "data": {
      "text/plain": [
       "0.637"
      ]
     },
     "execution_count": 40,
     "metadata": {},
     "output_type": "execute_result"
    }
   ],
   "source": [
    "nifty.sd"
   ]
  },
  {
   "cell_type": "code",
   "execution_count": 62,
   "metadata": {},
   "outputs": [
    {
     "data": {
      "text/plain": [
       "22529.05078125"
      ]
     },
     "execution_count": 62,
     "metadata": {},
     "output_type": "execute_result"
    }
   ],
   "source": [
    "nifty.price"
   ]
  },
  {
   "cell_type": "code",
   "execution_count": 36,
   "metadata": {},
   "outputs": [
    {
     "data": {
      "text/plain": [
       "(22645.067799934797, 26561.6693170081)"
      ]
     },
     "execution_count": 36,
     "metadata": {},
     "output_type": "execute_result"
    }
   ],
   "source": [
    "nifty.confidence_interval(0.95)"
   ]
  },
  {
   "cell_type": "code",
   "execution_count": 35,
   "metadata": {},
   "outputs": [
    {
     "data": {
      "text/plain": [
       "0.0849"
      ]
     },
     "execution_count": 35,
     "metadata": {},
     "output_type": "execute_result"
    }
   ],
   "source": [
    "nifty.mean"
   ]
  },
  {
   "cell_type": "code",
   "execution_count": 33,
   "metadata": {},
   "outputs": [
    {
     "data": {
      "text/plain": [
       "0.6372"
      ]
     },
     "execution_count": 33,
     "metadata": {},
     "output_type": "execute_result"
    }
   ],
   "source": [
    "nifty.sd"
   ]
  },
  {
   "cell_type": "code",
   "execution_count": 34,
   "metadata": {},
   "outputs": [
    {
     "data": {
      "text/plain": [
       "1.2375"
      ]
     },
     "execution_count": 34,
     "metadata": {},
     "output_type": "execute_result"
    }
   ],
   "source": [
    "nifty.expiry_mean(15)"
   ]
  },
  {
   "cell_type": "code",
   "execution_count": 35,
   "metadata": {},
   "outputs": [
    {
     "data": {
      "text/plain": [
       "2.467864988203366"
      ]
     },
     "execution_count": 35,
     "metadata": {},
     "output_type": "execute_result"
    }
   ],
   "source": [
    "nifty.expiry_sd(15)"
   ]
  },
  {
   "cell_type": "code",
   "execution_count": 37,
   "metadata": {},
   "outputs": [
    {
     "data": {
      "text/plain": [
       "2.04574804837739"
      ]
     },
     "execution_count": 37,
     "metadata": {},
     "output_type": "execute_result"
    }
   ],
   "source": [
    "nifty.data['Day_Change'].max()*100"
   ]
  },
  {
   "cell_type": "code",
   "execution_count": 65,
   "metadata": {},
   "outputs": [
    {
     "data": {
      "image/png": "[encoded data removed]",
      "text/plain": [
       "<Figure size 640x480 with 1 Axes>"
      ]
     },
     "metadata": {},
     "output_type": "display_data"
    }
   ],
   "source": [
    "from matplotlib.ticker import MaxNLocator\n",
    "\n",
    "(nifty.data.Day_Change*100).hist(bins=200, edgecolor='black')\n",
    "\n",
    "# Add titles and labels\n",
    "plt.title('Most Repeated Values')\n",
    "plt.xlabel('% Day Change')\n",
    "plt.ylabel('Frequency')\n",
    "plt.xticks(rotation=45,size=7)\n",
    "\n",
    "ax = plt.gca()  # Get current axis\n",
    "ax.xaxis.set_major_locator(MaxNLocator(nbins=40))\n",
    "\n",
    "# Show the plot\n",
    "plt.show()"
   ]
  },
  {
   "cell_type": "code",
   "execution_count": 41,
   "metadata": {},
   "outputs": [
    {
     "name": "stderr",
     "output_type": "stream",
     "text": [
      "[*********************100%%**********************]  1 of 1 completed\n"
     ]
    }
   ],
   "source": [
    "data = yf.download('^NSEI',interval='1d',period='1y')"
   ]
  },
  {
   "cell_type": "code",
   "execution_count": 42,
   "metadata": {},
   "outputs": [],
   "source": [
    "data['Day_Change'] = np.log(data[\"Close\"]/data['Close'].shift(1))"
   ]
  },
  {
   "cell_type": "code",
   "execution_count": 43,
   "metadata": {},
   "outputs": [
    {
     "data": {
      "text/html": [
       "<div>\n",
       "<style scoped>\n",
       "    .dataframe tbody tr th:only-of-type {\n",
       "        vertical-align: middle;\n",
       "    }\n",
       "\n",
       "    .dataframe tbody tr th {\n",
       "        vertical-align: top;\n",
       "    }\n",
       "\n",
       "    .dataframe thead th {\n",
       "        text-align: right;\n",
       "    }\n",
       "</style>\n",
       "<table border=\"1\" class=\"dataframe\">\n",
       "  <thead>\n",
       "    <tr style=\"text-align: right;\">\n",
       "      <th></th>\n",
       "      <th>Open</th>\n",
       "      <th>High</th>\n",
       "      <th>Low</th>\n",
       "      <th>Close</th>\n",
       "      <th>Adj Close</th>\n",
       "      <th>Volume</th>\n",
       "      <th>Day_Change</th>\n",
       "    </tr>\n",
       "    <tr>\n",
       "      <th>Date</th>\n",
       "      <th></th>\n",
       "      <th></th>\n",
       "      <th></th>\n",
       "      <th></th>\n",
       "      <th></th>\n",
       "      <th></th>\n",
       "      <th></th>\n",
       "    </tr>\n",
       "  </thead>\n",
       "  <tbody>\n",
       "    <tr>\n",
       "      <th>2023-05-22</th>\n",
       "      <td>18201.099609</td>\n",
       "      <td>18335.250000</td>\n",
       "      <td>18178.849609</td>\n",
       "      <td>18314.400391</td>\n",
       "      <td>18314.400391</td>\n",
       "      <td>262600</td>\n",
       "      <td>NaN</td>\n",
       "    </tr>\n",
       "    <tr>\n",
       "      <th>2023-05-23</th>\n",
       "      <td>18362.900391</td>\n",
       "      <td>18419.750000</td>\n",
       "      <td>18324.199219</td>\n",
       "      <td>18348.000000</td>\n",
       "      <td>18348.000000</td>\n",
       "      <td>270400</td>\n",
       "      <td>0.001833</td>\n",
       "    </tr>\n",
       "    <tr>\n",
       "      <th>2023-05-24</th>\n",
       "      <td>18294.800781</td>\n",
       "      <td>18392.599609</td>\n",
       "      <td>18262.949219</td>\n",
       "      <td>18285.400391</td>\n",
       "      <td>18285.400391</td>\n",
       "      <td>232600</td>\n",
       "      <td>-0.003418</td>\n",
       "    </tr>\n",
       "    <tr>\n",
       "      <th>2023-05-25</th>\n",
       "      <td>18268.900391</td>\n",
       "      <td>18338.099609</td>\n",
       "      <td>18202.400391</td>\n",
       "      <td>18321.150391</td>\n",
       "      <td>18321.150391</td>\n",
       "      <td>235900</td>\n",
       "      <td>0.001953</td>\n",
       "    </tr>\n",
       "    <tr>\n",
       "      <th>2023-05-26</th>\n",
       "      <td>18368.349609</td>\n",
       "      <td>18508.550781</td>\n",
       "      <td>18333.150391</td>\n",
       "      <td>18499.349609</td>\n",
       "      <td>18499.349609</td>\n",
       "      <td>198700</td>\n",
       "      <td>0.009679</td>\n",
       "    </tr>\n",
       "    <tr>\n",
       "      <th>...</th>\n",
       "      <td>...</td>\n",
       "      <td>...</td>\n",
       "      <td>...</td>\n",
       "      <td>...</td>\n",
       "      <td>...</td>\n",
       "      <td>...</td>\n",
       "      <td>...</td>\n",
       "    </tr>\n",
       "    <tr>\n",
       "      <th>2024-05-14</th>\n",
       "      <td>22112.900391</td>\n",
       "      <td>22270.050781</td>\n",
       "      <td>22081.250000</td>\n",
       "      <td>22217.849609</td>\n",
       "      <td>22217.849609</td>\n",
       "      <td>230200</td>\n",
       "      <td>0.005135</td>\n",
       "    </tr>\n",
       "    <tr>\n",
       "      <th>2024-05-15</th>\n",
       "      <td>22255.599609</td>\n",
       "      <td>22297.550781</td>\n",
       "      <td>22151.750000</td>\n",
       "      <td>22200.550781</td>\n",
       "      <td>22200.550781</td>\n",
       "      <td>231900</td>\n",
       "      <td>-0.000779</td>\n",
       "    </tr>\n",
       "    <tr>\n",
       "      <th>2024-05-16</th>\n",
       "      <td>22319.199219</td>\n",
       "      <td>22432.250000</td>\n",
       "      <td>22054.550781</td>\n",
       "      <td>22403.849609</td>\n",
       "      <td>22403.849609</td>\n",
       "      <td>368900</td>\n",
       "      <td>0.009116</td>\n",
       "    </tr>\n",
       "    <tr>\n",
       "      <th>2024-05-17</th>\n",
       "      <td>22415.250000</td>\n",
       "      <td>22502.150391</td>\n",
       "      <td>22345.650391</td>\n",
       "      <td>22466.099609</td>\n",
       "      <td>22466.099609</td>\n",
       "      <td>242700</td>\n",
       "      <td>0.002775</td>\n",
       "    </tr>\n",
       "    <tr>\n",
       "      <th>2024-05-21</th>\n",
       "      <td>22404.550781</td>\n",
       "      <td>22591.099609</td>\n",
       "      <td>22404.550781</td>\n",
       "      <td>22529.050781</td>\n",
       "      <td>22529.050781</td>\n",
       "      <td>0</td>\n",
       "      <td>0.002798</td>\n",
       "    </tr>\n",
       "  </tbody>\n",
       "</table>\n",
       "<p>245 rows × 7 columns</p>\n",
       "</div>"
      ],
      "text/plain": [
       "                    Open          High           Low         Close  \\\n",
       "Date                                                                 \n",
       "2023-05-22  18201.099609  18335.250000  18178.849609  18314.400391   \n",
       "2023-05-23  18362.900391  18419.750000  18324.199219  18348.000000   \n",
       "2023-05-24  18294.800781  18392.599609  18262.949219  18285.400391   \n",
       "2023-05-25  18268.900391  18338.099609  18202.400391  18321.150391   \n",
       "2023-05-26  18368.349609  18508.550781  18333.150391  18499.349609   \n",
       "...                  ...           ...           ...           ...   \n",
       "2024-05-14  22112.900391  22270.050781  22081.250000  22217.849609   \n",
       "2024-05-15  22255.599609  22297.550781  22151.750000  22200.550781   \n",
       "2024-05-16  22319.199219  22432.250000  22054.550781  22403.849609   \n",
       "2024-05-17  22415.250000  22502.150391  22345.650391  22466.099609   \n",
       "2024-05-21  22404.550781  22591.099609  22404.550781  22529.050781   \n",
       "\n",
       "               Adj Close  Volume  Day_Change  \n",
       "Date                                          \n",
       "2023-05-22  18314.400391  262600         NaN  \n",
       "2023-05-23  18348.000000  270400    0.001833  \n",
       "2023-05-24  18285.400391  232600   -0.003418  \n",
       "2023-05-25  18321.150391  235900    0.001953  \n",
       "2023-05-26  18499.349609  198700    0.009679  \n",
       "...                  ...     ...         ...  \n",
       "2024-05-14  22217.849609  230200    0.005135  \n",
       "2024-05-15  22200.550781  231900   -0.000779  \n",
       "2024-05-16  22403.849609  368900    0.009116  \n",
       "2024-05-17  22466.099609  242700    0.002775  \n",
       "2024-05-21  22529.050781       0    0.002798  \n",
       "\n",
       "[245 rows x 7 columns]"
      ]
     },
     "execution_count": 43,
     "metadata": {},
     "output_type": "execute_result"
    }
   ],
   "source": [
    "data"
   ]
  },
  {
   "cell_type": "code",
   "execution_count": 50,
   "metadata": {},
   "outputs": [],
   "source": [
    "closes = list(data.Day_Change)"
   ]
  },
  {
   "cell_type": "code",
   "execution_count": 52,
   "metadata": {},
   "outputs": [
    {
     "data": {
      "text/plain": [
       "0.002798133238882937"
      ]
     },
     "execution_count": 52,
     "metadata": {},
     "output_type": "execute_result"
    }
   ],
   "source": [
    "closes.pop()"
   ]
  },
  {
   "cell_type": "code",
   "execution_count": 57,
   "metadata": {},
   "outputs": [],
   "source": [
    "dd = pd.DataFrame(closes)"
   ]
  },
  {
   "cell_type": "code",
   "execution_count": 60,
   "metadata": {},
   "outputs": [
    {
     "data": {
      "text/plain": [
       "0    0.099685\n",
       "dtype: float64"
      ]
     },
     "execution_count": 60,
     "metadata": {},
     "output_type": "execute_result"
    }
   ],
   "source": [
    "dd.std()*math.sqrt(len(dd))"
   ]
  },
  {
   "cell_type": "code",
   "execution_count": null,
   "metadata": {},
   "outputs": [],
   "source": []
  }
 ],
 "metadata": {
  "kernelspec": {
   "display_name": "Python 3",
   "language": "python",
   "name": "python3"
  },
  "language_info": {
   "codemirror_mode": {
    "name": "ipython",
    "version": 3
   },
   "file_extension": ".py",
   "mimetype": "text/x-python",
   "name": "python",
   "nbconvert_exporter": "python",
   "pygments_lexer": "ipython3",
   "version": "3.10.11"
  }
 },
 "nbformat": 4,
 "nbformat_minor": 2
}
