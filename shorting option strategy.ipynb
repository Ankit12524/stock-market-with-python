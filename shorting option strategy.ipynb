{
 "cells": [
  {
   "cell_type": "code",
   "execution_count": 2,
   "metadata": {},
   "outputs": [],
   "source": [
    "import pandas as pd\n",
    "import backtesting as bt\n",
    "import pandas_ta as ta\n",
    "import numpy as np\n",
    "import datetime as dt\n",
    "from IPython.display import clear_output\n",
    "import breeze_client as bc\n",
    "import yfinance as yf\n",
    "import math"
   ]
  },
  {
   "cell_type": "code",
   "execution_count": null,
   "metadata": {},
   "outputs": [],
   "source": [
    "class probab_calculator:\n",
    "    def __init__(self,period,interval,symbol):\n",
    "\n",
    "        self.data = yf.download(symbol,interval=interval,period=period)\n",
    "    \n",
    "    def \n"
   ]
  },
  {
   "cell_type": "code",
   "execution_count": 8,
   "metadata": {},
   "outputs": [
    {
     "name": "stderr",
     "output_type": "stream",
     "text": [
      "[*********************100%%**********************]  1 of 1 completed\n",
      "[*********************100%%**********************]  1 of 1 completed\n",
      "[*********************100%%**********************]  1 of 1 completed\n"
     ]
    }
   ],
   "source": [
    "data_year = yf.download('^NSEBANK',interval='1d',period='1y')\n",
    "data_month = yf.download('^NSEBANK',interval='1d',period='30d')\n",
    "data_3month = yf.download('^NSEBANK',interval='1d',period='90d')\n",
    "\n"
   ]
  },
  {
   "cell_type": "code",
   "execution_count": 9,
   "metadata": {},
   "outputs": [],
   "source": [
    "data_year['return'] = np.log(data_year.Close/data_year.Open)\n",
    "data_month['return'] = np.log(data_month.Close/data_month.Open)\n",
    "data_3month['return'] = np.log(data_3month.Close/data_3month.Open)"
   ]
  },
  {
   "cell_type": "code",
   "execution_count": 12,
   "metadata": {},
   "outputs": [
    {
     "name": "stdout",
     "output_type": "stream",
     "text": [
      "Mean Change in Day(year) =  -0.032215915495185175 %\n",
      "SD Change in Day(year) =  0.7037339656275607 %\n",
      " \n",
      "Mean Change in Day(month) =  0.06600766735047646 %\n",
      "SD Change in Day(month) =  0.6193323741084724 %\n",
      " \n",
      "Mean Change in Day(3month) =  -0.002248168997960172 %\n",
      "SD Change in Day(3month) =  0.8937247504961006 %\n",
      " \n"
     ]
    }
   ],
   "source": [
    "mean_return_year = data_year['return'].mean()\n",
    "sd_return_year = data_year['return'].std()\n",
    "\n",
    "mean_return_month = data_month['return'].mean()\n",
    "sd_return_month = data_month['return'].std()\n",
    "\n",
    "mean_return_3month = data_3month['return'].mean()\n",
    "sd_return_3month = data_3month['return'].std()\n",
    "print('Mean Change in Day(year) = ',mean_return_year*100,'%')\n",
    "print('SD Change in Day(year) = ',sd_return_year*100,'%',end='\\n \\n')\n",
    "\n",
    "print('Mean Change in Day(month) = ',mean_return_month*100,'%')\n",
    "print('SD Change in Day(month) = ',sd_return_month*100,'%',end='\\n \\n')\n",
    "\n",
    "print('Mean Change in Day(3month) = ',mean_return_3month*100,'%')\n",
    "print('SD Change in Day(3month) = ',sd_return_3month*100,'%',end='\\n \\n')"
   ]
  },
  {
   "cell_type": "code",
   "execution_count": null,
   "metadata": {},
   "outputs": [],
   "source": [
    "expiry = input(\"Enter Days to Expiry : \")\n",
    "\n",
    "adjusted_mean_year = mean_return_year*expiry\n",
    "adjusted_sd_year = sd_return_year*math.sqrt(expiry)\n",
    "\n",
    "adjusted_mean_month = mean_return_month*expiry\n",
    "adjusted_sd_month = sd_return_year*math.sqrt(expiry)\n",
    "\n",
    "adjusted_mean_3month = mean_return_month*expiry\n",
    "adjusted_sd_3month = sd_return_year*math.sqrt(expiry)\n"
   ]
  }
 ],
 "metadata": {
  "kernelspec": {
   "display_name": "Python 3",
   "language": "python",
   "name": "python3"
  },
  "language_info": {
   "codemirror_mode": {
    "name": "ipython",
    "version": 3
   },
   "file_extension": ".py",
   "mimetype": "text/x-python",
   "name": "python",
   "nbconvert_exporter": "python",
   "pygments_lexer": "ipython3",
   "version": "3.10.11"
  }
 },
 "nbformat": 4,
 "nbformat_minor": 2
}
