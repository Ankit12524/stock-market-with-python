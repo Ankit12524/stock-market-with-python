{
 "cells": [
  {
   "cell_type": "code",
   "execution_count": 28,
   "metadata": {},
   "outputs": [],
   "source": [
    "import json\n",
    "import hashlib\n",
    "from datetime import datetime\n",
    "from breeze_connect import BreezeConnect\n",
    "import urllib\n",
    "import pandas as pd"
   ]
  },
  {
   "cell_type": "code",
   "execution_count": 21,
   "metadata": {},
   "outputs": [],
   "source": [
    "Key = '7!H%76ws4g803362Q58473W452b24675'\n",
    "Secret = '59124Z94T00918XCp143O2l4w0L37g~3'\n",
    "api_session = '28044854'\n",
    "\n",
    "\n",
    "\n",
    "\n"
   ]
  },
  {
   "cell_type": "code",
   "execution_count": 22,
   "metadata": {},
   "outputs": [],
   "source": [
    "\n",
    "\n",
    "# Initialize SDK\n",
    "breeze = BreezeConnect(api_key=Key)\n",
    "\n",
    "# Obtain your session key from https://api.icicidirect.com/apiuser/login?api_key=YOUR_API_KEY\n",
    "# Incase your api-key has special characters(like +,=,!) then encode the api key before using in the url as shown below.\n",
    "\n",
    "#print(\"https://api.icicidirect.com/apiuser/login?api_key=\"+urllib.parse.quote_plus(\"your_api_key\"))\n",
    "\n",
    "# Generate Session\n",
    "breeze.generate_session(api_secret=Secret,\n",
    "                        session_token=api_session)\n",
    "\n",
    "# Generate ISO8601 Date/DateTime String\n",
    "import datetime\n",
    "iso_date_string = datetime.datetime.strptime(\"07/12/2023\",\"%d/%m/%Y\").isoformat()[:10] + 'T05:30:00.000Z'\n",
    "iso_date_time_string = datetime.datetime.strptime(\"07/12/2023 23:59:59\",\"%d/%m/%Y %H:%M:%S\").isoformat()[:19] + '.000Z'"
   ]
  },
  {
   "cell_type": "code",
   "execution_count": 23,
   "metadata": {},
   "outputs": [
    {
     "data": {
      "text/plain": [
       "{'Success': {'exg_trade_date': {'NSE': '07-Dec-2023',\n",
       "   'BSE': '07-Dec-2023',\n",
       "   'FNO': '07-Dec-2023',\n",
       "   'NDX': '07-Dec-2023'},\n",
       "  'exg_status': {'NSE': 'C', 'BSE': 'C', 'FNO': 'Y', 'NDX': 'C'},\n",
       "  'segments_allowed': {'Trading': 'Y',\n",
       "   'Equity': 'Y',\n",
       "   'Derivatives': 'D',\n",
       "   'Currency': 'D'},\n",
       "  'idirect_userid': 'AG911462',\n",
       "  'idirect_user_name': 'ANKIT',\n",
       "  'idirect_ORD_TYP': '',\n",
       "  'idirect_lastlogin_time': '07-Dec-2023 01:50:10',\n",
       "  'mf_holding_mode_popup_flg': 'N',\n",
       "  'commodity_exchange_status': 'N',\n",
       "  'commodity_trade_date': '06-Dec-2023',\n",
       "  'commodity_allowed': 'C'},\n",
       " 'Status': 200,\n",
       " 'Error': None}"
      ]
     },
     "execution_count": 23,
     "metadata": {},
     "output_type": "execute_result"
    }
   ],
   "source": [
    "#get customer details\n",
    "breeze.get_customer_details(api_session=api_session) "
   ]
  },
  {
   "cell_type": "code",
   "execution_count": 31,
   "metadata": {},
   "outputs": [
    {
     "data": {
      "text/plain": [
       "{'Success': None, 'Status': 500, 'Error': 'Resource not available.'}"
      ]
     },
     "execution_count": 31,
     "metadata": {},
     "output_type": "execute_result"
    }
   ],
   "source": [
    "#get holdings\n",
    "breeze.get_demat_holdings()"
   ]
  },
  {
   "cell_type": "code",
   "execution_count": 42,
   "metadata": {},
   "outputs": [],
   "source": [
    "#get_stock details \n",
    "ICIBAN = breeze.get_historical_data(interval=\"1minute\",\n",
    "                            from_date= \"2022-08-15T07:00:00.000Z\",\n",
    "                            to_date= \"2022-08-17T07:00:00.000Z\",\n",
    "                            stock_code=\"ITC\",\n",
    "                            exchange_code=\"NSE\",\n",
    "                            product_type=\"cash\")"
   ]
  },
  {
   "cell_type": "code",
   "execution_count": 43,
   "metadata": {},
   "outputs": [
    {
     "data": {
      "text/html": [
       "<div>\n",
       "<style scoped>\n",
       "    .dataframe tbody tr th:only-of-type {\n",
       "        vertical-align: middle;\n",
       "    }\n",
       "\n",
       "    .dataframe tbody tr th {\n",
       "        vertical-align: top;\n",
       "    }\n",
       "\n",
       "    .dataframe thead th {\n",
       "        text-align: right;\n",
       "    }\n",
       "</style>\n",
       "<table border=\"1\" class=\"dataframe\">\n",
       "  <thead>\n",
       "    <tr style=\"text-align: right;\">\n",
       "      <th></th>\n",
       "      <th>Success</th>\n",
       "      <th>Status</th>\n",
       "      <th>Error</th>\n",
       "    </tr>\n",
       "  </thead>\n",
       "  <tbody>\n",
       "    <tr>\n",
       "      <th>0</th>\n",
       "      <td>{'datetime': '2022-08-16 09:07:00', 'stock_cod...</td>\n",
       "      <td>200</td>\n",
       "      <td>None</td>\n",
       "    </tr>\n",
       "    <tr>\n",
       "      <th>1</th>\n",
       "      <td>{'datetime': '2022-08-16 09:15:00', 'stock_cod...</td>\n",
       "      <td>200</td>\n",
       "      <td>None</td>\n",
       "    </tr>\n",
       "    <tr>\n",
       "      <th>2</th>\n",
       "      <td>{'datetime': '2022-08-16 09:16:00', 'stock_cod...</td>\n",
       "      <td>200</td>\n",
       "      <td>None</td>\n",
       "    </tr>\n",
       "    <tr>\n",
       "      <th>3</th>\n",
       "      <td>{'datetime': '2022-08-16 09:17:00', 'stock_cod...</td>\n",
       "      <td>200</td>\n",
       "      <td>None</td>\n",
       "    </tr>\n",
       "    <tr>\n",
       "      <th>4</th>\n",
       "      <td>{'datetime': '2022-08-16 09:18:00', 'stock_cod...</td>\n",
       "      <td>200</td>\n",
       "      <td>None</td>\n",
       "    </tr>\n",
       "    <tr>\n",
       "      <th>...</th>\n",
       "      <td>...</td>\n",
       "      <td>...</td>\n",
       "      <td>...</td>\n",
       "    </tr>\n",
       "    <tr>\n",
       "      <th>786</th>\n",
       "      <td>{'datetime': '2022-08-17 15:56:00', 'stock_cod...</td>\n",
       "      <td>200</td>\n",
       "      <td>None</td>\n",
       "    </tr>\n",
       "    <tr>\n",
       "      <th>787</th>\n",
       "      <td>{'datetime': '2022-08-17 15:58:00', 'stock_cod...</td>\n",
       "      <td>200</td>\n",
       "      <td>None</td>\n",
       "    </tr>\n",
       "    <tr>\n",
       "      <th>788</th>\n",
       "      <td>{'datetime': '2022-08-17 15:59:00', 'stock_cod...</td>\n",
       "      <td>200</td>\n",
       "      <td>None</td>\n",
       "    </tr>\n",
       "    <tr>\n",
       "      <th>789</th>\n",
       "      <td>{'datetime': '2022-08-17 16:00:00', 'stock_cod...</td>\n",
       "      <td>200</td>\n",
       "      <td>None</td>\n",
       "    </tr>\n",
       "    <tr>\n",
       "      <th>790</th>\n",
       "      <td>{'datetime': '2022-08-17 16:00:00', 'stock_cod...</td>\n",
       "      <td>200</td>\n",
       "      <td>None</td>\n",
       "    </tr>\n",
       "  </tbody>\n",
       "</table>\n",
       "<p>791 rows × 3 columns</p>\n",
       "</div>"
      ],
      "text/plain": [
       "                                               Success  Status Error\n",
       "0    {'datetime': '2022-08-16 09:07:00', 'stock_cod...     200  None\n",
       "1    {'datetime': '2022-08-16 09:15:00', 'stock_cod...     200  None\n",
       "2    {'datetime': '2022-08-16 09:16:00', 'stock_cod...     200  None\n",
       "3    {'datetime': '2022-08-16 09:17:00', 'stock_cod...     200  None\n",
       "4    {'datetime': '2022-08-16 09:18:00', 'stock_cod...     200  None\n",
       "..                                                 ...     ...   ...\n",
       "786  {'datetime': '2022-08-17 15:56:00', 'stock_cod...     200  None\n",
       "787  {'datetime': '2022-08-17 15:58:00', 'stock_cod...     200  None\n",
       "788  {'datetime': '2022-08-17 15:59:00', 'stock_cod...     200  None\n",
       "789  {'datetime': '2022-08-17 16:00:00', 'stock_cod...     200  None\n",
       "790  {'datetime': '2022-08-17 16:00:00', 'stock_cod...     200  None\n",
       "\n",
       "[791 rows x 3 columns]"
      ]
     },
     "execution_count": 43,
     "metadata": {},
     "output_type": "execute_result"
    }
   ],
   "source": [
    "type(ICIBAN)\n",
    "df = pd.DataFrame.from_dict(ICIBAN)\n",
    "df\n"
   ]
  },
  {
   "cell_type": "code",
   "execution_count": 44,
   "metadata": {},
   "outputs": [
    {
     "data": {
      "text/plain": [
       "{'Success': {'bank_account': '3223108004024',\n",
       "  'total_bank_balance': 0.0,\n",
       "  'allocated_equity': 0.0,\n",
       "  'allocated_fno': 0.0,\n",
       "  'block_by_trade_equity': 0.0,\n",
       "  'block_by_trade_fno': 0.0,\n",
       "  'block_by_trade_balance': 0.0,\n",
       "  'unallocated_balance': '0'},\n",
       " 'Status': 200,\n",
       " 'Error': None}"
      ]
     },
     "execution_count": 44,
     "metadata": {},
     "output_type": "execute_result"
    }
   ],
   "source": [
    "#get bank details\n",
    "breeze.get_funds()"
   ]
  },
  {
   "cell_type": "code",
   "execution_count": null,
   "metadata": {},
   "outputs": [],
   "source": []
  }
 ],
 "metadata": {
  "kernelspec": {
   "display_name": ".venv",
   "language": "python",
   "name": "python3"
  },
  "language_info": {
   "codemirror_mode": {
    "name": "ipython",
    "version": 3
   },
   "file_extension": ".py",
   "mimetype": "text/x-python",
   "name": "python",
   "nbconvert_exporter": "python",
   "pygments_lexer": "ipython3",
   "version": "3.10.11"
  }
 },
 "nbformat": 4,
 "nbformat_minor": 2
}
