{
 "cells": [
  {
   "cell_type": "code",
   "execution_count": 92,
   "metadata": {},
   "outputs": [],
   "source": [
    "import json\n",
    "import hashlib\n",
    "from datetime import datetime\n",
    "from breeze_connect import BreezeConnect\n",
    "import urllib\n",
    "import pandas as pd\n",
    "import numpy as np\n",
    "import math\n"
   ]
  },
  {
   "cell_type": "code",
   "execution_count": 3,
   "metadata": {},
   "outputs": [],
   "source": [
    "Key = '73=63fT44781tY4C42L0i3491201v23A'\n",
    "Secret = '11331XF5fm6c5&Y3K2Q99lp28347480+'\n",
    "api_session = '36820063'"
   ]
  },
  {
   "cell_type": "code",
   "execution_count": 4,
   "metadata": {},
   "outputs": [],
   "source": [
    "\n",
    "\n",
    "# Initialize SDK\n",
    "breeze = BreezeConnect(api_key=Key)\n",
    "\n",
    "# Obtain your session key from https://api.icicidirect.com/apiuser/login?api_key=YOUR_API_KEY\n",
    "# Incase your api-key has special characters(like +,=,!) then encode the api key before using in the url as shown below.\n",
    "\n",
    "#print(\"https://api.icicidirect.com/apiuser/login?api_key=\"+urllib.parse.quote_plus(\"your_api_key\"))\n",
    "\n",
    "# Generate Session\n",
    "breeze.generate_session(api_secret=Secret,\n",
    "                        session_token=api_session)\n",
    "\n",
    "# Generate ISO8601 Date/DateTime String\n",
    "import datetime\n",
    "iso_date_string = datetime.datetime.strptime(\"07/12/2023\",\"%d/%m/%Y\").isoformat()[:10] + 'T05:30:00.000Z'\n",
    "iso_date_time_string = datetime.datetime.strptime(\"07/12/2023 23:59:59\",\"%d/%m/%Y %H:%M:%S\").isoformat()[:19] + '.000Z'"
   ]
  },
  {
   "cell_type": "code",
   "execution_count": 5,
   "metadata": {},
   "outputs": [
    {
     "data": {
      "text/plain": [
       "{'Success': {'exg_trade_date': {'NSE': '12-Mar-2024',\n",
       "   'BSE': '12-Mar-2024',\n",
       "   'FNO': '12-Mar-2024',\n",
       "   'NDX': '12-Mar-2024'},\n",
       "  'exg_status': {'NSE': 'X', 'BSE': 'X', 'FNO': 'Y', 'NDX': 'X'},\n",
       "  'segments_allowed': {'Trading': 'Y',\n",
       "   'Equity': 'Y',\n",
       "   'Derivatives': 'D',\n",
       "   'Currency': 'D'},\n",
       "  'idirect_userid': 'AG911462',\n",
       "  'idirect_user_name': 'ANKIT',\n",
       "  'idirect_ORD_TYP': '',\n",
       "  'idirect_lastlogin_time': '12-Mar-2024 17:13:42',\n",
       "  'mf_holding_mode_popup_flg': 'N',\n",
       "  'commodity_exchange_status': 'N',\n",
       "  'commodity_trade_date': '12-Mar-2024',\n",
       "  'commodity_allowed': 'X'},\n",
       " 'Status': 200,\n",
       " 'Error': None}"
      ]
     },
     "execution_count": 5,
     "metadata": {},
     "output_type": "execute_result"
    }
   ],
   "source": [
    "#get customer details\n",
    "breeze.get_customer_details(api_session=api_session) "
   ]
  },
  {
   "cell_type": "code",
   "execution_count": 6,
   "metadata": {},
   "outputs": [
    {
     "data": {
      "text/plain": [
       "{'Success': [{'stock_code': 'SOUBAN',\n",
       "   'stock_ISIN': 'INE683A01023',\n",
       "   'quantity': '10',\n",
       "   'demat_total_bulk_quantity': '10',\n",
       "   'demat_avail_quantity': '0',\n",
       "   'blocked_quantity': '0',\n",
       "   'demat_allocated_quantity': '10'},\n",
       "  {'stock_code': 'SOURE1',\n",
       "   'stock_ISIN': 'INE683A20015',\n",
       "   'quantity': '2',\n",
       "   'demat_total_bulk_quantity': '0',\n",
       "   'demat_avail_quantity': '2',\n",
       "   'blocked_quantity': '0',\n",
       "   'demat_allocated_quantity': '0'}],\n",
       " 'Status': 200,\n",
       " 'Error': None}"
      ]
     },
     "execution_count": 6,
     "metadata": {},
     "output_type": "execute_result"
    }
   ],
   "source": [
    "#get holdings\n",
    "breeze.get_demat_holdings()"
   ]
  },
  {
   "cell_type": "code",
   "execution_count": 56,
   "metadata": {},
   "outputs": [],
   "source": [
    "#get_stock details \n",
    "def get_histroy_data_stock(stock_code,from_date,to_date,interval='1day',exchange='NSE'):\n",
    "    data = breeze.get_historical_data(interval=interval,\n",
    "                                from_date= f\"{from_date}T07:00:00.000Z\",\n",
    "                                to_date= f\"{to_date}T07:00:00.000Z\",\n",
    "                                stock_code=stock_code,\n",
    "                                exchange_code=exchange,\n",
    "                                product_type=\"cash\")\n",
    "    if data['Status']==200:\n",
    "        df = pd.DataFrame(data['Success'])[['datetime','stock_code','open','close','high','low']]\n",
    "        for x in df.columns:\n",
    "            try:\n",
    "                df[x]=df[x].astype(float)\n",
    "                print(x,'complete')\n",
    "            except Exception as e:\n",
    "                print('couldnt perform on',x)\n",
    "                print('Error',e)\n",
    "        return df\n",
    "    else:\n",
    "        print('got error')\n",
    "        return data\n",
    "    \n",
    "def get_log_return(df):\n",
    "    df['Log Returns'] = np.log(df['close'] / df['close'].shift(1))\n",
    "    return df"
   ]
  },
  {
   "cell_type": "code",
   "execution_count": 57,
   "metadata": {},
   "outputs": [
    {
     "name": "stdout",
     "output_type": "stream",
     "text": [
      "couldnt perform on datetime\n",
      "Error could not convert string to float: '2023-02-13 12:02:00'\n",
      "couldnt perform on stock_code\n",
      "Error could not convert string to float: 'CNXBAN'\n",
      "open complete\n",
      "close complete\n",
      "high complete\n",
      "low complete\n",
      "couldnt perform on datetime\n",
      "Error could not convert string to float: '2024-02-12 12:02:00'\n",
      "couldnt perform on stock_code\n",
      "Error could not convert string to float: 'CNXBAN'\n",
      "open complete\n",
      "close complete\n",
      "high complete\n",
      "low complete\n"
     ]
    }
   ],
   "source": [
    "data_1year = get_histroy_data_stock('CNXBAN','2023-02-12','2024-03-12')\n",
    "data_30days = get_histroy_data_stock('CNXBAN','2024-02-12','2024-03-12')"
   ]
  },
  {
   "cell_type": "code",
   "execution_count": 71,
   "metadata": {},
   "outputs": [],
   "source": [
    "\n",
    "data_1year = get_log_return(data_1year)\n",
    "data_30days = get_log_return(data_30days)\n",
    "\n"
   ]
  },
  {
   "cell_type": "code",
   "execution_count": 72,
   "metadata": {},
   "outputs": [
    {
     "name": "stdout",
     "output_type": "stream",
     "text": [
      "30 0.0026528261752270478\n",
      "1 year 0.0005137876046064782\n"
     ]
    }
   ],
   "source": [
    "print(30,data_30days['Log Returns'].mean())\n",
    "print('1 year',data_1year['Log Returns'].mean())"
   ]
  },
  {
   "cell_type": "code",
   "execution_count": 106,
   "metadata": {},
   "outputs": [
    {
     "name": "stdout",
     "output_type": "stream",
     "text": [
      "Calculated mean 0.0005137876046064782 \n",
      "\n",
      "calculated sd 0.008378233122672945 \n",
      "\n",
      "adjusted average for 30 is 1.5413628138194346 %\n",
      "\n",
      "adjusted std for 30 is 4.58894727332492 %\n",
      "\n",
      "Range for 1sd 68% confidence level is -0.030475844595054855 -- 0.06130310087144354\n",
      "Range in price for 1sd 68% confidence level is 45907.25072965046 -- 50319.97009138237\n",
      "\n",
      "Range for 2sd 95% confidence level is -0.07636531732830405 -- 0.10719257360469274\n",
      "Range in price for 2sd 95% confidence level is 43848.196969168464 -- 52682.929820760895\n",
      "\n",
      "Range for 3sd 99.7% confidence level is -0.12225479006155325 -- 0.15308204633794195\n",
      "Range in price for 3sd 99.7% confidence level is 41881.4968635268 -- 55156.851036653126\n",
      "\n"
     ]
    },
    {
     "data": {
      "text/plain": [
       "{68: [45907.25072965046, 50319.97009138237],\n",
       " 95: [43848.196969168464, 52682.929820760895],\n",
       " 99.7: [41881.4968635268, 55156.851036653126]}"
      ]
     },
     "execution_count": 106,
     "metadata": {},
     "output_type": "execute_result"
    }
   ],
   "source": [
    "def range_for_days(df,days):\n",
    "    original = df\n",
    "    last_price = original['close'].iloc[-1]\n",
    "    df = df['Log Returns']\n",
    "    mean = df.mean()\n",
    "    sd = df.std()\n",
    "    print('Calculated mean',mean,'\\n')\n",
    "    print('calculated sd', sd,'\\n')\n",
    "    average = days*mean\n",
    "    std = days**(0.5)*sd\n",
    "    print('adjusted average for',days,'is',average*100,'%\\n')\n",
    "    print('adjusted std for',days,'is',std*100,'%\\n')\n",
    "\n",
    "    ranges = {}\n",
    "    for x,y in zip(range(1,4),[68,95,99.7]):\n",
    "        lower_range = average-std*x\n",
    "        upper_range = average+std*x\n",
    "        lower_range_price = last_price*math.exp(lower_range)\n",
    "        upper_range_price = last_price*math.exp(upper_range)\n",
    "\n",
    "        \n",
    "        print(f'Range for {x}sd {y}% confidence level is {lower_range} -- {upper_range}')\n",
    "        print(f'Range in price for {x}sd {y}% confidence level is {lower_range_price} -- {upper_range_price}\\n')\n",
    "        ranges[y] = [lower_range_price,upper_range_price]\n",
    "    \n",
    "    return ranges\n",
    "\n",
    "range_for_days(data_1year,30)\n"
   ]
  },
  {
   "cell_type": "code",
   "execution_count": 109,
   "metadata": {},
   "outputs": [
    {
     "name": "stdout",
     "output_type": "stream",
     "text": [
      "Calculated mean 0.0005137876046064782 \n",
      "\n",
      "calculated sd 0.008378233122672945 \n",
      "\n",
      "adjusted average for 8 is 0.41103008368518257 %\n",
      "\n",
      "adjusted std for 8 is 2.3697221821615133 %\n",
      "\n",
      "Range for 1sd 68% confidence level is -0.01958692098476331 -- 0.02780752265846696\n",
      "Range in price for 1sd 68% confidence level is 46409.86276185661 -- 48662.3893841348\n",
      "\n",
      "Range for 2sd 95% confidence level is -0.04328414280637844 -- 0.0515047444800821\n",
      "Range in price for 2sd 95% confidence level is 45323.0065463122 -- 49829.32477513421\n",
      "\n",
      "Range for 3sd 99.7% confidence level is -0.06698136462799359 -- 0.07520196630169723\n",
      "Range in price for 3sd 99.7% confidence level is 44261.60303333941 -- 51024.243547632155\n",
      "\n"
     ]
    },
    {
     "data": {
      "text/plain": [
       "{68: [46409.86276185661, 48662.3893841348],\n",
       " 95: [45323.0065463122, 49829.32477513421],\n",
       " 99.7: [44261.60303333941, 51024.243547632155]}"
      ]
     },
     "execution_count": 109,
     "metadata": {},
     "output_type": "execute_result"
    }
   ],
   "source": [
    "range_for_days(data_1year,8)"
   ]
  },
  {
   "cell_type": "code",
   "execution_count": 86,
   "metadata": {},
   "outputs": [
    {
     "name": "stdout",
     "output_type": "stream",
     "text": [
      "0.1008 2.63592\n"
     ]
    }
   ],
   "source": [
    "print(a,sd)"
   ]
  },
  {
   "cell_type": "code",
   "execution_count": 97,
   "metadata": {},
   "outputs": [
    {
     "data": {
      "text/plain": [
       "7777.254932027043"
      ]
     },
     "execution_count": 97,
     "metadata": {},
     "output_type": "execute_result"
    }
   ],
   "source": [
    "8337*math.exp(-0.0695)"
   ]
  },
  {
   "cell_type": "code",
   "execution_count": 13,
   "metadata": {},
   "outputs": [
    {
     "data": {
      "text/plain": [
       "{'Success': {'bank_account': '3223108004024',\n",
       "  'total_bank_balance': 0.0,\n",
       "  'allocated_equity': 0.0,\n",
       "  'allocated_fno': 0.0,\n",
       "  'block_by_trade_equity': 0.0,\n",
       "  'block_by_trade_fno': 0.0,\n",
       "  'block_by_trade_balance': 0.0,\n",
       "  'unallocated_balance': '0'},\n",
       " 'Status': 200,\n",
       " 'Error': None}"
      ]
     },
     "execution_count": 13,
     "metadata": {},
     "output_type": "execute_result"
    }
   ],
   "source": [
    "#get bank details\n",
    "breeze.get_funds()"
   ]
  },
  {
   "cell_type": "code",
   "execution_count": null,
   "metadata": {},
   "outputs": [],
   "source": []
  }
 ],
 "metadata": {
  "kernelspec": {
   "display_name": ".venv",
   "language": "python",
   "name": "python3"
  },
  "language_info": {
   "codemirror_mode": {
    "name": "ipython",
    "version": 3
   },
   "file_extension": ".py",
   "mimetype": "text/x-python",
   "name": "python",
   "nbconvert_exporter": "python",
   "pygments_lexer": "ipython3",
   "version": "3.10.11"
  }
 },
 "nbformat": 4,
 "nbformat_minor": 2
}
